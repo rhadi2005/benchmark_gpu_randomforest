{
 "cells": [
  {
   "cell_type": "markdown",
   "source": [
    "# Train Multi-GPU single machine\n",
    "\n",
    "Run on V100 8x in tests."
   ],
   "metadata": {}
  },
  {
   "cell_type": "code",
   "execution_count": null,
   "source": [
    "import numpy as np, pandas as pd\n",
    "import requests, io, os, datetime, re, json\n",
    "import tensorflow as tf\n",
    "import keras\n",
    "import matplotlib.pyplot as plt\n",
    "from tensorflow.keras import datasets, layers, models, losses, Model\n",
    "from keras.applications import resnet50\n",
    "from keras.preprocessing import image\n",
    "import dask\n",
    "import time\n",
    "print(tf.__version__)"
   ],
   "outputs": [],
   "metadata": {
    "execution": {
     "iopub.execute_input": "2021-08-20T16:01:57.985858Z",
     "iopub.status.busy": "2021-08-20T16:01:57.985623Z",
     "iopub.status.idle": "2021-08-20T16:02:00.208749Z",
     "shell.execute_reply": "2021-08-20T16:02:00.208064Z",
     "shell.execute_reply.started": "2021-08-20T16:01:57.985798Z"
    }
   }
  },
  {
   "cell_type": "code",
   "execution_count": null,
   "source": [
    "import wandb\n",
    "from wandb.keras import WandbCallback\n",
    "\n",
    "wandb.login()"
   ],
   "outputs": [],
   "metadata": {
    "execution": {
     "iopub.execute_input": "2021-08-20T16:02:00.785081Z",
     "iopub.status.busy": "2021-08-20T16:02:00.784869Z",
     "iopub.status.idle": "2021-08-20T16:02:01.522891Z",
     "shell.execute_reply": "2021-08-20T16:02:01.522156Z",
     "shell.execute_reply.started": "2021-08-20T16:02:00.785054Z"
    }
   }
  },
  {
   "cell_type": "code",
   "execution_count": null,
   "source": [
    "gpus = tf.config.list_physical_devices('GPU')\n",
    "if gpus:\n",
    "    try:\n",
    "    # Currently, memory growth needs to be the same across GPUs\n",
    "        for gpu in gpus:\n",
    "            tf.config.experimental.set_memory_growth(gpu, True)\n",
    "        logical_gpus = tf.config.experimental.list_logical_devices('GPU')\n",
    "        print(len(gpus), \"Physical GPUs,\", len(logical_gpus), \"Logical GPUs\")\n",
    "    except RuntimeError as e:\n",
    "    # Memory growth must be set before GPUs have been initialized\n",
    "        print(e)"
   ],
   "outputs": [],
   "metadata": {
    "execution": {
     "iopub.execute_input": "2021-08-20T16:02:02.085339Z",
     "iopub.status.busy": "2021-08-20T16:02:02.085076Z",
     "iopub.status.idle": "2021-08-20T16:02:05.171573Z",
     "shell.execute_reply": "2021-08-20T16:02:05.170867Z",
     "shell.execute_reply.started": "2021-08-20T16:02:02.085309Z"
    }
   }
  },
  {
   "cell_type": "code",
   "execution_count": null,
   "source": [
    "def train_multigpu(n_epochs, classes, base_lr, batchsize,wbargs, scale_batch = False, scale_lr = False):\n",
    "    \n",
    "    wbargs={**wbargs, \"scale_batch\":scale_batch, \"scale_lr\":scale_lr}\n",
    "\n",
    "    # --------- Start wandb --------- #\n",
    "    wandb.init(entity='skirmer', project='tensorflow_mg_birds', config=wbargs)\n",
    "\n",
    "    strategy = tf.distribute.MirroredStrategy()\n",
    "    print('Number of devices: %d' % strategy.num_replicas_in_sync)\n",
    "    if scale_batch:\n",
    "        batchsize = batchsize*strategy.num_replicas_in_sync\n",
    "        \n",
    "    if scale_lr:\n",
    "        base_lr = base_lr*strategy.num_replicas_in_sync\n",
    "    \n",
    "    with strategy.scope():\n",
    "        model = tf.keras.applications.ResNet50(\n",
    "            include_top=True,\n",
    "            weights=None,\n",
    "            classes=classes)\n",
    "\n",
    "        optimizer = keras.optimizers.Adam(lr=base_lr)\n",
    "        model.compile(loss='sparse_categorical_crossentropy', optimizer=optimizer, metrics=['accuracy']) #integer labels\n",
    "\n",
    "    # Data\n",
    "    train_ds = tf.keras.preprocessing.image_dataset_from_directory(\n",
    "        '/home/jovyan/git-repos/tensorflow_ds/datasets/birds/285 birds/train',\n",
    "        image_size=(224,224),\n",
    "        batch_size=batchsize\n",
    "    ).prefetch(2).cache().shuffle(1000)\n",
    "        \n",
    "    valid_ds = tf.keras.preprocessing.image_dataset_from_directory(\n",
    "        '/home/jovyan/git-repos/tensorflow_ds/datasets/birds/285 birds/valid',\n",
    "        image_size=(224,224),\n",
    "        batch_size=batchsize\n",
    "    ).prefetch(2)\n",
    "    \n",
    "    start = time.time()\n",
    "\n",
    "    model.fit(\n",
    "        train_ds, \n",
    "        epochs=n_epochs, \n",
    "        validation_data=valid_ds,\n",
    "        callbacks=[WandbCallback()]\n",
    "    )\n",
    "    end = time.time()-start\n",
    "    print(\"model training time\", end)\n",
    "    wandb.log({\"training_time\":end})\n",
    "\n",
    "    # Close your wandb run \n",
    "    wandb.run.finish()\n",
    "    \n",
    "    tf.keras.models.save_model(model, 'model/keras_multi/')"
   ],
   "outputs": [],
   "metadata": {
    "execution": {
     "iopub.execute_input": "2021-08-20T16:02:08.735535Z",
     "iopub.status.busy": "2021-08-20T16:02:08.735274Z",
     "iopub.status.idle": "2021-08-20T16:02:08.743719Z",
     "shell.execute_reply": "2021-08-20T16:02:08.743045Z",
     "shell.execute_reply.started": "2021-08-20T16:02:08.735508Z"
    }
   }
  },
  {
   "cell_type": "code",
   "execution_count": null,
   "source": [
    "model_params = {'n_epochs': 50, \n",
    "                'base_lr': .02,\n",
    "               'batchsize': 64,\n",
    "                   'classes':285,\n",
    "               'scale_batch': True}\n",
    "\n",
    "wbargs = {**model_params,\n",
    "    'Notes':\"tf_v100_8x\",\n",
    "    'Tags': ['multi', 'gpu', 'tensorflow'],\n",
    "    'dataset':\"Birds\",\n",
    "    'architecture':\"ResNet50\"}"
   ],
   "outputs": [],
   "metadata": {
    "execution": {
     "iopub.execute_input": "2021-08-20T16:02:10.305999Z",
     "iopub.status.busy": "2021-08-20T16:02:10.305742Z",
     "iopub.status.idle": "2021-08-20T16:02:10.309941Z",
     "shell.execute_reply": "2021-08-20T16:02:10.309288Z",
     "shell.execute_reply.started": "2021-08-20T16:02:10.305972Z"
    }
   }
  },
  {
   "cell_type": "code",
   "execution_count": null,
   "source": [
    "tester_plain = train_multigpu(wbargs=wbargs, **model_params)"
   ],
   "outputs": [],
   "metadata": {
    "execution": {
     "iopub.execute_input": "2021-08-20T16:02:11.935223Z",
     "iopub.status.busy": "2021-08-20T16:02:11.934964Z",
     "iopub.status.idle": "2021-08-20T16:36:41.279420Z",
     "shell.execute_reply": "2021-08-20T16:36:41.278594Z",
     "shell.execute_reply.started": "2021-08-20T16:02:11.935196Z"
    }
   }
  }
 ],
 "metadata": {
  "kernelspec": {
   "display_name": "saturn (Python 3)",
   "language": "python",
   "name": "python3"
  },
  "language_info": {
   "codemirror_mode": {
    "name": "ipython",
    "version": 3
   },
   "file_extension": ".py",
   "mimetype": "text/x-python",
   "name": "python",
   "nbconvert_exporter": "python",
   "pygments_lexer": "ipython3",
   "version": "3.9.5"
  }
 },
 "nbformat": 4,
 "nbformat_minor": 5
}