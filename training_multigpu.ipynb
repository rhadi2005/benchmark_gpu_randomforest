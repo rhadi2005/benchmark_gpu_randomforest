{
 "cells": [
  {
   "cell_type": "markdown",
   "id": "0fe75281",
   "metadata": {},
   "source": [
    "# Train Multi-GPU single machine\n",
    "\n",
    "Run on V100 8x in tests."
   ]
  },
  {
   "cell_type": "code",
   "execution_count": 1,
   "id": "8994c648",
   "metadata": {
    "execution": {
     "iopub.status.idle": "2021-08-17T17:02:23.669769Z",
     "shell.execute_reply": "2021-08-17T17:02:23.669022Z",
     "shell.execute_reply.started": "2021-08-17T17:02:20.470579Z"
    }
   },
   "outputs": [
    {
     "name": "stderr",
     "output_type": "stream",
     "text": [
      "/srv/conda/envs/saturn/lib/python3.9/site-packages/snowflake/connector/options.py:94: UserWarning: You have an incompatible version of 'pyarrow' installed (4.0.1), please install a version that adheres to: 'pyarrow<3.1.0,>=3.0.0; extra == \"pandas\"'\n",
      "  warn_incompatible_dep(\n"
     ]
    },
    {
     "name": "stdout",
     "output_type": "stream",
     "text": [
      "2.4.1\n"
     ]
    }
   ],
   "source": [
    "import numpy as np, pandas as pd\n",
    "import requests, io, os, datetime, re, json\n",
    "from tensorflow_snowflake_class import SnowflakeDataset\n",
    "\n",
    "import tensorflow as tf\n",
    "import keras\n",
    "import matplotlib.pyplot as plt\n",
    "from tensorflow.keras import datasets, layers, models, losses, Model\n",
    "from keras.applications import resnet50\n",
    "from keras.preprocessing import image\n",
    "import snowflake.connector\n",
    "from snowflake.connector.pandas_tools import write_pandas\n",
    "import dask\n",
    "\n",
    "import time\n",
    "\n",
    "import tensorflow as tf\n",
    "print(tf.__version__)"
   ]
  },
  {
   "cell_type": "code",
   "execution_count": 2,
   "id": "27414171",
   "metadata": {
    "execution": {
     "iopub.execute_input": "2021-08-17T17:02:23.671298Z",
     "iopub.status.busy": "2021-08-17T17:02:23.671063Z",
     "iopub.status.idle": "2021-08-17T17:02:24.294641Z",
     "shell.execute_reply": "2021-08-17T17:02:24.293892Z",
     "shell.execute_reply.started": "2021-08-17T17:02:23.671270Z"
    }
   },
   "outputs": [
    {
     "name": "stderr",
     "output_type": "stream",
     "text": [
      "\u001b[34m\u001b[1mwandb\u001b[0m: Currently logged in as: \u001b[33mskirmer\u001b[0m (use `wandb login --relogin` to force relogin)\n"
     ]
    },
    {
     "data": {
      "text/plain": [
       "True"
      ]
     },
     "execution_count": 2,
     "metadata": {},
     "output_type": "execute_result"
    }
   ],
   "source": [
    "import wandb\n",
    "from wandb.keras import WandbCallback\n",
    "\n",
    "wandb.login()"
   ]
  },
  {
   "cell_type": "code",
   "execution_count": 6,
   "id": "dbce94ef",
   "metadata": {
    "execution": {
     "iopub.execute_input": "2021-08-17T17:02:24.310608Z",
     "iopub.status.busy": "2021-08-17T17:02:24.310393Z",
     "iopub.status.idle": "2021-08-17T17:02:27.867910Z",
     "shell.execute_reply": "2021-08-17T17:02:27.866988Z",
     "shell.execute_reply.started": "2021-08-17T17:02:24.310582Z"
    }
   },
   "outputs": [
    {
     "name": "stdout",
     "output_type": "stream",
     "text": [
      "Found 3068 files belonging to 10 classes.\n"
     ]
    }
   ],
   "source": [
    "train_ds = tf.keras.preprocessing.image_dataset_from_directory(\n",
    "  '/home/jovyan/git-repos/tensorflow_ds/data/clothing-dataset-small/train',\n",
    "  seed=123,\n",
    "  image_size=(224,224),\n",
    "  batch_size=32).prefetch(2)\n"
   ]
  },
  {
   "cell_type": "code",
   "execution_count": 7,
   "id": "24a77529",
   "metadata": {
    "execution": {
     "iopub.execute_input": "2021-08-17T17:02:27.869209Z",
     "iopub.status.busy": "2021-08-17T17:02:27.868987Z",
     "iopub.status.idle": "2021-08-17T17:02:27.875534Z",
     "shell.execute_reply": "2021-08-17T17:02:27.874747Z",
     "shell.execute_reply.started": "2021-08-17T17:02:27.869181Z"
    }
   },
   "outputs": [],
   "source": [
    "def train_multigpu(train_ds, n_epochs, base_lr, batchsize):\n",
    "    \n",
    "    # --------- Start wandb --------- #\n",
    "    wandb.init(entity='skirmer', project='tensorflow_rnd')\n",
    "    config=wbargs\n",
    "\n",
    "    strategy = tf.distribute.MirroredStrategy()\n",
    "    print('Number of devices: %d' % strategy.num_replicas_in_sync)  \n",
    "\n",
    "    with strategy.scope():\n",
    "        model = tf.keras.applications.ResNet50(\n",
    "            include_top=True,\n",
    "            weights=None,\n",
    "            classes=10)\n",
    "\n",
    "        optimizer = keras.optimizers.Adam(lr=base_lr)\n",
    "        model.compile(loss='sparse_categorical_crossentropy', optimizer=optimizer, metrics=['accuracy']) #integer labels\n",
    "\n",
    "    # Data\n",
    "    #dist_dataset = strategy.experimental_distribute_dataset(train_ds)\n",
    "\n",
    "    start = time.time()\n",
    "    \n",
    "    model.fit(train_ds,\n",
    "        steps_per_epoch=96,\n",
    "        epochs=n_epochs,\n",
    "        callbacks=[WandbCallback()])\n",
    "    \n",
    "    end = time.time()-start\n",
    "    print(\"model training time\", end)\n",
    "    wandb.log({\"training_time\":end})\n",
    "\n",
    "    # Close your wandb run \n",
    "    wandb.run.finish()\n",
    "    \n",
    "    tf.keras.models.save_model(model, 'model/keras/')"
   ]
  },
  {
   "cell_type": "code",
   "execution_count": 10,
   "id": "8476d309",
   "metadata": {
    "execution": {
     "iopub.execute_input": "2021-08-17T17:21:19.946448Z",
     "iopub.status.busy": "2021-08-17T17:21:19.946117Z",
     "iopub.status.idle": "2021-08-17T17:21:19.954247Z",
     "shell.execute_reply": "2021-08-17T17:21:19.953298Z",
     "shell.execute_reply.started": "2021-08-17T17:21:19.946412Z"
    }
   },
   "outputs": [],
   "source": [
    "model_params = {'n_epochs': 20, \n",
    "                'base_lr': .02,\n",
    "               'batchsize': 32}\n",
    "\n",
    "wbargs = {**model_params,\n",
    "    'classes':10,\n",
    "    'Notes':\"tf_baseline\",\n",
    "    'Tags': ['multi', 'gpu', 'tensorflow'],\n",
    "    'dataset':\"Clothing\",\n",
    "    'architecture':\"ResNet\"}"
   ]
  },
  {
   "cell_type": "code",
   "execution_count": 11,
   "id": "3368e338",
   "metadata": {
    "execution": {
     "iopub.execute_input": "2021-08-17T17:21:20.116969Z",
     "iopub.status.busy": "2021-08-17T17:21:20.116754Z",
     "iopub.status.idle": "2021-08-17T17:25:29.966594Z",
     "shell.execute_reply": "2021-08-17T17:25:29.965826Z",
     "shell.execute_reply.started": "2021-08-17T17:21:20.116942Z"
    }
   },
   "outputs": [
    {
     "data": {
      "text/html": [
       "\n",
       "                Tracking run with wandb version 0.12.0<br/>\n",
       "                Syncing run <strong style=\"color:#cdcd00\">fearless-pond-45</strong> to <a href=\"https://wandb.ai\" target=\"_blank\">Weights & Biases</a> <a href=\"https://docs.wandb.com/integrations/jupyter.html\" target=\"_blank\">(Documentation)</a>.<br/>\n",
       "                Project page: <a href=\"https://wandb.ai/skirmer/tensorflow_rnd\" target=\"_blank\">https://wandb.ai/skirmer/tensorflow_rnd</a><br/>\n",
       "                Run page: <a href=\"https://wandb.ai/skirmer/tensorflow_rnd/runs/1xbp3cfa\" target=\"_blank\">https://wandb.ai/skirmer/tensorflow_rnd/runs/1xbp3cfa</a><br/>\n",
       "                Run data is saved locally in <code>/home/jovyan/git-repos/snowflake-ml-guide/tensorflow/wandb/run-20210817_172120-1xbp3cfa</code><br/><br/>\n",
       "            "
      ],
      "text/plain": [
       "<IPython.core.display.HTML object>"
      ]
     },
     "metadata": {},
     "output_type": "display_data"
    },
    {
     "name": "stdout",
     "output_type": "stream",
     "text": [
      "INFO:tensorflow:Using MirroredStrategy with devices ('/job:localhost/replica:0/task:0/device:GPU:0', '/job:localhost/replica:0/task:0/device:GPU:1', '/job:localhost/replica:0/task:0/device:GPU:2', '/job:localhost/replica:0/task:0/device:GPU:3')\n",
      "Number of devices: 4\n",
      "Epoch 1/20\n",
      "INFO:tensorflow:batch_all_reduce: 214 all-reduces with algorithm = nccl, num_packs = 1\n",
      "INFO:tensorflow:batch_all_reduce: 214 all-reduces with algorithm = nccl, num_packs = 1\n",
      "96/96 [==============================] - 78s 68ms/step - loss: 8.7910 - accuracy: 0.1972\n",
      "Epoch 2/20\n",
      "96/96 [==============================] - 7s 65ms/step - loss: 2.1704 - accuracy: 0.2449\n",
      "Epoch 3/20\n",
      "96/96 [==============================] - 7s 66ms/step - loss: 2.1324 - accuracy: 0.2549\n",
      "Epoch 4/20\n",
      "96/96 [==============================] - 7s 66ms/step - loss: 2.1052 - accuracy: 0.2619\n",
      "Epoch 5/20\n",
      "96/96 [==============================] - 7s 65ms/step - loss: 2.0986 - accuracy: 0.2700\n",
      "Epoch 6/20\n",
      "96/96 [==============================] - 7s 65ms/step - loss: 2.0654 - accuracy: 0.2935\n",
      "Epoch 7/20\n",
      "96/96 [==============================] - 7s 65ms/step - loss: 1.9758 - accuracy: 0.3230\n",
      "Epoch 8/20\n",
      "96/96 [==============================] - 7s 65ms/step - loss: 1.9054 - accuracy: 0.3508\n",
      "Epoch 9/20\n",
      "96/96 [==============================] - 7s 65ms/step - loss: 1.8024 - accuracy: 0.3792\n",
      "Epoch 10/20\n",
      "96/96 [==============================] - 7s 66ms/step - loss: 1.7099 - accuracy: 0.4193\n",
      "Epoch 11/20\n",
      "96/96 [==============================] - 7s 65ms/step - loss: 1.6030 - accuracy: 0.4654\n",
      "Epoch 12/20\n",
      "96/96 [==============================] - 7s 65ms/step - loss: 1.5112 - accuracy: 0.4885\n",
      "Epoch 13/20\n",
      "96/96 [==============================] - 7s 66ms/step - loss: 1.3688 - accuracy: 0.5366\n",
      "Epoch 14/20\n",
      "96/96 [==============================] - 7s 65ms/step - loss: 1.2253 - accuracy: 0.5859\n",
      "Epoch 15/20\n",
      "96/96 [==============================] - 7s 65ms/step - loss: 1.1253 - accuracy: 0.6122\n",
      "Epoch 16/20\n",
      "96/96 [==============================] - 7s 65ms/step - loss: 1.0928 - accuracy: 0.6261\n",
      "Epoch 17/20\n",
      "96/96 [==============================] - 7s 65ms/step - loss: 0.9464 - accuracy: 0.6750\n",
      "Epoch 18/20\n",
      "96/96 [==============================] - 7s 65ms/step - loss: 0.9007 - accuracy: 0.6917\n",
      "Epoch 19/20\n",
      "96/96 [==============================] - 7s 66ms/step - loss: 0.8783 - accuracy: 0.6757\n",
      "Epoch 20/20\n",
      "96/96 [==============================] - 7s 66ms/step - loss: 0.8278 - accuracy: 0.7225\n",
      "model training time 211.26409149169922\n"
     ]
    },
    {
     "data": {
      "text/html": [
       "<br/>Waiting for W&B process to finish, PID 2997<br/>Program ended successfully."
      ],
      "text/plain": [
       "<IPython.core.display.HTML object>"
      ]
     },
     "metadata": {},
     "output_type": "display_data"
    },
    {
     "data": {
      "application/vnd.jupyter.widget-view+json": {
       "model_id": "",
       "version_major": 2,
       "version_minor": 0
      },
      "text/plain": [
       "VBox(children=(Label(value=' 0.03MB of 0.03MB uploaded (0.00MB deduped)\\r'), FloatProgress(value=1.0, max=1.0)…"
      ]
     },
     "metadata": {},
     "output_type": "display_data"
    },
    {
     "data": {
      "text/html": [
       "Find user logs for this run at: <code>/home/jovyan/git-repos/snowflake-ml-guide/tensorflow/wandb/run-20210817_172120-1xbp3cfa/logs/debug.log</code>"
      ],
      "text/plain": [
       "<IPython.core.display.HTML object>"
      ]
     },
     "metadata": {},
     "output_type": "display_data"
    },
    {
     "data": {
      "text/html": [
       "Find internal logs for this run at: <code>/home/jovyan/git-repos/snowflake-ml-guide/tensorflow/wandb/run-20210817_172120-1xbp3cfa/logs/debug-internal.log</code>"
      ],
      "text/plain": [
       "<IPython.core.display.HTML object>"
      ]
     },
     "metadata": {},
     "output_type": "display_data"
    },
    {
     "data": {
      "text/html": [
       "<h3>Run summary:</h3><br/><style>\n",
       "    table.wandb td:nth-child(1) { padding: 0 10px; text-align: right }\n",
       "    </style><table class=\"wandb\">\n",
       "<tr><td>epoch</td><td>19</td></tr><tr><td>loss</td><td>0.80408</td></tr><tr><td>accuracy</td><td>0.71578</td></tr><tr><td>_runtime</td><td>217</td></tr><tr><td>_timestamp</td><td>1629221097</td></tr><tr><td>_step</td><td>20</td></tr><tr><td>training_time</td><td>211.26409</td></tr></table>"
      ],
      "text/plain": [
       "<IPython.core.display.HTML object>"
      ]
     },
     "metadata": {},
     "output_type": "display_data"
    },
    {
     "data": {
      "text/html": [
       "<h3>Run history:</h3><br/><style>\n",
       "    table.wandb td:nth-child(1) { padding: 0 10px; text-align: right }\n",
       "    </style><table class=\"wandb\">\n",
       "<tr><td>epoch</td><td>▁▁▂▂▂▃▃▄▄▄▅▅▅▆▆▇▇▇██</td></tr><tr><td>loss</td><td>█▄▄▄▄▃▃▃▃▃▃▂▂▂▂▂▁▁▁▁</td></tr><tr><td>accuracy</td><td>▁▁▁▁▂▂▂▃▃▄▄▅▆▆▇▇▇███</td></tr><tr><td>_runtime</td><td>▁▁▂▂▂▃▃▄▄▄▅▅▅▆▆▇▇▇███</td></tr><tr><td>_timestamp</td><td>▁▁▂▂▂▃▃▄▄▄▅▅▅▆▆▇▇▇███</td></tr><tr><td>_step</td><td>▁▁▂▂▂▃▃▃▄▄▅▅▅▆▆▆▇▇▇██</td></tr><tr><td>training_time</td><td>▁</td></tr></table><br/>"
      ],
      "text/plain": [
       "<IPython.core.display.HTML object>"
      ]
     },
     "metadata": {},
     "output_type": "display_data"
    },
    {
     "data": {
      "text/html": [
       "Synced 5 W&B file(s), 1 media file(s), 0 artifact file(s) and 0 other file(s)"
      ],
      "text/plain": [
       "<IPython.core.display.HTML object>"
      ]
     },
     "metadata": {},
     "output_type": "display_data"
    },
    {
     "data": {
      "text/html": [
       "\n",
       "                    <br/>Synced <strong style=\"color:#cdcd00\">fearless-pond-45</strong>: <a href=\"https://wandb.ai/skirmer/tensorflow_rnd/runs/1xbp3cfa\" target=\"_blank\">https://wandb.ai/skirmer/tensorflow_rnd/runs/1xbp3cfa</a><br/>\n",
       "                "
      ],
      "text/plain": [
       "<IPython.core.display.HTML object>"
      ]
     },
     "metadata": {},
     "output_type": "display_data"
    },
    {
     "name": "stdout",
     "output_type": "stream",
     "text": [
      "INFO:tensorflow:Assets written to: model/keras/assets\n"
     ]
    }
   ],
   "source": [
    "\n",
    "tester = train_multigpu(train_ds, **model_params)"
   ]
  }
 ],
 "metadata": {
  "kernelspec": {
   "display_name": "saturn (Python 3)",
   "language": "python",
   "name": "python3"
  },
  "language_info": {
   "codemirror_mode": {
    "name": "ipython",
    "version": 3
   },
   "file_extension": ".py",
   "mimetype": "text/x-python",
   "name": "python",
   "nbconvert_exporter": "python",
   "pygments_lexer": "ipython3",
   "version": "3.9.5"
  }
 },
 "nbformat": 4,
 "nbformat_minor": 5
}
