{
 "cells": [
  {
   "cell_type": "markdown",
   "id": "27dc5a5c",
   "metadata": {},
   "source": [
    "# Train Multi-GPU single machine\n",
    "\n",
    "Run on V100 8x in tests."
   ]
  },
  {
   "cell_type": "code",
   "execution_count": 1,
   "id": "5a2f4402",
   "metadata": {
    "execution": {
     "iopub.status.idle": "2021-08-19T17:42:50.222186Z",
     "shell.execute_reply": "2021-08-19T17:42:50.221457Z",
     "shell.execute_reply.started": "2021-08-19T17:42:48.007485Z"
    }
   },
   "outputs": [
    {
     "name": "stdout",
     "output_type": "stream",
     "text": [
      "2.4.1\n"
     ]
    }
   ],
   "source": [
    "import numpy as np, pandas as pd\n",
    "import requests, io, os, datetime, re, json\n",
    "import tensorflow as tf\n",
    "import keras\n",
    "import matplotlib.pyplot as plt\n",
    "from tensorflow.keras import datasets, layers, models, losses, Model\n",
    "from keras.applications import resnet50\n",
    "from keras.preprocessing import image\n",
    "import dask\n",
    "import time\n",
    "print(tf.__version__)"
   ]
  },
  {
   "cell_type": "code",
   "execution_count": 2,
   "id": "b2f82d53",
   "metadata": {
    "execution": {
     "iopub.execute_input": "2021-08-19T17:42:50.223683Z",
     "iopub.status.busy": "2021-08-19T17:42:50.223475Z",
     "iopub.status.idle": "2021-08-19T17:42:50.954511Z",
     "shell.execute_reply": "2021-08-19T17:42:50.953722Z",
     "shell.execute_reply.started": "2021-08-19T17:42:50.223657Z"
    }
   },
   "outputs": [
    {
     "name": "stderr",
     "output_type": "stream",
     "text": [
      "\u001b[34m\u001b[1mwandb\u001b[0m: Currently logged in as: \u001b[33mskirmer\u001b[0m (use `wandb login --relogin` to force relogin)\n"
     ]
    },
    {
     "data": {
      "text/plain": [
       "True"
      ]
     },
     "execution_count": 2,
     "metadata": {},
     "output_type": "execute_result"
    }
   ],
   "source": [
    "import wandb\n",
    "from wandb.keras import WandbCallback\n",
    "\n",
    "wandb.login()"
   ]
  },
  {
   "cell_type": "code",
   "execution_count": 3,
   "id": "d0cacdce",
   "metadata": {
    "execution": {
     "iopub.execute_input": "2021-08-19T17:42:50.958593Z",
     "iopub.status.busy": "2021-08-19T17:42:50.958385Z",
     "iopub.status.idle": "2021-08-19T17:42:50.961887Z",
     "shell.execute_reply": "2021-08-19T17:42:50.961224Z",
     "shell.execute_reply.started": "2021-08-19T17:42:50.958565Z"
    }
   },
   "outputs": [],
   "source": [
    "\n",
    "# USE categorical_crossentropy\n",
    "\n",
    "#     # Data\n",
    "#     tester_flow = image.ImageDataGenerator()\n",
    "#     train_ds = tester_flow.flow_from_directory(\n",
    "#         directory = '/home/jovyan/git-repos/snowflake-ml-guide/data/clothing-dataset-small/train',\n",
    "#         target_size=(224,224),\n",
    "#         batch_size=batch_size_dist\n",
    "#     )\n",
    "\n",
    "#     valid_ds = tester_flow.flow_from_directory(\n",
    "#         directory = '/home/jovyan/git-repos/snowflake-ml-guide/data/clothing-dataset-small/validation',\n",
    "#         target_size=(224,224),\n",
    "#         batch_size=batch_size_dist\n",
    "#     )\n",
    "\n",
    "#     # Data\n",
    "#     train_ds = tf.keras.preprocessing.image_dataset_from_directory(\n",
    "#       '/home/jovyan/git-repos/snowflake-ml-guide/data/clothing-dataset-small/train',\n",
    "#       seed=123,\n",
    "#       image_size=(224,224),\n",
    "#       batch_size=batchsize).prefetch(5)\n",
    "#     # USE sparse_categorical_crossentropy\n",
    "\n",
    "#     valid_ds = tf.keras.preprocessing.image_dataset_from_directory(\n",
    "#       '/home/jovyan/git-repos/snowflake-ml-guide/data/clothing-dataset-small/validation',\n",
    "#       seed=123,\n",
    "#       image_size=(224,224),\n",
    "#       batch_size=batchsize).prefetch(5)"
   ]
  },
  {
   "cell_type": "code",
   "execution_count": 4,
   "id": "2bc96162",
   "metadata": {
    "execution": {
     "iopub.execute_input": "2021-08-19T17:42:50.962915Z",
     "iopub.status.busy": "2021-08-19T17:42:50.962719Z",
     "iopub.status.idle": "2021-08-19T17:42:50.970792Z",
     "shell.execute_reply": "2021-08-19T17:42:50.970037Z",
     "shell.execute_reply.started": "2021-08-19T17:42:50.962890Z"
    }
   },
   "outputs": [],
   "source": [
    "def train_multigpu(n_epochs, base_lr, batchsize,wbargs, scale_batch = False, scale_lr = False):\n",
    "    \n",
    "    wbargs={**wbargs, \"scale_batch\":scale_batch, \"scale_lr\":scale_lr}\n",
    "\n",
    "    # --------- Start wandb --------- #\n",
    "    wandb.init(entity='skirmer', project='tensorflow_mg_tests',\n",
    "    config=wbargs)\n",
    "\n",
    "    strategy = tf.distribute.MirroredStrategy()\n",
    "    print('Number of devices: %d' % strategy.num_replicas_in_sync)\n",
    "    if scale_batch:\n",
    "        batchsize = batchsize*strategy.num_replicas_in_sync\n",
    "        \n",
    "    if scale_lr:\n",
    "        base_lr = base_lr*strategy.num_replicas_in_sync\n",
    "    \n",
    "    with strategy.scope():\n",
    "        model = tf.keras.applications.ResNet50(\n",
    "            include_top=True,\n",
    "            weights=None,\n",
    "            classes=10)\n",
    "\n",
    "        optimizer = keras.optimizers.Adam(lr=base_lr)\n",
    "        model.compile(loss='sparse_categorical_crossentropy', optimizer=optimizer, metrics=['accuracy']) #integer labels\n",
    "\n",
    "    # Data\n",
    "    train_ds = tf.keras.preprocessing.image_dataset_from_directory(\n",
    "        '/home/jovyan/git-repos/snowflake-ml-guide/data/clothing-dataset-small/train',\n",
    "        image_size=(224,224),\n",
    "        batch_size=batchsize\n",
    "    ).prefetch(2)\n",
    "        \n",
    "    valid_ds = tf.keras.preprocessing.image_dataset_from_directory(\n",
    "        '/home/jovyan/git-repos/snowflake-ml-guide/data/clothing-dataset-small/validation',\n",
    "        image_size=(224,224),\n",
    "        batch_size=batchsize\n",
    "    ).prefetch(2)\n",
    "    \n",
    "    start = time.time()\n",
    "\n",
    "    model.fit(\n",
    "        train_ds, \n",
    "        epochs=n_epochs, \n",
    "        validation_data=valid_ds,\n",
    "        callbacks=[WandbCallback()]\n",
    "    )\n",
    "    end = time.time()-start\n",
    "    print(\"model training time\", end)\n",
    "    wandb.log({\"training_time\":end})\n",
    "\n",
    "    # Close your wandb run \n",
    "    wandb.run.finish()\n",
    "    \n",
    "    tf.keras.models.save_model(model, 'model/keras_multi/')"
   ]
  },
  {
   "cell_type": "code",
   "execution_count": 5,
   "id": "fcc0fb9f",
   "metadata": {
    "execution": {
     "iopub.execute_input": "2021-08-19T17:42:50.971892Z",
     "iopub.status.busy": "2021-08-19T17:42:50.971660Z",
     "iopub.status.idle": "2021-08-19T17:42:50.978846Z",
     "shell.execute_reply": "2021-08-19T17:42:50.978177Z",
     "shell.execute_reply.started": "2021-08-19T17:42:50.971866Z"
    }
   },
   "outputs": [],
   "source": [
    "model_params = {'n_epochs': 50, \n",
    "                'base_lr': .02,\n",
    "               'batchsize': 32}\n",
    "\n",
    "wbargs = {**model_params,\n",
    "    'classes':10,\n",
    "    'Notes':\"tf_v100_8x\",\n",
    "    'Tags': ['multi', 'gpu', 'tensorflow'],\n",
    "    'dataset':\"Clothing\",\n",
    "    'architecture':\"ResNet50\"}"
   ]
  },
  {
   "cell_type": "code",
   "execution_count": 6,
   "id": "bca5eff9",
   "metadata": {
    "execution": {
     "iopub.execute_input": "2021-08-19T17:42:50.979899Z",
     "iopub.status.busy": "2021-08-19T17:42:50.979647Z",
     "iopub.status.idle": "2021-08-19T17:52:16.563680Z",
     "shell.execute_reply": "2021-08-19T17:52:16.562871Z",
     "shell.execute_reply.started": "2021-08-19T17:42:50.979874Z"
    }
   },
   "outputs": [
    {
     "data": {
      "text/html": [
       "\n",
       "                Tracking run with wandb version 0.12.0<br/>\n",
       "                Syncing run <strong style=\"color:#cdcd00\">giddy-forest-1</strong> to <a href=\"https://wandb.ai\" target=\"_blank\">Weights & Biases</a> <a href=\"https://docs.wandb.com/integrations/jupyter.html\" target=\"_blank\">(Documentation)</a>.<br/>\n",
       "                Project page: <a href=\"https://wandb.ai/skirmer/tensorflow_mg_tests\" target=\"_blank\">https://wandb.ai/skirmer/tensorflow_mg_tests</a><br/>\n",
       "                Run page: <a href=\"https://wandb.ai/skirmer/tensorflow_mg_tests/runs/10ph9q60\" target=\"_blank\">https://wandb.ai/skirmer/tensorflow_mg_tests/runs/10ph9q60</a><br/>\n",
       "                Run data is saved locally in <code>/home/jovyan/git-repos/tensorflow_ds/wandb/run-20210819_174250-10ph9q60</code><br/><br/>\n",
       "            "
      ],
      "text/plain": [
       "<IPython.core.display.HTML object>"
      ]
     },
     "metadata": {},
     "output_type": "display_data"
    },
    {
     "name": "stdout",
     "output_type": "stream",
     "text": [
      "INFO:tensorflow:Using MirroredStrategy with devices ('/job:localhost/replica:0/task:0/device:GPU:0', '/job:localhost/replica:0/task:0/device:GPU:1', '/job:localhost/replica:0/task:0/device:GPU:2', '/job:localhost/replica:0/task:0/device:GPU:3')\n",
      "Number of devices: 4\n",
      "INFO:tensorflow:Reduce to /job:localhost/replica:0/task:0/device:CPU:0 then broadcast to ('/job:localhost/replica:0/task:0/device:CPU:0',).\n",
      "INFO:tensorflow:Reduce to /job:localhost/replica:0/task:0/device:CPU:0 then broadcast to ('/job:localhost/replica:0/task:0/device:CPU:0',).\n",
      "INFO:tensorflow:Reduce to /job:localhost/replica:0/task:0/device:CPU:0 then broadcast to ('/job:localhost/replica:0/task:0/device:CPU:0',).\n",
      "INFO:tensorflow:Reduce to /job:localhost/replica:0/task:0/device:CPU:0 then broadcast to ('/job:localhost/replica:0/task:0/device:CPU:0',).\n",
      "INFO:tensorflow:Reduce to /job:localhost/replica:0/task:0/device:CPU:0 then broadcast to ('/job:localhost/replica:0/task:0/device:CPU:0',).\n",
      "INFO:tensorflow:Reduce to /job:localhost/replica:0/task:0/device:CPU:0 then broadcast to ('/job:localhost/replica:0/task:0/device:CPU:0',).\n",
      "INFO:tensorflow:Reduce to /job:localhost/replica:0/task:0/device:CPU:0 then broadcast to ('/job:localhost/replica:0/task:0/device:CPU:0',).\n",
      "INFO:tensorflow:Reduce to /job:localhost/replica:0/task:0/device:CPU:0 then broadcast to ('/job:localhost/replica:0/task:0/device:CPU:0',).\n",
      "INFO:tensorflow:Reduce to /job:localhost/replica:0/task:0/device:CPU:0 then broadcast to ('/job:localhost/replica:0/task:0/device:CPU:0',).\n",
      "INFO:tensorflow:Reduce to /job:localhost/replica:0/task:0/device:CPU:0 then broadcast to ('/job:localhost/replica:0/task:0/device:CPU:0',).\n",
      "Found 3068 files belonging to 10 classes.\n",
      "Found 341 files belonging to 10 classes.\n",
      "Epoch 1/50\n",
      "INFO:tensorflow:batch_all_reduce: 214 all-reduces with algorithm = nccl, num_packs = 1\n",
      "INFO:tensorflow:batch_all_reduce: 214 all-reduces with algorithm = nccl, num_packs = 1\n",
      "96/96 [==============================] - 92s 172ms/step - loss: 8.8465 - accuracy: 0.2158 - val_loss: 32053074.0000 - val_accuracy: 0.0411\n",
      "Epoch 2/50\n",
      "96/96 [==============================] - 8s 79ms/step - loss: 2.1754 - accuracy: 0.2434 - val_loss: 255.4944 - val_accuracy: 0.2317\n",
      "Epoch 3/50\n",
      "96/96 [==============================] - 9s 85ms/step - loss: 2.1275 - accuracy: 0.2469 - val_loss: 7.7997 - val_accuracy: 0.2346\n",
      "Epoch 4/50\n",
      "96/96 [==============================] - 8s 78ms/step - loss: 2.1117 - accuracy: 0.2417 - val_loss: 2.4533 - val_accuracy: 0.2493\n",
      "Epoch 5/50\n",
      "96/96 [==============================] - 8s 78ms/step - loss: 2.0924 - accuracy: 0.2412 - val_loss: 2.3179 - val_accuracy: 0.2053\n",
      "Epoch 6/50\n",
      "96/96 [==============================] - 8s 79ms/step - loss: 2.0794 - accuracy: 0.2530 - val_loss: 8.5511 - val_accuracy: 0.2111\n",
      "Epoch 7/50\n",
      "96/96 [==============================] - 8s 78ms/step - loss: 2.0726 - accuracy: 0.2673 - val_loss: 4.5857 - val_accuracy: 0.1496\n",
      "Epoch 8/50\n",
      "96/96 [==============================] - 8s 78ms/step - loss: 2.0642 - accuracy: 0.2638 - val_loss: 2.5455 - val_accuracy: 0.2522\n",
      "Epoch 9/50\n",
      "96/96 [==============================] - 8s 78ms/step - loss: 2.0556 - accuracy: 0.2647 - val_loss: 2.2515 - val_accuracy: 0.2639\n",
      "Epoch 10/50\n",
      "96/96 [==============================] - 8s 78ms/step - loss: 2.0218 - accuracy: 0.2865 - val_loss: 2.2877 - val_accuracy: 0.2786\n",
      "Epoch 11/50\n",
      "96/96 [==============================] - 8s 77ms/step - loss: 1.9724 - accuracy: 0.3141 - val_loss: 2.2441 - val_accuracy: 0.2845\n",
      "Epoch 12/50\n",
      "96/96 [==============================] - 8s 78ms/step - loss: 1.9188 - accuracy: 0.3561 - val_loss: 2.1116 - val_accuracy: 0.3079\n",
      "Epoch 13/50\n",
      "96/96 [==============================] - 8s 77ms/step - loss: 1.7380 - accuracy: 0.4118 - val_loss: 2.9537 - val_accuracy: 0.3021\n",
      "Epoch 14/50\n",
      "96/96 [==============================] - 8s 77ms/step - loss: 1.6333 - accuracy: 0.4410 - val_loss: 2.4113 - val_accuracy: 0.3988\n",
      "Epoch 15/50\n",
      "96/96 [==============================] - 8s 78ms/step - loss: 1.4754 - accuracy: 0.4985 - val_loss: 2.4876 - val_accuracy: 0.3314\n",
      "Epoch 16/50\n",
      "96/96 [==============================] - 8s 78ms/step - loss: 1.3659 - accuracy: 0.5401 - val_loss: 2.1071 - val_accuracy: 0.3636\n",
      "Epoch 17/50\n",
      "96/96 [==============================] - 8s 77ms/step - loss: 1.2496 - accuracy: 0.5740 - val_loss: 1.7821 - val_accuracy: 0.5161\n",
      "Epoch 18/50\n",
      "96/96 [==============================] - 8s 77ms/step - loss: 1.1502 - accuracy: 0.6015 - val_loss: 1.7035 - val_accuracy: 0.4223\n",
      "Epoch 19/50\n",
      "96/96 [==============================] - 8s 77ms/step - loss: 1.0515 - accuracy: 0.6463 - val_loss: 1.2144 - val_accuracy: 0.6070\n",
      "Epoch 20/50\n",
      "96/96 [==============================] - 8s 77ms/step - loss: 0.9385 - accuracy: 0.6837 - val_loss: 1.3079 - val_accuracy: 0.5396\n",
      "Epoch 21/50\n",
      "96/96 [==============================] - 8s 78ms/step - loss: 0.9257 - accuracy: 0.6824 - val_loss: 1.4837 - val_accuracy: 0.5630\n",
      "Epoch 22/50\n",
      "96/96 [==============================] - 8s 77ms/step - loss: 0.8286 - accuracy: 0.7062 - val_loss: 1.7145 - val_accuracy: 0.5367\n",
      "Epoch 23/50\n",
      "96/96 [==============================] - 8s 78ms/step - loss: 0.7623 - accuracy: 0.7305 - val_loss: 1.2842 - val_accuracy: 0.6158\n",
      "Epoch 24/50\n",
      "96/96 [==============================] - 8s 77ms/step - loss: 0.7087 - accuracy: 0.7529 - val_loss: 1.2323 - val_accuracy: 0.6305\n",
      "Epoch 25/50\n",
      "96/96 [==============================] - 8s 78ms/step - loss: 0.6161 - accuracy: 0.7766 - val_loss: 1.2426 - val_accuracy: 0.6481\n",
      "Epoch 26/50\n",
      "96/96 [==============================] - 8s 77ms/step - loss: 0.5280 - accuracy: 0.8085 - val_loss: 1.2339 - val_accuracy: 0.6422\n",
      "Epoch 27/50\n",
      "96/96 [==============================] - 8s 77ms/step - loss: 0.5021 - accuracy: 0.8133 - val_loss: 1.3825 - val_accuracy: 0.6217\n",
      "Epoch 28/50\n",
      "96/96 [==============================] - 8s 77ms/step - loss: 0.4368 - accuracy: 0.8350 - val_loss: 1.4230 - val_accuracy: 0.6041\n",
      "Epoch 29/50\n",
      "96/96 [==============================] - 8s 78ms/step - loss: 0.4486 - accuracy: 0.8348 - val_loss: 0.9779 - val_accuracy: 0.7067\n",
      "Epoch 30/50\n",
      "96/96 [==============================] - 8s 77ms/step - loss: 0.2940 - accuracy: 0.8998 - val_loss: 1.1619 - val_accuracy: 0.6950\n",
      "Epoch 31/50\n",
      "96/96 [==============================] - 8s 78ms/step - loss: 0.2852 - accuracy: 0.9045 - val_loss: 1.6572 - val_accuracy: 0.6334\n",
      "Epoch 32/50\n",
      "96/96 [==============================] - 8s 77ms/step - loss: 0.3035 - accuracy: 0.8959 - val_loss: 1.3341 - val_accuracy: 0.6774\n",
      "Epoch 33/50\n",
      "96/96 [==============================] - 8s 77ms/step - loss: 0.2028 - accuracy: 0.9268 - val_loss: 1.6070 - val_accuracy: 0.6422\n",
      "Epoch 34/50\n",
      "96/96 [==============================] - 8s 77ms/step - loss: 0.1712 - accuracy: 0.9412 - val_loss: 1.4101 - val_accuracy: 0.6686\n",
      "Epoch 35/50\n",
      "96/96 [==============================] - 8s 77ms/step - loss: 0.1575 - accuracy: 0.9488 - val_loss: 1.9054 - val_accuracy: 0.6012\n",
      "Epoch 36/50\n",
      "96/96 [==============================] - 8s 77ms/step - loss: 0.1179 - accuracy: 0.9607 - val_loss: 1.3974 - val_accuracy: 0.7009\n",
      "Epoch 37/50\n",
      "96/96 [==============================] - 8s 77ms/step - loss: 0.1612 - accuracy: 0.9407 - val_loss: 1.7499 - val_accuracy: 0.6657\n",
      "Epoch 38/50\n",
      "96/96 [==============================] - 8s 77ms/step - loss: 0.2393 - accuracy: 0.9162 - val_loss: 1.7785 - val_accuracy: 0.6393\n",
      "Epoch 39/50\n",
      "96/96 [==============================] - 8s 78ms/step - loss: 0.1130 - accuracy: 0.9612 - val_loss: 1.3513 - val_accuracy: 0.6745\n",
      "Epoch 40/50\n",
      "96/96 [==============================] - 8s 78ms/step - loss: 0.0972 - accuracy: 0.9717 - val_loss: 1.6863 - val_accuracy: 0.6804\n",
      "Epoch 41/50\n",
      "96/96 [==============================] - 8s 78ms/step - loss: 0.1144 - accuracy: 0.9615 - val_loss: 1.6491 - val_accuracy: 0.6804\n",
      "Epoch 42/50\n",
      "96/96 [==============================] - 8s 78ms/step - loss: 0.1111 - accuracy: 0.9633 - val_loss: 1.5781 - val_accuracy: 0.6452\n",
      "Epoch 43/50\n",
      "96/96 [==============================] - 9s 86ms/step - loss: 0.1057 - accuracy: 0.9637 - val_loss: 1.4163 - val_accuracy: 0.6598\n",
      "Epoch 44/50\n",
      "96/96 [==============================] - 8s 77ms/step - loss: 0.0847 - accuracy: 0.9726 - val_loss: 1.6571 - val_accuracy: 0.6540\n",
      "Epoch 45/50\n",
      "96/96 [==============================] - 8s 78ms/step - loss: 0.0642 - accuracy: 0.9792 - val_loss: 1.5433 - val_accuracy: 0.7067\n",
      "Epoch 46/50\n",
      "96/96 [==============================] - 8s 78ms/step - loss: 0.0660 - accuracy: 0.9800 - val_loss: 2.4790 - val_accuracy: 0.6041\n",
      "Epoch 47/50\n",
      "96/96 [==============================] - 8s 77ms/step - loss: 0.1500 - accuracy: 0.9449 - val_loss: 1.4638 - val_accuracy: 0.7185\n",
      "Epoch 48/50\n",
      "96/96 [==============================] - 8s 77ms/step - loss: 0.0628 - accuracy: 0.9755 - val_loss: 2.0711 - val_accuracy: 0.6070\n",
      "Epoch 49/50\n",
      "96/96 [==============================] - 8s 77ms/step - loss: 0.1226 - accuracy: 0.9585 - val_loss: 2.0836 - val_accuracy: 0.6598\n",
      "Epoch 50/50\n",
      "96/96 [==============================] - 8s 78ms/step - loss: 0.0412 - accuracy: 0.9887 - val_loss: 1.5219 - val_accuracy: 0.7067\n",
      "model training time 521.3389699459076\n"
     ]
    },
    {
     "data": {
      "text/html": [
       "<br/>Waiting for W&B process to finish, PID 289<br/>Program ended successfully."
      ],
      "text/plain": [
       "<IPython.core.display.HTML object>"
      ]
     },
     "metadata": {},
     "output_type": "display_data"
    },
    {
     "data": {
      "application/vnd.jupyter.widget-view+json": {
       "model_id": "",
       "version_major": 2,
       "version_minor": 0
      },
      "text/plain": [
       "VBox(children=(Label(value=' 43.28MB of 43.28MB uploaded (0.00MB deduped)\\r'), FloatProgress(value=1.0, max=1.…"
      ]
     },
     "metadata": {},
     "output_type": "display_data"
    },
    {
     "data": {
      "text/html": [
       "Find user logs for this run at: <code>/home/jovyan/git-repos/tensorflow_ds/wandb/run-20210819_174250-10ph9q60/logs/debug.log</code>"
      ],
      "text/plain": [
       "<IPython.core.display.HTML object>"
      ]
     },
     "metadata": {},
     "output_type": "display_data"
    },
    {
     "data": {
      "text/html": [
       "Find internal logs for this run at: <code>/home/jovyan/git-repos/tensorflow_ds/wandb/run-20210819_174250-10ph9q60/logs/debug-internal.log</code>"
      ],
      "text/plain": [
       "<IPython.core.display.HTML object>"
      ]
     },
     "metadata": {},
     "output_type": "display_data"
    },
    {
     "data": {
      "text/html": [
       "<h3>Run summary:</h3><br/><style>\n",
       "    table.wandb td:nth-child(1) { padding: 0 10px; text-align: right }\n",
       "    </style><table class=\"wandb\">\n",
       "<tr><td>epoch</td><td>49</td></tr><tr><td>loss</td><td>0.03656</td></tr><tr><td>accuracy</td><td>0.9899</td></tr><tr><td>val_loss</td><td>1.52194</td></tr><tr><td>val_accuracy</td><td>0.70674</td></tr><tr><td>_runtime</td><td>531</td></tr><tr><td>_timestamp</td><td>1629395502</td></tr><tr><td>_step</td><td>50</td></tr><tr><td>best_val_loss</td><td>0.97786</td></tr><tr><td>best_epoch</td><td>28</td></tr><tr><td>training_time</td><td>521.33897</td></tr></table>"
      ],
      "text/plain": [
       "<IPython.core.display.HTML object>"
      ]
     },
     "metadata": {},
     "output_type": "display_data"
    },
    {
     "data": {
      "text/html": [
       "<h3>Run history:</h3><br/><style>\n",
       "    table.wandb td:nth-child(1) { padding: 0 10px; text-align: right }\n",
       "    </style><table class=\"wandb\">\n",
       "<tr><td>epoch</td><td>▁▁▁▁▂▂▂▂▂▃▃▃▃▃▃▄▄▄▄▄▅▅▅▅▅▅▆▆▆▆▆▆▇▇▇▇▇███</td></tr><tr><td>loss</td><td>█▄▄▄▄▄▄▄▄▄▄▃▃▃▃▃▂▂▂▂▂▂▂▂▁▁▁▁▁▁▁▁▁▁▁▁▁▁▁▁</td></tr><tr><td>accuracy</td><td>▁▁▁▁▁▁▁▁▂▂▃▃▄▄▄▅▅▅▆▆▆▇▇▇▇▇▇███▇█████████</td></tr><tr><td>val_loss</td><td>█▁▁▁▁▁▁▁▁▁▁▁▁▁▁▁▁▁▁▁▁▁▁▁▁▁▁▁▁▁▁▁▁▁▁▁▁▁▁▁</td></tr><tr><td>val_accuracy</td><td>▁▃▃▃▃▂▃▃▄▄▄▅▄▆▅▇▆▆▇▇▇▇▇█▇█▇▇█▇▇██▇▇▇▇█▇█</td></tr><tr><td>_runtime</td><td>▁▁▁▂▂▂▂▂▃▃▃▃▃▃▄▄▄▄▄▅▅▅▅▅▅▆▆▆▆▆▇▇▇▇▇▇████</td></tr><tr><td>_timestamp</td><td>▁▁▁▂▂▂▂▂▃▃▃▃▃▃▄▄▄▄▄▅▅▅▅▅▅▆▆▆▆▆▇▇▇▇▇▇████</td></tr><tr><td>_step</td><td>▁▁▁▁▂▂▂▂▂▃▃▃▃▃▃▄▄▄▄▄▅▅▅▅▅▅▆▆▆▆▆▆▇▇▇▇▇███</td></tr><tr><td>training_time</td><td>▁</td></tr></table><br/>"
      ],
      "text/plain": [
       "<IPython.core.display.HTML object>"
      ]
     },
     "metadata": {},
     "output_type": "display_data"
    },
    {
     "data": {
      "text/html": [
       "Synced 5 W&B file(s), 1 media file(s), 0 artifact file(s) and 1 other file(s)"
      ],
      "text/plain": [
       "<IPython.core.display.HTML object>"
      ]
     },
     "metadata": {},
     "output_type": "display_data"
    },
    {
     "data": {
      "text/html": [
       "\n",
       "                    <br/>Synced <strong style=\"color:#cdcd00\">giddy-forest-1</strong>: <a href=\"https://wandb.ai/skirmer/tensorflow_mg_tests/runs/10ph9q60\" target=\"_blank\">https://wandb.ai/skirmer/tensorflow_mg_tests/runs/10ph9q60</a><br/>\n",
       "                "
      ],
      "text/plain": [
       "<IPython.core.display.HTML object>"
      ]
     },
     "metadata": {},
     "output_type": "display_data"
    },
    {
     "name": "stdout",
     "output_type": "stream",
     "text": [
      "INFO:tensorflow:Assets written to: model/keras_multi/assets\n"
     ]
    }
   ],
   "source": [
    "\n",
    "tester_plain = train_multigpu(wbargs=wbargs, **model_params)"
   ]
  },
  {
   "cell_type": "code",
   "execution_count": 7,
   "id": "062eb9fb",
   "metadata": {
    "execution": {
     "iopub.execute_input": "2021-08-19T17:52:16.568661Z",
     "iopub.status.busy": "2021-08-19T17:52:16.568441Z",
     "iopub.status.idle": "2021-08-19T18:02:29.950095Z",
     "shell.execute_reply": "2021-08-19T18:02:29.949289Z",
     "shell.execute_reply.started": "2021-08-19T17:52:16.568634Z"
    }
   },
   "outputs": [
    {
     "data": {
      "text/html": [
       "\n",
       "                Tracking run with wandb version 0.12.0<br/>\n",
       "                Syncing run <strong style=\"color:#cdcd00\">likely-pond-2</strong> to <a href=\"https://wandb.ai\" target=\"_blank\">Weights & Biases</a> <a href=\"https://docs.wandb.com/integrations/jupyter.html\" target=\"_blank\">(Documentation)</a>.<br/>\n",
       "                Project page: <a href=\"https://wandb.ai/skirmer/tensorflow_mg_tests\" target=\"_blank\">https://wandb.ai/skirmer/tensorflow_mg_tests</a><br/>\n",
       "                Run page: <a href=\"https://wandb.ai/skirmer/tensorflow_mg_tests/runs/sahv3po5\" target=\"_blank\">https://wandb.ai/skirmer/tensorflow_mg_tests/runs/sahv3po5</a><br/>\n",
       "                Run data is saved locally in <code>/home/jovyan/git-repos/tensorflow_ds/wandb/run-20210819_175216-sahv3po5</code><br/><br/>\n",
       "            "
      ],
      "text/plain": [
       "<IPython.core.display.HTML object>"
      ]
     },
     "metadata": {},
     "output_type": "display_data"
    },
    {
     "name": "stdout",
     "output_type": "stream",
     "text": [
      "INFO:tensorflow:Using MirroredStrategy with devices ('/job:localhost/replica:0/task:0/device:GPU:0', '/job:localhost/replica:0/task:0/device:GPU:1', '/job:localhost/replica:0/task:0/device:GPU:2', '/job:localhost/replica:0/task:0/device:GPU:3')\n",
      "Number of devices: 4\n",
      "Found 3068 files belonging to 10 classes.\n",
      "Found 341 files belonging to 10 classes.\n",
      "Epoch 1/50\n",
      "INFO:tensorflow:batch_all_reduce: 214 all-reduces with algorithm = nccl, num_packs = 1\n",
      "INFO:tensorflow:batch_all_reduce: 214 all-reduces with algorithm = nccl, num_packs = 1\n",
      "24/24 [==============================] - 83s 519ms/step - loss: 11.9749 - accuracy: 0.1446 - val_loss: 81737052294077218816.0000 - val_accuracy: 0.0733\n",
      "Epoch 2/50\n",
      "24/24 [==============================] - 9s 286ms/step - loss: 2.4048 - accuracy: 0.2562 - val_loss: 9091143434240.0000 - val_accuracy: 0.0938\n",
      "Epoch 3/50\n",
      "24/24 [==============================] - 10s 311ms/step - loss: 2.1457 - accuracy: 0.2548 - val_loss: 1185608064.0000 - val_accuracy: 0.0938\n",
      "Epoch 4/50\n",
      "24/24 [==============================] - 9s 284ms/step - loss: 2.1292 - accuracy: 0.2562 - val_loss: 1835634.8750 - val_accuracy: 0.0938\n",
      "Epoch 5/50\n",
      "24/24 [==============================] - 9s 284ms/step - loss: 2.0830 - accuracy: 0.2820 - val_loss: 27558.4668 - val_accuracy: 0.0938\n",
      "Epoch 6/50\n",
      "24/24 [==============================] - 9s 282ms/step - loss: 2.0680 - accuracy: 0.2959 - val_loss: 2314.5869 - val_accuracy: 0.0850\n",
      "Epoch 7/50\n",
      "24/24 [==============================] - 9s 280ms/step - loss: 2.0396 - accuracy: 0.2973 - val_loss: 207.5792 - val_accuracy: 0.1085\n",
      "Epoch 8/50\n",
      "24/24 [==============================] - 9s 282ms/step - loss: 2.0135 - accuracy: 0.3182 - val_loss: 98.5745 - val_accuracy: 0.1056\n",
      "Epoch 9/50\n",
      "24/24 [==============================] - 9s 282ms/step - loss: 1.9780 - accuracy: 0.3302 - val_loss: 22.2086 - val_accuracy: 0.1349\n",
      "Epoch 10/50\n",
      "24/24 [==============================] - 9s 280ms/step - loss: 1.9593 - accuracy: 0.3348 - val_loss: 11.2951 - val_accuracy: 0.1642\n",
      "Epoch 11/50\n",
      "24/24 [==============================] - 9s 279ms/step - loss: 1.8974 - accuracy: 0.3613 - val_loss: 6.6612 - val_accuracy: 0.1701\n",
      "Epoch 12/50\n",
      "24/24 [==============================] - 9s 279ms/step - loss: 1.8625 - accuracy: 0.3692 - val_loss: 2.6063 - val_accuracy: 0.2317\n",
      "Epoch 13/50\n",
      "24/24 [==============================] - 9s 280ms/step - loss: 1.8213 - accuracy: 0.3820 - val_loss: 2.7346 - val_accuracy: 0.2375\n",
      "Epoch 14/50\n",
      "24/24 [==============================] - 9s 279ms/step - loss: 1.8228 - accuracy: 0.3658 - val_loss: 2.8008 - val_accuracy: 0.2287\n",
      "Epoch 15/50\n",
      "24/24 [==============================] - 9s 281ms/step - loss: 1.8140 - accuracy: 0.3708 - val_loss: 2.0803 - val_accuracy: 0.3050\n",
      "Epoch 16/50\n",
      "24/24 [==============================] - 9s 281ms/step - loss: 1.7846 - accuracy: 0.3745 - val_loss: 2.4856 - val_accuracy: 0.2845\n",
      "Epoch 17/50\n",
      "24/24 [==============================] - 9s 279ms/step - loss: 1.7469 - accuracy: 0.3861 - val_loss: 2.2400 - val_accuracy: 0.2845\n",
      "Epoch 18/50\n",
      "24/24 [==============================] - 9s 279ms/step - loss: 1.7244 - accuracy: 0.3878 - val_loss: 2.1538 - val_accuracy: 0.3109\n",
      "Epoch 19/50\n",
      "24/24 [==============================] - 9s 282ms/step - loss: 1.7105 - accuracy: 0.4022 - val_loss: 2.0759 - val_accuracy: 0.3138\n",
      "Epoch 20/50\n",
      "24/24 [==============================] - 9s 279ms/step - loss: 1.6735 - accuracy: 0.4104 - val_loss: 2.0465 - val_accuracy: 0.3343\n",
      "Epoch 21/50\n",
      "24/24 [==============================] - 9s 281ms/step - loss: 1.6372 - accuracy: 0.4450 - val_loss: 1.9571 - val_accuracy: 0.3196\n",
      "Epoch 22/50\n",
      "24/24 [==============================] - 9s 280ms/step - loss: 1.6052 - accuracy: 0.4510 - val_loss: 1.9846 - val_accuracy: 0.3402\n",
      "Epoch 23/50\n",
      "24/24 [==============================] - 9s 278ms/step - loss: 1.5699 - accuracy: 0.4709 - val_loss: 2.3830 - val_accuracy: 0.3314\n",
      "Epoch 24/50\n",
      "24/24 [==============================] - 9s 279ms/step - loss: 1.5161 - accuracy: 0.4709 - val_loss: 2.2644 - val_accuracy: 0.3314\n",
      "Epoch 25/50\n",
      "24/24 [==============================] - 9s 280ms/step - loss: 1.4906 - accuracy: 0.4841 - val_loss: 2.0538 - val_accuracy: 0.4076\n",
      "Epoch 26/50\n",
      "24/24 [==============================] - 9s 280ms/step - loss: 1.3980 - accuracy: 0.5241 - val_loss: 1.9870 - val_accuracy: 0.4164\n",
      "Epoch 27/50\n",
      "24/24 [==============================] - 9s 281ms/step - loss: 1.3925 - accuracy: 0.5291 - val_loss: 1.8734 - val_accuracy: 0.3900\n",
      "Epoch 28/50\n",
      "24/24 [==============================] - 9s 280ms/step - loss: 1.3578 - accuracy: 0.5445 - val_loss: 2.4509 - val_accuracy: 0.3490\n",
      "Epoch 29/50\n",
      "24/24 [==============================] - 9s 282ms/step - loss: 1.3001 - accuracy: 0.5572 - val_loss: 2.1832 - val_accuracy: 0.3343\n",
      "Epoch 30/50\n",
      "24/24 [==============================] - 9s 282ms/step - loss: 1.1714 - accuracy: 0.6000 - val_loss: 2.8620 - val_accuracy: 0.3109\n",
      "Epoch 31/50\n",
      "24/24 [==============================] - 9s 280ms/step - loss: 1.1599 - accuracy: 0.5902 - val_loss: 3.0161 - val_accuracy: 0.3196\n",
      "Epoch 32/50\n",
      "24/24 [==============================] - 9s 281ms/step - loss: 1.0362 - accuracy: 0.6565 - val_loss: 2.1617 - val_accuracy: 0.3930\n",
      "Epoch 33/50\n",
      "24/24 [==============================] - 9s 281ms/step - loss: 0.9561 - accuracy: 0.6637 - val_loss: 4.5770 - val_accuracy: 0.2375\n",
      "Epoch 34/50\n",
      "24/24 [==============================] - 9s 279ms/step - loss: 0.8968 - accuracy: 0.6881 - val_loss: 3.2038 - val_accuracy: 0.3636\n",
      "Epoch 35/50\n",
      "24/24 [==============================] - 9s 281ms/step - loss: 0.8618 - accuracy: 0.7189 - val_loss: 1.7841 - val_accuracy: 0.5543\n",
      "Epoch 36/50\n",
      "24/24 [==============================] - 9s 279ms/step - loss: 0.8118 - accuracy: 0.7234 - val_loss: 2.5014 - val_accuracy: 0.4985\n",
      "Epoch 37/50\n",
      "24/24 [==============================] - 9s 282ms/step - loss: 0.7891 - accuracy: 0.7306 - val_loss: 1.6589 - val_accuracy: 0.5103\n",
      "Epoch 38/50\n",
      "24/24 [==============================] - 9s 280ms/step - loss: 0.6792 - accuracy: 0.7605 - val_loss: 1.8908 - val_accuracy: 0.4780\n",
      "Epoch 39/50\n",
      "24/24 [==============================] - 9s 280ms/step - loss: 0.6173 - accuracy: 0.7854 - val_loss: 2.4217 - val_accuracy: 0.4135\n",
      "Epoch 40/50\n",
      "24/24 [==============================] - 9s 281ms/step - loss: 0.5375 - accuracy: 0.8093 - val_loss: 1.3913 - val_accuracy: 0.6070\n",
      "Epoch 41/50\n",
      "24/24 [==============================] - 9s 281ms/step - loss: 0.4905 - accuracy: 0.8203 - val_loss: 2.3106 - val_accuracy: 0.5367\n",
      "Epoch 42/50\n",
      "24/24 [==============================] - 9s 281ms/step - loss: 0.4586 - accuracy: 0.8309 - val_loss: 3.1977 - val_accuracy: 0.3607\n",
      "Epoch 43/50\n",
      "24/24 [==============================] - 9s 281ms/step - loss: 0.4467 - accuracy: 0.8427 - val_loss: 2.1666 - val_accuracy: 0.5308\n",
      "Epoch 44/50\n",
      "24/24 [==============================] - 9s 281ms/step - loss: 0.3831 - accuracy: 0.8725 - val_loss: 1.6510 - val_accuracy: 0.5601\n",
      "Epoch 45/50\n",
      "24/24 [==============================] - 9s 282ms/step - loss: 0.3221 - accuracy: 0.8905 - val_loss: 1.7636 - val_accuracy: 0.5396\n",
      "Epoch 46/50\n",
      "24/24 [==============================] - 9s 279ms/step - loss: 0.2637 - accuracy: 0.9055 - val_loss: 2.0700 - val_accuracy: 0.5953\n",
      "Epoch 47/50\n",
      "24/24 [==============================] - 9s 281ms/step - loss: 0.2284 - accuracy: 0.9219 - val_loss: 2.6969 - val_accuracy: 0.4370\n",
      "Epoch 48/50\n",
      "24/24 [==============================] - 10s 320ms/step - loss: 0.1975 - accuracy: 0.9234 - val_loss: 2.4473 - val_accuracy: 0.5601\n",
      "Epoch 49/50\n",
      "24/24 [==============================] - 9s 281ms/step - loss: 0.1977 - accuracy: 0.9299 - val_loss: 3.5537 - val_accuracy: 0.4633\n",
      "Epoch 50/50\n",
      "24/24 [==============================] - 9s 281ms/step - loss: 0.2083 - accuracy: 0.9274 - val_loss: 2.2205 - val_accuracy: 0.5572\n",
      "model training time 572.8146510124207\n"
     ]
    },
    {
     "data": {
      "text/html": [
       "<br/>Waiting for W&B process to finish, PID 2019<br/>Program ended successfully."
      ],
      "text/plain": [
       "<IPython.core.display.HTML object>"
      ]
     },
     "metadata": {},
     "output_type": "display_data"
    },
    {
     "data": {
      "application/vnd.jupyter.widget-view+json": {
       "model_id": "",
       "version_major": 2,
       "version_minor": 0
      },
      "text/plain": [
       "VBox(children=(Label(value=' 90.58MB of 90.58MB uploaded (0.00MB deduped)\\r'), FloatProgress(value=1.0, max=1.…"
      ]
     },
     "metadata": {},
     "output_type": "display_data"
    },
    {
     "data": {
      "text/html": [
       "Find user logs for this run at: <code>/home/jovyan/git-repos/tensorflow_ds/wandb/run-20210819_175216-sahv3po5/logs/debug.log</code>"
      ],
      "text/plain": [
       "<IPython.core.display.HTML object>"
      ]
     },
     "metadata": {},
     "output_type": "display_data"
    },
    {
     "data": {
      "text/html": [
       "Find internal logs for this run at: <code>/home/jovyan/git-repos/tensorflow_ds/wandb/run-20210819_175216-sahv3po5/logs/debug-internal.log</code>"
      ],
      "text/plain": [
       "<IPython.core.display.HTML object>"
      ]
     },
     "metadata": {},
     "output_type": "display_data"
    },
    {
     "data": {
      "text/html": [
       "<h3>Run summary:</h3><br/><style>\n",
       "    table.wandb td:nth-child(1) { padding: 0 10px; text-align: right }\n",
       "    </style><table class=\"wandb\">\n",
       "<tr><td>epoch</td><td>49</td></tr><tr><td>loss</td><td>0.23286</td></tr><tr><td>accuracy</td><td>0.92047</td></tr><tr><td>val_loss</td><td>2.22049</td></tr><tr><td>val_accuracy</td><td>0.55718</td></tr><tr><td>_runtime</td><td>579</td></tr><tr><td>_timestamp</td><td>1629396115</td></tr><tr><td>_step</td><td>50</td></tr><tr><td>best_val_loss</td><td>1.39135</td></tr><tr><td>best_epoch</td><td>39</td></tr><tr><td>training_time</td><td>572.81465</td></tr></table>"
      ],
      "text/plain": [
       "<IPython.core.display.HTML object>"
      ]
     },
     "metadata": {},
     "output_type": "display_data"
    },
    {
     "data": {
      "text/html": [
       "<h3>Run history:</h3><br/><style>\n",
       "    table.wandb td:nth-child(1) { padding: 0 10px; text-align: right }\n",
       "    </style><table class=\"wandb\">\n",
       "<tr><td>epoch</td><td>▁▁▁▁▂▂▂▂▂▃▃▃▃▃▃▄▄▄▄▄▅▅▅▅▅▅▆▆▆▆▆▆▇▇▇▇▇███</td></tr><tr><td>loss</td><td>█▃▃▃▃▃▃▃▃▃▃▃▃▃▃▂▂▂▂▂▂▂▂▂▂▂▂▂▂▂▁▁▁▁▁▁▁▁▁▁</td></tr><tr><td>accuracy</td><td>▁▂▂▂▂▂▂▂▃▃▃▃▃▃▃▃▃▄▄▄▄▄▄▅▅▅▆▆▆▆▆▇▇▇▇█████</td></tr><tr><td>val_loss</td><td>█▁▁▁▁▁▁▁▁▁▁▁▁▁▁▁▁▁▁▁▁▁▁▁▁▁▁▁▁▁▁▁▁▁▁▁▁▁▁▁</td></tr><tr><td>val_accuracy</td><td>▁▁▁▁▁▁▁▂▂▃▃▃▄▄▄▄▄▅▄▄▆▅▅▄▄▅▃▅▇▇▆▆▇▅▇██▆█▇</td></tr><tr><td>_runtime</td><td>▁▁▁▁▂▂▂▂▃▃▃▃▃▃▄▄▄▄▄▅▅▅▅▅▅▆▆▆▆▆▇▇▇▇▇▇████</td></tr><tr><td>_timestamp</td><td>▁▁▁▁▂▂▂▂▃▃▃▃▃▃▄▄▄▄▄▅▅▅▅▅▅▆▆▆▆▆▇▇▇▇▇▇████</td></tr><tr><td>_step</td><td>▁▁▁▁▂▂▂▂▂▃▃▃▃▃▃▄▄▄▄▄▅▅▅▅▅▅▆▆▆▆▆▆▇▇▇▇▇███</td></tr><tr><td>training_time</td><td>▁</td></tr></table><br/>"
      ],
      "text/plain": [
       "<IPython.core.display.HTML object>"
      ]
     },
     "metadata": {},
     "output_type": "display_data"
    },
    {
     "data": {
      "text/html": [
       "Synced 5 W&B file(s), 1 media file(s), 0 artifact file(s) and 1 other file(s)"
      ],
      "text/plain": [
       "<IPython.core.display.HTML object>"
      ]
     },
     "metadata": {},
     "output_type": "display_data"
    },
    {
     "data": {
      "text/html": [
       "\n",
       "                    <br/>Synced <strong style=\"color:#cdcd00\">likely-pond-2</strong>: <a href=\"https://wandb.ai/skirmer/tensorflow_mg_tests/runs/sahv3po5\" target=\"_blank\">https://wandb.ai/skirmer/tensorflow_mg_tests/runs/sahv3po5</a><br/>\n",
       "                "
      ],
      "text/plain": [
       "<IPython.core.display.HTML object>"
      ]
     },
     "metadata": {},
     "output_type": "display_data"
    },
    {
     "name": "stdout",
     "output_type": "stream",
     "text": [
      "INFO:tensorflow:Assets written to: model/keras_multi/assets\n"
     ]
    }
   ],
   "source": [
    "tester_batchscale = train_multigpu(scale_batch = True, wbargs=wbargs, **model_params)"
   ]
  },
  {
   "cell_type": "code",
   "execution_count": 8,
   "id": "f79ae88f",
   "metadata": {
    "execution": {
     "iopub.execute_input": "2021-08-19T18:02:29.954817Z",
     "iopub.status.busy": "2021-08-19T18:02:29.954599Z",
     "iopub.status.idle": "2021-08-19T18:11:41.415742Z",
     "shell.execute_reply": "2021-08-19T18:11:41.414920Z",
     "shell.execute_reply.started": "2021-08-19T18:02:29.954790Z"
    }
   },
   "outputs": [
    {
     "data": {
      "text/html": [
       "\n",
       "                Tracking run with wandb version 0.12.0<br/>\n",
       "                Syncing run <strong style=\"color:#cdcd00\">sleek-dust-3</strong> to <a href=\"https://wandb.ai\" target=\"_blank\">Weights & Biases</a> <a href=\"https://docs.wandb.com/integrations/jupyter.html\" target=\"_blank\">(Documentation)</a>.<br/>\n",
       "                Project page: <a href=\"https://wandb.ai/skirmer/tensorflow_mg_tests\" target=\"_blank\">https://wandb.ai/skirmer/tensorflow_mg_tests</a><br/>\n",
       "                Run page: <a href=\"https://wandb.ai/skirmer/tensorflow_mg_tests/runs/t4r6kojb\" target=\"_blank\">https://wandb.ai/skirmer/tensorflow_mg_tests/runs/t4r6kojb</a><br/>\n",
       "                Run data is saved locally in <code>/home/jovyan/git-repos/tensorflow_ds/wandb/run-20210819_180229-t4r6kojb</code><br/><br/>\n",
       "            "
      ],
      "text/plain": [
       "<IPython.core.display.HTML object>"
      ]
     },
     "metadata": {},
     "output_type": "display_data"
    },
    {
     "name": "stdout",
     "output_type": "stream",
     "text": [
      "INFO:tensorflow:Using MirroredStrategy with devices ('/job:localhost/replica:0/task:0/device:GPU:0', '/job:localhost/replica:0/task:0/device:GPU:1', '/job:localhost/replica:0/task:0/device:GPU:2', '/job:localhost/replica:0/task:0/device:GPU:3')\n",
      "Number of devices: 4\n",
      "Found 3068 files belonging to 10 classes.\n",
      "Found 341 files belonging to 10 classes.\n",
      "Epoch 1/50\n",
      "INFO:tensorflow:batch_all_reduce: 214 all-reduces with algorithm = nccl, num_packs = 1\n",
      "INFO:tensorflow:batch_all_reduce: 214 all-reduces with algorithm = nccl, num_packs = 1\n",
      "96/96 [==============================] - 87s 149ms/step - loss: 16.7420 - accuracy: 0.2072 - val_loss: 7323102.0000 - val_accuracy: 0.1437\n",
      "Epoch 2/50\n",
      "96/96 [==============================] - 8s 78ms/step - loss: 2.1255 - accuracy: 0.2592 - val_loss: 2580.8357 - val_accuracy: 0.1848\n",
      "Epoch 3/50\n",
      "96/96 [==============================] - 8s 78ms/step - loss: 2.1198 - accuracy: 0.2593 - val_loss: 290.7189 - val_accuracy: 0.1994\n",
      "Epoch 4/50\n",
      "96/96 [==============================] - 8s 77ms/step - loss: 2.1268 - accuracy: 0.2494 - val_loss: 68.1930 - val_accuracy: 0.2199\n",
      "Epoch 5/50\n",
      "96/96 [==============================] - 8s 78ms/step - loss: 2.1164 - accuracy: 0.2550 - val_loss: 30.6870 - val_accuracy: 0.2287\n",
      "Epoch 6/50\n",
      "96/96 [==============================] - 8s 78ms/step - loss: 2.1276 - accuracy: 0.2501 - val_loss: 11.9327 - val_accuracy: 0.2375\n",
      "Epoch 7/50\n",
      "96/96 [==============================] - 8s 78ms/step - loss: 2.1080 - accuracy: 0.2529 - val_loss: 19.2602 - val_accuracy: 0.2258\n",
      "Epoch 8/50\n",
      "96/96 [==============================] - 8s 78ms/step - loss: 2.1142 - accuracy: 0.2603 - val_loss: 16.4053 - val_accuracy: 0.2375\n",
      "Epoch 9/50\n",
      "96/96 [==============================] - 8s 78ms/step - loss: 2.1262 - accuracy: 0.2543 - val_loss: 2.6227 - val_accuracy: 0.2111\n",
      "Epoch 10/50\n",
      "96/96 [==============================] - 8s 77ms/step - loss: 2.1262 - accuracy: 0.2536 - val_loss: 2.3662 - val_accuracy: 0.2405\n",
      "Epoch 11/50\n",
      "96/96 [==============================] - 8s 78ms/step - loss: 2.1307 - accuracy: 0.2562 - val_loss: 2.5302 - val_accuracy: 0.2375\n",
      "Epoch 12/50\n",
      "96/96 [==============================] - 8s 78ms/step - loss: 2.1269 - accuracy: 0.2581 - val_loss: 2.8219 - val_accuracy: 0.2346\n",
      "Epoch 13/50\n",
      "96/96 [==============================] - 8s 78ms/step - loss: 2.1387 - accuracy: 0.2499 - val_loss: 2.9931 - val_accuracy: 0.2346\n",
      "Epoch 14/50\n",
      "96/96 [==============================] - 8s 78ms/step - loss: 2.1302 - accuracy: 0.2497 - val_loss: 3.0681 - val_accuracy: 0.2317\n",
      "Epoch 15/50\n",
      "96/96 [==============================] - 8s 78ms/step - loss: 2.1278 - accuracy: 0.2558 - val_loss: 3.4756 - val_accuracy: 0.2317\n",
      "Epoch 16/50\n",
      "96/96 [==============================] - 8s 78ms/step - loss: 2.1255 - accuracy: 0.2626 - val_loss: 3.2735 - val_accuracy: 0.2346\n",
      "Epoch 17/50\n",
      "96/96 [==============================] - 8s 78ms/step - loss: 2.1302 - accuracy: 0.2552 - val_loss: 3.4775 - val_accuracy: 0.2317\n",
      "Epoch 18/50\n",
      "96/96 [==============================] - 8s 78ms/step - loss: 2.1320 - accuracy: 0.2537 - val_loss: 3.2407 - val_accuracy: 0.2375\n",
      "Epoch 19/50\n",
      "96/96 [==============================] - 8s 77ms/step - loss: 2.1288 - accuracy: 0.2517 - val_loss: 2.2640 - val_accuracy: 0.2346\n",
      "Epoch 20/50\n",
      "96/96 [==============================] - 8s 78ms/step - loss: 2.1290 - accuracy: 0.2565 - val_loss: 3.0455 - val_accuracy: 0.2346\n",
      "Epoch 21/50\n",
      "96/96 [==============================] - 8s 78ms/step - loss: 2.1175 - accuracy: 0.2613 - val_loss: 2.9283 - val_accuracy: 0.2346\n",
      "Epoch 22/50\n",
      "96/96 [==============================] - 8s 77ms/step - loss: 2.1237 - accuracy: 0.2574 - val_loss: 2.8451 - val_accuracy: 0.2346\n",
      "Epoch 23/50\n",
      "96/96 [==============================] - 8s 77ms/step - loss: 2.1279 - accuracy: 0.2547 - val_loss: 2.6052 - val_accuracy: 0.2346\n",
      "Epoch 24/50\n",
      "96/96 [==============================] - 8s 77ms/step - loss: 2.1282 - accuracy: 0.2539 - val_loss: 2.8211 - val_accuracy: 0.2346\n",
      "Epoch 25/50\n",
      "96/96 [==============================] - 8s 77ms/step - loss: 2.1234 - accuracy: 0.2580 - val_loss: 2.8178 - val_accuracy: 0.2346\n",
      "Epoch 26/50\n",
      "96/96 [==============================] - 8s 77ms/step - loss: 2.1247 - accuracy: 0.2538 - val_loss: 2.8872 - val_accuracy: 0.2346\n",
      "Epoch 27/50\n",
      "96/96 [==============================] - 8s 79ms/step - loss: 2.1348 - accuracy: 0.2524 - val_loss: 2.8552 - val_accuracy: 0.2346\n",
      "Epoch 28/50\n",
      "96/96 [==============================] - 8s 77ms/step - loss: 2.1313 - accuracy: 0.2534 - val_loss: 2.9893 - val_accuracy: 0.2346\n",
      "Epoch 29/50\n",
      "96/96 [==============================] - 8s 77ms/step - loss: 2.1264 - accuracy: 0.2538 - val_loss: 3.0167 - val_accuracy: 0.2346\n",
      "Epoch 30/50\n",
      "96/96 [==============================] - 8s 77ms/step - loss: 2.1247 - accuracy: 0.2572 - val_loss: 2.9434 - val_accuracy: 0.2346\n",
      "Epoch 31/50\n",
      "96/96 [==============================] - 8s 77ms/step - loss: 2.1278 - accuracy: 0.2584 - val_loss: 2.7982 - val_accuracy: 0.2346\n",
      "Epoch 32/50\n",
      "96/96 [==============================] - 8s 78ms/step - loss: 2.1197 - accuracy: 0.2566 - val_loss: 2.8294 - val_accuracy: 0.2317\n",
      "Epoch 33/50\n",
      "96/96 [==============================] - 8s 77ms/step - loss: 2.1319 - accuracy: 0.2560 - val_loss: 2.9191 - val_accuracy: 0.2346\n",
      "Epoch 34/50\n",
      "96/96 [==============================] - 8s 79ms/step - loss: 2.1259 - accuracy: 0.2559 - val_loss: 2.6717 - val_accuracy: 0.2346\n",
      "Epoch 35/50\n",
      "96/96 [==============================] - 8s 77ms/step - loss: 2.1249 - accuracy: 0.2565 - val_loss: 2.8805 - val_accuracy: 0.2346\n",
      "Epoch 36/50\n",
      "96/96 [==============================] - 8s 78ms/step - loss: 2.1357 - accuracy: 0.2512 - val_loss: 2.7386 - val_accuracy: 0.2317\n",
      "Epoch 37/50\n",
      "96/96 [==============================] - 8s 77ms/step - loss: 2.1386 - accuracy: 0.2516 - val_loss: 2.5892 - val_accuracy: 0.2317\n",
      "Epoch 38/50\n",
      "96/96 [==============================] - 8s 78ms/step - loss: 2.1320 - accuracy: 0.2536 - val_loss: 2.8950 - val_accuracy: 0.2317\n",
      "Epoch 39/50\n",
      "96/96 [==============================] - 8s 77ms/step - loss: 2.1251 - accuracy: 0.2611 - val_loss: 2.8217 - val_accuracy: 0.2317\n",
      "Epoch 40/50\n",
      "96/96 [==============================] - 8s 77ms/step - loss: 2.1314 - accuracy: 0.2573 - val_loss: 2.5781 - val_accuracy: 0.2317\n",
      "Epoch 41/50\n",
      "96/96 [==============================] - 8s 78ms/step - loss: 2.1273 - accuracy: 0.2558 - val_loss: 2.7594 - val_accuracy: 0.2346\n",
      "Epoch 42/50\n",
      "96/96 [==============================] - 8s 78ms/step - loss: 2.1319 - accuracy: 0.2518 - val_loss: 2.2503 - val_accuracy: 0.2317\n",
      "Epoch 43/50\n",
      "96/96 [==============================] - 8s 78ms/step - loss: 2.1342 - accuracy: 0.2485 - val_loss: 135.3365 - val_accuracy: 0.2317\n",
      "Epoch 44/50\n",
      "96/96 [==============================] - 8s 77ms/step - loss: 2.1276 - accuracy: 0.2541 - val_loss: 76.7152 - val_accuracy: 0.1642\n",
      "Epoch 45/50\n",
      "96/96 [==============================] - 8s 77ms/step - loss: 2.1338 - accuracy: 0.2568 - val_loss: 43.9147 - val_accuracy: 0.1906\n",
      "Epoch 46/50\n",
      "96/96 [==============================] - 8s 78ms/step - loss: 2.1167 - accuracy: 0.2613 - val_loss: 2.2543 - val_accuracy: 0.2317\n",
      "Epoch 47/50\n",
      "96/96 [==============================] - 8s 78ms/step - loss: 2.1166 - accuracy: 0.2551 - val_loss: 2.1778 - val_accuracy: 0.2317\n",
      "Epoch 48/50\n",
      "96/96 [==============================] - 8s 77ms/step - loss: 2.1345 - accuracy: 0.2541 - val_loss: 2.2057 - val_accuracy: 0.2317\n",
      "Epoch 49/50\n",
      "96/96 [==============================] - 8s 77ms/step - loss: 2.1323 - accuracy: 0.2551 - val_loss: 2.6948 - val_accuracy: 0.2287\n",
      "Epoch 50/50\n",
      "96/96 [==============================] - 8s 78ms/step - loss: 2.1397 - accuracy: 0.2490 - val_loss: 143.4365 - val_accuracy: 0.2375\n",
      "model training time 510.764897108078\n"
     ]
    },
    {
     "data": {
      "text/html": [
       "<br/>Waiting for W&B process to finish, PID 3675<br/>Program ended successfully."
      ],
      "text/plain": [
       "<IPython.core.display.HTML object>"
      ]
     },
     "metadata": {},
     "output_type": "display_data"
    },
    {
     "data": {
      "application/vnd.jupyter.widget-view+json": {
       "model_id": "",
       "version_major": 2,
       "version_minor": 0
      },
      "text/plain": [
       "VBox(children=(Label(value=' 90.58MB of 90.58MB uploaded (0.00MB deduped)\\r'), FloatProgress(value=1.0, max=1.…"
      ]
     },
     "metadata": {},
     "output_type": "display_data"
    },
    {
     "data": {
      "text/html": [
       "Find user logs for this run at: <code>/home/jovyan/git-repos/tensorflow_ds/wandb/run-20210819_180229-t4r6kojb/logs/debug.log</code>"
      ],
      "text/plain": [
       "<IPython.core.display.HTML object>"
      ]
     },
     "metadata": {},
     "output_type": "display_data"
    },
    {
     "data": {
      "text/html": [
       "Find internal logs for this run at: <code>/home/jovyan/git-repos/tensorflow_ds/wandb/run-20210819_180229-t4r6kojb/logs/debug-internal.log</code>"
      ],
      "text/plain": [
       "<IPython.core.display.HTML object>"
      ]
     },
     "metadata": {},
     "output_type": "display_data"
    },
    {
     "data": {
      "text/html": [
       "<h3>Run summary:</h3><br/><style>\n",
       "    table.wandb td:nth-child(1) { padding: 0 10px; text-align: right }\n",
       "    </style><table class=\"wandb\">\n",
       "<tr><td>epoch</td><td>49</td></tr><tr><td>loss</td><td>2.13425</td></tr><tr><td>accuracy</td><td>0.25619</td></tr><tr><td>val_loss</td><td>143.43649</td></tr><tr><td>val_accuracy</td><td>0.23754</td></tr><tr><td>_runtime</td><td>517</td></tr><tr><td>_timestamp</td><td>1629396667</td></tr><tr><td>_step</td><td>50</td></tr><tr><td>best_val_loss</td><td>2.17783</td></tr><tr><td>best_epoch</td><td>46</td></tr><tr><td>training_time</td><td>510.7649</td></tr></table>"
      ],
      "text/plain": [
       "<IPython.core.display.HTML object>"
      ]
     },
     "metadata": {},
     "output_type": "display_data"
    },
    {
     "data": {
      "text/html": [
       "<h3>Run history:</h3><br/><style>\n",
       "    table.wandb td:nth-child(1) { padding: 0 10px; text-align: right }\n",
       "    </style><table class=\"wandb\">\n",
       "<tr><td>epoch</td><td>▁▁▁▁▂▂▂▂▂▃▃▃▃▃▃▄▄▄▄▄▅▅▅▅▅▅▆▆▆▆▆▆▇▇▇▇▇███</td></tr><tr><td>loss</td><td>█▁▁▁▁▁▁▁▁▁▁▁▁▁▁▁▁▁▁▁▁▁▁▁▁▁▁▁▁▁▁▁▁▁▁▁▁▁▁▁</td></tr><tr><td>accuracy</td><td>▁▇▇▇▇▇█▇▇▇▇▇▇▇▇▇▇▇▇▇▇▇▇▇▇▇▇▇▇▇▇▇▇▇▆▇▇▇▇▆</td></tr><tr><td>val_loss</td><td>█▁▁▁▁▁▁▁▁▁▁▁▁▁▁▁▁▁▁▁▁▁▁▁▁▁▁▁▁▁▁▁▁▁▁▁▁▁▁▁</td></tr><tr><td>val_accuracy</td><td>▁▄▅▇█▇█▆███████████████████████████▃████</td></tr><tr><td>_runtime</td><td>▁▁▁▂▂▂▂▂▃▃▃▃▃▃▄▄▄▄▄▅▅▅▅▅▅▆▆▆▆▆▆▇▇▇▇▇████</td></tr><tr><td>_timestamp</td><td>▁▁▁▂▂▂▂▂▃▃▃▃▃▃▄▄▄▄▄▅▅▅▅▅▅▆▆▆▆▆▆▇▇▇▇▇████</td></tr><tr><td>_step</td><td>▁▁▁▁▂▂▂▂▂▃▃▃▃▃▃▄▄▄▄▄▅▅▅▅▅▅▆▆▆▆▆▆▇▇▇▇▇███</td></tr><tr><td>training_time</td><td>▁</td></tr></table><br/>"
      ],
      "text/plain": [
       "<IPython.core.display.HTML object>"
      ]
     },
     "metadata": {},
     "output_type": "display_data"
    },
    {
     "data": {
      "text/html": [
       "Synced 5 W&B file(s), 1 media file(s), 0 artifact file(s) and 1 other file(s)"
      ],
      "text/plain": [
       "<IPython.core.display.HTML object>"
      ]
     },
     "metadata": {},
     "output_type": "display_data"
    },
    {
     "data": {
      "text/html": [
       "\n",
       "                    <br/>Synced <strong style=\"color:#cdcd00\">sleek-dust-3</strong>: <a href=\"https://wandb.ai/skirmer/tensorflow_mg_tests/runs/t4r6kojb\" target=\"_blank\">https://wandb.ai/skirmer/tensorflow_mg_tests/runs/t4r6kojb</a><br/>\n",
       "                "
      ],
      "text/plain": [
       "<IPython.core.display.HTML object>"
      ]
     },
     "metadata": {},
     "output_type": "display_data"
    },
    {
     "name": "stdout",
     "output_type": "stream",
     "text": [
      "INFO:tensorflow:Assets written to: model/keras_multi/assets\n"
     ]
    }
   ],
   "source": [
    "# tester_lrscale = train_multigpu(scale_lr = True, wbargs=wbargs, **model_params)"
   ]
  },
  {
   "cell_type": "code",
   "execution_count": 9,
   "id": "6190af2d",
   "metadata": {
    "execution": {
     "iopub.execute_input": "2021-08-19T18:11:41.420169Z",
     "iopub.status.busy": "2021-08-19T18:11:41.419954Z",
     "iopub.status.idle": "2021-08-19T18:21:49.108318Z",
     "shell.execute_reply": "2021-08-19T18:21:49.107483Z",
     "shell.execute_reply.started": "2021-08-19T18:11:41.420143Z"
    }
   },
   "outputs": [
    {
     "data": {
      "text/html": [
       "\n",
       "                Tracking run with wandb version 0.12.0<br/>\n",
       "                Syncing run <strong style=\"color:#cdcd00\">morning-river-4</strong> to <a href=\"https://wandb.ai\" target=\"_blank\">Weights & Biases</a> <a href=\"https://docs.wandb.com/integrations/jupyter.html\" target=\"_blank\">(Documentation)</a>.<br/>\n",
       "                Project page: <a href=\"https://wandb.ai/skirmer/tensorflow_mg_tests\" target=\"_blank\">https://wandb.ai/skirmer/tensorflow_mg_tests</a><br/>\n",
       "                Run page: <a href=\"https://wandb.ai/skirmer/tensorflow_mg_tests/runs/3e5lymip\" target=\"_blank\">https://wandb.ai/skirmer/tensorflow_mg_tests/runs/3e5lymip</a><br/>\n",
       "                Run data is saved locally in <code>/home/jovyan/git-repos/tensorflow_ds/wandb/run-20210819_181141-3e5lymip</code><br/><br/>\n",
       "            "
      ],
      "text/plain": [
       "<IPython.core.display.HTML object>"
      ]
     },
     "metadata": {},
     "output_type": "display_data"
    },
    {
     "name": "stdout",
     "output_type": "stream",
     "text": [
      "INFO:tensorflow:Using MirroredStrategy with devices ('/job:localhost/replica:0/task:0/device:GPU:0', '/job:localhost/replica:0/task:0/device:GPU:1', '/job:localhost/replica:0/task:0/device:GPU:2', '/job:localhost/replica:0/task:0/device:GPU:3')\n",
      "Number of devices: 4\n",
      "Found 3068 files belonging to 10 classes.\n",
      "Found 341 files belonging to 10 classes.\n",
      "Epoch 1/50\n",
      "INFO:tensorflow:batch_all_reduce: 214 all-reduces with algorithm = nccl, num_packs = 1\n",
      "INFO:tensorflow:batch_all_reduce: 214 all-reduces with algorithm = nccl, num_packs = 1\n",
      "24/24 [==============================] - 87s 554ms/step - loss: 21.1472 - accuracy: 0.1686 - val_loss: 17286139428138410573824.0000 - val_accuracy: 0.0938\n",
      "Epoch 2/50\n",
      "24/24 [==============================] - 9s 284ms/step - loss: 2.4909 - accuracy: 0.2614 - val_loss: 30472354660352.0000 - val_accuracy: 0.0411\n",
      "Epoch 3/50\n",
      "24/24 [==============================] - 9s 282ms/step - loss: 2.1271 - accuracy: 0.2674 - val_loss: 2418614272.0000 - val_accuracy: 0.0411\n",
      "Epoch 4/50\n",
      "24/24 [==============================] - 9s 282ms/step - loss: 2.1385 - accuracy: 0.2587 - val_loss: 13207944.0000 - val_accuracy: 0.0411\n",
      "Epoch 5/50\n",
      "24/24 [==============================] - 9s 281ms/step - loss: 2.0985 - accuracy: 0.2556 - val_loss: 447408.1875 - val_accuracy: 0.0499\n",
      "Epoch 6/50\n",
      "24/24 [==============================] - 9s 281ms/step - loss: 2.0839 - accuracy: 0.2649 - val_loss: 45760.9375 - val_accuracy: 0.0411\n",
      "Epoch 7/50\n",
      "24/24 [==============================] - 9s 279ms/step - loss: 2.0877 - accuracy: 0.2628 - val_loss: 11217.9277 - val_accuracy: 0.0587\n",
      "Epoch 8/50\n",
      "24/24 [==============================] - 9s 281ms/step - loss: 2.0939 - accuracy: 0.2618 - val_loss: 3594.0195 - val_accuracy: 0.1114\n",
      "Epoch 9/50\n",
      "24/24 [==============================] - 9s 279ms/step - loss: 2.0651 - accuracy: 0.2742 - val_loss: 1237.4519 - val_accuracy: 0.1554\n",
      "Epoch 10/50\n",
      "24/24 [==============================] - 9s 281ms/step - loss: 2.0463 - accuracy: 0.2612 - val_loss: 474.3191 - val_accuracy: 0.2229\n",
      "Epoch 11/50\n",
      "24/24 [==============================] - 9s 280ms/step - loss: 2.0659 - accuracy: 0.2854 - val_loss: 92.7002 - val_accuracy: 0.1730\n",
      "Epoch 12/50\n",
      "24/24 [==============================] - 9s 281ms/step - loss: 2.0045 - accuracy: 0.3101 - val_loss: 39.1563 - val_accuracy: 0.2082\n",
      "Epoch 13/50\n",
      "24/24 [==============================] - 9s 281ms/step - loss: 1.9646 - accuracy: 0.3305 - val_loss: 7.8499 - val_accuracy: 0.2317\n",
      "Epoch 14/50\n",
      "24/24 [==============================] - 9s 280ms/step - loss: 1.8956 - accuracy: 0.3676 - val_loss: 3.7795 - val_accuracy: 0.2287\n",
      "Epoch 15/50\n",
      "24/24 [==============================] - 9s 281ms/step - loss: 1.8848 - accuracy: 0.3596 - val_loss: 2.6879 - val_accuracy: 0.2639\n",
      "Epoch 16/50\n",
      "24/24 [==============================] - 9s 280ms/step - loss: 1.8818 - accuracy: 0.3635 - val_loss: 2.0329 - val_accuracy: 0.3196\n",
      "Epoch 17/50\n",
      "24/24 [==============================] - 9s 312ms/step - loss: 1.8499 - accuracy: 0.3637 - val_loss: 2.7150 - val_accuracy: 0.2463\n",
      "Epoch 18/50\n",
      "24/24 [==============================] - 9s 280ms/step - loss: 1.8491 - accuracy: 0.3672 - val_loss: 2.4399 - val_accuracy: 0.3079\n",
      "Epoch 19/50\n",
      "24/24 [==============================] - 9s 280ms/step - loss: 1.8383 - accuracy: 0.3722 - val_loss: 2.2035 - val_accuracy: 0.3109\n",
      "Epoch 20/50\n",
      "24/24 [==============================] - 9s 282ms/step - loss: 1.8325 - accuracy: 0.3761 - val_loss: 2.1438 - val_accuracy: 0.3284\n",
      "Epoch 21/50\n",
      "24/24 [==============================] - 9s 281ms/step - loss: 1.8299 - accuracy: 0.3762 - val_loss: 2.4616 - val_accuracy: 0.2434\n",
      "Epoch 22/50\n",
      "24/24 [==============================] - 9s 280ms/step - loss: 1.7742 - accuracy: 0.3842 - val_loss: 2.1918 - val_accuracy: 0.3314\n",
      "Epoch 23/50\n",
      "24/24 [==============================] - 9s 282ms/step - loss: 1.7465 - accuracy: 0.3904 - val_loss: 3.0212 - val_accuracy: 0.2874\n",
      "Epoch 24/50\n",
      "24/24 [==============================] - 9s 281ms/step - loss: 1.7887 - accuracy: 0.3790 - val_loss: 2.2237 - val_accuracy: 0.2903\n",
      "Epoch 25/50\n",
      "24/24 [==============================] - 9s 279ms/step - loss: 1.7692 - accuracy: 0.3897 - val_loss: 3.4412 - val_accuracy: 0.2962\n",
      "Epoch 26/50\n",
      "24/24 [==============================] - 9s 280ms/step - loss: 1.6899 - accuracy: 0.4133 - val_loss: 2.2851 - val_accuracy: 0.3402\n",
      "Epoch 27/50\n",
      "24/24 [==============================] - 9s 280ms/step - loss: 1.6236 - accuracy: 0.4331 - val_loss: 5.2026 - val_accuracy: 0.2639\n",
      "Epoch 28/50\n",
      "24/24 [==============================] - 9s 279ms/step - loss: 1.5683 - accuracy: 0.4777 - val_loss: 3.7510 - val_accuracy: 0.2874\n",
      "Epoch 29/50\n",
      "24/24 [==============================] - 9s 281ms/step - loss: 1.5103 - accuracy: 0.5019 - val_loss: 9.2233 - val_accuracy: 0.2815\n",
      "Epoch 30/50\n",
      "24/24 [==============================] - 9s 279ms/step - loss: 1.5020 - accuracy: 0.4970 - val_loss: 6.4876 - val_accuracy: 0.3109\n",
      "Epoch 31/50\n",
      "24/24 [==============================] - 9s 280ms/step - loss: 1.4172 - accuracy: 0.5068 - val_loss: 4.2942 - val_accuracy: 0.3900\n",
      "Epoch 32/50\n",
      "24/24 [==============================] - 9s 281ms/step - loss: 1.3660 - accuracy: 0.5389 - val_loss: 4.3432 - val_accuracy: 0.3636\n",
      "Epoch 33/50\n",
      "24/24 [==============================] - 9s 280ms/step - loss: 1.2670 - accuracy: 0.5750 - val_loss: 2.2363 - val_accuracy: 0.4340\n",
      "Epoch 34/50\n",
      "24/24 [==============================] - 9s 280ms/step - loss: 1.2472 - accuracy: 0.5847 - val_loss: 2.6714 - val_accuracy: 0.4223\n",
      "Epoch 35/50\n",
      "24/24 [==============================] - 9s 280ms/step - loss: 1.1712 - accuracy: 0.6027 - val_loss: 3.3821 - val_accuracy: 0.3812\n",
      "Epoch 36/50\n",
      "24/24 [==============================] - 9s 279ms/step - loss: 1.1313 - accuracy: 0.6191 - val_loss: 2.1696 - val_accuracy: 0.4633\n",
      "Epoch 37/50\n",
      "24/24 [==============================] - 9s 280ms/step - loss: 1.0638 - accuracy: 0.6456 - val_loss: 3.9372 - val_accuracy: 0.4780\n",
      "Epoch 38/50\n",
      "24/24 [==============================] - 9s 279ms/step - loss: 0.9948 - accuracy: 0.6703 - val_loss: 1.7503 - val_accuracy: 0.5337\n",
      "Epoch 39/50\n",
      "24/24 [==============================] - 9s 280ms/step - loss: 0.8720 - accuracy: 0.7056 - val_loss: 2.4106 - val_accuracy: 0.4809\n",
      "Epoch 40/50\n",
      "24/24 [==============================] - 9s 279ms/step - loss: 0.8993 - accuracy: 0.6874 - val_loss: 2.5719 - val_accuracy: 0.4282\n",
      "Epoch 41/50\n",
      "24/24 [==============================] - 9s 282ms/step - loss: 0.9326 - accuracy: 0.6914 - val_loss: 3.8244 - val_accuracy: 0.4428\n",
      "Epoch 42/50\n",
      "24/24 [==============================] - 9s 280ms/step - loss: 0.8427 - accuracy: 0.7094 - val_loss: 3.3477 - val_accuracy: 0.4751\n",
      "Epoch 43/50\n",
      "24/24 [==============================] - 9s 282ms/step - loss: 0.7462 - accuracy: 0.7384 - val_loss: 2.4751 - val_accuracy: 0.4780\n",
      "Epoch 44/50\n",
      "24/24 [==============================] - 9s 281ms/step - loss: 0.7124 - accuracy: 0.7566 - val_loss: 2.1236 - val_accuracy: 0.5044\n",
      "Epoch 45/50\n",
      "24/24 [==============================] - 9s 280ms/step - loss: 0.6540 - accuracy: 0.7809 - val_loss: 3.4440 - val_accuracy: 0.4311\n",
      "Epoch 46/50\n",
      "24/24 [==============================] - 9s 279ms/step - loss: 0.5684 - accuracy: 0.8021 - val_loss: 4.4258 - val_accuracy: 0.3930\n",
      "Epoch 47/50\n",
      "24/24 [==============================] - 9s 280ms/step - loss: 0.5189 - accuracy: 0.8061 - val_loss: 3.1078 - val_accuracy: 0.3988\n",
      "Epoch 48/50\n",
      "24/24 [==============================] - 9s 280ms/step - loss: 0.5381 - accuracy: 0.8107 - val_loss: 4.0585 - val_accuracy: 0.4487\n",
      "Epoch 49/50\n",
      "24/24 [==============================] - 9s 281ms/step - loss: 0.4351 - accuracy: 0.8476 - val_loss: 2.2512 - val_accuracy: 0.5367\n",
      "Epoch 50/50\n",
      "24/24 [==============================] - 9s 279ms/step - loss: 0.4325 - accuracy: 0.8555 - val_loss: 2.4666 - val_accuracy: 0.5543\n",
      "model training time 565.4199831485748\n"
     ]
    },
    {
     "data": {
      "text/html": [
       "<br/>Waiting for W&B process to finish, PID 5295<br/>Program ended successfully."
      ],
      "text/plain": [
       "<IPython.core.display.HTML object>"
      ]
     },
     "metadata": {},
     "output_type": "display_data"
    },
    {
     "data": {
      "application/vnd.jupyter.widget-view+json": {
       "model_id": "",
       "version_major": 2,
       "version_minor": 0
      },
      "text/plain": [
       "VBox(children=(Label(value=' 90.58MB of 90.58MB uploaded (0.00MB deduped)\\r'), FloatProgress(value=1.0, max=1.…"
      ]
     },
     "metadata": {},
     "output_type": "display_data"
    },
    {
     "data": {
      "text/html": [
       "Find user logs for this run at: <code>/home/jovyan/git-repos/tensorflow_ds/wandb/run-20210819_181141-3e5lymip/logs/debug.log</code>"
      ],
      "text/plain": [
       "<IPython.core.display.HTML object>"
      ]
     },
     "metadata": {},
     "output_type": "display_data"
    },
    {
     "data": {
      "text/html": [
       "Find internal logs for this run at: <code>/home/jovyan/git-repos/tensorflow_ds/wandb/run-20210819_181141-3e5lymip/logs/debug-internal.log</code>"
      ],
      "text/plain": [
       "<IPython.core.display.HTML object>"
      ]
     },
     "metadata": {},
     "output_type": "display_data"
    },
    {
     "data": {
      "text/html": [
       "<h3>Run summary:</h3><br/><style>\n",
       "    table.wandb td:nth-child(1) { padding: 0 10px; text-align: right }\n",
       "    </style><table class=\"wandb\">\n",
       "<tr><td>epoch</td><td>49</td></tr><tr><td>loss</td><td>0.39854</td></tr><tr><td>accuracy</td><td>0.86571</td></tr><tr><td>val_loss</td><td>2.46663</td></tr><tr><td>val_accuracy</td><td>0.55425</td></tr><tr><td>_runtime</td><td>572</td></tr><tr><td>_timestamp</td><td>1629397273</td></tr><tr><td>_step</td><td>50</td></tr><tr><td>best_val_loss</td><td>1.75031</td></tr><tr><td>best_epoch</td><td>37</td></tr><tr><td>training_time</td><td>565.41998</td></tr></table>"
      ],
      "text/plain": [
       "<IPython.core.display.HTML object>"
      ]
     },
     "metadata": {},
     "output_type": "display_data"
    },
    {
     "data": {
      "text/html": [
       "<h3>Run history:</h3><br/><style>\n",
       "    table.wandb td:nth-child(1) { padding: 0 10px; text-align: right }\n",
       "    </style><table class=\"wandb\">\n",
       "<tr><td>epoch</td><td>▁▁▁▁▂▂▂▂▂▃▃▃▃▃▃▄▄▄▄▄▅▅▅▅▅▅▆▆▆▆▆▆▇▇▇▇▇███</td></tr><tr><td>loss</td><td>█▂▂▂▂▂▂▂▂▂▂▂▂▂▂▂▂▂▂▂▂▂▂▂▂▂▁▁▁▁▁▁▁▁▁▁▁▁▁▁</td></tr><tr><td>accuracy</td><td>▁▂▂▂▂▂▂▂▂▂▃▃▃▃▃▃▃▃▃▃▃▃▄▄▄▅▅▅▅▆▆▆▆▆▇▇▇▇██</td></tr><tr><td>val_loss</td><td>█▁▁▁▁▁▁▁▁▁▁▁▁▁▁▁▁▁▁▁▁▁▁▁▁▁▁▁▁▁▁▁▁▁▁▁▁▁▁▁</td></tr><tr><td>val_accuracy</td><td>▂▁▁▁▁▁▂▃▃▃▄▄▅▄▅▅▄▅▄▄▅▄▄▄▆▅▆▆▇▇█▇▆▇▇▇▆▆▇█</td></tr><tr><td>_runtime</td><td>▁▁▁▁▂▂▂▂▃▃▃▃▃▄▄▄▄▄▅▅▅▅▅▅▅▆▆▆▆▆▇▇▇▇▇▇████</td></tr><tr><td>_timestamp</td><td>▁▁▁▁▂▂▂▂▃▃▃▃▃▄▄▄▄▄▅▅▅▅▅▅▅▆▆▆▆▆▇▇▇▇▇▇████</td></tr><tr><td>_step</td><td>▁▁▁▁▂▂▂▂▂▃▃▃▃▃▃▄▄▄▄▄▅▅▅▅▅▅▆▆▆▆▆▆▇▇▇▇▇███</td></tr><tr><td>training_time</td><td>▁</td></tr></table><br/>"
      ],
      "text/plain": [
       "<IPython.core.display.HTML object>"
      ]
     },
     "metadata": {},
     "output_type": "display_data"
    },
    {
     "data": {
      "text/html": [
       "Synced 5 W&B file(s), 1 media file(s), 0 artifact file(s) and 1 other file(s)"
      ],
      "text/plain": [
       "<IPython.core.display.HTML object>"
      ]
     },
     "metadata": {},
     "output_type": "display_data"
    },
    {
     "data": {
      "text/html": [
       "\n",
       "                    <br/>Synced <strong style=\"color:#cdcd00\">morning-river-4</strong>: <a href=\"https://wandb.ai/skirmer/tensorflow_mg_tests/runs/3e5lymip\" target=\"_blank\">https://wandb.ai/skirmer/tensorflow_mg_tests/runs/3e5lymip</a><br/>\n",
       "                "
      ],
      "text/plain": [
       "<IPython.core.display.HTML object>"
      ]
     },
     "metadata": {},
     "output_type": "display_data"
    },
    {
     "name": "stdout",
     "output_type": "stream",
     "text": [
      "INFO:tensorflow:Assets written to: model/keras_multi/assets\n"
     ]
    }
   ],
   "source": [
    "tester_both = train_multigpu(scale_lr = True, scale_batch = True, wbargs=wbargs, **model_params)"
   ]
  },
  {
   "cell_type": "code",
   "execution_count": null,
   "id": "a056c7c2",
   "metadata": {},
   "outputs": [],
   "source": []
  }
 ],
 "metadata": {
  "kernelspec": {
   "display_name": "saturn (Python 3)",
   "language": "python",
   "name": "python3"
  },
  "language_info": {
   "codemirror_mode": {
    "name": "ipython",
    "version": 3
   },
   "file_extension": ".py",
   "mimetype": "text/x-python",
   "name": "python",
   "nbconvert_exporter": "python",
   "pygments_lexer": "ipython3",
   "version": "3.9.5"
  }
 },
 "nbformat": 4,
 "nbformat_minor": 5
}
