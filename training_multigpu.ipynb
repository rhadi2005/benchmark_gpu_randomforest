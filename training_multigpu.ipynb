{
 "cells": [
  {
   "cell_type": "markdown",
   "id": "183e10fd",
   "metadata": {},
   "source": [
    "# Train Multi-GPU single machine\n",
    "\n",
    "Run on V100 8x in tests."
   ]
  },
  {
   "cell_type": "code",
   "execution_count": 1,
   "id": "8da6ad75",
   "metadata": {
    "execution": {
     "iopub.execute_input": "2021-08-19T20:13:33.094982Z",
     "iopub.status.busy": "2021-08-19T20:13:33.094674Z",
     "iopub.status.idle": "2021-08-19T20:13:35.366597Z",
     "shell.execute_reply": "2021-08-19T20:13:35.365885Z",
     "shell.execute_reply.started": "2021-08-19T20:13:33.094907Z"
    }
   },
   "outputs": [
    {
     "name": "stdout",
     "output_type": "stream",
     "text": [
      "2.4.1\n"
     ]
    }
   ],
   "source": [
    "import numpy as np, pandas as pd\n",
    "import requests, io, os, datetime, re, json\n",
    "import tensorflow as tf\n",
    "import keras\n",
    "import matplotlib.pyplot as plt\n",
    "from tensorflow.keras import datasets, layers, models, losses, Model\n",
    "from keras.applications import resnet50\n",
    "from keras.preprocessing import image\n",
    "import dask\n",
    "import time\n",
    "print(tf.__version__)"
   ]
  },
  {
   "cell_type": "code",
   "execution_count": 2,
   "id": "ee30e703",
   "metadata": {
    "execution": {
     "iopub.execute_input": "2021-08-19T20:13:35.943867Z",
     "iopub.status.busy": "2021-08-19T20:13:35.943594Z",
     "iopub.status.idle": "2021-08-19T20:13:36.749893Z",
     "shell.execute_reply": "2021-08-19T20:13:36.749119Z",
     "shell.execute_reply.started": "2021-08-19T20:13:35.943837Z"
    }
   },
   "outputs": [
    {
     "name": "stderr",
     "output_type": "stream",
     "text": [
      "\u001b[34m\u001b[1mwandb\u001b[0m: Currently logged in as: \u001b[33mskirmer\u001b[0m (use `wandb login --relogin` to force relogin)\n"
     ]
    },
    {
     "data": {
      "text/plain": [
       "True"
      ]
     },
     "execution_count": 2,
     "metadata": {},
     "output_type": "execute_result"
    }
   ],
   "source": [
    "import wandb\n",
    "from wandb.keras import WandbCallback\n",
    "\n",
    "wandb.login()"
   ]
  },
  {
   "cell_type": "code",
   "execution_count": 3,
   "id": "f22e3162",
   "metadata": {
    "execution": {
     "iopub.execute_input": "2021-08-19T20:13:36.751564Z",
     "iopub.status.busy": "2021-08-19T20:13:36.751323Z",
     "iopub.status.idle": "2021-08-19T20:13:36.755014Z",
     "shell.execute_reply": "2021-08-19T20:13:36.754280Z",
     "shell.execute_reply.started": "2021-08-19T20:13:36.751534Z"
    }
   },
   "outputs": [],
   "source": [
    "\n",
    "# USE categorical_crossentropy\n",
    "\n",
    "#     # Data\n",
    "#     tester_flow = image.ImageDataGenerator()\n",
    "#     train_ds = tester_flow.flow_from_directory(\n",
    "#         directory = '/home/jovyan/git-repos/snowflake-ml-guide/data/clothing-dataset-small/train',\n",
    "#         target_size=(224,224),\n",
    "#         batch_size=batch_size_dist\n",
    "#     )\n",
    "\n",
    "#     valid_ds = tester_flow.flow_from_directory(\n",
    "#         directory = '/home/jovyan/git-repos/snowflake-ml-guide/data/clothing-dataset-small/validation',\n",
    "#         target_size=(224,224),\n",
    "#         batch_size=batch_size_dist\n",
    "#     )\n",
    "\n",
    "#     # Data\n",
    "    # Data\n",
    "#     train_ds = tf.keras.preprocessing.image_dataset_from_directory(\n",
    "#         '/home/jovyan/git-repos/snowflake-ml-guide/data/clothing-dataset-small/train',\n",
    "#         image_size=(224,224),\n",
    "#         batch_size=batchsize\n",
    "#     ).prefetch(2).cache().shuffle(1000)\n",
    "        \n",
    "#     valid_ds = tf.keras.preprocessing.image_dataset_from_directory(\n",
    "#         '/home/jovyan/git-repos/snowflake-ml-guide/data/clothing-dataset-small/validation',\n",
    "#         image_size=(224,224),\n",
    "#         batch_size=batchsize\n",
    "#     ).prefetch(2)"
   ]
  },
  {
   "cell_type": "code",
   "execution_count": 4,
   "id": "e58a0f6f",
   "metadata": {
    "execution": {
     "iopub.execute_input": "2021-08-19T20:13:36.970393Z",
     "iopub.status.busy": "2021-08-19T20:13:36.970178Z",
     "iopub.status.idle": "2021-08-19T20:13:40.130506Z",
     "shell.execute_reply": "2021-08-19T20:13:40.129767Z",
     "shell.execute_reply.started": "2021-08-19T20:13:36.970367Z"
    }
   },
   "outputs": [
    {
     "name": "stdout",
     "output_type": "stream",
     "text": [
      "4 Physical GPUs, 4 Logical GPUs\n"
     ]
    }
   ],
   "source": [
    "gpus = tf.config.list_physical_devices('GPU')\n",
    "if gpus:\n",
    "    try:\n",
    "    # Currently, memory growth needs to be the same across GPUs\n",
    "        for gpu in gpus:\n",
    "            tf.config.experimental.set_memory_growth(gpu, True)\n",
    "        logical_gpus = tf.config.experimental.list_logical_devices('GPU')\n",
    "        print(len(gpus), \"Physical GPUs,\", len(logical_gpus), \"Logical GPUs\")\n",
    "    except RuntimeError as e:\n",
    "    # Memory growth must be set before GPUs have been initialized\n",
    "        print(e)"
   ]
  },
  {
   "cell_type": "code",
   "execution_count": 5,
   "id": "b6a2d69a",
   "metadata": {
    "execution": {
     "iopub.execute_input": "2021-08-19T20:13:40.132000Z",
     "iopub.status.busy": "2021-08-19T20:13:40.131722Z",
     "iopub.status.idle": "2021-08-19T20:13:40.140006Z",
     "shell.execute_reply": "2021-08-19T20:13:40.139272Z",
     "shell.execute_reply.started": "2021-08-19T20:13:40.131967Z"
    }
   },
   "outputs": [],
   "source": [
    "def train_multigpu(n_epochs, classes, base_lr, batchsize,wbargs, scale_batch = False, scale_lr = False):\n",
    "    \n",
    "    wbargs={**wbargs, \"scale_batch\":scale_batch, \"scale_lr\":scale_lr}\n",
    "\n",
    "    # --------- Start wandb --------- #\n",
    "    wandb.init(entity='skirmer', project='tensorflow_mg_birds',\n",
    "    config=wbargs)\n",
    "\n",
    "    strategy = tf.distribute.MirroredStrategy()\n",
    "    print('Number of devices: %d' % strategy.num_replicas_in_sync)\n",
    "    if scale_batch:\n",
    "        batchsize = batchsize*strategy.num_replicas_in_sync\n",
    "        \n",
    "    if scale_lr:\n",
    "        base_lr = base_lr*strategy.num_replicas_in_sync\n",
    "    \n",
    "    with strategy.scope():\n",
    "        model = tf.keras.applications.ResNet50(\n",
    "            include_top=True,\n",
    "            weights=None,\n",
    "            classes=classes)\n",
    "\n",
    "        optimizer = keras.optimizers.Adam(lr=base_lr)\n",
    "        model.compile(loss='sparse_categorical_crossentropy', optimizer=optimizer, metrics=['accuracy']) #integer labels\n",
    "\n",
    "    # Data\n",
    "    train_ds = tf.keras.preprocessing.image_dataset_from_directory(\n",
    "        '/home/jovyan/git-repos/tensorflow_ds/datasets/birds/285 birds/train',\n",
    "        image_size=(224,224),\n",
    "        batch_size=batchsize\n",
    "    ).prefetch(2).shuffle(1000)\n",
    "        \n",
    "    valid_ds = tf.keras.preprocessing.image_dataset_from_directory(\n",
    "        '/home/jovyan/git-repos/tensorflow_ds/datasets/birds/285 birds/valid',\n",
    "        image_size=(224,224),\n",
    "        batch_size=batchsize\n",
    "    ).prefetch(2)\n",
    "    \n",
    "    start = time.time()\n",
    "\n",
    "    model.fit(\n",
    "        train_ds, \n",
    "        epochs=n_epochs, \n",
    "        validation_data=valid_ds,\n",
    "        callbacks=[WandbCallback()]\n",
    "    )\n",
    "    end = time.time()-start\n",
    "    print(\"model training time\", end)\n",
    "    wandb.log({\"training_time\":end})\n",
    "\n",
    "    # Close your wandb run \n",
    "    wandb.run.finish()\n",
    "    \n",
    "    tf.keras.models.save_model(model, 'model/keras_multi/')"
   ]
  },
  {
   "cell_type": "code",
   "execution_count": 8,
   "id": "e0758f08",
   "metadata": {
    "execution": {
     "iopub.execute_input": "2021-08-19T20:16:58.652778Z",
     "iopub.status.busy": "2021-08-19T20:16:58.652508Z",
     "iopub.status.idle": "2021-08-19T20:16:58.658094Z",
     "shell.execute_reply": "2021-08-19T20:16:58.657407Z",
     "shell.execute_reply.started": "2021-08-19T20:16:58.652750Z"
    }
   },
   "outputs": [],
   "source": [
    "model_params = {'n_epochs': 30, \n",
    "                'base_lr': .02,\n",
    "               'batchsize': 600,\n",
    "                   'classes':285}\n",
    "\n",
    "wbargs = {**model_params,\n",
    "    'Notes':\"tf_v100_8x\",\n",
    "    'Tags': ['multi', 'gpu', 'tensorflow'],\n",
    "    'dataset':\"Clothing\",\n",
    "    'architecture':\"ResNet50\"}"
   ]
  },
  {
   "cell_type": "code",
   "execution_count": null,
   "id": "842de935",
   "metadata": {
    "execution": {
     "iopub.execute_input": "2021-08-19T20:16:58.829312Z",
     "iopub.status.busy": "2021-08-19T20:16:58.829099Z"
    }
   },
   "outputs": [
    {
     "data": {
      "text/html": [
       "Finishing last run (ID:llghoo22) before initializing another..."
      ],
      "text/plain": [
       "<IPython.core.display.HTML object>"
      ]
     },
     "metadata": {},
     "output_type": "display_data"
    },
    {
     "data": {
      "text/html": [
       "<br/>Waiting for W&B process to finish, PID 362<br/>Program ended successfully."
      ],
      "text/plain": [
       "<IPython.core.display.HTML object>"
      ]
     },
     "metadata": {},
     "output_type": "display_data"
    },
    {
     "data": {
      "application/vnd.jupyter.widget-view+json": {
       "model_id": "",
       "version_major": 2,
       "version_minor": 0
      },
      "text/plain": [
       "VBox(children=(Label(value=' 0.00MB of 0.00MB uploaded (0.00MB deduped)\\r'), FloatProgress(value=1.0, max=1.0)…"
      ]
     },
     "metadata": {},
     "output_type": "display_data"
    },
    {
     "data": {
      "text/html": [
       "Find user logs for this run at: <code>/home/jovyan/git-repos/tensorflow_ds/wandb/run-20210819_201340-llghoo22/logs/debug.log</code>"
      ],
      "text/plain": [
       "<IPython.core.display.HTML object>"
      ]
     },
     "metadata": {},
     "output_type": "display_data"
    },
    {
     "data": {
      "text/html": [
       "Find internal logs for this run at: <code>/home/jovyan/git-repos/tensorflow_ds/wandb/run-20210819_201340-llghoo22/logs/debug-internal.log</code>"
      ],
      "text/plain": [
       "<IPython.core.display.HTML object>"
      ]
     },
     "metadata": {},
     "output_type": "display_data"
    },
    {
     "data": {
      "text/html": [
       "Synced 5 W&B file(s), 0 media file(s), 0 artifact file(s) and 0 other file(s)"
      ],
      "text/plain": [
       "<IPython.core.display.HTML object>"
      ]
     },
     "metadata": {},
     "output_type": "display_data"
    },
    {
     "data": {
      "text/html": [
       "\n",
       "                    <br/>Synced <strong style=\"color:#cdcd00\">spring-resonance-7</strong>: <a href=\"https://wandb.ai/skirmer/tensorflow_mg_birds/runs/llghoo22\" target=\"_blank\">https://wandb.ai/skirmer/tensorflow_mg_birds/runs/llghoo22</a><br/>\n",
       "                "
      ],
      "text/plain": [
       "<IPython.core.display.HTML object>"
      ]
     },
     "metadata": {},
     "output_type": "display_data"
    },
    {
     "data": {
      "text/html": [
       "...Successfully finished last run (ID:llghoo22). Initializing new run:<br/><br/>"
      ],
      "text/plain": [
       "<IPython.core.display.HTML object>"
      ]
     },
     "metadata": {},
     "output_type": "display_data"
    },
    {
     "data": {
      "text/html": [
       "\n",
       "                Tracking run with wandb version 0.12.0<br/>\n",
       "                Syncing run <strong style=\"color:#cdcd00\">unique-serenity-8</strong> to <a href=\"https://wandb.ai\" target=\"_blank\">Weights & Biases</a> <a href=\"https://docs.wandb.com/integrations/jupyter.html\" target=\"_blank\">(Documentation)</a>.<br/>\n",
       "                Project page: <a href=\"https://wandb.ai/skirmer/tensorflow_mg_birds\" target=\"_blank\">https://wandb.ai/skirmer/tensorflow_mg_birds</a><br/>\n",
       "                Run page: <a href=\"https://wandb.ai/skirmer/tensorflow_mg_birds/runs/xs9x0qpp\" target=\"_blank\">https://wandb.ai/skirmer/tensorflow_mg_birds/runs/xs9x0qpp</a><br/>\n",
       "                Run data is saved locally in <code>/home/jovyan/git-repos/tensorflow_ds/wandb/run-20210819_201658-xs9x0qpp</code><br/><br/>\n",
       "            "
      ],
      "text/plain": [
       "<IPython.core.display.HTML object>"
      ]
     },
     "metadata": {},
     "output_type": "display_data"
    },
    {
     "name": "stdout",
     "output_type": "stream",
     "text": [
      "INFO:tensorflow:Using MirroredStrategy with devices ('/job:localhost/replica:0/task:0/device:GPU:0', '/job:localhost/replica:0/task:0/device:GPU:1', '/job:localhost/replica:0/task:0/device:GPU:2', '/job:localhost/replica:0/task:0/device:GPU:3')\n",
      "Number of devices: 4\n",
      "Found 40930 files belonging to 285 classes.\n",
      "Found 1425 files belonging to 285 classes.\n",
      "Epoch 1/30\n",
      "INFO:tensorflow:batch_all_reduce: 214 all-reduces with algorithm = nccl, num_packs = 1\n",
      "INFO:tensorflow:batch_all_reduce: 214 all-reduces with algorithm = nccl, num_packs = 1\n",
      " 1/69 [..............................] - ETA: 2:30:13 - loss: 6.8136 - accuracy: 0.0033"
     ]
    }
   ],
   "source": [
    "tester_plain = train_multigpu(wbargs=wbargs, **model_params)"
   ]
  },
  {
   "cell_type": "code",
   "execution_count": null,
   "id": "29f74b55",
   "metadata": {},
   "outputs": [],
   "source": [
    "#tester_batchscale = train_multigpu(scale_batch = True, wbargs=wbargs, **model_params)"
   ]
  },
  {
   "cell_type": "code",
   "execution_count": null,
   "id": "50f769fc",
   "metadata": {},
   "outputs": [],
   "source": [
    "# tester_lrscale = train_multigpu(scale_lr = True, wbargs=wbargs, **model_params)"
   ]
  },
  {
   "cell_type": "code",
   "execution_count": null,
   "id": "d5e465e4",
   "metadata": {},
   "outputs": [],
   "source": [
    "#tester_both = train_multigpu(scale_lr = True, scale_batch = True, wbargs=wbargs, **model_params)"
   ]
  },
  {
   "cell_type": "code",
   "execution_count": null,
   "id": "83829177",
   "metadata": {},
   "outputs": [],
   "source": []
  }
 ],
 "metadata": {
  "kernelspec": {
   "display_name": "saturn (Python 3)",
   "language": "python",
   "name": "python3"
  },
  "language_info": {
   "codemirror_mode": {
    "name": "ipython",
    "version": 3
   },
   "file_extension": ".py",
   "mimetype": "text/x-python",
   "name": "python",
   "nbconvert_exporter": "python",
   "pygments_lexer": "ipython3",
   "version": "3.9.5"
  }
 },
 "nbformat": 4,
 "nbformat_minor": 5
}
