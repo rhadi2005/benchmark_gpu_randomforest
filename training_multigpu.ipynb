{
 "cells": [
  {
   "cell_type": "markdown",
   "source": [
    "# Train Multi-GPU single machine\n",
    "\n",
    "Run on V100 8x in tests."
   ],
   "metadata": {}
  },
  {
   "cell_type": "code",
   "execution_count": 1,
   "source": [
    "import numpy as np, pandas as pd\n",
    "import requests, io, os, datetime, re, json\n",
    "import tensorflow as tf\n",
    "import keras\n",
    "import matplotlib.pyplot as plt\n",
    "from tensorflow.keras import datasets, layers, models, losses, Model\n",
    "from keras.applications import resnet50\n",
    "from keras.preprocessing import image\n",
    "import dask\n",
    "import time\n",
    "print(tf.__version__)"
   ],
   "outputs": [
    {
     "output_type": "stream",
     "name": "stdout",
     "text": [
      "2.4.1\n"
     ]
    }
   ],
   "metadata": {
    "execution": {
     "iopub.execute_input": "2021-08-20T16:01:57.985858Z",
     "iopub.status.busy": "2021-08-20T16:01:57.985623Z",
     "iopub.status.idle": "2021-08-20T16:02:00.208749Z",
     "shell.execute_reply": "2021-08-20T16:02:00.208064Z",
     "shell.execute_reply.started": "2021-08-20T16:01:57.985798Z"
    }
   }
  },
  {
   "cell_type": "code",
   "execution_count": 2,
   "source": [
    "import wandb\n",
    "from wandb.keras import WandbCallback\n",
    "\n",
    "wandb.login()"
   ],
   "outputs": [
    {
     "output_type": "stream",
     "name": "stderr",
     "text": [
      "\u001b[34m\u001b[1mwandb\u001b[0m: Currently logged in as: \u001b[33mskirmer\u001b[0m (use `wandb login --relogin` to force relogin)\n"
     ]
    },
    {
     "output_type": "execute_result",
     "data": {
      "text/plain": [
       "True"
      ]
     },
     "metadata": {},
     "execution_count": 2
    }
   ],
   "metadata": {
    "execution": {
     "iopub.execute_input": "2021-08-20T16:02:00.785081Z",
     "iopub.status.busy": "2021-08-20T16:02:00.784869Z",
     "iopub.status.idle": "2021-08-20T16:02:01.522891Z",
     "shell.execute_reply": "2021-08-20T16:02:01.522156Z",
     "shell.execute_reply.started": "2021-08-20T16:02:00.785054Z"
    }
   }
  },
  {
   "cell_type": "code",
   "execution_count": 3,
   "source": [
    "gpus = tf.config.list_physical_devices('GPU')\n",
    "if gpus:\n",
    "    try:\n",
    "    # Currently, memory growth needs to be the same across GPUs\n",
    "        for gpu in gpus:\n",
    "            tf.config.experimental.set_memory_growth(gpu, True)\n",
    "        logical_gpus = tf.config.experimental.list_logical_devices('GPU')\n",
    "        print(len(gpus), \"Physical GPUs,\", len(logical_gpus), \"Logical GPUs\")\n",
    "    except RuntimeError as e:\n",
    "    # Memory growth must be set before GPUs have been initialized\n",
    "        print(e)"
   ],
   "outputs": [
    {
     "output_type": "stream",
     "name": "stdout",
     "text": [
      "4 Physical GPUs, 4 Logical GPUs\n"
     ]
    }
   ],
   "metadata": {
    "execution": {
     "iopub.execute_input": "2021-08-20T16:02:02.085339Z",
     "iopub.status.busy": "2021-08-20T16:02:02.085076Z",
     "iopub.status.idle": "2021-08-20T16:02:05.171573Z",
     "shell.execute_reply": "2021-08-20T16:02:05.170867Z",
     "shell.execute_reply.started": "2021-08-20T16:02:02.085309Z"
    }
   }
  },
  {
   "cell_type": "code",
   "execution_count": 4,
   "source": [
    "def train_multigpu(n_epochs, classes, base_lr, batchsize,wbargs, scale_batch = False, scale_lr = False):\n",
    "    \n",
    "    wbargs={**wbargs, \"scale_batch\":scale_batch, \"scale_lr\":scale_lr}\n",
    "\n",
    "    # --------- Start wandb --------- #\n",
    "    wandb.init(entity='skirmer', project='tensorflow_mg_birds',\n",
    "    config=wbargs)\n",
    "\n",
    "    strategy = tf.distribute.MirroredStrategy()\n",
    "    print('Number of devices: %d' % strategy.num_replicas_in_sync)\n",
    "    if scale_batch:\n",
    "        batchsize = batchsize*strategy.num_replicas_in_sync\n",
    "        \n",
    "    if scale_lr:\n",
    "        base_lr = base_lr*strategy.num_replicas_in_sync\n",
    "    \n",
    "    with strategy.scope():\n",
    "        model = tf.keras.applications.ResNet50(\n",
    "            include_top=True,\n",
    "            weights=None,\n",
    "            classes=classes)\n",
    "\n",
    "        optimizer = keras.optimizers.Adam(lr=base_lr)\n",
    "        model.compile(loss='sparse_categorical_crossentropy', optimizer=optimizer, metrics=['accuracy']) #integer labels\n",
    "\n",
    "    # Data\n",
    "    train_ds = tf.keras.preprocessing.image_dataset_from_directory(\n",
    "        '/home/jovyan/git-repos/tensorflow_ds/datasets/birds/285 birds/train',\n",
    "        image_size=(224,224),\n",
    "        batch_size=batchsize\n",
    "    ).prefetch(2).cache().shuffle(1000)\n",
    "        \n",
    "    valid_ds = tf.keras.preprocessing.image_dataset_from_directory(\n",
    "        '/home/jovyan/git-repos/tensorflow_ds/datasets/birds/285 birds/valid',\n",
    "        image_size=(224,224),\n",
    "        batch_size=batchsize\n",
    "    ).prefetch(2)\n",
    "    \n",
    "    start = time.time()\n",
    "\n",
    "    model.fit(\n",
    "        train_ds, \n",
    "        epochs=n_epochs, \n",
    "        validation_data=valid_ds,\n",
    "        callbacks=[WandbCallback()]\n",
    "    )\n",
    "    end = time.time()-start\n",
    "    print(\"model training time\", end)\n",
    "    wandb.log({\"training_time\":end})\n",
    "\n",
    "    # Close your wandb run \n",
    "    wandb.run.finish()\n",
    "    \n",
    "    tf.keras.models.save_model(model, 'model/keras_multi/')"
   ],
   "outputs": [],
   "metadata": {
    "execution": {
     "iopub.execute_input": "2021-08-20T16:02:08.735535Z",
     "iopub.status.busy": "2021-08-20T16:02:08.735274Z",
     "iopub.status.idle": "2021-08-20T16:02:08.743719Z",
     "shell.execute_reply": "2021-08-20T16:02:08.743045Z",
     "shell.execute_reply.started": "2021-08-20T16:02:08.735508Z"
    }
   }
  },
  {
   "cell_type": "code",
   "execution_count": 5,
   "source": [
    "model_params = {'n_epochs': 50, \n",
    "                'base_lr': .02,\n",
    "               'batchsize': 64,\n",
    "                   'classes':285,\n",
    "               'scale_batch': True}\n",
    "\n",
    "wbargs = {**model_params,\n",
    "    'Notes':\"tf_v100_8x\",\n",
    "    'Tags': ['multi', 'gpu', 'tensorflow'],\n",
    "    'dataset':\"Clothing\",\n",
    "    'architecture':\"ResNet50\"}"
   ],
   "outputs": [],
   "metadata": {
    "execution": {
     "iopub.execute_input": "2021-08-20T16:02:10.305999Z",
     "iopub.status.busy": "2021-08-20T16:02:10.305742Z",
     "iopub.status.idle": "2021-08-20T16:02:10.309941Z",
     "shell.execute_reply": "2021-08-20T16:02:10.309288Z",
     "shell.execute_reply.started": "2021-08-20T16:02:10.305972Z"
    }
   }
  },
  {
   "cell_type": "code",
   "execution_count": 6,
   "source": [
    "tester_plain = train_multigpu(wbargs=wbargs, **model_params)"
   ],
   "outputs": [
    {
     "output_type": "display_data",
     "data": {
      "text/plain": [
       "<IPython.core.display.HTML object>"
      ],
      "text/html": [
       "\n",
       "                Tracking run with wandb version 0.12.0<br/>\n",
       "                Syncing run <strong style=\"color:#cdcd00\">soft-brook-19</strong> to <a href=\"https://wandb.ai\" target=\"_blank\">Weights & Biases</a> <a href=\"https://docs.wandb.com/integrations/jupyter.html\" target=\"_blank\">(Documentation)</a>.<br/>\n",
       "                Project page: <a href=\"https://wandb.ai/skirmer/tensorflow_mg_birds\" target=\"_blank\">https://wandb.ai/skirmer/tensorflow_mg_birds</a><br/>\n",
       "                Run page: <a href=\"https://wandb.ai/skirmer/tensorflow_mg_birds/runs/30dkhhyt\" target=\"_blank\">https://wandb.ai/skirmer/tensorflow_mg_birds/runs/30dkhhyt</a><br/>\n",
       "                Run data is saved locally in <code>/home/jovyan/git-repos/tensorflow_ds/wandb/run-20210820_160211-30dkhhyt</code><br/><br/>\n",
       "            "
      ]
     },
     "metadata": {}
    },
    {
     "output_type": "stream",
     "name": "stdout",
     "text": [
      "INFO:tensorflow:Using MirroredStrategy with devices ('/job:localhost/replica:0/task:0/device:GPU:0', '/job:localhost/replica:0/task:0/device:GPU:1', '/job:localhost/replica:0/task:0/device:GPU:2', '/job:localhost/replica:0/task:0/device:GPU:3')\n",
      "Number of devices: 4\n",
      "INFO:tensorflow:Reduce to /job:localhost/replica:0/task:0/device:CPU:0 then broadcast to ('/job:localhost/replica:0/task:0/device:CPU:0',).\n",
      "INFO:tensorflow:Reduce to /job:localhost/replica:0/task:0/device:CPU:0 then broadcast to ('/job:localhost/replica:0/task:0/device:CPU:0',).\n",
      "INFO:tensorflow:Reduce to /job:localhost/replica:0/task:0/device:CPU:0 then broadcast to ('/job:localhost/replica:0/task:0/device:CPU:0',).\n",
      "INFO:tensorflow:Reduce to /job:localhost/replica:0/task:0/device:CPU:0 then broadcast to ('/job:localhost/replica:0/task:0/device:CPU:0',).\n",
      "INFO:tensorflow:Reduce to /job:localhost/replica:0/task:0/device:CPU:0 then broadcast to ('/job:localhost/replica:0/task:0/device:CPU:0',).\n",
      "INFO:tensorflow:Reduce to /job:localhost/replica:0/task:0/device:CPU:0 then broadcast to ('/job:localhost/replica:0/task:0/device:CPU:0',).\n",
      "INFO:tensorflow:Reduce to /job:localhost/replica:0/task:0/device:CPU:0 then broadcast to ('/job:localhost/replica:0/task:0/device:CPU:0',).\n",
      "INFO:tensorflow:Reduce to /job:localhost/replica:0/task:0/device:CPU:0 then broadcast to ('/job:localhost/replica:0/task:0/device:CPU:0',).\n",
      "INFO:tensorflow:Reduce to /job:localhost/replica:0/task:0/device:CPU:0 then broadcast to ('/job:localhost/replica:0/task:0/device:CPU:0',).\n",
      "INFO:tensorflow:Reduce to /job:localhost/replica:0/task:0/device:CPU:0 then broadcast to ('/job:localhost/replica:0/task:0/device:CPU:0',).\n",
      "Found 40930 files belonging to 285 classes.\n",
      "Found 1425 files belonging to 285 classes.\n",
      "Epoch 1/50\n",
      "INFO:tensorflow:batch_all_reduce: 214 all-reduces with algorithm = nccl, num_packs = 1\n",
      "INFO:tensorflow:batch_all_reduce: 214 all-reduces with algorithm = nccl, num_packs = 1\n",
      "160/160 [==============================] - 210s 279ms/step - loss: 9.5333 - accuracy: 0.0067 - val_loss: 106.6558 - val_accuracy: 0.0049\n",
      "Epoch 2/50\n",
      "160/160 [==============================] - 37s 231ms/step - loss: 5.4832 - accuracy: 0.0103 - val_loss: 5.7730 - val_accuracy: 0.0126\n",
      "Epoch 3/50\n",
      "160/160 [==============================] - 36s 228ms/step - loss: 5.0908 - accuracy: 0.0258 - val_loss: 4.8630 - val_accuracy: 0.0428\n",
      "Epoch 4/50\n",
      "160/160 [==============================] - 36s 227ms/step - loss: 4.4850 - accuracy: 0.0748 - val_loss: 5.1334 - val_accuracy: 0.0793\n",
      "Epoch 5/50\n",
      "160/160 [==============================] - 36s 228ms/step - loss: 3.9194 - accuracy: 0.1508 - val_loss: 5.4119 - val_accuracy: 0.1144\n",
      "Epoch 6/50\n",
      "160/160 [==============================] - 37s 228ms/step - loss: 3.2563 - accuracy: 0.2627 - val_loss: 3.7308 - val_accuracy: 0.2372\n",
      "Epoch 7/50\n",
      "160/160 [==============================] - 37s 229ms/step - loss: 2.5950 - accuracy: 0.3938 - val_loss: 4.5799 - val_accuracy: 0.2133\n",
      "Epoch 8/50\n",
      "160/160 [==============================] - 36s 228ms/step - loss: 2.0055 - accuracy: 0.5183 - val_loss: 4.7473 - val_accuracy: 0.2477\n",
      "Epoch 9/50\n",
      "160/160 [==============================] - 37s 229ms/step - loss: 1.5080 - accuracy: 0.6287 - val_loss: 1.6531 - val_accuracy: 0.6028\n",
      "Epoch 10/50\n",
      "160/160 [==============================] - 36s 228ms/step - loss: 1.2186 - accuracy: 0.6965 - val_loss: 1.3615 - val_accuracy: 0.6667\n",
      "Epoch 11/50\n",
      "160/160 [==============================] - 37s 229ms/step - loss: 0.9711 - accuracy: 0.7490 - val_loss: 1.1510 - val_accuracy: 0.7214\n",
      "Epoch 12/50\n",
      "160/160 [==============================] - 37s 228ms/step - loss: 0.7776 - accuracy: 0.7958 - val_loss: 1.1516 - val_accuracy: 0.7067\n",
      "Epoch 13/50\n",
      "160/160 [==============================] - 37s 228ms/step - loss: 0.6120 - accuracy: 0.8349 - val_loss: 0.9799 - val_accuracy: 0.7572\n",
      "Epoch 14/50\n",
      "160/160 [==============================] - 36s 227ms/step - loss: 0.4881 - accuracy: 0.8643 - val_loss: 1.0450 - val_accuracy: 0.7481\n",
      "Epoch 15/50\n",
      "160/160 [==============================] - 36s 227ms/step - loss: 0.3565 - accuracy: 0.8985 - val_loss: 1.3341 - val_accuracy: 0.7221\n",
      "Epoch 16/50\n",
      "160/160 [==============================] - 37s 228ms/step - loss: 0.2769 - accuracy: 0.9198 - val_loss: 1.2563 - val_accuracy: 0.7404\n",
      "Epoch 17/50\n",
      "160/160 [==============================] - 36s 227ms/step - loss: 0.2123 - accuracy: 0.9371 - val_loss: 1.0648 - val_accuracy: 0.7642\n",
      "Epoch 18/50\n",
      "160/160 [==============================] - 36s 228ms/step - loss: 0.1658 - accuracy: 0.9519 - val_loss: 1.2662 - val_accuracy: 0.7200\n",
      "Epoch 19/50\n",
      "160/160 [==============================] - 36s 227ms/step - loss: 0.1388 - accuracy: 0.9566 - val_loss: 1.2086 - val_accuracy: 0.7670\n",
      "Epoch 20/50\n",
      "160/160 [==============================] - 37s 229ms/step - loss: 0.1152 - accuracy: 0.9658 - val_loss: 1.2820 - val_accuracy: 0.7642\n",
      "Epoch 21/50\n",
      "160/160 [==============================] - 36s 228ms/step - loss: 0.1120 - accuracy: 0.9672 - val_loss: 1.1767 - val_accuracy: 0.7768\n",
      "Epoch 22/50\n",
      "160/160 [==============================] - 36s 228ms/step - loss: 0.0899 - accuracy: 0.9731 - val_loss: 0.9761 - val_accuracy: 0.8211\n",
      "Epoch 23/50\n",
      "160/160 [==============================] - 36s 228ms/step - loss: 0.1059 - accuracy: 0.9673 - val_loss: 1.4001 - val_accuracy: 0.7523\n",
      "Epoch 24/50\n",
      "160/160 [==============================] - 36s 228ms/step - loss: 0.0786 - accuracy: 0.9758 - val_loss: 1.2467 - val_accuracy: 0.7951\n",
      "Epoch 25/50\n",
      "160/160 [==============================] - 36s 228ms/step - loss: 0.0804 - accuracy: 0.9760 - val_loss: 1.5723 - val_accuracy: 0.7361\n",
      "Epoch 26/50\n",
      "160/160 [==============================] - 36s 228ms/step - loss: 0.0831 - accuracy: 0.9748 - val_loss: 1.3390 - val_accuracy: 0.7502\n",
      "Epoch 27/50\n",
      "160/160 [==============================] - 36s 227ms/step - loss: 0.0784 - accuracy: 0.9760 - val_loss: 1.8402 - val_accuracy: 0.6961\n",
      "Epoch 28/50\n",
      "160/160 [==============================] - 36s 228ms/step - loss: 0.0779 - accuracy: 0.9762 - val_loss: 1.3352 - val_accuracy: 0.7649\n",
      "Epoch 29/50\n",
      "160/160 [==============================] - 36s 227ms/step - loss: 0.0773 - accuracy: 0.9748 - val_loss: 1.0720 - val_accuracy: 0.7937\n",
      "Epoch 30/50\n",
      "160/160 [==============================] - 36s 228ms/step - loss: 0.0512 - accuracy: 0.9848 - val_loss: 1.2652 - val_accuracy: 0.7839\n",
      "Epoch 31/50\n",
      "160/160 [==============================] - 36s 228ms/step - loss: 0.0660 - accuracy: 0.9790 - val_loss: 1.3959 - val_accuracy: 0.7593\n",
      "Epoch 32/50\n",
      "160/160 [==============================] - 36s 228ms/step - loss: 0.0868 - accuracy: 0.9734 - val_loss: 1.0434 - val_accuracy: 0.8084\n",
      "Epoch 33/50\n",
      "160/160 [==============================] - 36s 227ms/step - loss: 0.0890 - accuracy: 0.9723 - val_loss: 2.7691 - val_accuracy: 0.6737\n",
      "Epoch 34/50\n",
      "160/160 [==============================] - 36s 227ms/step - loss: 0.0660 - accuracy: 0.9795 - val_loss: 1.1320 - val_accuracy: 0.8098\n",
      "Epoch 35/50\n",
      "160/160 [==============================] - 36s 228ms/step - loss: 0.0467 - accuracy: 0.9848 - val_loss: 0.9397 - val_accuracy: 0.8239\n",
      "Epoch 36/50\n",
      "160/160 [==============================] - 36s 227ms/step - loss: 0.0501 - accuracy: 0.9851 - val_loss: 2.4348 - val_accuracy: 0.6316\n",
      "Epoch 37/50\n",
      "160/160 [==============================] - 36s 227ms/step - loss: 0.0583 - accuracy: 0.9820 - val_loss: 1.4877 - val_accuracy: 0.7572\n",
      "Epoch 38/50\n",
      "160/160 [==============================] - 36s 228ms/step - loss: 0.0622 - accuracy: 0.9792 - val_loss: 1.9223 - val_accuracy: 0.7053\n",
      "Epoch 39/50\n",
      "160/160 [==============================] - 36s 228ms/step - loss: 0.0708 - accuracy: 0.9784 - val_loss: 1.2199 - val_accuracy: 0.8014\n",
      "Epoch 40/50\n",
      "160/160 [==============================] - 36s 227ms/step - loss: 0.0641 - accuracy: 0.9811 - val_loss: 1.0241 - val_accuracy: 0.8281\n",
      "Epoch 41/50\n",
      "160/160 [==============================] - 36s 227ms/step - loss: 0.0526 - accuracy: 0.9831 - val_loss: 1.3071 - val_accuracy: 0.7761\n",
      "Epoch 42/50\n",
      "160/160 [==============================] - 36s 228ms/step - loss: 0.0441 - accuracy: 0.9861 - val_loss: 0.9195 - val_accuracy: 0.8421\n",
      "Epoch 43/50\n",
      "160/160 [==============================] - 36s 227ms/step - loss: 0.0334 - accuracy: 0.9903 - val_loss: 1.0673 - val_accuracy: 0.8232\n",
      "Epoch 44/50\n",
      "160/160 [==============================] - 36s 228ms/step - loss: 0.0532 - accuracy: 0.9838 - val_loss: 1.7601 - val_accuracy: 0.7389\n",
      "Epoch 45/50\n",
      "160/160 [==============================] - 37s 233ms/step - loss: 0.0702 - accuracy: 0.9787 - val_loss: 1.0891 - val_accuracy: 0.8232\n",
      "Epoch 46/50\n",
      "160/160 [==============================] - 37s 228ms/step - loss: 0.0419 - accuracy: 0.9871 - val_loss: 1.9307 - val_accuracy: 0.7361\n",
      "Epoch 47/50\n",
      "160/160 [==============================] - 36s 228ms/step - loss: 0.0433 - accuracy: 0.9872 - val_loss: 1.7725 - val_accuracy: 0.7389\n",
      "Epoch 48/50\n",
      "160/160 [==============================] - 36s 228ms/step - loss: 0.0231 - accuracy: 0.9932 - val_loss: 1.1693 - val_accuracy: 0.8049\n",
      "Epoch 49/50\n",
      "160/160 [==============================] - 37s 229ms/step - loss: 0.0478 - accuracy: 0.9850 - val_loss: 1.4887 - val_accuracy: 0.7804\n",
      "Epoch 50/50\n",
      "160/160 [==============================] - 36s 228ms/step - loss: 0.0616 - accuracy: 0.9813 - val_loss: 1.0586 - val_accuracy: 0.8365\n",
      "model training time 2029.6495916843414\n"
     ]
    },
    {
     "output_type": "display_data",
     "data": {
      "text/plain": [
       "<IPython.core.display.HTML object>"
      ],
      "text/html": [
       "<br/>Waiting for W&B process to finish, PID 312<br/>Program ended successfully."
      ]
     },
     "metadata": {}
    },
    {
     "output_type": "display_data",
     "data": {
      "text/plain": [
       "VBox(children=(Label(value=' 277.19MB of 277.19MB uploaded (0.00MB deduped)\\r'), FloatProgress(value=1.0, max=…"
      ],
      "application/vnd.jupyter.widget-view+json": {
       "model_id": "",
       "version_major": 2,
       "version_minor": 0
      }
     },
     "metadata": {}
    },
    {
     "output_type": "display_data",
     "data": {
      "text/plain": [
       "<IPython.core.display.HTML object>"
      ],
      "text/html": [
       "Find user logs for this run at: <code>/home/jovyan/git-repos/tensorflow_ds/wandb/run-20210820_160211-30dkhhyt/logs/debug.log</code>"
      ]
     },
     "metadata": {}
    },
    {
     "output_type": "display_data",
     "data": {
      "text/plain": [
       "<IPython.core.display.HTML object>"
      ],
      "text/html": [
       "Find internal logs for this run at: <code>/home/jovyan/git-repos/tensorflow_ds/wandb/run-20210820_160211-30dkhhyt/logs/debug-internal.log</code>"
      ]
     },
     "metadata": {}
    },
    {
     "output_type": "display_data",
     "data": {
      "text/plain": [
       "<IPython.core.display.HTML object>"
      ],
      "text/html": [
       "<h3>Run summary:</h3><br/><style>\n",
       "    table.wandb td:nth-child(1) { padding: 0 10px; text-align: right }\n",
       "    </style><table class=\"wandb\">\n",
       "<tr><td>epoch</td><td>49</td></tr><tr><td>loss</td><td>0.06291</td></tr><tr><td>accuracy</td><td>0.98021</td></tr><tr><td>val_loss</td><td>1.05858</td></tr><tr><td>val_accuracy</td><td>0.83649</td></tr><tr><td>_runtime</td><td>2038</td></tr><tr><td>_timestamp</td><td>1629477369</td></tr><tr><td>_step</td><td>50</td></tr><tr><td>best_val_loss</td><td>0.9195</td></tr><tr><td>best_epoch</td><td>41</td></tr><tr><td>training_time</td><td>2029.64959</td></tr></table>"
      ]
     },
     "metadata": {}
    },
    {
     "output_type": "display_data",
     "data": {
      "text/plain": [
       "<IPython.core.display.HTML object>"
      ],
      "text/html": [
       "<h3>Run history:</h3><br/><style>\n",
       "    table.wandb td:nth-child(1) { padding: 0 10px; text-align: right }\n",
       "    </style><table class=\"wandb\">\n",
       "<tr><td>epoch</td><td>▁▁▁▁▂▂▂▂▂▃▃▃▃▃▃▄▄▄▄▄▅▅▅▅▅▅▆▆▆▆▆▆▇▇▇▇▇███</td></tr><tr><td>loss</td><td>█▇▆▅▄▄▃▃▂▂▂▂▁▁▁▁▁▁▁▁▁▁▁▁▁▁▁▁▁▁▁▁▁▁▁▁▁▁▁▁</td></tr><tr><td>accuracy</td><td>▁▁▁▂▃▄▅▅▆▇▇▇▇███████████████████████████</td></tr><tr><td>val_loss</td><td>█▁▁▁▁▁▁▁▁▁▁▁▁▁▁▁▁▁▁▁▁▁▁▁▁▁▁▁▁▁▁▁▁▁▁▁▁▁▁▁</td></tr><tr><td>val_accuracy</td><td>▁▁▁▂▃▃▃▆▇▇▇▇▇▇▇▇▇█▇█▇▇▇█▇█▇█▆▇▇█▇██▇▇▇██</td></tr><tr><td>_runtime</td><td>▁▁▁▁▂▂▂▂▂▃▃▃▃▃▃▄▄▄▄▄▅▅▅▅▅▆▆▆▆▆▆▇▇▇▇▇████</td></tr><tr><td>_timestamp</td><td>▁▁▁▁▂▂▂▂▂▃▃▃▃▃▃▄▄▄▄▄▅▅▅▅▅▆▆▆▆▆▆▇▇▇▇▇████</td></tr><tr><td>_step</td><td>▁▁▁▁▂▂▂▂▂▃▃▃▃▃▃▄▄▄▄▄▅▅▅▅▅▅▆▆▆▆▆▆▇▇▇▇▇███</td></tr><tr><td>training_time</td><td>▁</td></tr></table><br/>"
      ]
     },
     "metadata": {}
    },
    {
     "output_type": "display_data",
     "data": {
      "text/plain": [
       "<IPython.core.display.HTML object>"
      ],
      "text/html": [
       "Synced 5 W&B file(s), 1 media file(s), 0 artifact file(s) and 1 other file(s)"
      ]
     },
     "metadata": {}
    },
    {
     "output_type": "display_data",
     "data": {
      "text/plain": [
       "<IPython.core.display.HTML object>"
      ],
      "text/html": [
       "\n",
       "                    <br/>Synced <strong style=\"color:#cdcd00\">soft-brook-19</strong>: <a href=\"https://wandb.ai/skirmer/tensorflow_mg_birds/runs/30dkhhyt\" target=\"_blank\">https://wandb.ai/skirmer/tensorflow_mg_birds/runs/30dkhhyt</a><br/>\n",
       "                "
      ]
     },
     "metadata": {}
    },
    {
     "output_type": "stream",
     "name": "stdout",
     "text": [
      "INFO:tensorflow:Assets written to: model/keras_multi/assets\n"
     ]
    }
   ],
   "metadata": {
    "execution": {
     "iopub.execute_input": "2021-08-20T16:02:11.935223Z",
     "iopub.status.busy": "2021-08-20T16:02:11.934964Z",
     "iopub.status.idle": "2021-08-20T16:36:41.279420Z",
     "shell.execute_reply": "2021-08-20T16:36:41.278594Z",
     "shell.execute_reply.started": "2021-08-20T16:02:11.935196Z"
    }
   }
  },
  {
   "cell_type": "code",
   "execution_count": null,
   "source": [],
   "outputs": [],
   "metadata": {}
  }
 ],
 "metadata": {
  "kernelspec": {
   "display_name": "saturn (Python 3)",
   "language": "python",
   "name": "python3"
  },
  "language_info": {
   "codemirror_mode": {
    "name": "ipython",
    "version": 3
   },
   "file_extension": ".py",
   "mimetype": "text/x-python",
   "name": "python",
   "nbconvert_exporter": "python",
   "pygments_lexer": "ipython3",
   "version": "3.9.5"
  }
 },
 "nbformat": 4,
 "nbformat_minor": 5
}