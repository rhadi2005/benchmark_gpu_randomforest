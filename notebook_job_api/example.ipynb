{
 "cells": [
  {
   "cell_type": "markdown",
   "source": [
    "# Example Job Run\n",
    "\n",
    "This is a notebook we want to run when an API request is made."
   ],
   "metadata": {}
  },
  {
   "cell_type": "code",
   "execution_count": null,
   "source": [
    "import logging\n",
    "\n",
    "logging.getLogger().setLevel(logging.INFO)\n",
    "logging.info('Job is successfully running!')"
   ],
   "outputs": [],
   "metadata": {}
  }
 ],
 "metadata": {
  "orig_nbformat": 4,
  "language_info": {
   "name": "python"
  }
 },
 "nbformat": 4,
 "nbformat_minor": 2
}