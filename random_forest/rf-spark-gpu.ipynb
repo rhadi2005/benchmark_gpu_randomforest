{
 "cells": [
  {
   "cell_type": "markdown",
   "metadata": {
    "jp-MarkdownHeadingCollapsed": true,
    "tags": []
   },
   "source": [
    "# Random Forest\n",
    "\n",
    "## Spark\n",
    "\n",
    "<img src=\"https://upload.wikimedia.org/wikipedia/commons/thumb/f/f3/Apache_Spark_logo.svg/1280px-Apache_Spark_logo.svg.png\" width=\"400\">\n",
    "\n",
    "**Hardware**: 20 nodes, r5.2xlarge (8 CPU, 64 GB RAM)"
   ]
  },
  {
   "cell_type": "markdown",
   "metadata": {},
   "source": [
    "# Load data"
   ]
  },
  {
   "cell_type": "raw",
   "metadata": {},
   "source": [
    "#https://datascience.stackexchange.com/questions/8549/how-do-i-set-get-heap-size-for-spark-via-python-notebook\n",
    "#I solved it by creating a spark-defaults.conf file in apache-spark/1.5.1/libexec/conf/ and adding the following \n",
    "#line to it: spark.driver.memory 14g\n",
    "#That solved my issue. But then I ran into another issue of exceeding max result size of 1024MB. The solution was \n",
    "#to add another line in the file above: spark.driver.maxResultSize 2g\n",
    "\n",
    "#================================\n",
    "MAX_MEMORY = \"5g\"\n",
    "\n",
    "spark = SparkSession \\\n",
    "    .builder \\\n",
    "    .appName(\"Foo\") \\\n",
    "    .config(\"spark.executor.memory\", MAX_MEMORY) \\\n",
    "    .config(\"spark.driver.memory\", MAX_MEMORY) \\\n",
    "    .getOrCreate()\n",
    "\n",
    "#===============================\n",
    "\n",
    "conf = SparkConf().setAppName(\"App\")\n",
    "conf = (conf.setMaster('local[*]')\n",
    "        .set('spark.executor.memory', '16G')\n",
    "        .set('spark.driver.memory', '16G')\n",
    "        .set('spark.driver.maxResultSize', '16G'))\n",
    "sc = SparkContext(conf=conf)\n",
    "sc._conf.get('spark.driver.memory')\n",
    "\n",
    "#If your workload is the same for all analysis, then editing spark-defaults.conf as cited above is the way to go.\n"
   ]
  },
  {
   "cell_type": "code",
   "execution_count": 4,
   "metadata": {},
   "outputs": [],
   "source": [
    "spark.stop()"
   ]
  },
  {
   "cell_type": "code",
   "execution_count": 1,
   "metadata": {},
   "outputs": [
    {
     "name": "stderr",
     "output_type": "stream",
     "text": [
      "Setting default log level to \"WARN\".\n",
      "To adjust logging level use sc.setLogLevel(newLevel). For SparkR, use setLogLevel(newLevel).\n"
     ]
    },
    {
     "name": "stdout",
     "output_type": "stream",
     "text": [
      "22/12/30 14:29:19 WARN NativeCodeLoader: Unable to load native-hadoop library for your platform... using builtin-java classes where applicable\n",
      "22/12/30 14:29:20 WARN RapidsPluginUtils: RAPIDS Accelerator 22.06.0 using cudf 22.06.0.\n",
      "22/12/30 14:29:20 WARN RapidsPluginUtils: RAPIDS Accelerator is enabled, to disable GPU support set `spark.rapids.sql.enabled` to false.\n"
     ]
    },
    {
     "data": {
      "text/html": [
       "\n",
       "            <div>\n",
       "                <p><b>SparkSession - in-memory</b></p>\n",
       "                \n",
       "        <div>\n",
       "            <p><b>SparkContext</b></p>\n",
       "\n",
       "            <p><a href=\"http://spark-master:4040\">Spark UI</a></p>\n",
       "\n",
       "            <dl>\n",
       "              <dt>Version</dt>\n",
       "                <dd><code>v3.3.0</code></dd>\n",
       "              <dt>Master</dt>\n",
       "                <dd><code>spark://master:7077</code></dd>\n",
       "              <dt>AppName</dt>\n",
       "                <dd><code>pyspark-rf-benchmark-gpu</code></dd>\n",
       "            </dl>\n",
       "        </div>\n",
       "        \n",
       "            </div>\n",
       "        "
      ],
      "text/plain": [
       "<pyspark.sql.session.SparkSession at 0x7f2c966ea400>"
      ]
     },
     "execution_count": 1,
     "metadata": {},
     "output_type": "execute_result"
    }
   ],
   "source": [
    "import findspark\n",
    "findspark.init()\n",
    "\n",
    "from pyspark.sql import SparkSession\n",
    "\n",
    "spark = (SparkSession\n",
    "         .builder\n",
    "         .appName(\"pyspark-rf-benchmark-gpu\")\n",
    "#         .master(\"local[1]\")\n",
    "#         .master(\"spark://ecs-python2:7077\")\n",
    "#         .master(\"spark://172.17.0.2:7077\")\n",
    "         .master(\"spark://master:7077\")\n",
    "         .config(\"spark.driver.extraClassPath\",\"/tmp/lib/cudf-22.06.0-cuda11.jar:/tmp/lib/rapids-4-spark_2.12-22.06.0.jar:/tmp/lib/rapids-4-spark-ml_2.12-22.08.0-SNAPSHOT.jar\") \n",
    "         .config(\"spark.executor.extraClassPath\",\"/tmp/lib/cudf-22.06.0-cuda11.jar:/tmp/lib/rapids-4-spark_2.12-22.06.0.jar:/tmp/lib/rapids-4-spark-ml_2.12-22.08.0-SNAPSHOT.jar\")         \n",
    "         .config('spark.plugins','com.nvidia.spark.SQLPlugin')\n",
    "         .config('spark.executor.memory', '16G')\n",
    "         .config('spark.driver.memory', '16G')\n",
    "         .config('spark.driver.maxResultSize', '16G')\n",
    "         .getOrCreate())\n",
    "\n",
    "#spark.conf.set('spark.rapids.sql.enabled','true')\n",
    "\n",
    "#print(spark.conf.get('spark.driver.extraClassPath'))\n",
    "#print(spark.conf.get('spark.executor.extraClassPath'))\n",
    "#print(spark.conf.get('spark.rapids.sql.enabled'))\n",
    "\n",
    "#sc = spark.sparkContext\n",
    "spark"
   ]
  },
  {
   "cell_type": "code",
   "execution_count": 2,
   "metadata": {},
   "outputs": [],
   "source": [
    "#import s3fs\n",
    "import functools\n",
    "from pyspark.sql.types import *\n",
    "import pyspark.sql.functions as F\n",
    "from pyspark.sql import DataFrame"
   ]
  },
  {
   "cell_type": "code",
   "execution_count": 3,
   "metadata": {},
   "outputs": [],
   "source": [
    "# manually specify schema because inferSchema in read.csv is quite slow\n",
    "schema = StructType([\n",
    "    StructField('VendorID', DoubleType()),\n",
    "    StructField('tpep_pickup_datetime', TimestampType()),\n",
    "    StructField('tpep_dropoff_datetime', TimestampType()),\n",
    "    StructField('passenger_count', DoubleType()),\n",
    "    StructField('trip_distance', DoubleType()),\n",
    "    StructField('RateCodeID', DoubleType()),\n",
    "    StructField('store_and_fwd_flag', StringType()),\n",
    "    #StructField('PULocationID', DoubleType()),\n",
    "    #StructField('DOLocationID', DoubleType()),\n",
    "    StructField('pickup_longitude', DoubleType()),\n",
    "    StructField('pickup_latitude', DoubleType()), \n",
    "    StructField('dropoff_longitude', DoubleType()), \n",
    "    StructField('dropoff_latitude', DoubleType()),\n",
    "    StructField('payment_type', DoubleType()),\n",
    "    StructField('fare_amount', DoubleType()),\n",
    "    StructField('extra', DoubleType()),\n",
    "    StructField('mta_tax', DoubleType()),\n",
    "    StructField('tip_amount', DoubleType()),\n",
    "    StructField('tolls_amount', DoubleType()),\n",
    "    StructField('improvement_surcharge', DoubleType()),\n",
    "    StructField('total_amount', DoubleType()),\n",
    "    StructField('congestion_surcharge', DoubleType()),\n",
    "])"
   ]
  },
  {
   "cell_type": "code",
   "execution_count": 4,
   "metadata": {},
   "outputs": [
    {
     "name": "stderr",
     "output_type": "stream",
     "text": [
      "                                                                                \r"
     ]
    },
    {
     "name": "stdout",
     "output_type": "stream",
     "text": [
      "22/12/30 14:31:40 ERROR TaskSchedulerImpl: Lost executor 1 on 10.200.0.12: Remote RPC client disassociated. Likely due to containers exceeding thresholds, or network issues. Check driver logs for WARN messages.\n",
      "22/12/30 14:32:28 ERROR TaskSchedulerImpl: Lost executor 3 on 10.200.0.12: Remote RPC client disassociated. Likely due to containers exceeding thresholds, or network issues. Check driver logs for WARN messages.\n",
      "22/12/30 14:33:16 ERROR TaskSchedulerImpl: Lost executor 4 on 10.200.0.12: Remote RPC client disassociated. Likely due to containers exceeding thresholds, or network issues. Check driver logs for WARN messages.\n",
      "22/12/30 14:34:04 ERROR TaskSchedulerImpl: Lost executor 5 on 10.200.0.12: Remote RPC client disassociated. Likely due to containers exceeding thresholds, or network issues. Check driver logs for WARN messages.\n"
     ]
    }
   ],
   "source": [
    "#path = \"/rapids/notebooks/host/dataset/nyc-taxi/yellow_tripdata_2015.parquet\"\n",
    "path = \"/home/cloud/dataset/nyc-taxi/yellow_tripdata_2015.parquet\"\n",
    "df = spark.read.parquet(path)"
   ]
  },
  {
   "cell_type": "raw",
   "metadata": {},
   "source": [
    "fs = s3fs.S3FileSystem(anon=True)\n",
    "files = [f\"s3://{x}\" for x in fs.ls('s3://nyc-tlc/trip data/')\n",
    "         if 'yellow' in x and ('2019' in x or '2018' in x or '2017' in x)]\n",
    "cols = ['VendorID', 'tpep_pickup_datetime', 'tpep_dropoff_datetime', 'passenger_count', 'trip_distance',\n",
    "        'RatecodeID', 'store_and_fwd_flag', 'PULocationID', 'DOLocationID', 'payment_type', 'fare_amount',\n",
    "        'extra', 'mta_tax', 'tip_amount', 'tolls_amount', 'improvement_surcharge', 'total_amount']\n",
    "\n",
    "def read_csv(path):\n",
    "    df = spark.read.csv(path,\n",
    "                        header=True,\n",
    "                        schema=schema,\n",
    "                        timestampFormat='yyyy-MM-dd HH:mm:ss',\n",
    "                       )\n",
    "\n",
    "    df = df.select(cols)\n",
    "\n",
    "    return df\n",
    "\n",
    "dfs = []\n",
    "for tf in files:\n",
    "    df = read_csv(tf)\n",
    "    dfs.append(df)\n",
    "taxi = functools.reduce(DataFrame.unionAll, dfs)"
   ]
  },
  {
   "cell_type": "code",
   "execution_count": 6,
   "metadata": {},
   "outputs": [
    {
     "name": "stderr",
     "output_type": "stream",
     "text": [
      "[Stage 1:========================================================(72 + -7) / 65]\r"
     ]
    },
    {
     "name": "stdout",
     "output_type": "stream",
     "text": [
      " 146112989\n",
      "CPU times: user 4.89 ms, sys: 115 µs, total: 5 ms\n",
      "Wall time: 2.91 s\n"
     ]
    },
    {
     "name": "stderr",
     "output_type": "stream",
     "text": [
      "                                                                                \r"
     ]
    }
   ],
   "source": [
    "%%time\n",
    "taxi=df\n",
    "print(f\"{taxi.count(): }\")\n"
   ]
  },
  {
   "cell_type": "markdown",
   "metadata": {},
   "source": [
    "# Feature engineering"
   ]
  },
  {
   "cell_type": "code",
   "execution_count": 7,
   "metadata": {},
   "outputs": [],
   "source": [
    "taxi = taxi.withColumn('pickup_weekday', F.dayofweek(taxi.tpep_pickup_datetime).cast(DoubleType()))\n",
    "taxi = taxi.withColumn('pickup_hour', F.hour(taxi.tpep_pickup_datetime).cast(DoubleType()))\n",
    "taxi = taxi.withColumn('pickup_minute', F.minute(taxi.tpep_pickup_datetime).cast(DoubleType()))\n",
    "taxi = taxi.withColumn('pickup_week_hour', ((taxi.pickup_weekday * 24) + taxi.pickup_hour).cast(DoubleType()))\n",
    "taxi = taxi.withColumn('store_and_fwd_flag', F.when(taxi.store_and_fwd_flag == 'Y', 1).otherwise(0))\n",
    "# Spark ML expects \"label\" column for dependent variable\n",
    "taxi = taxi.withColumn('label', taxi.total_amount)  \n",
    "taxi = taxi.fillna(-1)"
   ]
  },
  {
   "cell_type": "code",
   "execution_count": 8,
   "metadata": {},
   "outputs": [],
   "source": [
    "from pyspark.ml.feature import VectorAssembler\n",
    "from pyspark.ml.pipeline import Pipeline\n",
    "\n",
    "features = ['pickup_weekday', 'pickup_hour', 'pickup_minute',\n",
    "            'pickup_week_hour', 'passenger_count', 'VendorID', \n",
    "            'RateCodeID', 'store_and_fwd_flag', 'pickup_longitude', 'pickup_latitude', \n",
    "            'dropoff_longitude', 'dropoff_latitude']\n",
    "\n",
    "assembler = VectorAssembler(\n",
    "    inputCols=features,\n",
    "    outputCol='features',\n",
    ")\n",
    "\n",
    "pipeline = Pipeline(stages=[assembler])"
   ]
  },
  {
   "cell_type": "code",
   "execution_count": 9,
   "metadata": {},
   "outputs": [
    {
     "name": "stderr",
     "output_type": "stream",
     "text": [
      "[Stage 1:========================================================(72 + -7) / 65]\r"
     ]
    },
    {
     "name": "stdout",
     "output_type": "stream",
     "text": [
      "22/12/30 14:36:30 WARN package: Truncated the string representation of a plan since it was too large. This behavior can be adjusted by setting 'spark.sql.debug.maxToStringFields'.\n"
     ]
    },
    {
     "name": "stderr",
     "output_type": "stream",
     "text": [
      "[Stage 1:================(72 + -7) / 65][Stage 7:>                (0 + 32) / 65]\r"
     ]
    },
    {
     "name": "stdout",
     "output_type": "stream",
     "text": [
      "22/12/30 14:36:34 ERROR TaskSchedulerImpl: Lost executor 12 on 10.200.0.12: Remote RPC client disassociated. Likely due to containers exceeding thresholds, or network issues. Check driver logs for WARN messages.\n",
      "22/12/30 14:37:15 ERROR TaskSchedulerImpl: Lost executor 13 on 10.200.0.14: Remote RPC client disassociated. Likely due to containers exceeding thresholds, or network issues. Check driver logs for WARN messages.\n"
     ]
    },
    {
     "name": "stderr",
     "output_type": "stream",
     "text": [
      "[Stage 1:================(72 + -7) / 65][Stage 7:=>               (7 + 32) / 65]\r"
     ]
    },
    {
     "name": "stdout",
     "output_type": "stream",
     "text": [
      "22/12/30 14:37:28 ERROR TaskSchedulerImpl: Lost executor 14 on 10.200.0.12: Remote RPC client disassociated. Likely due to containers exceeding thresholds, or network issues. Check driver logs for WARN messages.\n"
     ]
    },
    {
     "name": "stderr",
     "output_type": "stream",
     "text": [
      "[Stage 1:================(72 + -7) / 65][Stage 7:========>       (36 + 29) / 65]\r"
     ]
    },
    {
     "name": "stdout",
     "output_type": "stream",
     "text": [
      "22/12/30 14:38:48 ERROR TaskSchedulerImpl: Lost executor 16 on 10.200.0.12: Remote RPC client disassociated. Likely due to containers exceeding thresholds, or network issues. Check driver logs for WARN messages.\n",
      "22/12/30 14:38:48 ERROR TaskSchedulerImpl: Lost executor 15 on 10.200.0.14: Remote RPC client disassociated. Likely due to containers exceeding thresholds, or network issues. Check driver logs for WARN messages.\n"
     ]
    },
    {
     "name": "stderr",
     "output_type": "stream",
     "text": [
      "[Stage 1:================(72 + -7) / 65][Stage 7:================>(64 + 1) / 65]\r"
     ]
    },
    {
     "name": "stdout",
     "output_type": "stream",
     "text": [
      "CPU times: user 81.9 ms, sys: 30.7 ms, total: 113 ms\n",
      "Wall time: 3min 28s\n"
     ]
    },
    {
     "name": "stderr",
     "output_type": "stream",
     "text": [
      "                                                                                \r"
     ]
    },
    {
     "data": {
      "text/plain": [
       "146112989"
      ]
     },
     "execution_count": 9,
     "metadata": {},
     "output_type": "execute_result"
    }
   ],
   "source": [
    "%%time\n",
    "assembler_fitted = pipeline.fit(taxi)\n",
    "X = assembler_fitted.transform(taxi)\n",
    "\n",
    "X.cache()\n",
    "X.count()"
   ]
  },
  {
   "cell_type": "markdown",
   "metadata": {},
   "source": [
    "# Train random forest!"
   ]
  },
  {
   "cell_type": "code",
   "execution_count": 10,
   "metadata": {},
   "outputs": [],
   "source": [
    "from pyspark.ml.regression import RandomForestRegressor\n",
    "rf = RandomForestRegressor(numTrees=100, maxDepth=10, seed=42)"
   ]
  },
  {
   "cell_type": "code",
   "execution_count": null,
   "metadata": {},
   "outputs": [
    {
     "name": "stderr",
     "output_type": "stream",
     "text": [
      "[Stage 1:================(72 + -7) / 65][Stage 14:>               (0 + 32) / 65]\r"
     ]
    },
    {
     "name": "stdout",
     "output_type": "stream",
     "text": [
      "22/12/30 14:41:07 ERROR TaskSchedulerImpl: Lost executor 18 on 10.200.0.14: Remote RPC client disassociated. Likely due to containers exceeding thresholds, or network issues. Check driver logs for WARN messages.\n",
      "22/12/30 14:41:07 ERROR TaskSchedulerImpl: Lost executor 17 on 10.200.0.12: Remote RPC client disassociated. Likely due to containers exceeding thresholds, or network issues. Check driver logs for WARN messages.\n"
     ]
    },
    {
     "name": "stderr",
     "output_type": "stream",
     "text": [
      "[Stage 1:================(72 + -7) / 65][Stage 14:>               (0 + 32) / 65]\r"
     ]
    }
   ],
   "source": [
    "%%time\n",
    "fitted = rf.fit(X)"
   ]
  },
  {
   "cell_type": "code",
   "execution_count": null,
   "metadata": {},
   "outputs": [],
   "source": []
  },
  {
   "cell_type": "code",
   "execution_count": null,
   "metadata": {},
   "outputs": [],
   "source": [
    "sparc.close()"
   ]
  },
  {
   "cell_type": "code",
   "execution_count": null,
   "metadata": {},
   "outputs": [],
   "source": []
  }
 ],
 "metadata": {
  "kernelspec": {
   "display_name": "Python 3 (ipykernel)",
   "language": "python",
   "name": "python3"
  },
  "language_info": {
   "codemirror_mode": {
    "name": "ipython",
    "version": 3
   },
   "file_extension": ".py",
   "mimetype": "text/x-python",
   "name": "python",
   "nbconvert_exporter": "python",
   "pygments_lexer": "ipython3",
   "version": "3.8.13"
  }
 },
 "nbformat": 4,
 "nbformat_minor": 4
}
