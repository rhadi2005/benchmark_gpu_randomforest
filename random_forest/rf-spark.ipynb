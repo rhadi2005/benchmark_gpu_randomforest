{
 "cells": [
  {
   "cell_type": "markdown",
   "metadata": {
    "jp-MarkdownHeadingCollapsed": true,
    "tags": []
   },
   "source": [
    "# Random Forest\n",
    "\n",
    "## Spark\n",
    "\n",
    "<img src=\"https://upload.wikimedia.org/wikipedia/commons/thumb/f/f3/Apache_Spark_logo.svg/1280px-Apache_Spark_logo.svg.png\" width=\"400\">\n",
    "\n",
    "**Hardware**: 20 nodes, r5.2xlarge (8 CPU, 64 GB RAM)"
   ]
  },
  {
   "cell_type": "markdown",
   "metadata": {},
   "source": [
    "# Load data"
   ]
  },
  {
   "cell_type": "raw",
   "metadata": {},
   "source": [
    "#https://datascience.stackexchange.com/questions/8549/how-do-i-set-get-heap-size-for-spark-via-python-notebook\n",
    "#I solved it by creating a spark-defaults.conf file in apache-spark/1.5.1/libexec/conf/ and adding the following \n",
    "#line to it: spark.driver.memory 14g\n",
    "#That solved my issue. But then I ran into another issue of exceeding max result size of 1024MB. The solution was \n",
    "#to add another line in the file above: spark.driver.maxResultSize 2g\n",
    "\n",
    "#================================\n",
    "MAX_MEMORY = \"5g\"\n",
    "\n",
    "spark = SparkSession \\\n",
    "    .builder \\\n",
    "    .appName(\"Foo\") \\\n",
    "    .config(\"spark.executor.memory\", MAX_MEMORY) \\\n",
    "    .config(\"spark.driver.memory\", MAX_MEMORY) \\\n",
    "    .getOrCreate()\n",
    "\n",
    "#===============================\n",
    "\n",
    "conf = SparkConf().setAppName(\"App\")\n",
    "conf = (conf.setMaster('local[*]')\n",
    "        .set('spark.executor.memory', '4G')\n",
    "        .set('spark.driver.memory', '45G')\n",
    "        .set('spark.driver.maxResultSize', '10G'))\n",
    "sc = SparkContext(conf=conf)\n",
    "sc._conf.get('spark.driver.memory')\n",
    "\n",
    "#If your workload is the same for all analysis, then editing spark-defaults.conf as cited above is the way to go.\n"
   ]
  },
  {
   "cell_type": "code",
   "execution_count": 1,
   "metadata": {},
   "outputs": [
    {
     "name": "stderr",
     "output_type": "stream",
     "text": [
      "22/12/29 00:55:41 WARN NativeCodeLoader: Unable to load native-hadoop library for your platform... using builtin-java classes where applicable\n",
      "Using Spark's default log4j profile: org/apache/spark/log4j-defaults.properties\n",
      "Setting default log level to \"WARN\".\n",
      "To adjust logging level use sc.setLogLevel(newLevel). For SparkR, use setLogLevel(newLevel).\n"
     ]
    },
    {
     "data": {
      "text/html": [
       "\n",
       "            <div>\n",
       "                <p><b>SparkSession - in-memory</b></p>\n",
       "                \n",
       "        <div>\n",
       "            <p><b>SparkContext</b></p>\n",
       "\n",
       "            <p><a href=\"http://ecs-python2:4040\">Spark UI</a></p>\n",
       "\n",
       "            <dl>\n",
       "              <dt>Version</dt>\n",
       "                <dd><code>v3.1.2</code></dd>\n",
       "              <dt>Master</dt>\n",
       "                <dd><code>spark://10.50.0.194:7077</code></dd>\n",
       "              <dt>AppName</dt>\n",
       "                <dd><code>pyspark-rf-benchmark</code></dd>\n",
       "            </dl>\n",
       "        </div>\n",
       "        \n",
       "            </div>\n",
       "        "
      ],
      "text/plain": [
       "<pyspark.sql.session.SparkSession at 0x7f36b4766eb0>"
      ]
     },
     "execution_count": 1,
     "metadata": {},
     "output_type": "execute_result"
    }
   ],
   "source": [
    "import findspark\n",
    "findspark.init()\n",
    "\n",
    "from pyspark.sql import SparkSession\n",
    "\n",
    "spark = (SparkSession\n",
    "         .builder\n",
    "         .appName(\"pyspark-rf-benchmark\")\n",
    "         .master(\"spark://ecs-python2:7077\")\n",
    "         .master(\"spark://10.50.0.194:7077\")\n",
    "         .config('spark.executor.memory', '16G')\n",
    "         .config('spark.driver.memory', '16G')\n",
    "         .config('spark.driver.maxResultSize', '16G')\n",
    "         .getOrCreate())\n",
    "\n",
    "spark"
   ]
  },
  {
   "cell_type": "code",
   "execution_count": 2,
   "metadata": {},
   "outputs": [],
   "source": [
    "#import s3fs\n",
    "import functools\n",
    "from pyspark.sql.types import *\n",
    "import pyspark.sql.functions as F\n",
    "from pyspark.sql import DataFrame"
   ]
  },
  {
   "cell_type": "code",
   "execution_count": 3,
   "metadata": {},
   "outputs": [],
   "source": [
    "# manually specify schema because inferSchema in read.csv is quite slow\n",
    "schema = StructType([\n",
    "    StructField('VendorID', DoubleType()),\n",
    "    StructField('tpep_pickup_datetime', TimestampType()),\n",
    "    StructField('tpep_dropoff_datetime', TimestampType()),\n",
    "    StructField('passenger_count', DoubleType()),\n",
    "    StructField('trip_distance', DoubleType()),\n",
    "    StructField('RateCodeID', DoubleType()),\n",
    "    StructField('store_and_fwd_flag', StringType()),\n",
    "    #StructField('PULocationID', DoubleType()),\n",
    "    #StructField('DOLocationID', DoubleType()),\n",
    "    StructField('pickup_longitude', DoubleType()),\n",
    "    StructField('pickup_latitude', DoubleType()), \n",
    "    StructField('dropoff_longitude', DoubleType()), \n",
    "    StructField('dropoff_latitude', DoubleType()),\n",
    "    StructField('payment_type', DoubleType()),\n",
    "    StructField('fare_amount', DoubleType()),\n",
    "    StructField('extra', DoubleType()),\n",
    "    StructField('mta_tax', DoubleType()),\n",
    "    StructField('tip_amount', DoubleType()),\n",
    "    StructField('tolls_amount', DoubleType()),\n",
    "    StructField('improvement_surcharge', DoubleType()),\n",
    "    StructField('total_amount', DoubleType()),\n",
    "    StructField('congestion_surcharge', DoubleType()),\n",
    "])"
   ]
  },
  {
   "cell_type": "code",
   "execution_count": 4,
   "metadata": {},
   "outputs": [
    {
     "name": "stderr",
     "output_type": "stream",
     "text": [
      "                                                                                \r"
     ]
    }
   ],
   "source": [
    "#path = \"/rapids/notebooks/host/dataset/nyc-taxi/yellow_tripdata_2015.parquet\"\n",
    "path = \"/home/cloud/dataset/nyc-taxi/yellow_tripdata_2015.parquet\"\n",
    "df = spark.read.parquet(path)"
   ]
  },
  {
   "cell_type": "raw",
   "metadata": {},
   "source": [
    "fs = s3fs.S3FileSystem(anon=True)\n",
    "files = [f\"s3://{x}\" for x in fs.ls('s3://nyc-tlc/trip data/')\n",
    "         if 'yellow' in x and ('2019' in x or '2018' in x or '2017' in x)]\n",
    "cols = ['VendorID', 'tpep_pickup_datetime', 'tpep_dropoff_datetime', 'passenger_count', 'trip_distance',\n",
    "        'RatecodeID', 'store_and_fwd_flag', 'PULocationID', 'DOLocationID', 'payment_type', 'fare_amount',\n",
    "        'extra', 'mta_tax', 'tip_amount', 'tolls_amount', 'improvement_surcharge', 'total_amount']\n",
    "\n",
    "def read_csv(path):\n",
    "    df = spark.read.csv(path,\n",
    "                        header=True,\n",
    "                        schema=schema,\n",
    "                        timestampFormat='yyyy-MM-dd HH:mm:ss',\n",
    "                       )\n",
    "\n",
    "    df = df.select(cols)\n",
    "\n",
    "    return df\n",
    "\n",
    "dfs = []\n",
    "for tf in files:\n",
    "    df = read_csv(tf)\n",
    "    dfs.append(df)\n",
    "taxi = functools.reduce(DataFrame.unionAll, dfs)"
   ]
  },
  {
   "cell_type": "code",
   "execution_count": 5,
   "metadata": {},
   "outputs": [
    {
     "name": "stderr",
     "output_type": "stream",
     "text": [
      "[Stage 1:=================================================>       (42 + 6) / 48]\r"
     ]
    },
    {
     "name": "stdout",
     "output_type": "stream",
     "text": [
      " 146112989\n",
      "CPU times: user 5.14 ms, sys: 900 µs, total: 6.04 ms\n",
      "Wall time: 4.43 s\n"
     ]
    },
    {
     "name": "stderr",
     "output_type": "stream",
     "text": [
      "                                                                                \r"
     ]
    }
   ],
   "source": [
    "%%time\n",
    "taxi=df\n",
    "print(f\"{taxi.count(): }\")\n"
   ]
  },
  {
   "cell_type": "markdown",
   "metadata": {},
   "source": [
    "# Feature engineering"
   ]
  },
  {
   "cell_type": "code",
   "execution_count": 6,
   "metadata": {},
   "outputs": [],
   "source": [
    "taxi = taxi.withColumn('pickup_weekday', F.dayofweek(taxi.tpep_pickup_datetime).cast(DoubleType()))\n",
    "taxi = taxi.withColumn('pickup_hour', F.hour(taxi.tpep_pickup_datetime).cast(DoubleType()))\n",
    "taxi = taxi.withColumn('pickup_minute', F.minute(taxi.tpep_pickup_datetime).cast(DoubleType()))\n",
    "taxi = taxi.withColumn('pickup_week_hour', ((taxi.pickup_weekday * 24) + taxi.pickup_hour).cast(DoubleType()))\n",
    "taxi = taxi.withColumn('store_and_fwd_flag', F.when(taxi.store_and_fwd_flag == 'Y', 1).otherwise(0))\n",
    "# Spark ML expects \"label\" column for dependent variable\n",
    "taxi = taxi.withColumn('label', taxi.total_amount)  \n",
    "taxi = taxi.fillna(-1)"
   ]
  },
  {
   "cell_type": "code",
   "execution_count": 7,
   "metadata": {},
   "outputs": [],
   "source": [
    "from pyspark.ml.feature import VectorAssembler\n",
    "from pyspark.ml.pipeline import Pipeline\n",
    "\n",
    "features = ['pickup_weekday', 'pickup_hour', 'pickup_minute',\n",
    "            'pickup_week_hour', 'passenger_count', 'VendorID', \n",
    "            'RateCodeID', 'store_and_fwd_flag', 'pickup_longitude', 'pickup_latitude', \n",
    "            'dropoff_longitude', 'dropoff_latitude']\n",
    "\n",
    "assembler = VectorAssembler(\n",
    "    inputCols=features,\n",
    "    outputCol='features',\n",
    ")\n",
    "\n",
    "pipeline = Pipeline(stages=[assembler])"
   ]
  },
  {
   "cell_type": "code",
   "execution_count": 8,
   "metadata": {},
   "outputs": [
    {
     "name": "stderr",
     "output_type": "stream",
     "text": [
      "22/12/29 00:55:52 WARN package: Truncated the string representation of a plan since it was too large. This behavior can be adjusted by setting 'spark.sql.debug.maxToStringFields'.\n",
      "[Stage 3:=======================================================> (47 + 1) / 48]\r"
     ]
    },
    {
     "name": "stdout",
     "output_type": "stream",
     "text": [
      "CPU times: user 26.1 ms, sys: 879 µs, total: 27 ms\n",
      "Wall time: 38.8 s\n"
     ]
    },
    {
     "name": "stderr",
     "output_type": "stream",
     "text": [
      "                                                                                \r"
     ]
    },
    {
     "data": {
      "text/plain": [
       "146112989"
      ]
     },
     "execution_count": 8,
     "metadata": {},
     "output_type": "execute_result"
    }
   ],
   "source": [
    "%%time\n",
    "assembler_fitted = pipeline.fit(taxi)\n",
    "X = assembler_fitted.transform(taxi)\n",
    "\n",
    "X.cache()\n",
    "X.count()"
   ]
  },
  {
   "cell_type": "markdown",
   "metadata": {},
   "source": [
    "# Train random forest!"
   ]
  },
  {
   "cell_type": "code",
   "execution_count": 9,
   "metadata": {},
   "outputs": [],
   "source": [
    "from pyspark.ml.regression import RandomForestRegressor\n",
    "rf = RandomForestRegressor(numTrees=100, maxDepth=10, seed=42)"
   ]
  },
  {
   "cell_type": "code",
   "execution_count": 10,
   "metadata": {},
   "outputs": [
    {
     "name": "stderr",
     "output_type": "stream",
     "text": [
      "22/12/29 01:05:24 WARN DAGScheduler: Broadcasting large task binary with size 1049.3 KiB\n",
      "22/12/29 01:08:16 WARN DAGScheduler: Broadcasting large task binary with size 2024.5 KiB\n",
      "22/12/29 01:11:25 WARN DAGScheduler: Broadcasting large task binary with size 3.9 MiB\n",
      "22/12/29 01:14:41 WARN DAGScheduler: Broadcasting large task binary with size 1242.6 KiB\n",
      "22/12/29 01:14:43 WARN DAGScheduler: Broadcasting large task binary with size 7.8 MiB\n",
      "22/12/29 01:18:35 WARN DAGScheduler: Broadcasting large task binary with size 2.4 MiB\n",
      "22/12/29 01:18:37 WARN DAGScheduler: Broadcasting large task binary with size 15.3 MiB\n",
      "22/12/29 01:23:26 WARN DAGScheduler: Broadcasting large task binary with size 4.8 MiB\n",
      "                                                                                \r"
     ]
    },
    {
     "name": "stdout",
     "output_type": "stream",
     "text": [
      "CPU times: user 361 ms, sys: 145 ms, total: 506 ms\n",
      "Wall time: 26min 56s\n"
     ]
    }
   ],
   "source": [
    "%%time\n",
    "fitted = rf.fit(X)"
   ]
  },
  {
   "cell_type": "code",
   "execution_count": null,
   "metadata": {},
   "outputs": [],
   "source": []
  },
  {
   "cell_type": "code",
   "execution_count": 12,
   "metadata": {},
   "outputs": [
    {
     "ename": "NameError",
     "evalue": "name 'sc' is not defined",
     "output_type": "error",
     "traceback": [
      "\u001b[0;31m---------------------------------------------------------------------------\u001b[0m",
      "\u001b[0;31mNameError\u001b[0m                                 Traceback (most recent call last)",
      "Input \u001b[0;32mIn [12]\u001b[0m, in \u001b[0;36m<cell line: 1>\u001b[0;34m()\u001b[0m\n\u001b[0;32m----> 1\u001b[0m \u001b[43msc\u001b[49m\u001b[38;5;241m.\u001b[39mclose()\n",
      "\u001b[0;31mNameError\u001b[0m: name 'sc' is not defined"
     ]
    }
   ],
   "source": [
    "sc.close()"
   ]
  },
  {
   "cell_type": "code",
   "execution_count": null,
   "metadata": {},
   "outputs": [],
   "source": []
  }
 ],
 "metadata": {
  "kernelspec": {
   "display_name": "Python 3 (ipykernel)",
   "language": "python",
   "name": "python3"
  },
  "language_info": {
   "codemirror_mode": {
    "name": "ipython",
    "version": 3
   },
   "file_extension": ".py",
   "mimetype": "text/x-python",
   "name": "python",
   "nbconvert_exporter": "python",
   "pygments_lexer": "ipython3",
   "version": "3.8.13"
  }
 },
 "nbformat": 4,
 "nbformat_minor": 4
}
