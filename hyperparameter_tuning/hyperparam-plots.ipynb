{
 "cells": [
  {
   "cell_type": "code",
   "execution_count": null,
   "metadata": {
    "ExecuteTime": {
     "end_time": "2020-07-20T22:06:15.913305Z",
     "start_time": "2020-07-20T22:06:15.823697Z"
    }
   },
   "outputs": [],
   "source": [
    "from bokeh.io import output_notebook, show\n",
    "from bokeh.models import FactorRange, LabelSet, ColumnDataSource\n",
    "from bokeh.plotting import figure\n",
    "\n",
    "output_notebook()\n",
    "\n",
    "factors = [\n",
    "    (\"Single-node\", \"1\"), \n",
    "    (\"Spark\", \"3\"), (\"Spark\", \"10\"), (\"Spark\", \"20\"),\n",
    "    (\"Dask\", \"3\"), (\"Dask\", \"10\"), (\"Dask\", \"20\")\n",
    "]\n",
    "runtime = [180, 57, 47, 47, 64, 20, 11]\n",
    "color = [\"gray\", *[\"lightblue\"] * 3, *[\"#fda061\"] * 3]\n",
    "\n",
    "p = figure(x_range=FactorRange(*factors), plot_height=525, plot_width=900, toolbar_location=None)\n",
    "source  = ColumnDataSource(data=dict(labels=factors, runtime=runtime, color=color))\n",
    "\n",
    "p.vbar(x=\"labels\", top=\"runtime\", color=\"color\", width=0.9, source=source)\n",
    "\n",
    "p.axis.axis_label_text_font_size = '12pt'\n",
    "p.y_range.start = 0\n",
    "p.y_range.end = 200\n",
    "p.yaxis.axis_label_text_font_size = '12pt'\n",
    "p.yaxis.axis_label = \"Runtime in minutes\"\n",
    "\n",
    "p.x_range.range_padding = 0.1\n",
    "p.xaxis.group_text_font_size = '16pt'\n",
    "p.xaxis.major_label_text_font_size = '14pt'\n",
    "p.xgrid.grid_line_color = None\n",
    "p.xaxis.axis_label = \"# of nodes\"\n",
    "\n",
    "labels = LabelSet(x='labels', y='runtime', text='runtime', level='glyph',\n",
    "         source=source, render_mode='canvas', text_align=\"center\", text_font_size=\"12pt\")\n",
    "p.add_layout(labels)\n",
    "show(p)"
   ]
  }
 ],
 "metadata": {
  "kernelspec": {
   "display_name": "Python 3",
   "language": "python",
   "name": "python3"
  },
  "language_info": {
   "codemirror_mode": {
    "name": "ipython",
    "version": 3
   },
   "file_extension": ".py",
   "mimetype": "text/x-python",
   "name": "python",
   "nbconvert_exporter": "python",
   "pygments_lexer": "ipython3",
   "version": "3.7.7"
  }
 },
 "nbformat": 4,
 "nbformat_minor": 4
}
