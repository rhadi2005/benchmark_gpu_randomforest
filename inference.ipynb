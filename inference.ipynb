{
 "cells": [
  {
   "cell_type": "markdown",
   "id": "0e86fe2b",
   "metadata": {},
   "source": [
    "# Parallel Inference\n",
    "\n",
    "Reproduces techniques used in pytorch versions. Loads from Snowflake here, but can easily just load from S3. \n",
    "\n",
    "Using model trained on multigpu script at batch size 64 x 40 epochs."
   ]
  },
  {
   "cell_type": "code",
   "execution_count": 1,
   "id": "8e75465b",
   "metadata": {
    "execution": {
     "iopub.status.idle": "2021-08-17T21:03:58.301804Z",
     "shell.execute_reply": "2021-08-17T21:03:58.301051Z",
     "shell.execute_reply.started": "2021-08-17T21:03:56.618765Z"
    }
   },
   "outputs": [
    {
     "name": "stderr",
     "output_type": "stream",
     "text": [
      "/srv/conda/envs/saturn/lib/python3.9/site-packages/snowflake/connector/options.py:94: UserWarning: You have an incompatible version of 'pyarrow' installed (4.0.1), please install a version that adheres to: 'pyarrow<3.1.0,>=3.0.0; extra == \"pandas\"'\n",
      "  warn_incompatible_dep(\n"
     ]
    }
   ],
   "source": [
    "import numpy as np, pandas as pd\n",
    "import requests, io, os, datetime, re\n",
    "\n",
    "import snowflake.connector\n",
    "from snowflake.connector.pandas_tools import write_pandas\n",
    "\n",
    "from dask_saturn import SaturnCluster\n",
    "from dask.distributed import Client\n",
    "import dask"
   ]
  },
  {
   "cell_type": "code",
   "execution_count": 2,
   "id": "8f1873e5",
   "metadata": {
    "execution": {
     "iopub.execute_input": "2021-08-17T21:03:58.303141Z",
     "iopub.status.busy": "2021-08-17T21:03:58.302937Z",
     "iopub.status.idle": "2021-08-17T21:03:59.596029Z",
     "shell.execute_reply": "2021-08-17T21:03:59.595310Z",
     "shell.execute_reply.started": "2021-08-17T21:03:58.303115Z"
    }
   },
   "outputs": [],
   "source": [
    "import tensorflow as tf\n",
    "from tensorflow import keras\n",
    "from tensorflow.keras import layers\n",
    "from keras.applications import resnet50\n",
    "from keras.preprocessing import image"
   ]
  },
  {
   "cell_type": "code",
   "execution_count": 3,
   "id": "5a54deaa",
   "metadata": {
    "execution": {
     "iopub.execute_input": "2021-08-17T21:03:59.597789Z",
     "iopub.status.busy": "2021-08-17T21:03:59.597571Z",
     "iopub.status.idle": "2021-08-17T21:03:59.601366Z",
     "shell.execute_reply": "2021-08-17T21:03:59.600737Z",
     "shell.execute_reply.started": "2021-08-17T21:03:59.597763Z"
    }
   },
   "outputs": [],
   "source": [
    "conn_kwargs = dict(\n",
    "    user=os.environ['ANALYTICS_SNOWFLAKE_USER'] ,\n",
    "    password=os.environ['ANALYTICS_SNOWFLAKE_PASSWORD'] ,\n",
    "    account='mf80263.us-east-2.aws',\n",
    "    warehouse=\"COMPUTE_WH\",\n",
    "    database=\"clothing_dataset\",\n",
    "    schema=\"PUBLIC\",\n",
    "    role=\"datascience_examples_writer\",\n",
    ")"
   ]
  },
  {
   "cell_type": "code",
   "execution_count": 4,
   "id": "66539be5",
   "metadata": {
    "execution": {
     "iopub.execute_input": "2021-08-17T21:03:59.602681Z",
     "iopub.status.busy": "2021-08-17T21:03:59.602481Z",
     "iopub.status.idle": "2021-08-17T21:04:03.202490Z",
     "shell.execute_reply": "2021-08-17T21:04:03.201596Z",
     "shell.execute_reply.started": "2021-08-17T21:03:59.602657Z"
    }
   },
   "outputs": [],
   "source": [
    "stage = 'clothing_dataset'\n",
    "relative_path_col = 'RELATIVE_PATH'\n",
    "\n",
    "with snowflake.connector.connect(**conn_kwargs) as conn:\n",
    "    df = pd.read_sql(f\"\"\"select FILE_URL, \n",
    "    RELATIVE_PATH, SIZE, LAST_MODIFIED,\n",
    "    get_presigned_url(@{stage}, {relative_path_col}) \n",
    "    as SIGNEDURL from clothing_test\"\"\", conn)\n",
    "    list_paths = df['SIGNEDURL']"
   ]
  },
  {
   "cell_type": "code",
   "execution_count": 5,
   "id": "04982e48",
   "metadata": {
    "execution": {
     "iopub.execute_input": "2021-08-17T21:04:03.204304Z",
     "iopub.status.busy": "2021-08-17T21:04:03.204056Z",
     "iopub.status.idle": "2021-08-17T21:04:03.210029Z",
     "shell.execute_reply": "2021-08-17T21:04:03.209356Z",
     "shell.execute_reply.started": "2021-08-17T21:04:03.204273Z"
    }
   },
   "outputs": [],
   "source": [
    "@dask.delayed\n",
    "def preprocess(list_img_attr):\n",
    "    path, snow_path, filesize, orig_timestamp  = list_img_attr[4],list_img_attr[0],list_img_attr[2],list_img_attr[3]\n",
    "\n",
    "    file1 = requests.get(path).content\n",
    "    file2 = tf.image.decode_jpeg(file1, channels=3)\n",
    "    img2 = tf.image.resize(file2,(224, 224))\n",
    "    img_array = image.img_to_array(img2)\n",
    "      \n",
    "    truth = re.search('clothing-dataset-small/test/([a-z-]+)\\/([^\\/]+(\\.jpg))', path).group(1)\n",
    "    name = re.search('clothing-dataset-small/test/([a-z-]+)\\/([^\\/]+(\\.jpg))', path).group(2)\n",
    "    \n",
    "    return [name, img_array, truth, path, snow_path, filesize, orig_timestamp]"
   ]
  },
  {
   "cell_type": "code",
   "execution_count": 6,
   "id": "c72ed344",
   "metadata": {
    "execution": {
     "iopub.execute_input": "2021-08-17T21:04:03.211026Z",
     "iopub.status.busy": "2021-08-17T21:04:03.210831Z",
     "iopub.status.idle": "2021-08-17T21:04:03.215725Z",
     "shell.execute_reply": "2021-08-17T21:04:03.215081Z",
     "shell.execute_reply.started": "2021-08-17T21:04:03.211003Z"
    }
   },
   "outputs": [],
   "source": [
    "@dask.delayed\n",
    "def reformat(batch):\n",
    "    batch_transposed = list(map(list, zip(*batch)))\n",
    "    batch_transposed[1] = tf.stack(batch_transposed[1], axis=0, name='stack')\n",
    "    return batch_transposed"
   ]
  },
  {
   "cell_type": "code",
   "execution_count": 7,
   "id": "35cb0efd",
   "metadata": {
    "execution": {
     "iopub.execute_input": "2021-08-17T21:04:03.216741Z",
     "iopub.status.busy": "2021-08-17T21:04:03.216545Z",
     "iopub.status.idle": "2021-08-17T21:04:03.220708Z",
     "shell.execute_reply": "2021-08-17T21:04:03.220042Z",
     "shell.execute_reply.started": "2021-08-17T21:04:03.216717Z"
    }
   },
   "outputs": [],
   "source": [
    "def is_match(label, pred):\n",
    "    ''' Evaluates human readable prediction against ground truth.'''\n",
    "    if re.search(label.replace('_', ' '), str(pred).replace('_', ' ')):\n",
    "        match = True\n",
    "    else:\n",
    "        match = False\n",
    "    return(match)"
   ]
  },
  {
   "cell_type": "code",
   "execution_count": 8,
   "id": "7f47b731",
   "metadata": {
    "execution": {
     "iopub.execute_input": "2021-08-17T21:04:03.221741Z",
     "iopub.status.busy": "2021-08-17T21:04:03.221544Z",
     "iopub.status.idle": "2021-08-17T21:04:03.228327Z",
     "shell.execute_reply": "2021-08-17T21:04:03.227650Z",
     "shell.execute_reply.started": "2021-08-17T21:04:03.221717Z"
    }
   },
   "outputs": [],
   "source": [
    "@dask.delayed\n",
    "def predict_class_resnet(iteritem):\n",
    "    names, images, truelabels, paths, snow_paths, filesizes, orig_timestamps = iteritem\n",
    "\n",
    "    # Using model trained by user.\n",
    "    model = keras.models.load_model('./tensorflow_ds/model/keras/')\n",
    "\n",
    "    indices = list(range(0,10))\n",
    "    classes = [\"dress\", \"hat\", \"longsleeve\", \"outwear\", \"pants\", \"shirt\", \"shoes\", \"shorts\", \"skirt\", \"t-shirt\"]\n",
    "    classes2 = dict(zip(indices, classes))\n",
    "\n",
    "    img_array2 = resnet50.preprocess_input(images)\n",
    "    predictions = model.predict(img_array2)\n",
    "    predicted_classes = [np.argmax(prediction) for prediction in predictions]#\n",
    "    pred_string = [classes2[x] for x in predicted_classes]\n",
    "\n",
    "    #Organize prediction results\n",
    "    outcomes = []\n",
    "    for j in range(0, len(images)):\n",
    "        match = is_match(truelabels[j], pred_string[j])\n",
    "        outcome = {'name': names[j], 'ground_truth': truelabels[j], \n",
    "                   'prediction': predicted_classes[j],  \n",
    "                   \"pred_text\": pred_string[j],\n",
    "                   \"match\": match,\n",
    "                  'snow_path':snow_paths[j],'filesize':filesizes[j],\n",
    "                   'orig_timestamp':orig_timestamps[j]}\n",
    "        outcomes.append(outcome)\n",
    "\n",
    "    return(outcomes)"
   ]
  },
  {
   "cell_type": "code",
   "execution_count": 9,
   "id": "8a1058c4",
   "metadata": {
    "execution": {
     "iopub.execute_input": "2021-08-17T21:04:03.230170Z",
     "iopub.status.busy": "2021-08-17T21:04:03.229953Z",
     "iopub.status.idle": "2021-08-17T21:04:03.367924Z",
     "shell.execute_reply": "2021-08-17T21:04:03.367256Z",
     "shell.execute_reply.started": "2021-08-17T21:04:03.230145Z"
    }
   },
   "outputs": [
    {
     "name": "stderr",
     "output_type": "stream",
     "text": [
      "INFO:dask-saturn:Cluster is ready\n",
      "INFO:dask-saturn:Registering default plugins\n",
      "INFO:dask-saturn:Success!\n"
     ]
    },
    {
     "data": {
      "text/html": [
       "<table style=\"border: 2px solid white;\">\n",
       "<tr>\n",
       "<td style=\"vertical-align: top; border: 0px solid white\">\n",
       "<h3 style=\"text-align: left;\">Client</h3>\n",
       "<ul style=\"text-align: left; list-style: none; margin: 0; padding: 0;\">\n",
       "  <li><b>Scheduler: </b>tcp://d-steph-tensorflow-dev-c684c6ee502c425a8142c741e3f0af9a.main-namespace:8786</li>\n",
       "  <li><b>Dashboard: </b><a href='https://d-steph-tensorflow-dev-c684c6ee502c425a8142c741e3f0af9a.internal.saturnenterprise.io' target='_blank'>https://d-steph-tensorflow-dev-c684c6ee502c425a8142c741e3f0af9a.internal.saturnenterprise.io</a></li>\n",
       "</ul>\n",
       "</td>\n",
       "<td style=\"vertical-align: top; border: 0px solid white\">\n",
       "<h3 style=\"text-align: left;\">Cluster</h3>\n",
       "<ul style=\"text-align: left; list-style:none; margin: 0; padding: 0;\">\n",
       "  <li><b>Workers: </b>5</li>\n",
       "  <li><b>Cores: </b>80</li>\n",
       "  <li><b>Memory: </b>295.69 GiB</li>\n",
       "</ul>\n",
       "</td>\n",
       "</tr>\n",
       "</table>"
      ],
      "text/plain": [
       "<Client: 'tcp://192.168.117.2:8786' processes=5 threads=80, memory=295.69 GiB>"
      ]
     },
     "execution_count": 9,
     "metadata": {},
     "output_type": "execute_result"
    }
   ],
   "source": [
    "cluster = SaturnCluster()\n",
    "client = Client(cluster)\n",
    "client.wait_for_workers(2)\n",
    "client"
   ]
  },
  {
   "cell_type": "code",
   "execution_count": 10,
   "id": "25c60984",
   "metadata": {
    "execution": {
     "iopub.execute_input": "2021-08-17T21:04:03.369073Z",
     "iopub.status.busy": "2021-08-17T21:04:03.368872Z",
     "iopub.status.idle": "2021-08-17T21:04:12.402395Z",
     "shell.execute_reply": "2021-08-17T21:04:12.401674Z",
     "shell.execute_reply.started": "2021-08-17T21:04:03.369049Z"
    }
   },
   "outputs": [],
   "source": [
    "client.restart() # Clears memory on cluster- optional but recommended.\n",
    "\n",
    "n = 32  #batch size\n",
    "list_df = [df[i:i+n] for i in range(0,df.shape[0],n)]\n",
    "image_rows = [[x for j,x in y.iterrows()] for y in list_df]\n",
    "image_batches1 = [[preprocess(list(x)) for x in y] for y in image_rows]\n",
    "image_batches = [reformat(result) for result in image_batches1]"
   ]
  },
  {
   "cell_type": "code",
   "execution_count": 11,
   "id": "2b39078b",
   "metadata": {
    "execution": {
     "iopub.execute_input": "2021-08-17T21:04:12.403508Z",
     "iopub.status.busy": "2021-08-17T21:04:12.403304Z",
     "iopub.status.idle": "2021-08-17T21:04:33.974160Z",
     "shell.execute_reply": "2021-08-17T21:04:33.973428Z",
     "shell.execute_reply.started": "2021-08-17T21:04:12.403483Z"
    }
   },
   "outputs": [
    {
     "data": {
      "text/plain": [
       "{'tcp://192.168.143.4:42289': ['assets', 'variables', 'saved_model.pb'],\n",
       " 'tcp://192.168.173.4:39083': ['assets', 'variables', 'saved_model.pb'],\n",
       " 'tcp://192.168.231.196:46519': ['assets', 'variables', 'saved_model.pb'],\n",
       " 'tcp://192.168.29.4:35909': ['assets', 'variables', 'saved_model.pb'],\n",
       " 'tcp://192.168.76.68:45899': ['assets', 'variables', 'saved_model.pb']}"
      ]
     },
     "execution_count": 11,
     "metadata": {},
     "output_type": "execute_result"
    }
   ],
   "source": [
    "from dask_saturn.plugins import RegisterFiles, sync_files\n",
    "client.register_worker_plugin(RegisterFiles())\n",
    "sync_files(client, \"/home/jovyan/git-repos/tensorflow_ds/model/keras\")\n",
    "client.run(os.listdir, './tensorflow_ds/model/keras')"
   ]
  },
  {
   "cell_type": "code",
   "execution_count": 14,
   "id": "e893e91e",
   "metadata": {
    "execution": {
     "iopub.execute_input": "2021-08-17T21:05:16.226576Z",
     "iopub.status.busy": "2021-08-17T21:05:16.226373Z",
     "iopub.status.idle": "2021-08-17T21:05:16.535225Z",
     "shell.execute_reply": "2021-08-17T21:05:16.534572Z",
     "shell.execute_reply.started": "2021-08-17T21:05:16.226552Z"
    }
   },
   "outputs": [
    {
     "name": "stdout",
     "output_type": "stream",
     "text": [
      "CPU times: user 245 ms, sys: 6.07 ms, total: 251 ms\n",
      "Wall time: 304 ms\n"
     ]
    }
   ],
   "source": [
    "%%time\n",
    "\n",
    "futures = client.map(predict_class_resnet, image_batches) \n",
    "futures_gathered = client.gather(futures)\n",
    "futures_computed = client.compute(futures_gathered, sync=False)\n",
    "\n",
    "import logging\n",
    "\n",
    "results = []\n",
    "errors = []\n",
    "for fut in futures_computed:\n",
    "    try:\n",
    "        result = fut.result()\n",
    "    except Exception as e:\n",
    "        errors.append(e)\n",
    "        logging.error(e)\n",
    "    else:\n",
    "        results.extend(result)"
   ]
  },
  {
   "cell_type": "code",
   "execution_count": 13,
   "id": "20370803",
   "metadata": {
    "execution": {
     "iopub.execute_input": "2021-08-17T21:05:16.077043Z",
     "iopub.status.busy": "2021-08-17T21:05:16.076842Z",
     "iopub.status.idle": "2021-08-17T21:05:16.086064Z",
     "shell.execute_reply": "2021-08-17T21:05:16.085421Z",
     "shell.execute_reply.started": "2021-08-17T21:05:16.077018Z"
    }
   },
   "outputs": [
    {
     "data": {
      "text/plain": [
       "name                           object\n",
       "ground_truth                   object\n",
       "prediction                      int64\n",
       "pred_text                      object\n",
       "match                            bool\n",
       "snow_path                      object\n",
       "filesize                        int64\n",
       "orig_timestamp    datetime64[ns, UTC]\n",
       "dtype: object"
      ]
     },
     "execution_count": 13,
     "metadata": {},
     "output_type": "execute_result"
    }
   ],
   "source": [
    "df2 = pd.DataFrame(results) \n",
    "df2.dtypes"
   ]
  },
  {
   "cell_type": "code",
   "execution_count": 15,
   "id": "b2e91111",
   "metadata": {
    "execution": {
     "iopub.execute_input": "2021-08-17T21:05:20.924788Z",
     "iopub.status.busy": "2021-08-17T21:05:20.924523Z",
     "iopub.status.idle": "2021-08-17T21:05:20.930524Z",
     "shell.execute_reply": "2021-08-17T21:05:20.929878Z",
     "shell.execute_reply.started": "2021-08-17T21:05:20.924760Z"
    }
   },
   "outputs": [
    {
     "data": {
      "text/plain": [
       "46.774193548387096"
      ]
     },
     "execution_count": 15,
     "metadata": {},
     "output_type": "execute_result"
    }
   ],
   "source": [
    "true_preds = [x['match'] for x in results if x['match'] == True]\n",
    "false_preds = [x['match'] for x in results if x['match'] == False]\n",
    "len(true_preds)/len(results)*100"
   ]
  },
  {
   "cell_type": "code",
   "execution_count": 16,
   "id": "819f98ae",
   "metadata": {
    "execution": {
     "iopub.execute_input": "2021-08-17T21:05:21.930856Z",
     "iopub.status.busy": "2021-08-17T21:05:21.930622Z",
     "iopub.status.idle": "2021-08-17T21:05:21.936814Z",
     "shell.execute_reply": "2021-08-17T21:05:21.936050Z",
     "shell.execute_reply.started": "2021-08-17T21:05:21.930829Z"
    }
   },
   "outputs": [],
   "source": [
    "df = pd.DataFrame(results) "
   ]
  },
  {
   "cell_type": "code",
   "execution_count": 17,
   "id": "14d80ff1",
   "metadata": {
    "execution": {
     "iopub.execute_input": "2021-08-17T21:05:22.582396Z",
     "iopub.status.busy": "2021-08-17T21:05:22.582139Z",
     "iopub.status.idle": "2021-08-17T21:05:22.595495Z",
     "shell.execute_reply": "2021-08-17T21:05:22.594873Z",
     "shell.execute_reply.started": "2021-08-17T21:05:22.582368Z"
    }
   },
   "outputs": [
    {
     "data": {
      "text/html": [
       "<div>\n",
       "<style scoped>\n",
       "    .dataframe tbody tr th:only-of-type {\n",
       "        vertical-align: middle;\n",
       "    }\n",
       "\n",
       "    .dataframe tbody tr th {\n",
       "        vertical-align: top;\n",
       "    }\n",
       "\n",
       "    .dataframe thead th {\n",
       "        text-align: right;\n",
       "    }\n",
       "</style>\n",
       "<table border=\"1\" class=\"dataframe\">\n",
       "  <thead>\n",
       "    <tr style=\"text-align: right;\">\n",
       "      <th></th>\n",
       "      <th>name</th>\n",
       "      <th>ground_truth</th>\n",
       "      <th>prediction</th>\n",
       "      <th>pred_text</th>\n",
       "      <th>match</th>\n",
       "      <th>snow_path</th>\n",
       "      <th>filesize</th>\n",
       "      <th>orig_timestamp</th>\n",
       "    </tr>\n",
       "  </thead>\n",
       "  <tbody>\n",
       "    <tr>\n",
       "      <th>0</th>\n",
       "      <td>06a00c0f-5f9a-410d-a7da-3881a9df3a71.jpg</td>\n",
       "      <td>dress</td>\n",
       "      <td>9</td>\n",
       "      <td>t-shirt</td>\n",
       "      <td>False</td>\n",
       "      <td>https://MF80263.us-east-2.aws.snowflakecomputi...</td>\n",
       "      <td>34678</td>\n",
       "      <td>2021-07-09 16:36:11+00:00</td>\n",
       "    </tr>\n",
       "    <tr>\n",
       "      <th>1</th>\n",
       "      <td>28b09463-6bbb-491d-9ffc-f36df5c6b211.jpg</td>\n",
       "      <td>dress</td>\n",
       "      <td>3</td>\n",
       "      <td>outwear</td>\n",
       "      <td>False</td>\n",
       "      <td>https://MF80263.us-east-2.aws.snowflakecomputi...</td>\n",
       "      <td>28462</td>\n",
       "      <td>2021-07-09 16:36:10+00:00</td>\n",
       "    </tr>\n",
       "    <tr>\n",
       "      <th>2</th>\n",
       "      <td>35f157d0-53e4-4496-b087-da4ad63edd47.jpg</td>\n",
       "      <td>dress</td>\n",
       "      <td>4</td>\n",
       "      <td>pants</td>\n",
       "      <td>False</td>\n",
       "      <td>https://MF80263.us-east-2.aws.snowflakecomputi...</td>\n",
       "      <td>18871</td>\n",
       "      <td>2021-07-09 16:36:09+00:00</td>\n",
       "    </tr>\n",
       "    <tr>\n",
       "      <th>3</th>\n",
       "      <td>3f844e1e-4a00-4b64-8c1d-3b847191bf11.jpg</td>\n",
       "      <td>dress</td>\n",
       "      <td>3</td>\n",
       "      <td>outwear</td>\n",
       "      <td>False</td>\n",
       "      <td>https://MF80263.us-east-2.aws.snowflakecomputi...</td>\n",
       "      <td>45101</td>\n",
       "      <td>2021-07-09 16:36:13+00:00</td>\n",
       "    </tr>\n",
       "    <tr>\n",
       "      <th>4</th>\n",
       "      <td>4ceed2f1-8e20-4439-9c27-cceb8d2257a4.jpg</td>\n",
       "      <td>dress</td>\n",
       "      <td>1</td>\n",
       "      <td>hat</td>\n",
       "      <td>False</td>\n",
       "      <td>https://MF80263.us-east-2.aws.snowflakecomputi...</td>\n",
       "      <td>30272</td>\n",
       "      <td>2021-07-09 16:36:12+00:00</td>\n",
       "    </tr>\n",
       "  </tbody>\n",
       "</table>\n",
       "</div>"
      ],
      "text/plain": [
       "                                       name ground_truth  prediction  \\\n",
       "0  06a00c0f-5f9a-410d-a7da-3881a9df3a71.jpg        dress           9   \n",
       "1  28b09463-6bbb-491d-9ffc-f36df5c6b211.jpg        dress           3   \n",
       "2  35f157d0-53e4-4496-b087-da4ad63edd47.jpg        dress           4   \n",
       "3  3f844e1e-4a00-4b64-8c1d-3b847191bf11.jpg        dress           3   \n",
       "4  4ceed2f1-8e20-4439-9c27-cceb8d2257a4.jpg        dress           1   \n",
       "\n",
       "  pred_text  match                                          snow_path  \\\n",
       "0   t-shirt  False  https://MF80263.us-east-2.aws.snowflakecomputi...   \n",
       "1   outwear  False  https://MF80263.us-east-2.aws.snowflakecomputi...   \n",
       "2     pants  False  https://MF80263.us-east-2.aws.snowflakecomputi...   \n",
       "3   outwear  False  https://MF80263.us-east-2.aws.snowflakecomputi...   \n",
       "4       hat  False  https://MF80263.us-east-2.aws.snowflakecomputi...   \n",
       "\n",
       "   filesize            orig_timestamp  \n",
       "0     34678 2021-07-09 16:36:11+00:00  \n",
       "1     28462 2021-07-09 16:36:10+00:00  \n",
       "2     18871 2021-07-09 16:36:09+00:00  \n",
       "3     45101 2021-07-09 16:36:13+00:00  \n",
       "4     30272 2021-07-09 16:36:12+00:00  "
      ]
     },
     "execution_count": 17,
     "metadata": {},
     "output_type": "execute_result"
    }
   ],
   "source": [
    "df.head()"
   ]
  },
  {
   "cell_type": "code",
   "execution_count": 18,
   "id": "628f1e8a",
   "metadata": {
    "execution": {
     "iopub.execute_input": "2021-08-17T21:05:23.262689Z",
     "iopub.status.busy": "2021-08-17T21:05:23.262476Z",
     "iopub.status.idle": "2021-08-17T21:05:23.288784Z",
     "shell.execute_reply": "2021-08-17T21:05:23.288125Z",
     "shell.execute_reply.started": "2021-08-17T21:05:23.262664Z"
    }
   },
   "outputs": [
    {
     "data": {
      "text/html": [
       "<div>\n",
       "<style scoped>\n",
       "    .dataframe tbody tr th:only-of-type {\n",
       "        vertical-align: middle;\n",
       "    }\n",
       "\n",
       "    .dataframe tbody tr th {\n",
       "        vertical-align: top;\n",
       "    }\n",
       "\n",
       "    .dataframe thead th {\n",
       "        text-align: right;\n",
       "    }\n",
       "</style>\n",
       "<table border=\"1\" class=\"dataframe\">\n",
       "  <thead>\n",
       "    <tr style=\"text-align: right;\">\n",
       "      <th>pred_text</th>\n",
       "      <th>dress</th>\n",
       "      <th>hat</th>\n",
       "      <th>longsleeve</th>\n",
       "      <th>outwear</th>\n",
       "      <th>pants</th>\n",
       "      <th>shirt</th>\n",
       "      <th>shoes</th>\n",
       "      <th>shorts</th>\n",
       "      <th>t-shirt</th>\n",
       "    </tr>\n",
       "    <tr>\n",
       "      <th>ground_truth</th>\n",
       "      <th></th>\n",
       "      <th></th>\n",
       "      <th></th>\n",
       "      <th></th>\n",
       "      <th></th>\n",
       "      <th></th>\n",
       "      <th></th>\n",
       "      <th></th>\n",
       "      <th></th>\n",
       "    </tr>\n",
       "  </thead>\n",
       "  <tbody>\n",
       "    <tr>\n",
       "      <th>dress</th>\n",
       "      <td>2</td>\n",
       "      <td>2</td>\n",
       "      <td>0</td>\n",
       "      <td>6</td>\n",
       "      <td>1</td>\n",
       "      <td>2</td>\n",
       "      <td>0</td>\n",
       "      <td>1</td>\n",
       "      <td>1</td>\n",
       "    </tr>\n",
       "    <tr>\n",
       "      <th>hat</th>\n",
       "      <td>0</td>\n",
       "      <td>2</td>\n",
       "      <td>0</td>\n",
       "      <td>3</td>\n",
       "      <td>0</td>\n",
       "      <td>3</td>\n",
       "      <td>1</td>\n",
       "      <td>2</td>\n",
       "      <td>1</td>\n",
       "    </tr>\n",
       "    <tr>\n",
       "      <th>longsleeve</th>\n",
       "      <td>0</td>\n",
       "      <td>3</td>\n",
       "      <td>19</td>\n",
       "      <td>20</td>\n",
       "      <td>0</td>\n",
       "      <td>23</td>\n",
       "      <td>2</td>\n",
       "      <td>1</td>\n",
       "      <td>4</td>\n",
       "    </tr>\n",
       "    <tr>\n",
       "      <th>outwear</th>\n",
       "      <td>0</td>\n",
       "      <td>0</td>\n",
       "      <td>4</td>\n",
       "      <td>16</td>\n",
       "      <td>0</td>\n",
       "      <td>16</td>\n",
       "      <td>0</td>\n",
       "      <td>2</td>\n",
       "      <td>0</td>\n",
       "    </tr>\n",
       "    <tr>\n",
       "      <th>pants</th>\n",
       "      <td>0</td>\n",
       "      <td>0</td>\n",
       "      <td>0</td>\n",
       "      <td>5</td>\n",
       "      <td>30</td>\n",
       "      <td>0</td>\n",
       "      <td>1</td>\n",
       "      <td>6</td>\n",
       "      <td>0</td>\n",
       "    </tr>\n",
       "    <tr>\n",
       "      <th>shirt</th>\n",
       "      <td>0</td>\n",
       "      <td>0</td>\n",
       "      <td>1</td>\n",
       "      <td>3</td>\n",
       "      <td>0</td>\n",
       "      <td>20</td>\n",
       "      <td>0</td>\n",
       "      <td>1</td>\n",
       "      <td>1</td>\n",
       "    </tr>\n",
       "    <tr>\n",
       "      <th>shoes</th>\n",
       "      <td>0</td>\n",
       "      <td>5</td>\n",
       "      <td>3</td>\n",
       "      <td>16</td>\n",
       "      <td>0</td>\n",
       "      <td>3</td>\n",
       "      <td>36</td>\n",
       "      <td>10</td>\n",
       "      <td>0</td>\n",
       "    </tr>\n",
       "    <tr>\n",
       "      <th>shorts</th>\n",
       "      <td>0</td>\n",
       "      <td>1</td>\n",
       "      <td>1</td>\n",
       "      <td>2</td>\n",
       "      <td>0</td>\n",
       "      <td>1</td>\n",
       "      <td>0</td>\n",
       "      <td>23</td>\n",
       "      <td>2</td>\n",
       "    </tr>\n",
       "    <tr>\n",
       "      <th>skirt</th>\n",
       "      <td>0</td>\n",
       "      <td>2</td>\n",
       "      <td>3</td>\n",
       "      <td>0</td>\n",
       "      <td>0</td>\n",
       "      <td>0</td>\n",
       "      <td>1</td>\n",
       "      <td>5</td>\n",
       "      <td>1</td>\n",
       "    </tr>\n",
       "    <tr>\n",
       "      <th>t-shirt</th>\n",
       "      <td>0</td>\n",
       "      <td>3</td>\n",
       "      <td>0</td>\n",
       "      <td>10</td>\n",
       "      <td>0</td>\n",
       "      <td>8</td>\n",
       "      <td>3</td>\n",
       "      <td>3</td>\n",
       "      <td>25</td>\n",
       "    </tr>\n",
       "  </tbody>\n",
       "</table>\n",
       "</div>"
      ],
      "text/plain": [
       "pred_text     dress  hat  longsleeve  outwear  pants  shirt  shoes  shorts  \\\n",
       "ground_truth                                                                 \n",
       "dress             2    2           0        6      1      2      0       1   \n",
       "hat               0    2           0        3      0      3      1       2   \n",
       "longsleeve        0    3          19       20      0     23      2       1   \n",
       "outwear           0    0           4       16      0     16      0       2   \n",
       "pants             0    0           0        5     30      0      1       6   \n",
       "shirt             0    0           1        3      0     20      0       1   \n",
       "shoes             0    5           3       16      0      3     36      10   \n",
       "shorts            0    1           1        2      0      1      0      23   \n",
       "skirt             0    2           3        0      0      0      1       5   \n",
       "t-shirt           0    3           0       10      0      8      3       3   \n",
       "\n",
       "pred_text     t-shirt  \n",
       "ground_truth           \n",
       "dress               1  \n",
       "hat                 1  \n",
       "longsleeve          4  \n",
       "outwear             0  \n",
       "pants               0  \n",
       "shirt               1  \n",
       "shoes               0  \n",
       "shorts              2  \n",
       "skirt               1  \n",
       "t-shirt            25  "
      ]
     },
     "execution_count": 18,
     "metadata": {},
     "output_type": "execute_result"
    }
   ],
   "source": [
    "pd.crosstab(df.ground_truth, df.pred_text)"
   ]
  },
  {
   "cell_type": "code",
   "execution_count": null,
   "id": "a0f9cbea",
   "metadata": {},
   "outputs": [],
   "source": []
  }
 ],
 "metadata": {
  "kernelspec": {
   "display_name": "saturn (Python 3)",
   "language": "python",
   "name": "python3"
  },
  "language_info": {
   "codemirror_mode": {
    "name": "ipython",
    "version": 3
   },
   "file_extension": ".py",
   "mimetype": "text/x-python",
   "name": "python",
   "nbconvert_exporter": "python",
   "pygments_lexer": "ipython3",
   "version": "3.9.5"
  }
 },
 "nbformat": 4,
 "nbformat_minor": 5
}
