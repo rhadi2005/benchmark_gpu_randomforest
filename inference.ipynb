{
 "cells": [
  {
   "cell_type": "markdown",
   "id": "d7ca5070",
   "metadata": {},
   "source": [
    "# Parallel Inference\n",
    "\n",
    "Reproduces techniques used in pytorch versions. Loads from Snowflake here, but can easily just load from S3. "
   ]
  },
  {
   "cell_type": "code",
   "execution_count": 1,
   "id": "613df3cf",
   "metadata": {
    "execution": {
     "iopub.status.idle": "2021-08-13T21:30:45.405880Z",
     "shell.execute_reply": "2021-08-13T21:30:45.405115Z",
     "shell.execute_reply.started": "2021-08-13T21:30:43.885149Z"
    }
   },
   "outputs": [
    {
     "name": "stderr",
     "output_type": "stream",
     "text": [
      "/srv/conda/envs/saturn/lib/python3.9/site-packages/snowflake/connector/options.py:94: UserWarning: You have an incompatible version of 'pyarrow' installed (4.0.1), please install a version that adheres to: 'pyarrow<3.1.0,>=3.0.0; extra == \"pandas\"'\n",
      "  warn_incompatible_dep(\n"
     ]
    }
   ],
   "source": [
    "import numpy as np, pandas as pd\n",
    "import requests, io, os, datetime, re\n",
    "\n",
    "import snowflake.connector\n",
    "from snowflake.connector.pandas_tools import write_pandas\n",
    "\n",
    "from dask_saturn import SaturnCluster\n",
    "from dask.distributed import Client\n",
    "import dask"
   ]
  },
  {
   "cell_type": "code",
   "execution_count": 2,
   "id": "a00e5eb7",
   "metadata": {
    "execution": {
     "iopub.execute_input": "2021-08-13T21:30:45.407523Z",
     "iopub.status.busy": "2021-08-13T21:30:45.407277Z",
     "iopub.status.idle": "2021-08-13T21:30:46.585546Z",
     "shell.execute_reply": "2021-08-13T21:30:46.584845Z",
     "shell.execute_reply.started": "2021-08-13T21:30:45.407492Z"
    }
   },
   "outputs": [],
   "source": [
    "import tensorflow as tf\n",
    "from tensorflow import keras\n",
    "from tensorflow.keras import layers\n",
    "from keras.applications import resnet50\n",
    "from keras.preprocessing import image"
   ]
  },
  {
   "cell_type": "code",
   "execution_count": 4,
   "id": "99432a46",
   "metadata": {
    "execution": {
     "iopub.execute_input": "2021-08-13T21:30:46.601893Z",
     "iopub.status.busy": "2021-08-13T21:30:46.601733Z",
     "iopub.status.idle": "2021-08-13T21:30:46.605153Z",
     "shell.execute_reply": "2021-08-13T21:30:46.604637Z",
     "shell.execute_reply.started": "2021-08-13T21:30:46.601875Z"
    }
   },
   "outputs": [],
   "source": [
    "conn_kwargs = dict(\n",
    "    user=os.environ['ANALYTICS_SNOWFLAKE_USER'] ,\n",
    "    password=os.environ['ANALYTICS_SNOWFLAKE_PASSWORD'] ,\n",
    "    account='mf80263.us-east-2.aws',\n",
    "    warehouse=\"COMPUTE_WH\",\n",
    "    database=\"clothing_dataset\",\n",
    "    schema=\"PUBLIC\",\n",
    "    role=\"datascience_examples_writer\",\n",
    ")"
   ]
  },
  {
   "cell_type": "code",
   "execution_count": 5,
   "id": "b008ba20",
   "metadata": {
    "execution": {
     "iopub.execute_input": "2021-08-13T21:30:46.606225Z",
     "iopub.status.busy": "2021-08-13T21:30:46.605957Z",
     "iopub.status.idle": "2021-08-13T21:30:50.032402Z",
     "shell.execute_reply": "2021-08-13T21:30:50.031745Z",
     "shell.execute_reply.started": "2021-08-13T21:30:46.606204Z"
    }
   },
   "outputs": [],
   "source": [
    "stage = 'clothing_dataset'\n",
    "relative_path_col = 'RELATIVE_PATH'\n",
    "\n",
    "with snowflake.connector.connect(**conn_kwargs) as conn:\n",
    "    df = pd.read_sql(f\"\"\"select FILE_URL, \n",
    "    RELATIVE_PATH, SIZE, LAST_MODIFIED,\n",
    "    get_presigned_url(@{stage}, {relative_path_col}) \n",
    "    as SIGNEDURL from clothing_test\"\"\", conn)\n",
    "    list_paths = df['SIGNEDURL']"
   ]
  },
  {
   "cell_type": "code",
   "execution_count": 6,
   "id": "ac1f5daf",
   "metadata": {
    "execution": {
     "iopub.execute_input": "2021-08-13T21:30:50.034620Z",
     "iopub.status.busy": "2021-08-13T21:30:50.034172Z",
     "iopub.status.idle": "2021-08-13T21:30:50.040091Z",
     "shell.execute_reply": "2021-08-13T21:30:50.039395Z",
     "shell.execute_reply.started": "2021-08-13T21:30:50.034581Z"
    }
   },
   "outputs": [],
   "source": [
    "@dask.delayed\n",
    "def preprocess(list_img_attr):\n",
    "    path, snow_path, filesize, orig_timestamp  = list_img_attr[4],list_img_attr[0],list_img_attr[2],list_img_attr[3]\n",
    "\n",
    "    file1 = requests.get(path).content\n",
    "    file2 = tf.image.decode_jpeg(file1, channels=3)\n",
    "    img2 = tf.image.resize(file2,(224, 224))\n",
    "    img_array = image.img_to_array(img2)\n",
    "      \n",
    "    truth = re.search('clothing-dataset-small/test/([a-z-]+)\\/([^\\/]+(\\.jpg))', path).group(1)\n",
    "    name = re.search('clothing-dataset-small/test/([a-z-]+)\\/([^\\/]+(\\.jpg))', path).group(2)\n",
    "    \n",
    "    return [name, img_array, truth, path, snow_path, filesize, orig_timestamp]"
   ]
  },
  {
   "cell_type": "code",
   "execution_count": 7,
   "id": "10febdcd",
   "metadata": {
    "execution": {
     "iopub.execute_input": "2021-08-13T21:30:50.041053Z",
     "iopub.status.busy": "2021-08-13T21:30:50.040891Z",
     "iopub.status.idle": "2021-08-13T21:30:50.044683Z",
     "shell.execute_reply": "2021-08-13T21:30:50.044150Z",
     "shell.execute_reply.started": "2021-08-13T21:30:50.041035Z"
    }
   },
   "outputs": [],
   "source": [
    "@dask.delayed\n",
    "def reformat(batch):\n",
    "    batch_transposed = list(map(list, zip(*batch)))\n",
    "    batch_transposed[1] = tf.stack(batch_transposed[1], axis=0, name='stack')\n",
    "    return batch_transposed"
   ]
  },
  {
   "cell_type": "code",
   "execution_count": 8,
   "id": "7260253b",
   "metadata": {
    "execution": {
     "iopub.execute_input": "2021-08-13T21:30:50.047057Z",
     "iopub.status.busy": "2021-08-13T21:30:50.046822Z",
     "iopub.status.idle": "2021-08-13T21:30:50.050545Z",
     "shell.execute_reply": "2021-08-13T21:30:50.050017Z",
     "shell.execute_reply.started": "2021-08-13T21:30:50.047033Z"
    }
   },
   "outputs": [],
   "source": [
    "def is_match(label, pred):\n",
    "    ''' Evaluates human readable prediction against ground truth.'''\n",
    "    if re.search(label.replace('_', ' '), str(pred).replace('_', ' ')):\n",
    "        match = True\n",
    "    else:\n",
    "        match = False\n",
    "    return(match)"
   ]
  },
  {
   "cell_type": "code",
   "execution_count": 9,
   "id": "ed009ede",
   "metadata": {
    "execution": {
     "iopub.execute_input": "2021-08-13T21:30:50.051875Z",
     "iopub.status.busy": "2021-08-13T21:30:50.051639Z",
     "iopub.status.idle": "2021-08-13T21:30:50.058175Z",
     "shell.execute_reply": "2021-08-13T21:30:50.057681Z",
     "shell.execute_reply.started": "2021-08-13T21:30:50.051847Z"
    }
   },
   "outputs": [],
   "source": [
    "@dask.delayed\n",
    "def predict_class_resnet(iteritem):\n",
    "    names, images, truelabels, paths, snow_paths, filesizes, orig_timestamps = iteritem\n",
    "\n",
    "    # Using model trained by user.\n",
    "    model = keras.models.load_model('./tensorflow_ds/model/keras/')\n",
    "\n",
    "    indices = list(range(0,10))\n",
    "    classes = [\"dress\", \"hat\", \"longsleeve\", \"outwear\", \"pants\", \"shirt\", \"shoes\", \"shorts\", \"skirt\", \"t-shirt\"]\n",
    "    classes2 = dict(zip(indices, classes))\n",
    "\n",
    "    img_array2 = resnet50.preprocess_input(images)\n",
    "    predictions = model.predict(img_array2)\n",
    "    predicted_classes = [np.argmax(prediction) for prediction in predictions]#\n",
    "    pred_string = [classes2[x] for x in predicted_classes]\n",
    "\n",
    "    #Organize prediction results\n",
    "    outcomes = []\n",
    "    for j in range(0, len(images)):\n",
    "        match = is_match(truelabels[j], pred_string[j])\n",
    "        outcome = {'name': names[j], 'ground_truth': truelabels[j], \n",
    "                   'prediction': predicted_classes[j],  \n",
    "                   \"pred_text\": pred_string[j],\n",
    "                   \"match\": match,\n",
    "                  'snow_path':snow_paths[j],'filesize':filesizes[j],\n",
    "                   'orig_timestamp':orig_timestamps[j]}\n",
    "        outcomes.append(outcome)\n",
    "\n",
    "    return(outcomes)"
   ]
  },
  {
   "cell_type": "code",
   "execution_count": 11,
   "id": "6c1fcb0a",
   "metadata": {
    "execution": {
     "iopub.execute_input": "2021-08-13T21:30:50.713504Z",
     "iopub.status.busy": "2021-08-13T21:30:50.713302Z",
     "iopub.status.idle": "2021-08-13T21:30:50.964150Z",
     "shell.execute_reply": "2021-08-13T21:30:50.963600Z",
     "shell.execute_reply.started": "2021-08-13T21:30:50.713483Z"
    }
   },
   "outputs": [
    {
     "name": "stderr",
     "output_type": "stream",
     "text": [
      "INFO:dask-saturn:Cluster is ready\n",
      "INFO:dask-saturn:Registering default plugins\n",
      "INFO:dask-saturn:Success!\n"
     ]
    },
    {
     "data": {
      "text/html": [
       "<table style=\"border: 2px solid white;\">\n",
       "<tr>\n",
       "<td style=\"vertical-align: top; border: 0px solid white\">\n",
       "<h3 style=\"text-align: left;\">Client</h3>\n",
       "<ul style=\"text-align: left; list-style: none; margin: 0; padding: 0;\">\n",
       "  <li><b>Scheduler: </b>tcp://d-steph-tensorflow-dev-c684c6ee502c425a8142c741e3f0af9a.main-namespace:8786</li>\n",
       "  <li><b>Dashboard: </b><a href='https://d-steph-tensorflow-dev-c684c6ee502c425a8142c741e3f0af9a.internal.saturnenterprise.io' target='_blank'>https://d-steph-tensorflow-dev-c684c6ee502c425a8142c741e3f0af9a.internal.saturnenterprise.io</a></li>\n",
       "</ul>\n",
       "</td>\n",
       "<td style=\"vertical-align: top; border: 0px solid white\">\n",
       "<h3 style=\"text-align: left;\">Cluster</h3>\n",
       "<ul style=\"text-align: left; list-style:none; margin: 0; padding: 0;\">\n",
       "  <li><b>Workers: </b>3</li>\n",
       "  <li><b>Cores: </b>12</li>\n",
       "  <li><b>Memory: </b>43.31 GiB</li>\n",
       "</ul>\n",
       "</td>\n",
       "</tr>\n",
       "</table>"
      ],
      "text/plain": [
       "<Client: 'tcp://192.168.5.68:8786' processes=3 threads=12, memory=43.31 GiB>"
      ]
     },
     "execution_count": 11,
     "metadata": {},
     "output_type": "execute_result"
    }
   ],
   "source": [
    "cluster = SaturnCluster()\n",
    "client = Client(cluster)\n",
    "client.wait_for_workers(2)\n",
    "client"
   ]
  },
  {
   "cell_type": "code",
   "execution_count": 12,
   "id": "e730b02b",
   "metadata": {
    "execution": {
     "iopub.execute_input": "2021-08-13T21:30:50.965404Z",
     "iopub.status.busy": "2021-08-13T21:30:50.965152Z",
     "iopub.status.idle": "2021-08-13T21:30:59.491873Z",
     "shell.execute_reply": "2021-08-13T21:30:59.491182Z",
     "shell.execute_reply.started": "2021-08-13T21:30:50.965372Z"
    }
   },
   "outputs": [],
   "source": [
    "client.restart() # Clears memory on cluster- optional but recommended.\n",
    "\n",
    "n = 32  #batch size\n",
    "list_df = [df[i:i+n] for i in range(0,df.shape[0],n)]\n",
    "image_rows = [[x for j,x in y.iterrows()] for y in list_df]\n",
    "image_batches1 = [[preprocess(list(x)) for x in y] for y in image_rows]\n",
    "image_batches = [reformat(result) for result in image_batches1]"
   ]
  },
  {
   "cell_type": "code",
   "execution_count": 13,
   "id": "8fd3f7b1",
   "metadata": {
    "execution": {
     "iopub.execute_input": "2021-08-13T21:30:59.492940Z",
     "iopub.status.busy": "2021-08-13T21:30:59.492770Z",
     "iopub.status.idle": "2021-08-13T21:31:18.365895Z",
     "shell.execute_reply": "2021-08-13T21:31:18.365164Z",
     "shell.execute_reply.started": "2021-08-13T21:30:59.492921Z"
    }
   },
   "outputs": [
    {
     "data": {
      "text/plain": [
       "{'tcp://192.168.17.4:36661': ['assets', 'variables', 'saved_model.pb'],\n",
       " 'tcp://192.168.231.132:36789': ['assets', 'variables', 'saved_model.pb'],\n",
       " 'tcp://192.168.243.4:38861': ['assets', 'variables', 'saved_model.pb']}"
      ]
     },
     "execution_count": 13,
     "metadata": {},
     "output_type": "execute_result"
    }
   ],
   "source": [
    "from dask_saturn.plugins import RegisterFiles, sync_files\n",
    "client.register_worker_plugin(RegisterFiles())\n",
    "sync_files(client, \"/home/jovyan/git-repos/tensorflow_ds/model/keras\")\n",
    "client.run(os.listdir, './tensorflow_ds/model/keras')"
   ]
  },
  {
   "cell_type": "code",
   "execution_count": null,
   "id": "ac6a5664",
   "metadata": {
    "execution": {
     "iopub.execute_input": "2021-08-13T21:31:18.367082Z",
     "iopub.status.busy": "2021-08-13T21:31:18.366907Z"
    }
   },
   "outputs": [],
   "source": [
    "%%time\n",
    "\n",
    "futures = client.map(predict_class_resnet, image_batches) \n",
    "futures_gathered = client.gather(futures)\n",
    "futures_computed = client.compute(futures_gathered, sync=False)\n",
    "\n",
    "import logging\n",
    "\n",
    "results = []\n",
    "errors = []\n",
    "for fut in futures_computed:\n",
    "    try:\n",
    "        result = fut.result()\n",
    "    except Exception as e:\n",
    "        errors.append(e)\n",
    "        logging.error(e)\n",
    "    else:\n",
    "        results.extend(result)"
   ]
  },
  {
   "cell_type": "code",
   "execution_count": null,
   "id": "5fe0fc52",
   "metadata": {},
   "outputs": [],
   "source": [
    "df2 = pd.DataFrame(results) \n",
    "df2.dtypes"
   ]
  },
  {
   "cell_type": "code",
   "execution_count": null,
   "id": "5fe3fc5e",
   "metadata": {},
   "outputs": [],
   "source": [
    "true_preds = [x['match'] for x in results if x['match'] == True]\n",
    "false_preds = [x['match'] for x in results if x['match'] == False]\n",
    "len(true_preds)/len(results)*100"
   ]
  },
  {
   "cell_type": "code",
   "execution_count": null,
   "id": "ec8594d9",
   "metadata": {},
   "outputs": [],
   "source": [
    "sample = dask.compute(*image_batches)\n",
    "s5 = list(map(list, zip(*sample)))\n",
    "\n",
    "test_names = [i for sublist in s5[0] for i in sublist]\n",
    "test_tensors = [i for sublist in s5[1] for i in sublist]\n",
    "test_orig = [i for sublist in s5[2] for i in sublist]\n",
    "test_final = list(zip(test_names, test_tensors, test_orig))"
   ]
  },
  {
   "cell_type": "code",
   "execution_count": null,
   "id": "56625642",
   "metadata": {},
   "outputs": [],
   "source": [
    "expanded_list = [(i, j) for i in results for j in test_final if i['name'] in test_names and j[0] in test_names and i['name'] == j[0]]"
   ]
  },
  {
   "cell_type": "code",
   "execution_count": null,
   "id": "ec021f60",
   "metadata": {},
   "outputs": [],
   "source": [
    "import matplotlib.pyplot as plt\n",
    "\n",
    "to_pil = transforms.ToPILImage()\n",
    "imglist = expanded_list[325:330]\n",
    "f, ax = plt.subplots(nrows=1, ncols=5, figsize=(16,6))\n",
    "\n",
    "for i in range(0,5):\n",
    "    img1 = to_pil(imglist[i][1][1]) \n",
    "    ax[i].imshow(img1).axes.xaxis.set_visible(False)\n",
    "    ax[i].axes.yaxis.set_visible(False)\n",
    "    textcol = \"green\" if imglist[i][0][\"evaluation\"] == True else \"red\"\n",
    "    ax[i].set_title(\n",
    "        f'''Predicted Class: {imglist[i][0][\"prediction_text\"]} \n",
    "Actual Class: {imglist[i][0][\"ground_truth\"]} ''',\n",
    "        color=textcol)\n",
    "\n",
    "title = 'Sample Images'\n",
    "f.suptitle(title, fontsize=16)\n",
    "plt.tight_layout()\n",
    "plt.show()"
   ]
  }
 ],
 "metadata": {
  "kernelspec": {
   "display_name": "saturn (Python 3)",
   "language": "python",
   "name": "python3"
  },
  "language_info": {
   "codemirror_mode": {
    "name": "ipython",
    "version": 3
   },
   "file_extension": ".py",
   "mimetype": "text/x-python",
   "name": "python",
   "nbconvert_exporter": "python",
   "pygments_lexer": "ipython3",
   "version": "3.9.5"
  }
 },
 "nbformat": 4,
 "nbformat_minor": 5
}
