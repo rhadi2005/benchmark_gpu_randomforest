{
 "cells": [
  {
   "cell_type": "markdown",
   "id": "c3ff41c7",
   "metadata": {},
   "source": [
    "# Cluster Training\n",
    "\n",
    "DOES NOT WORK YET\n",
    "\n",
    "Issues with distributed training, also not sure if dataset class will work. "
   ]
  },
  {
   "cell_type": "code",
   "execution_count": 1,
   "id": "5d92945a",
   "metadata": {
    "execution": {
     "iopub.execute_input": "2021-08-17T18:56:40.310860Z",
     "iopub.status.busy": "2021-08-17T18:56:40.310638Z",
     "iopub.status.idle": "2021-08-17T18:56:42.869076Z",
     "shell.execute_reply": "2021-08-17T18:56:42.868519Z",
     "shell.execute_reply.started": "2021-08-17T18:56:40.310823Z"
    }
   },
   "outputs": [
    {
     "name": "stderr",
     "output_type": "stream",
     "text": [
      "/srv/conda/envs/saturn/lib/python3.9/site-packages/snowflake/connector/options.py:94: UserWarning: You have an incompatible version of 'pyarrow' installed (4.0.1), please install a version that adheres to: 'pyarrow<3.1.0,>=3.0.0; extra == \"pandas\"'\n",
      "  warn_incompatible_dep(\n"
     ]
    },
    {
     "name": "stdout",
     "output_type": "stream",
     "text": [
      "2.4.1\n"
     ]
    }
   ],
   "source": [
    "import numpy as np, pandas as pd\n",
    "import requests, io, os, datetime, re\n",
    "from tensorflow_snowflake_class import SnowflakeDataset\n",
    "\n",
    "import tensorflow as tf\n",
    "import keras\n",
    "import matplotlib.pyplot as plt\n",
    "from tensorflow.keras import datasets, layers, models, losses, Model\n",
    "from keras.applications import resnet50\n",
    "from keras.preprocessing import image\n",
    "import snowflake.connector\n",
    "from snowflake.connector.pandas_tools import write_pandas\n",
    "import dask\n",
    "\n",
    "import time\n",
    "\n",
    "import tensorflow as tf\n",
    "print(tf.__version__)"
   ]
  },
  {
   "cell_type": "code",
   "execution_count": 5,
   "id": "a7e5eed3",
   "metadata": {
    "execution": {
     "iopub.execute_input": "2021-08-17T18:56:43.906630Z",
     "iopub.status.busy": "2021-08-17T18:56:43.906487Z",
     "iopub.status.idle": "2021-08-17T18:56:43.908808Z",
     "shell.execute_reply": "2021-08-17T18:56:43.908387Z",
     "shell.execute_reply.started": "2021-08-17T18:56:43.906613Z"
    }
   },
   "outputs": [],
   "source": [
    "from dask.distributed import get_worker\n",
    "import json \n",
    "from tensorflow.distribute import cluster_resolver, MultiWorkerMirroredStrategy, experimental\n",
    "import wandb\n",
    "from wandb.keras import WandbCallback"
   ]
  },
  {
   "cell_type": "code",
   "execution_count": 4,
   "id": "c332e446",
   "metadata": {
    "execution": {
     "iopub.execute_input": "2021-08-17T18:56:43.363298Z",
     "iopub.status.busy": "2021-08-17T18:56:43.363155Z",
     "iopub.status.idle": "2021-08-17T18:56:43.905876Z",
     "shell.execute_reply": "2021-08-17T18:56:43.905465Z",
     "shell.execute_reply.started": "2021-08-17T18:56:43.363282Z"
    }
   },
   "outputs": [
    {
     "name": "stderr",
     "output_type": "stream",
     "text": [
      "INFO:dask-saturn:Cluster is ready\n",
      "INFO:dask-saturn:Registering default plugins\n",
      "INFO:dask-saturn:Success!\n"
     ]
    },
    {
     "data": {
      "text/html": [
       "<table style=\"border: 2px solid white;\">\n",
       "<tr>\n",
       "<td style=\"vertical-align: top; border: 0px solid white\">\n",
       "<h3 style=\"text-align: left;\">Client</h3>\n",
       "<ul style=\"text-align: left; list-style: none; margin: 0; padding: 0;\">\n",
       "  <li><b>Scheduler: </b>tcp://d-steph-tensorflow-dev-c684c6ee502c425a8142c741e3f0af9a.main-namespace:8786</li>\n",
       "  <li><b>Dashboard: </b><a href='https://d-steph-tensorflow-dev-c684c6ee502c425a8142c741e3f0af9a.internal.saturnenterprise.io' target='_blank'>https://d-steph-tensorflow-dev-c684c6ee502c425a8142c741e3f0af9a.internal.saturnenterprise.io</a></li>\n",
       "</ul>\n",
       "</td>\n",
       "<td style=\"vertical-align: top; border: 0px solid white\">\n",
       "<h3 style=\"text-align: left;\">Cluster</h3>\n",
       "<ul style=\"text-align: left; list-style:none; margin: 0; padding: 0;\">\n",
       "  <li><b>Workers: </b>5</li>\n",
       "  <li><b>Cores: </b>80</li>\n",
       "  <li><b>Memory: </b>295.69 GiB</li>\n",
       "</ul>\n",
       "</td>\n",
       "</tr>\n",
       "</table>"
      ],
      "text/plain": [
       "<Client: 'tcp://192.168.245.1:8786' processes=5 threads=80, memory=295.69 GiB>"
      ]
     },
     "execution_count": 4,
     "metadata": {},
     "output_type": "execute_result"
    }
   ],
   "source": [
    "from dask_saturn import SaturnCluster\n",
    "from dask.distributed import Client\n",
    "import s3fs\n",
    "import re\n",
    "\n",
    "cluster = SaturnCluster()\n",
    "client = Client(cluster)\n",
    "client.wait_for_workers(3)\n",
    "client"
   ]
  },
  {
   "cell_type": "markdown",
   "id": "b4d1cb50",
   "metadata": {},
   "source": [
    "# Setting up worker organization\n",
    "\n",
    "These functions create the \"TF_CONFIG\" env var."
   ]
  },
  {
   "cell_type": "code",
   "execution_count": 6,
   "id": "d44b7a01",
   "metadata": {
    "execution": {
     "iopub.execute_input": "2021-08-17T18:56:43.909571Z",
     "iopub.status.busy": "2021-08-17T18:56:43.909428Z",
     "iopub.status.idle": "2021-08-17T18:56:43.914764Z",
     "shell.execute_reply": "2021-08-17T18:56:43.914332Z",
     "shell.execute_reply.started": "2021-08-17T18:56:43.909555Z"
    }
   },
   "outputs": [],
   "source": [
    "def f():\n",
    "    worker = get_worker()  # The worker on which this task is running\n",
    "    return worker.address\n",
    "\n",
    "def make_assignments(future):\n",
    "    clusterset = {'worker': list(future)}\n",
    "    task_assignments = []\n",
    "    for i in range(len(clusterset['worker'])):\n",
    "        \n",
    "        if len(clusterset['worker']) < 2:\n",
    "            print(\"Not enough workers\")\n",
    "        elif i == 0:\n",
    "            assign = {\"worker\": clusterset['worker'][i], \"type\": \"worker\", \"index\": i}\n",
    "        else:\n",
    "            assign = {\"worker\": clusterset['worker'][i], \"type\": \"worker\", \"index\": i}\n",
    "\n",
    "        task_assignments.append(assign)\n",
    "        \n",
    "    return {\"clusterset\":clusterset, \"assignments\":task_assignments}\n",
    "\n",
    "def make_config(clusterset, assignments):\n",
    "    worker = get_worker()\n",
    "    \n",
    "    #worker = clusterset['worker'][1]\n",
    "    assignment = [x for x in assignments if x['worker'] == worker.address]\n",
    "    results = json.dumps({\n",
    "        'cluster': clusterset,\n",
    "        'task': {'type': assignment[0]['type'], 'index': assignment[0]['index']}\n",
    "        })\n",
    "    \n",
    "    os.environ['TF_CONFIG'] = results\n",
    "    return(os.environ['TF_CONFIG'])"
   ]
  },
  {
   "cell_type": "markdown",
   "id": "065a92c6",
   "metadata": {},
   "source": [
    "# Process Data"
   ]
  },
  {
   "cell_type": "markdown",
   "id": "9b74e434",
   "metadata": {},
   "source": [
    "In this training loop, I'm trying to instruct it to use NCCL but somehow it still seems to be using gRPC.\n",
    "https://www.tensorflow.org/tutorials/distribute/multi_worker_with_keras#choose_the_right_strategy\n"
   ]
  },
  {
   "cell_type": "code",
   "execution_count": 19,
   "id": "399459f1",
   "metadata": {
    "execution": {
     "iopub.execute_input": "2021-08-17T18:57:44.156134Z",
     "iopub.status.busy": "2021-08-17T18:57:44.155904Z",
     "iopub.status.idle": "2021-08-17T18:57:44.160310Z",
     "shell.execute_reply": "2021-08-17T18:57:44.159832Z",
     "shell.execute_reply.started": "2021-08-17T18:57:44.156112Z"
    }
   },
   "outputs": [],
   "source": [
    "def train_model_fit(n_epochs, base_lr, batchsize):\n",
    "    \n",
    "    # --------- Start wandb --------- #\n",
    "    wandb.init(entity='skirmer', project='tensorflow_rnd')\n",
    "    config=wbargs\n",
    "\n",
    "    communication_options = experimental.CommunicationOptions(\n",
    "        implementation=experimental.CommunicationImplementation.NCCL)\n",
    "    \n",
    "    strategy = MultiWorkerMirroredStrategy(\n",
    "        communication_options=communication_options,\n",
    "       cluster_resolver = cluster_resolver.TFConfigClusterResolver()\n",
    "   )\n",
    "\n",
    "    with strategy.scope():\n",
    "        model = tf.keras.applications.ResNet50(\n",
    "            include_top=True,\n",
    "            weights=None,\n",
    "            classes=10)\n",
    "        \n",
    "        optimizer = keras.optimizers.Adam(lr=base_lr)\n",
    "        model.compile(loss='sparse_categorical_crossentropy', optimizer=optimizer, metrics=['accuracy'])\n",
    "\n",
    "    start = time.time()\n",
    "    \n",
    "    model.fit(dist_dataset,\n",
    "        steps_per_epoch=96,\n",
    "        epochs=n_epochs,\n",
    "        callbacks=[WandbCallback()])\n",
    "    \n",
    "    end = time.time()-start\n",
    "    print(\"model training time\", end)\n",
    "    wandb.log({\"training_time\":end})\n",
    "\n",
    "    Close your wandb run \n",
    "    wandb.run.finish()"
   ]
  },
  {
   "cell_type": "code",
   "execution_count": 20,
   "id": "068dd80e",
   "metadata": {
    "execution": {
     "iopub.execute_input": "2021-08-17T18:57:44.647414Z",
     "iopub.status.busy": "2021-08-17T18:57:44.647247Z",
     "iopub.status.idle": "2021-08-17T18:57:47.002808Z",
     "shell.execute_reply": "2021-08-17T18:57:47.002336Z",
     "shell.execute_reply.started": "2021-08-17T18:57:44.647396Z"
    }
   },
   "outputs": [
    {
     "data": {
      "text/html": [
       "<table style=\"border: 2px solid white;\">\n",
       "<tr>\n",
       "<td style=\"vertical-align: top; border: 0px solid white\">\n",
       "<h3 style=\"text-align: left;\">Client</h3>\n",
       "<ul style=\"text-align: left; list-style: none; margin: 0; padding: 0;\">\n",
       "  <li><b>Scheduler: </b>tcp://d-steph-tensorflow-dev-c684c6ee502c425a8142c741e3f0af9a.main-namespace:8786</li>\n",
       "  <li><b>Dashboard: </b><a href='https://d-steph-tensorflow-dev-c684c6ee502c425a8142c741e3f0af9a.internal.saturnenterprise.io' target='_blank'>https://d-steph-tensorflow-dev-c684c6ee502c425a8142c741e3f0af9a.internal.saturnenterprise.io</a></li>\n",
       "</ul>\n",
       "</td>\n",
       "<td style=\"vertical-align: top; border: 0px solid white\">\n",
       "<h3 style=\"text-align: left;\">Cluster</h3>\n",
       "<ul style=\"text-align: left; list-style:none; margin: 0; padding: 0;\">\n",
       "  <li><b>Workers: </b>5</li>\n",
       "  <li><b>Cores: </b>80</li>\n",
       "  <li><b>Memory: </b>295.69 GiB</li>\n",
       "</ul>\n",
       "</td>\n",
       "</tr>\n",
       "</table>"
      ],
      "text/plain": [
       "<Client: 'tcp://192.168.245.1:8786' processes=0 threads=0, memory=0 B>"
      ]
     },
     "execution_count": 20,
     "metadata": {},
     "output_type": "execute_result"
    }
   ],
   "source": [
    "client.restart() # Clears memory on cluster- optional but recommended."
   ]
  },
  {
   "cell_type": "code",
   "execution_count": 21,
   "id": "7a6d1072",
   "metadata": {
    "execution": {
     "iopub.execute_input": "2021-08-17T18:57:47.003879Z",
     "iopub.status.busy": "2021-08-17T18:57:47.003696Z",
     "iopub.status.idle": "2021-08-17T18:57:47.021962Z",
     "shell.execute_reply": "2021-08-17T18:57:47.021527Z",
     "shell.execute_reply.started": "2021-08-17T18:57:47.003861Z"
    }
   },
   "outputs": [],
   "source": [
    "# Prepare workers for parallel training- make the env vars on each worker.\n",
    "\n",
    "f1 = client.run(f)  \n",
    "assignments = make_assignments(f1)\n",
    "worker_assign = client.run(make_config, **assignments)\n"
   ]
  },
  {
   "cell_type": "code",
   "execution_count": 22,
   "id": "94b669ba",
   "metadata": {
    "execution": {
     "iopub.execute_input": "2021-08-17T18:57:47.022970Z",
     "iopub.status.busy": "2021-08-17T18:57:47.022823Z",
     "iopub.status.idle": "2021-08-17T18:57:47.109814Z",
     "shell.execute_reply": "2021-08-17T18:57:47.109335Z",
     "shell.execute_reply.started": "2021-08-17T18:57:47.022953Z"
    }
   },
   "outputs": [
    {
     "name": "stdout",
     "output_type": "stream",
     "text": [
      "Found 3068 files belonging to 10 classes.\n"
     ]
    }
   ],
   "source": [
    "# Dataset creation - how best to do on workers? Can we figure out a way to pull from S3?\n",
    "\n",
    "train_ds = tf.keras.preprocessing.image_dataset_from_directory(\n",
    "  '/home/jovyan/git-repos/tensorflow_ds/data/clothing-dataset-small/train',\n",
    "  seed=123,\n",
    "  image_size=(224,224),\n",
    "  batch_size=32).prefetch(2)"
   ]
  },
  {
   "cell_type": "code",
   "execution_count": 23,
   "id": "c926b594",
   "metadata": {
    "execution": {
     "iopub.execute_input": "2021-08-17T18:57:47.110657Z",
     "iopub.status.busy": "2021-08-17T18:57:47.110508Z",
     "iopub.status.idle": "2021-08-17T18:57:47.123705Z",
     "shell.execute_reply": "2021-08-17T18:57:47.123262Z",
     "shell.execute_reply.started": "2021-08-17T18:57:47.110640Z"
    }
   },
   "outputs": [
    {
     "name": "stdout",
     "output_type": "stream",
     "text": [
      "WARNING:tensorflow:Collective ops is not configured at program startup. Some performance features may not be enabled.\n"
     ]
    },
    {
     "name": "stderr",
     "output_type": "stream",
     "text": [
      "WARNING:tensorflow:Collective ops is not configured at program startup. Some performance features may not be enabled.\n"
     ]
    },
    {
     "name": "stdout",
     "output_type": "stream",
     "text": [
      "INFO:tensorflow:Using MirroredStrategy with devices ('/device:GPU:0',)\n"
     ]
    },
    {
     "name": "stderr",
     "output_type": "stream",
     "text": [
      "INFO:tensorflow:Using MirroredStrategy with devices ('/device:GPU:0',)\n"
     ]
    },
    {
     "name": "stdout",
     "output_type": "stream",
     "text": [
      "INFO:tensorflow:Single-worker MultiWorkerMirroredStrategy with local_devices = ('/device:GPU:0',), communication = CommunicationImplementation.NCCL\n"
     ]
    },
    {
     "name": "stderr",
     "output_type": "stream",
     "text": [
      "INFO:tensorflow:Single-worker MultiWorkerMirroredStrategy with local_devices = ('/device:GPU:0',), communication = CommunicationImplementation.NCCL\n"
     ]
    }
   ],
   "source": [
    "# Tests to see how the communication settings look\n",
    "\n",
    "communication_options = experimental.CommunicationOptions(\n",
    "    implementation=experimental.CommunicationImplementation.NCCL)\n",
    "\n",
    "strategy = MultiWorkerMirroredStrategy(\n",
    "    communication_options=communication_options,\n",
    "    cluster_resolver = cluster_resolver.TFConfigClusterResolver()\n",
    ")\n",
    "    \n",
    "dist_dataset = strategy.experimental_distribute_dataset(train_ds)\n"
   ]
  },
  {
   "cell_type": "code",
   "execution_count": 24,
   "id": "d01e4a3a",
   "metadata": {
    "execution": {
     "iopub.execute_input": "2021-08-17T18:57:47.205359Z",
     "iopub.status.busy": "2021-08-17T18:57:47.205203Z",
     "iopub.status.idle": "2021-08-17T18:57:47.208486Z",
     "shell.execute_reply": "2021-08-17T18:57:47.208051Z",
     "shell.execute_reply.started": "2021-08-17T18:57:47.205342Z"
    }
   },
   "outputs": [
    {
     "data": {
      "text/plain": [
       "<tensorflow.python.distribute.input_lib.DistributedDataset at 0x7f4865eb84f0>"
      ]
     },
     "execution_count": 24,
     "metadata": {},
     "output_type": "execute_result"
    }
   ],
   "source": [
    "dist_dataset"
   ]
  },
  {
   "cell_type": "code",
   "execution_count": 25,
   "id": "b81b52cc",
   "metadata": {
    "execution": {
     "iopub.execute_input": "2021-08-17T18:57:48.463453Z",
     "iopub.status.busy": "2021-08-17T18:57:48.463233Z",
     "iopub.status.idle": "2021-08-17T18:57:48.467040Z",
     "shell.execute_reply": "2021-08-17T18:57:48.466580Z",
     "shell.execute_reply.started": "2021-08-17T18:57:48.463431Z"
    }
   },
   "outputs": [
    {
     "data": {
      "text/plain": [
       "{'tcp://192.168.122.132:33355': '{\"cluster\": {\"worker\": [\"tcp://192.168.122.132:33355\", \"tcp://192.168.124.4:34529\", \"tcp://192.168.157.4:43091\", \"tcp://192.168.192.4:42475\", \"tcp://192.168.208.132:43737\"]}, \"task\": {\"type\": \"worker\", \"index\": 0}}',\n",
       " 'tcp://192.168.124.4:34529': '{\"cluster\": {\"worker\": [\"tcp://192.168.122.132:33355\", \"tcp://192.168.124.4:34529\", \"tcp://192.168.157.4:43091\", \"tcp://192.168.192.4:42475\", \"tcp://192.168.208.132:43737\"]}, \"task\": {\"type\": \"worker\", \"index\": 1}}',\n",
       " 'tcp://192.168.157.4:43091': '{\"cluster\": {\"worker\": [\"tcp://192.168.122.132:33355\", \"tcp://192.168.124.4:34529\", \"tcp://192.168.157.4:43091\", \"tcp://192.168.192.4:42475\", \"tcp://192.168.208.132:43737\"]}, \"task\": {\"type\": \"worker\", \"index\": 2}}',\n",
       " 'tcp://192.168.192.4:42475': '{\"cluster\": {\"worker\": [\"tcp://192.168.122.132:33355\", \"tcp://192.168.124.4:34529\", \"tcp://192.168.157.4:43091\", \"tcp://192.168.192.4:42475\", \"tcp://192.168.208.132:43737\"]}, \"task\": {\"type\": \"worker\", \"index\": 3}}',\n",
       " 'tcp://192.168.208.132:43737': '{\"cluster\": {\"worker\": [\"tcp://192.168.122.132:33355\", \"tcp://192.168.124.4:34529\", \"tcp://192.168.157.4:43091\", \"tcp://192.168.192.4:42475\", \"tcp://192.168.208.132:43737\"]}, \"task\": {\"type\": \"worker\", \"index\": 4}}'}"
      ]
     },
     "execution_count": 25,
     "metadata": {},
     "output_type": "execute_result"
    }
   ],
   "source": [
    "# Check how the worker env vars turned out\n",
    "\n",
    "worker_assign"
   ]
  },
  {
   "cell_type": "code",
   "execution_count": 26,
   "id": "65b7c4e6",
   "metadata": {
    "execution": {
     "iopub.execute_input": "2021-08-17T18:57:49.369349Z",
     "iopub.status.busy": "2021-08-17T18:57:49.369188Z",
     "iopub.status.idle": "2021-08-17T18:57:49.372147Z",
     "shell.execute_reply": "2021-08-17T18:57:49.371714Z",
     "shell.execute_reply.started": "2021-08-17T18:57:49.369332Z"
    }
   },
   "outputs": [],
   "source": [
    "model_params = {'n_epochs': 5, \n",
    "                'base_lr': .02,\n",
    "               'batchsize': 32}\n",
    "\n",
    "wbargs = {**model_params,\n",
    "    'classes':10,\n",
    "    'Notes':\"tf_mm\",\n",
    "    'Tags': ['multimachine', 'gpu', 'tensorflow'],\n",
    "    'dataset':\"Clothing\",\n",
    "    'architecture':\"ResNet\"}\n"
   ]
  },
  {
   "cell_type": "code",
   "execution_count": 27,
   "id": "bd03b052",
   "metadata": {
    "execution": {
     "iopub.execute_input": "2021-08-17T18:57:50.020145Z",
     "iopub.status.busy": "2021-08-17T18:57:50.019938Z",
     "iopub.status.idle": "2021-08-17T18:57:52.265036Z",
     "shell.execute_reply": "2021-08-17T18:57:52.264524Z",
     "shell.execute_reply.started": "2021-08-17T18:57:50.020123Z"
    }
   },
   "outputs": [
    {
     "ename": "UnknownError",
     "evalue": "Could not start gRPC server",
     "output_type": "error",
     "traceback": [
      "\u001b[0;31m---------------------------------------------------------------------------\u001b[0m",
      "\u001b[0;31mUnknownError\u001b[0m                              Traceback (most recent call last)",
      "\u001b[0;32m<timed exec>\u001b[0m in \u001b[0;36m<module>\u001b[0;34m\u001b[0m\n",
      "\u001b[0;32m/srv/conda/envs/saturn/lib/python3.9/site-packages/distributed/client.py\u001b[0m in \u001b[0;36mrun\u001b[0;34m(self, function, *args, **kwargs)\u001b[0m\n\u001b[1;32m   2498\u001b[0m         \u001b[0;34m>>\u001b[0m\u001b[0;34m>\u001b[0m \u001b[0mc\u001b[0m\u001b[0;34m.\u001b[0m\u001b[0mrun\u001b[0m\u001b[0;34m(\u001b[0m\u001b[0mprint_state\u001b[0m\u001b[0;34m,\u001b[0m \u001b[0mwait\u001b[0m\u001b[0;34m=\u001b[0m\u001b[0;32mFalse\u001b[0m\u001b[0;34m)\u001b[0m  \u001b[0;31m# doctest: +SKIP\u001b[0m\u001b[0;34m\u001b[0m\u001b[0;34m\u001b[0m\u001b[0m\n\u001b[1;32m   2499\u001b[0m         \"\"\"\n\u001b[0;32m-> 2500\u001b[0;31m         \u001b[0;32mreturn\u001b[0m \u001b[0mself\u001b[0m\u001b[0;34m.\u001b[0m\u001b[0msync\u001b[0m\u001b[0;34m(\u001b[0m\u001b[0mself\u001b[0m\u001b[0;34m.\u001b[0m\u001b[0m_run\u001b[0m\u001b[0;34m,\u001b[0m \u001b[0mfunction\u001b[0m\u001b[0;34m,\u001b[0m \u001b[0;34m*\u001b[0m\u001b[0margs\u001b[0m\u001b[0;34m,\u001b[0m \u001b[0;34m**\u001b[0m\u001b[0mkwargs\u001b[0m\u001b[0;34m)\u001b[0m\u001b[0;34m\u001b[0m\u001b[0;34m\u001b[0m\u001b[0m\n\u001b[0m\u001b[1;32m   2501\u001b[0m \u001b[0;34m\u001b[0m\u001b[0m\n\u001b[1;32m   2502\u001b[0m     \u001b[0;32mdef\u001b[0m \u001b[0mrun_coroutine\u001b[0m\u001b[0;34m(\u001b[0m\u001b[0mself\u001b[0m\u001b[0;34m,\u001b[0m \u001b[0mfunction\u001b[0m\u001b[0;34m,\u001b[0m \u001b[0;34m*\u001b[0m\u001b[0margs\u001b[0m\u001b[0;34m,\u001b[0m \u001b[0;34m**\u001b[0m\u001b[0mkwargs\u001b[0m\u001b[0;34m)\u001b[0m\u001b[0;34m:\u001b[0m\u001b[0;34m\u001b[0m\u001b[0;34m\u001b[0m\u001b[0m\n",
      "\u001b[0;32m/srv/conda/envs/saturn/lib/python3.9/site-packages/distributed/client.py\u001b[0m in \u001b[0;36msync\u001b[0;34m(self, func, asynchronous, callback_timeout, *args, **kwargs)\u001b[0m\n\u001b[1;32m    841\u001b[0m             \u001b[0;32mreturn\u001b[0m \u001b[0mfuture\u001b[0m\u001b[0;34m\u001b[0m\u001b[0;34m\u001b[0m\u001b[0m\n\u001b[1;32m    842\u001b[0m         \u001b[0;32melse\u001b[0m\u001b[0;34m:\u001b[0m\u001b[0;34m\u001b[0m\u001b[0;34m\u001b[0m\u001b[0m\n\u001b[0;32m--> 843\u001b[0;31m             return sync(\n\u001b[0m\u001b[1;32m    844\u001b[0m                 \u001b[0mself\u001b[0m\u001b[0;34m.\u001b[0m\u001b[0mloop\u001b[0m\u001b[0;34m,\u001b[0m \u001b[0mfunc\u001b[0m\u001b[0;34m,\u001b[0m \u001b[0;34m*\u001b[0m\u001b[0margs\u001b[0m\u001b[0;34m,\u001b[0m \u001b[0mcallback_timeout\u001b[0m\u001b[0;34m=\u001b[0m\u001b[0mcallback_timeout\u001b[0m\u001b[0;34m,\u001b[0m \u001b[0;34m**\u001b[0m\u001b[0mkwargs\u001b[0m\u001b[0;34m\u001b[0m\u001b[0;34m\u001b[0m\u001b[0m\n\u001b[1;32m    845\u001b[0m             )\n",
      "\u001b[0;32m/srv/conda/envs/saturn/lib/python3.9/site-packages/distributed/utils.py\u001b[0m in \u001b[0;36msync\u001b[0;34m(loop, func, callback_timeout, *args, **kwargs)\u001b[0m\n\u001b[1;32m    351\u001b[0m     \u001b[0;32mif\u001b[0m \u001b[0merror\u001b[0m\u001b[0;34m[\u001b[0m\u001b[0;36m0\u001b[0m\u001b[0;34m]\u001b[0m\u001b[0;34m:\u001b[0m\u001b[0;34m\u001b[0m\u001b[0;34m\u001b[0m\u001b[0m\n\u001b[1;32m    352\u001b[0m         \u001b[0mtyp\u001b[0m\u001b[0;34m,\u001b[0m \u001b[0mexc\u001b[0m\u001b[0;34m,\u001b[0m \u001b[0mtb\u001b[0m \u001b[0;34m=\u001b[0m \u001b[0merror\u001b[0m\u001b[0;34m[\u001b[0m\u001b[0;36m0\u001b[0m\u001b[0;34m]\u001b[0m\u001b[0;34m\u001b[0m\u001b[0;34m\u001b[0m\u001b[0m\n\u001b[0;32m--> 353\u001b[0;31m         \u001b[0;32mraise\u001b[0m \u001b[0mexc\u001b[0m\u001b[0;34m.\u001b[0m\u001b[0mwith_traceback\u001b[0m\u001b[0;34m(\u001b[0m\u001b[0mtb\u001b[0m\u001b[0;34m)\u001b[0m\u001b[0;34m\u001b[0m\u001b[0;34m\u001b[0m\u001b[0m\n\u001b[0m\u001b[1;32m    354\u001b[0m     \u001b[0;32melse\u001b[0m\u001b[0;34m:\u001b[0m\u001b[0;34m\u001b[0m\u001b[0;34m\u001b[0m\u001b[0m\n\u001b[1;32m    355\u001b[0m         \u001b[0;32mreturn\u001b[0m \u001b[0mresult\u001b[0m\u001b[0;34m[\u001b[0m\u001b[0;36m0\u001b[0m\u001b[0;34m]\u001b[0m\u001b[0;34m\u001b[0m\u001b[0;34m\u001b[0m\u001b[0m\n",
      "\u001b[0;32m/srv/conda/envs/saturn/lib/python3.9/site-packages/distributed/utils.py\u001b[0m in \u001b[0;36mf\u001b[0;34m()\u001b[0m\n\u001b[1;32m    334\u001b[0m             \u001b[0;32mif\u001b[0m \u001b[0mcallback_timeout\u001b[0m \u001b[0;32mis\u001b[0m \u001b[0;32mnot\u001b[0m \u001b[0;32mNone\u001b[0m\u001b[0;34m:\u001b[0m\u001b[0;34m\u001b[0m\u001b[0;34m\u001b[0m\u001b[0m\n\u001b[1;32m    335\u001b[0m                 \u001b[0mfuture\u001b[0m \u001b[0;34m=\u001b[0m \u001b[0masyncio\u001b[0m\u001b[0;34m.\u001b[0m\u001b[0mwait_for\u001b[0m\u001b[0;34m(\u001b[0m\u001b[0mfuture\u001b[0m\u001b[0;34m,\u001b[0m \u001b[0mcallback_timeout\u001b[0m\u001b[0;34m)\u001b[0m\u001b[0;34m\u001b[0m\u001b[0;34m\u001b[0m\u001b[0m\n\u001b[0;32m--> 336\u001b[0;31m             \u001b[0mresult\u001b[0m\u001b[0;34m[\u001b[0m\u001b[0;36m0\u001b[0m\u001b[0;34m]\u001b[0m \u001b[0;34m=\u001b[0m \u001b[0;32myield\u001b[0m \u001b[0mfuture\u001b[0m\u001b[0;34m\u001b[0m\u001b[0;34m\u001b[0m\u001b[0m\n\u001b[0m\u001b[1;32m    337\u001b[0m         \u001b[0;32mexcept\u001b[0m \u001b[0mException\u001b[0m \u001b[0;32mas\u001b[0m \u001b[0mexc\u001b[0m\u001b[0;34m:\u001b[0m\u001b[0;34m\u001b[0m\u001b[0;34m\u001b[0m\u001b[0m\n\u001b[1;32m    338\u001b[0m             \u001b[0merror\u001b[0m\u001b[0;34m[\u001b[0m\u001b[0;36m0\u001b[0m\u001b[0;34m]\u001b[0m \u001b[0;34m=\u001b[0m \u001b[0msys\u001b[0m\u001b[0;34m.\u001b[0m\u001b[0mexc_info\u001b[0m\u001b[0;34m(\u001b[0m\u001b[0;34m)\u001b[0m\u001b[0;34m\u001b[0m\u001b[0;34m\u001b[0m\u001b[0m\n",
      "\u001b[0;32m/srv/conda/envs/saturn/lib/python3.9/site-packages/tornado/gen.py\u001b[0m in \u001b[0;36mrun\u001b[0;34m(self)\u001b[0m\n\u001b[1;32m    760\u001b[0m \u001b[0;34m\u001b[0m\u001b[0m\n\u001b[1;32m    761\u001b[0m                     \u001b[0;32mtry\u001b[0m\u001b[0;34m:\u001b[0m\u001b[0;34m\u001b[0m\u001b[0;34m\u001b[0m\u001b[0m\n\u001b[0;32m--> 762\u001b[0;31m                         \u001b[0mvalue\u001b[0m \u001b[0;34m=\u001b[0m \u001b[0mfuture\u001b[0m\u001b[0;34m.\u001b[0m\u001b[0mresult\u001b[0m\u001b[0;34m(\u001b[0m\u001b[0;34m)\u001b[0m\u001b[0;34m\u001b[0m\u001b[0;34m\u001b[0m\u001b[0m\n\u001b[0m\u001b[1;32m    763\u001b[0m                     \u001b[0;32mexcept\u001b[0m \u001b[0mException\u001b[0m\u001b[0;34m:\u001b[0m\u001b[0;34m\u001b[0m\u001b[0;34m\u001b[0m\u001b[0m\n\u001b[1;32m    764\u001b[0m                         \u001b[0mexc_info\u001b[0m \u001b[0;34m=\u001b[0m \u001b[0msys\u001b[0m\u001b[0;34m.\u001b[0m\u001b[0mexc_info\u001b[0m\u001b[0;34m(\u001b[0m\u001b[0;34m)\u001b[0m\u001b[0;34m\u001b[0m\u001b[0;34m\u001b[0m\u001b[0m\n",
      "\u001b[0;32m/srv/conda/envs/saturn/lib/python3.9/site-packages/distributed/client.py\u001b[0m in \u001b[0;36m_run\u001b[0;34m(self, function, nanny, workers, wait, *args, **kwargs)\u001b[0m\n\u001b[1;32m   2435\u001b[0m             \u001b[0;32melif\u001b[0m \u001b[0mresp\u001b[0m\u001b[0;34m[\u001b[0m\u001b[0;34m\"status\"\u001b[0m\u001b[0;34m]\u001b[0m \u001b[0;34m==\u001b[0m \u001b[0;34m\"error\"\u001b[0m\u001b[0;34m:\u001b[0m\u001b[0;34m\u001b[0m\u001b[0;34m\u001b[0m\u001b[0m\n\u001b[1;32m   2436\u001b[0m                 \u001b[0mtyp\u001b[0m\u001b[0;34m,\u001b[0m \u001b[0mexc\u001b[0m\u001b[0;34m,\u001b[0m \u001b[0mtb\u001b[0m \u001b[0;34m=\u001b[0m \u001b[0mclean_exception\u001b[0m\u001b[0;34m(\u001b[0m\u001b[0;34m**\u001b[0m\u001b[0mresp\u001b[0m\u001b[0;34m)\u001b[0m\u001b[0;34m\u001b[0m\u001b[0;34m\u001b[0m\u001b[0m\n\u001b[0;32m-> 2437\u001b[0;31m                 \u001b[0;32mraise\u001b[0m \u001b[0mexc\u001b[0m\u001b[0;34m.\u001b[0m\u001b[0mwith_traceback\u001b[0m\u001b[0;34m(\u001b[0m\u001b[0mtb\u001b[0m\u001b[0;34m)\u001b[0m\u001b[0;34m\u001b[0m\u001b[0;34m\u001b[0m\u001b[0m\n\u001b[0m\u001b[1;32m   2438\u001b[0m         \u001b[0;32mif\u001b[0m \u001b[0mwait\u001b[0m\u001b[0;34m:\u001b[0m\u001b[0;34m\u001b[0m\u001b[0;34m\u001b[0m\u001b[0m\n\u001b[1;32m   2439\u001b[0m             \u001b[0;32mreturn\u001b[0m \u001b[0mresults\u001b[0m\u001b[0;34m\u001b[0m\u001b[0;34m\u001b[0m\u001b[0m\n",
      "\u001b[0;32m<ipython-input-19-a21aaf6214ba>\u001b[0m in \u001b[0;36mtrain_model_fit\u001b[0;34m()\u001b[0m\n\u001b[1;32m      8\u001b[0m         implementation=experimental.CommunicationImplementation.NCCL)\n\u001b[1;32m      9\u001b[0m \u001b[0;34m\u001b[0m\u001b[0m\n\u001b[0;32m---> 10\u001b[0;31m     strategy = MultiWorkerMirroredStrategy(\n\u001b[0m\u001b[1;32m     11\u001b[0m         \u001b[0mcommunication_options\u001b[0m\u001b[0;34m=\u001b[0m\u001b[0mcommunication_options\u001b[0m\u001b[0;34m,\u001b[0m\u001b[0;34m\u001b[0m\u001b[0;34m\u001b[0m\u001b[0m\n\u001b[1;32m     12\u001b[0m         \u001b[0mcluster_resolver\u001b[0m \u001b[0;34m=\u001b[0m \u001b[0mcluster_resolver\u001b[0m\u001b[0;34m.\u001b[0m\u001b[0mTFConfigClusterResolver\u001b[0m\u001b[0;34m(\u001b[0m\u001b[0;34m)\u001b[0m\u001b[0;34m\u001b[0m\u001b[0;34m\u001b[0m\u001b[0m\n",
      "\u001b[0;32m/srv/conda/envs/saturn/lib/python3.9/site-packages/tensorflow/python/distribute/collective_all_reduce_strategy.py\u001b[0m in \u001b[0;36m__init__\u001b[0;34m()\u001b[0m\n\u001b[1;32m    183\u001b[0m       \u001b[0mcommunication_options\u001b[0m \u001b[0;34m=\u001b[0m \u001b[0mcollective_util\u001b[0m\u001b[0;34m.\u001b[0m\u001b[0mOptions\u001b[0m\u001b[0;34m(\u001b[0m\u001b[0;34m)\u001b[0m\u001b[0;34m\u001b[0m\u001b[0;34m\u001b[0m\u001b[0m\n\u001b[1;32m    184\u001b[0m     super(CollectiveAllReduceStrategy, self).__init__(\n\u001b[0;32m--> 185\u001b[0;31m         CollectiveAllReduceExtended(\n\u001b[0m\u001b[1;32m    186\u001b[0m             \u001b[0mself\u001b[0m\u001b[0;34m,\u001b[0m\u001b[0;34m\u001b[0m\u001b[0;34m\u001b[0m\u001b[0m\n\u001b[1;32m    187\u001b[0m             \u001b[0mcluster_resolver\u001b[0m\u001b[0;34m=\u001b[0m\u001b[0mcluster_resolver\u001b[0m\u001b[0;34m,\u001b[0m\u001b[0;34m\u001b[0m\u001b[0;34m\u001b[0m\u001b[0m\n",
      "\u001b[0;32m/srv/conda/envs/saturn/lib/python3.9/site-packages/tensorflow/python/distribute/collective_all_reduce_strategy.py\u001b[0m in \u001b[0;36m__init__\u001b[0;34m()\u001b[0m\n\u001b[1;32m    325\u001b[0m     \u001b[0mself\u001b[0m\u001b[0;34m.\u001b[0m\u001b[0m_communication_options\u001b[0m \u001b[0;34m=\u001b[0m \u001b[0mcommunication_options\u001b[0m\u001b[0;34m\u001b[0m\u001b[0;34m\u001b[0m\u001b[0m\n\u001b[1;32m    326\u001b[0m     \u001b[0mself\u001b[0m\u001b[0;34m.\u001b[0m\u001b[0m_collective_key_base\u001b[0m \u001b[0;34m=\u001b[0m \u001b[0mcontainer_strategy\u001b[0m\u001b[0;34m.\u001b[0m\u001b[0m_collective_key_base\u001b[0m  \u001b[0;31m# pylint: disable=protected-access\u001b[0m\u001b[0;34m\u001b[0m\u001b[0;34m\u001b[0m\u001b[0m\n\u001b[0;32m--> 327\u001b[0;31m     \u001b[0mself\u001b[0m\u001b[0;34m.\u001b[0m\u001b[0m_initialize_strategy\u001b[0m\u001b[0;34m(\u001b[0m\u001b[0mself\u001b[0m\u001b[0;34m.\u001b[0m\u001b[0m_cluster_resolver\u001b[0m\u001b[0;34m)\u001b[0m\u001b[0;34m\u001b[0m\u001b[0;34m\u001b[0m\u001b[0m\n\u001b[0m\u001b[1;32m    328\u001b[0m     \u001b[0mself\u001b[0m\u001b[0;34m.\u001b[0m\u001b[0m_cfer_fn_cache\u001b[0m \u001b[0;34m=\u001b[0m \u001b[0mweakref\u001b[0m\u001b[0;34m.\u001b[0m\u001b[0mWeakKeyDictionary\u001b[0m\u001b[0;34m(\u001b[0m\u001b[0;34m)\u001b[0m\u001b[0;34m\u001b[0m\u001b[0;34m\u001b[0m\u001b[0m\n\u001b[1;32m    329\u001b[0m     \u001b[0mself\u001b[0m\u001b[0;34m.\u001b[0m\u001b[0mexperimental_enable_get_next_as_optional\u001b[0m \u001b[0;34m=\u001b[0m \u001b[0;32mTrue\u001b[0m\u001b[0;34m\u001b[0m\u001b[0;34m\u001b[0m\u001b[0m\n",
      "\u001b[0;32m/srv/conda/envs/saturn/lib/python3.9/site-packages/tensorflow/python/distribute/collective_all_reduce_strategy.py\u001b[0m in \u001b[0;36m_initialize_strategy\u001b[0;34m()\u001b[0m\n\u001b[1;32m    333\u001b[0m   \u001b[0;32mdef\u001b[0m \u001b[0m_initialize_strategy\u001b[0m\u001b[0;34m(\u001b[0m\u001b[0mself\u001b[0m\u001b[0;34m,\u001b[0m \u001b[0mcluster_resolver\u001b[0m\u001b[0;34m)\u001b[0m\u001b[0;34m:\u001b[0m\u001b[0;34m\u001b[0m\u001b[0;34m\u001b[0m\u001b[0m\n\u001b[1;32m    334\u001b[0m     \u001b[0;32mif\u001b[0m \u001b[0mcluster_resolver\u001b[0m\u001b[0;34m.\u001b[0m\u001b[0mcluster_spec\u001b[0m\u001b[0;34m(\u001b[0m\u001b[0;34m)\u001b[0m\u001b[0;34m.\u001b[0m\u001b[0mas_dict\u001b[0m\u001b[0;34m(\u001b[0m\u001b[0;34m)\u001b[0m\u001b[0;34m:\u001b[0m\u001b[0;34m\u001b[0m\u001b[0;34m\u001b[0m\u001b[0m\n\u001b[0;32m--> 335\u001b[0;31m       \u001b[0mself\u001b[0m\u001b[0;34m.\u001b[0m\u001b[0m_initialize_multi_worker\u001b[0m\u001b[0;34m(\u001b[0m\u001b[0mcluster_resolver\u001b[0m\u001b[0;34m)\u001b[0m\u001b[0;34m\u001b[0m\u001b[0;34m\u001b[0m\u001b[0m\n\u001b[0m\u001b[1;32m    336\u001b[0m     \u001b[0;32melse\u001b[0m\u001b[0;34m:\u001b[0m\u001b[0;34m\u001b[0m\u001b[0;34m\u001b[0m\u001b[0m\n\u001b[1;32m    337\u001b[0m       \u001b[0mself\u001b[0m\u001b[0;34m.\u001b[0m\u001b[0m_initialize_local\u001b[0m\u001b[0;34m(\u001b[0m\u001b[0mcluster_resolver\u001b[0m\u001b[0;34m)\u001b[0m\u001b[0;34m\u001b[0m\u001b[0;34m\u001b[0m\u001b[0m\n",
      "\u001b[0;32m/srv/conda/envs/saturn/lib/python3.9/site-packages/tensorflow/python/distribute/collective_all_reduce_strategy.py\u001b[0m in \u001b[0;36m_initialize_multi_worker\u001b[0;34m()\u001b[0m\n\u001b[1;32m    463\u001b[0m       \u001b[0;31m# The `ensure_initialized` is needed before calling\u001b[0m\u001b[0;34m\u001b[0m\u001b[0;34m\u001b[0m\u001b[0;34m\u001b[0m\u001b[0m\n\u001b[1;32m    464\u001b[0m       \u001b[0;31m# `context.context().devices()`.\u001b[0m\u001b[0;34m\u001b[0m\u001b[0;34m\u001b[0m\u001b[0;34m\u001b[0m\u001b[0m\n\u001b[0;32m--> 465\u001b[0;31m       \u001b[0mcontext\u001b[0m\u001b[0;34m.\u001b[0m\u001b[0mcontext\u001b[0m\u001b[0;34m(\u001b[0m\u001b[0;34m)\u001b[0m\u001b[0;34m.\u001b[0m\u001b[0mensure_initialized\u001b[0m\u001b[0;34m(\u001b[0m\u001b[0;34m)\u001b[0m\u001b[0;34m\u001b[0m\u001b[0;34m\u001b[0m\u001b[0m\n\u001b[0m\u001b[1;32m    466\u001b[0m       logging.info(\n\u001b[1;32m    467\u001b[0m           \u001b[0;34m\"Enabled multi-worker collective ops with available devices: %r\"\u001b[0m\u001b[0;34m,\u001b[0m\u001b[0;34m\u001b[0m\u001b[0;34m\u001b[0m\u001b[0m\n",
      "\u001b[0;32m/srv/conda/envs/saturn/lib/python3.9/site-packages/tensorflow/python/eager/context.py\u001b[0m in \u001b[0;36mensure_initialized\u001b[0;34m()\u001b[0m\n\u001b[1;32m    536\u001b[0m       \u001b[0;32melif\u001b[0m \u001b[0mself\u001b[0m\u001b[0;34m.\u001b[0m\u001b[0m_collective_ops_server_def\u001b[0m \u001b[0;32mis\u001b[0m \u001b[0;32mnot\u001b[0m \u001b[0;32mNone\u001b[0m\u001b[0;34m:\u001b[0m\u001b[0;34m\u001b[0m\u001b[0;34m\u001b[0m\u001b[0m\n\u001b[1;32m    537\u001b[0m         \u001b[0mserver_def_str\u001b[0m \u001b[0;34m=\u001b[0m \u001b[0mself\u001b[0m\u001b[0;34m.\u001b[0m\u001b[0m_collective_ops_server_def\u001b[0m\u001b[0;34m.\u001b[0m\u001b[0mSerializeToString\u001b[0m\u001b[0;34m(\u001b[0m\u001b[0;34m)\u001b[0m\u001b[0;34m\u001b[0m\u001b[0;34m\u001b[0m\u001b[0m\n\u001b[0;32m--> 538\u001b[0;31m         \u001b[0mpywrap_tfe\u001b[0m\u001b[0;34m.\u001b[0m\u001b[0mTFE_EnableCollectiveOps\u001b[0m\u001b[0;34m(\u001b[0m\u001b[0mcontext_handle\u001b[0m\u001b[0;34m,\u001b[0m \u001b[0mserver_def_str\u001b[0m\u001b[0;34m)\u001b[0m\u001b[0;34m\u001b[0m\u001b[0;34m\u001b[0m\u001b[0m\n\u001b[0m\u001b[1;32m    539\u001b[0m \u001b[0;34m\u001b[0m\u001b[0m\n\u001b[1;32m    540\u001b[0m       \u001b[0mself\u001b[0m\u001b[0;34m.\u001b[0m\u001b[0m_context_handle\u001b[0m \u001b[0;34m=\u001b[0m \u001b[0mcontext_handle\u001b[0m\u001b[0;34m\u001b[0m\u001b[0;34m\u001b[0m\u001b[0m\n",
      "\u001b[0;31mUnknownError\u001b[0m: Could not start gRPC server"
     ]
    }
   ],
   "source": [
    "%%time\n",
    "\n",
    "futures = client.run(train_model_fit, **model_params)\n",
    "futures_gathered = client.gather(futures)\n",
    "futures_computed = client.compute(futures_gathered, sync=False)\n",
    "\n",
    "import logging\n",
    "\n",
    "results = []\n",
    "errors = []\n",
    "for fut in futures_computed:\n",
    "    try:\n",
    "        result = fut.result()\n",
    "    except Exception as e:\n",
    "        errors.append(e)\n",
    "        logging.error(e)\n",
    "    else:\n",
    "        results.extend(result)"
   ]
  },
  {
   "cell_type": "code",
   "execution_count": null,
   "id": "39961a9c",
   "metadata": {},
   "outputs": [],
   "source": []
  }
 ],
 "metadata": {
  "kernelspec": {
   "display_name": "saturn (Python 3)",
   "language": "python",
   "name": "python3"
  },
  "language_info": {
   "codemirror_mode": {
    "name": "ipython",
    "version": 3
   },
   "file_extension": ".py",
   "mimetype": "text/x-python",
   "name": "python",
   "nbconvert_exporter": "python",
   "pygments_lexer": "ipython3",
   "version": "3.9.5"
  }
 },
 "nbformat": 4,
 "nbformat_minor": 5
}
