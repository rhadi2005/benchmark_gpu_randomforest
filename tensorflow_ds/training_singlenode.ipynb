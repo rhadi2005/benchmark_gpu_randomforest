{
 "cells": [
  {
   "cell_type": "markdown",
   "id": "b0cd9e78",
   "metadata": {
    "execution": {
     "iopub.execute_input": "2021-08-16T21:29:50.228313Z",
     "iopub.status.busy": "2021-08-16T21:29:50.228073Z",
     "iopub.status.idle": "2021-08-16T21:29:50.231558Z",
     "shell.execute_reply": "2021-08-16T21:29:50.230865Z",
     "shell.execute_reply.started": "2021-08-16T21:29:50.228252Z"
    }
   },
   "source": [
    "# Single Node Single GPU Training"
   ]
  },
  {
   "cell_type": "code",
   "execution_count": 1,
   "id": "86604d29",
   "metadata": {
    "execution": {
     "iopub.execute_input": "2021-09-24T20:29:22.436685Z",
     "iopub.status.busy": "2021-09-24T20:29:22.436343Z",
     "iopub.status.idle": "2021-09-24T20:29:24.223882Z",
     "shell.execute_reply": "2021-09-24T20:29:24.223361Z",
     "shell.execute_reply.started": "2021-09-24T20:29:22.436639Z"
    }
   },
   "outputs": [
    {
     "name": "stderr",
     "output_type": "stream",
     "text": [
      "2021-09-24 20:29:22.885809: I tensorflow/stream_executor/platform/default/dso_loader.cc:49] Successfully opened dynamic library libcudart.so.10.1\n"
     ]
    }
   ],
   "source": [
    "import numpy as np, pandas as pd\n",
    "import requests, io, os, datetime, re\n",
    "import tensorflow as tf\n",
    "import keras\n",
    "import matplotlib.pyplot as plt\n",
    "from tensorflow.keras import datasets, layers, models, losses, Model\n",
    "from keras.applications import resnet50\n",
    "from keras.preprocessing import image\n",
    "import dask\n",
    "import time"
   ]
  },
  {
   "cell_type": "code",
   "execution_count": 2,
   "id": "c9d8b782",
   "metadata": {
    "execution": {
     "iopub.execute_input": "2021-09-24T20:29:24.225174Z",
     "iopub.status.busy": "2021-09-24T20:29:24.224930Z",
     "iopub.status.idle": "2021-09-24T20:29:26.201628Z",
     "shell.execute_reply": "2021-09-24T20:29:26.200880Z",
     "shell.execute_reply.started": "2021-09-24T20:29:24.225156Z"
    }
   },
   "outputs": [
    {
     "name": "stdout",
     "output_type": "stream",
     "text": [
      "Requirement already satisfied: wandb in /opt/conda/envs/saturn/lib/python3.9/site-packages (0.12.2)\n",
      "Requirement already satisfied: Click!=8.0.0,>=7.0 in /opt/conda/envs/saturn/lib/python3.9/site-packages (from wandb) (7.1.2)\n",
      "Requirement already satisfied: promise<3,>=2.0 in /opt/conda/envs/saturn/lib/python3.9/site-packages (from wandb) (2.3)\n",
      "Requirement already satisfied: protobuf>=3.12.0 in /opt/conda/envs/saturn/lib/python3.9/site-packages (from wandb) (3.16.0)\n",
      "Requirement already satisfied: sentry-sdk>=1.0.0 in /opt/conda/envs/saturn/lib/python3.9/site-packages (from wandb) (1.4.1)\n",
      "Requirement already satisfied: configparser>=3.8.1 in /opt/conda/envs/saturn/lib/python3.9/site-packages (from wandb) (5.0.2)\n",
      "Requirement already satisfied: PyYAML in /opt/conda/envs/saturn/lib/python3.9/site-packages (from wandb) (5.4.1)\n",
      "Requirement already satisfied: subprocess32>=3.5.3 in /opt/conda/envs/saturn/lib/python3.9/site-packages (from wandb) (3.5.4)\n",
      "Requirement already satisfied: python-dateutil>=2.6.1 in /opt/conda/envs/saturn/lib/python3.9/site-packages (from wandb) (2.8.2)\n",
      "Requirement already satisfied: psutil>=5.0.0 in /opt/conda/envs/saturn/lib/python3.9/site-packages (from wandb) (5.8.0)\n",
      "Requirement already satisfied: docker-pycreds>=0.4.0 in /opt/conda/envs/saturn/lib/python3.9/site-packages (from wandb) (0.4.0)\n",
      "Requirement already satisfied: pathtools in /opt/conda/envs/saturn/lib/python3.9/site-packages (from wandb) (0.1.2)\n",
      "Requirement already satisfied: GitPython>=1.0.0 in /opt/conda/envs/saturn/lib/python3.9/site-packages (from wandb) (3.1.24)\n",
      "Requirement already satisfied: shortuuid>=0.5.0 in /opt/conda/envs/saturn/lib/python3.9/site-packages (from wandb) (1.0.1)\n",
      "Requirement already satisfied: yaspin>=1.0.0 in /opt/conda/envs/saturn/lib/python3.9/site-packages (from wandb) (2.1.0)\n",
      "Requirement already satisfied: six>=1.13.0 in /opt/conda/envs/saturn/lib/python3.9/site-packages (from wandb) (1.16.0)\n",
      "Requirement already satisfied: requests<3,>=2.0.0 in /opt/conda/envs/saturn/lib/python3.9/site-packages (from wandb) (2.25.1)\n",
      "Requirement already satisfied: gitdb<5,>=4.0.1 in /opt/conda/envs/saturn/lib/python3.9/site-packages (from GitPython>=1.0.0->wandb) (4.0.7)\n",
      "Requirement already satisfied: typing-extensions>=3.7.4.3 in /opt/conda/envs/saturn/lib/python3.9/site-packages (from GitPython>=1.0.0->wandb) (3.10.0.2)\n",
      "Requirement already satisfied: smmap<5,>=3.0.1 in /opt/conda/envs/saturn/lib/python3.9/site-packages (from gitdb<5,>=4.0.1->GitPython>=1.0.0->wandb) (4.0.0)\n",
      "Requirement already satisfied: urllib3<1.27,>=1.21.1 in /opt/conda/envs/saturn/lib/python3.9/site-packages (from requests<3,>=2.0.0->wandb) (1.26.6)\n",
      "Requirement already satisfied: chardet<5,>=3.0.2 in /opt/conda/envs/saturn/lib/python3.9/site-packages (from requests<3,>=2.0.0->wandb) (3.0.4)\n",
      "Requirement already satisfied: certifi>=2017.4.17 in /opt/conda/envs/saturn/lib/python3.9/site-packages (from requests<3,>=2.0.0->wandb) (2021.5.30)\n",
      "Requirement already satisfied: idna<3,>=2.5 in /opt/conda/envs/saturn/lib/python3.9/site-packages (from requests<3,>=2.0.0->wandb) (2.10)\n",
      "Requirement already satisfied: termcolor<2.0.0,>=1.1.0 in /opt/conda/envs/saturn/lib/python3.9/site-packages (from yaspin>=1.0.0->wandb) (1.1.0)\n",
      "Note: you may need to restart the kernel to use updated packages.\n"
     ]
    }
   ],
   "source": [
    "%pip install wandb"
   ]
  },
  {
   "cell_type": "code",
   "execution_count": 3,
   "id": "cf1ddbd9",
   "metadata": {
    "execution": {
     "iopub.execute_input": "2021-09-24T20:29:26.202826Z",
     "iopub.status.busy": "2021-09-24T20:29:26.202644Z",
     "iopub.status.idle": "2021-09-24T20:29:26.934780Z",
     "shell.execute_reply": "2021-09-24T20:29:26.934145Z",
     "shell.execute_reply.started": "2021-09-24T20:29:26.202807Z"
    }
   },
   "outputs": [
    {
     "name": "stderr",
     "output_type": "stream",
     "text": [
      "\u001b[34m\u001b[1mwandb\u001b[0m: Currently logged in as: \u001b[33mskirmer\u001b[0m (use `wandb login --relogin` to force relogin)\n"
     ]
    },
    {
     "data": {
      "text/plain": [
       "True"
      ]
     },
     "execution_count": 3,
     "metadata": {},
     "output_type": "execute_result"
    }
   ],
   "source": [
    "import wandb\n",
    "from wandb.keras import WandbCallback\n",
    "\n",
    "wandb.login()"
   ]
  },
  {
   "cell_type": "code",
   "execution_count": 4,
   "id": "b1012a8a",
   "metadata": {
    "execution": {
     "iopub.execute_input": "2021-09-24T20:29:26.936464Z",
     "iopub.status.busy": "2021-09-24T20:29:26.935820Z",
     "iopub.status.idle": "2021-09-24T20:29:27.625349Z",
     "shell.execute_reply": "2021-09-24T20:29:27.624286Z",
     "shell.execute_reply.started": "2021-09-24T20:29:26.936439Z"
    }
   },
   "outputs": [
    {
     "name": "stdout",
     "output_type": "stream",
     "text": [
      "1 Physical GPUs, 1 Logical GPUs\n"
     ]
    },
    {
     "name": "stderr",
     "output_type": "stream",
     "text": [
      "2021-09-24 20:29:26.938463: I tensorflow/compiler/jit/xla_cpu_device.cc:41] Not creating XLA devices, tf_xla_enable_xla_devices not set\n",
      "2021-09-24 20:29:26.939361: I tensorflow/stream_executor/platform/default/dso_loader.cc:49] Successfully opened dynamic library libcuda.so.1\n",
      "2021-09-24 20:29:26.983589: I tensorflow/stream_executor/cuda/cuda_gpu_executor.cc:941] successful NUMA node read from SysFS had negative value (-1), but there must be at least one NUMA node, so returning NUMA node zero\n",
      "2021-09-24 20:29:26.984190: I tensorflow/core/common_runtime/gpu/gpu_device.cc:1720] Found device 0 with properties: \n",
      "pciBusID: 0000:00:1e.0 name: Tesla T4 computeCapability: 7.5\n",
      "coreClock: 1.59GHz coreCount: 40 deviceMemorySize: 14.75GiB deviceMemoryBandwidth: 298.08GiB/s\n",
      "2021-09-24 20:29:26.984228: I tensorflow/stream_executor/platform/default/dso_loader.cc:49] Successfully opened dynamic library libcudart.so.10.1\n",
      "2021-09-24 20:29:26.985931: I tensorflow/stream_executor/platform/default/dso_loader.cc:49] Successfully opened dynamic library libcublas.so.10\n",
      "2021-09-24 20:29:26.986001: I tensorflow/stream_executor/platform/default/dso_loader.cc:49] Successfully opened dynamic library libcublasLt.so.10\n",
      "2021-09-24 20:29:26.987622: I tensorflow/stream_executor/platform/default/dso_loader.cc:49] Successfully opened dynamic library libcufft.so.10\n",
      "2021-09-24 20:29:26.987938: I tensorflow/stream_executor/platform/default/dso_loader.cc:49] Successfully opened dynamic library libcurand.so.10\n",
      "2021-09-24 20:29:26.989565: I tensorflow/stream_executor/platform/default/dso_loader.cc:49] Successfully opened dynamic library libcusolver.so.10\n",
      "2021-09-24 20:29:26.990480: I tensorflow/stream_executor/platform/default/dso_loader.cc:49] Successfully opened dynamic library libcusparse.so.10\n",
      "2021-09-24 20:29:26.994861: I tensorflow/stream_executor/platform/default/dso_loader.cc:49] Successfully opened dynamic library libcudnn.so.7\n",
      "2021-09-24 20:29:26.994998: I tensorflow/stream_executor/cuda/cuda_gpu_executor.cc:941] successful NUMA node read from SysFS had negative value (-1), but there must be at least one NUMA node, so returning NUMA node zero\n",
      "2021-09-24 20:29:26.995656: I tensorflow/stream_executor/cuda/cuda_gpu_executor.cc:941] successful NUMA node read from SysFS had negative value (-1), but there must be at least one NUMA node, so returning NUMA node zero\n",
      "2021-09-24 20:29:26.996210: I tensorflow/core/common_runtime/gpu/gpu_device.cc:1862] Adding visible gpu devices: 0\n",
      "2021-09-24 20:29:26.997041: I tensorflow/core/platform/cpu_feature_guard.cc:142] This TensorFlow binary is optimized with oneAPI Deep Neural Network Library (oneDNN) to use the following CPU instructions in performance-critical operations:  SSE4.1 SSE4.2 AVX AVX2 AVX512F FMA\n",
      "To enable them in other operations, rebuild TensorFlow with the appropriate compiler flags.\n",
      "2021-09-24 20:29:26.997383: I tensorflow/stream_executor/cuda/cuda_gpu_executor.cc:941] successful NUMA node read from SysFS had negative value (-1), but there must be at least one NUMA node, so returning NUMA node zero\n",
      "2021-09-24 20:29:26.997924: I tensorflow/core/common_runtime/gpu/gpu_device.cc:1720] Found device 0 with properties: \n",
      "pciBusID: 0000:00:1e.0 name: Tesla T4 computeCapability: 7.5\n",
      "coreClock: 1.59GHz coreCount: 40 deviceMemorySize: 14.75GiB deviceMemoryBandwidth: 298.08GiB/s\n",
      "2021-09-24 20:29:26.997953: I tensorflow/stream_executor/platform/default/dso_loader.cc:49] Successfully opened dynamic library libcudart.so.10.1\n",
      "2021-09-24 20:29:26.997972: I tensorflow/stream_executor/platform/default/dso_loader.cc:49] Successfully opened dynamic library libcublas.so.10\n",
      "2021-09-24 20:29:26.997986: I tensorflow/stream_executor/platform/default/dso_loader.cc:49] Successfully opened dynamic library libcublasLt.so.10\n",
      "2021-09-24 20:29:26.997998: I tensorflow/stream_executor/platform/default/dso_loader.cc:49] Successfully opened dynamic library libcufft.so.10\n",
      "2021-09-24 20:29:26.998011: I tensorflow/stream_executor/platform/default/dso_loader.cc:49] Successfully opened dynamic library libcurand.so.10\n",
      "2021-09-24 20:29:26.998023: I tensorflow/stream_executor/platform/default/dso_loader.cc:49] Successfully opened dynamic library libcusolver.so.10\n",
      "2021-09-24 20:29:26.998036: I tensorflow/stream_executor/platform/default/dso_loader.cc:49] Successfully opened dynamic library libcusparse.so.10\n",
      "2021-09-24 20:29:26.998052: I tensorflow/stream_executor/platform/default/dso_loader.cc:49] Successfully opened dynamic library libcudnn.so.7\n",
      "2021-09-24 20:29:26.998109: I tensorflow/stream_executor/cuda/cuda_gpu_executor.cc:941] successful NUMA node read from SysFS had negative value (-1), but there must be at least one NUMA node, so returning NUMA node zero\n",
      "2021-09-24 20:29:26.998657: I tensorflow/stream_executor/cuda/cuda_gpu_executor.cc:941] successful NUMA node read from SysFS had negative value (-1), but there must be at least one NUMA node, so returning NUMA node zero\n",
      "2021-09-24 20:29:26.999193: I tensorflow/core/common_runtime/gpu/gpu_device.cc:1862] Adding visible gpu devices: 0\n",
      "2021-09-24 20:29:26.999238: I tensorflow/stream_executor/platform/default/dso_loader.cc:49] Successfully opened dynamic library libcudart.so.10.1\n",
      "2021-09-24 20:29:27.618306: I tensorflow/core/common_runtime/gpu/gpu_device.cc:1261] Device interconnect StreamExecutor with strength 1 edge matrix:\n",
      "2021-09-24 20:29:27.618341: I tensorflow/core/common_runtime/gpu/gpu_device.cc:1267]      0 \n",
      "2021-09-24 20:29:27.618349: I tensorflow/core/common_runtime/gpu/gpu_device.cc:1280] 0:   N \n",
      "2021-09-24 20:29:27.618561: I tensorflow/stream_executor/cuda/cuda_gpu_executor.cc:941] successful NUMA node read from SysFS had negative value (-1), but there must be at least one NUMA node, so returning NUMA node zero\n",
      "2021-09-24 20:29:27.619220: I tensorflow/stream_executor/cuda/cuda_gpu_executor.cc:941] successful NUMA node read from SysFS had negative value (-1), but there must be at least one NUMA node, so returning NUMA node zero\n",
      "2021-09-24 20:29:27.619781: I tensorflow/stream_executor/cuda/cuda_gpu_executor.cc:941] successful NUMA node read from SysFS had negative value (-1), but there must be at least one NUMA node, so returning NUMA node zero\n",
      "2021-09-24 20:29:27.620310: I tensorflow/core/common_runtime/gpu/gpu_device.cc:1406] Created TensorFlow device (/job:localhost/replica:0/task:0/device:GPU:0 with 13970 MB memory) -> physical GPU (device: 0, name: Tesla T4, pci bus id: 0000:00:1e.0, compute capability: 7.5)\n",
      "2021-09-24 20:29:27.620539: I tensorflow/compiler/jit/xla_gpu_device.cc:99] Not creating XLA devices, tf_xla_enable_xla_devices not set\n"
     ]
    }
   ],
   "source": [
    "gpus = tf.config.list_physical_devices('GPU')\n",
    "if gpus:\n",
    "    try:\n",
    "    # Currently, memory growth needs to be the same across GPUs\n",
    "        for gpu in gpus:\n",
    "            tf.config.experimental.set_memory_growth(gpu, True)\n",
    "        logical_gpus = tf.config.experimental.list_logical_devices('GPU')\n",
    "        print(len(gpus), \"Physical GPUs,\", len(logical_gpus), \"Logical GPUs\")\n",
    "    except RuntimeError as e:\n",
    "    # Memory growth must be set before GPUs have been initialized\n",
    "        print(e)"
   ]
  },
  {
   "cell_type": "code",
   "execution_count": 5,
   "id": "9b72da13",
   "metadata": {
    "execution": {
     "iopub.execute_input": "2021-09-24T20:29:27.627379Z",
     "iopub.status.busy": "2021-09-24T20:29:27.627119Z",
     "iopub.status.idle": "2021-09-24T20:29:27.633550Z",
     "shell.execute_reply": "2021-09-24T20:29:27.633040Z",
     "shell.execute_reply.started": "2021-09-24T20:29:27.627338Z"
    }
   },
   "outputs": [],
   "source": [
    "def train_model_fit(n_epochs, base_lr, batchsize, classes):\n",
    "    \n",
    "    model = tf.keras.applications.ResNet50(\n",
    "        include_top=True,\n",
    "        weights=None,\n",
    "        classes=classes)\n",
    "        \n",
    "    # --------- Start wandb --------- #\n",
    "    wandb.init(entity=[YOURUSERNAMEHERE], project=[YOURPROJECTNAMEHERE], config=wbargs)    \n",
    "    \n",
    "    # Data\n",
    "    train_ds = tf.keras.preprocessing.image_dataset_from_directory(\n",
    "        'datasets/birds/train',\n",
    "        image_size=(224,224),\n",
    "        batch_size=batchsize\n",
    "    ).prefetch(2).cache().shuffle(1000)\n",
    "        \n",
    "    valid_ds = tf.keras.preprocessing.image_dataset_from_directory(\n",
    "        'datasets/birds/valid',\n",
    "        image_size=(224,224),\n",
    "        batch_size=batchsize\n",
    "    ).prefetch(2)\n",
    "   \n",
    "    optimizer = keras.optimizers.Adam(lr=base_lr)\n",
    "    model.compile(loss='sparse_categorical_crossentropy', optimizer=optimizer, metrics=['accuracy'])\n",
    "    start = time.time()\n",
    "\n",
    "    model.fit(\n",
    "        train_ds, \n",
    "        epochs=n_epochs, \n",
    "        validation_data=valid_ds,\n",
    "        callbacks=[WandbCallback()]\n",
    "    )\n",
    "    end = time.time()-start\n",
    "    print(\"model training time\", end)\n",
    "    wandb.log({\"training_time\":end})\n",
    "\n",
    "    # Close your wandb run \n",
    "    wandb.run.finish()\n",
    "    \n",
    "    tf.keras.models.save_model(model, 'model/keras_single/')"
   ]
  },
  {
   "cell_type": "code",
   "execution_count": 6,
   "id": "91d20731",
   "metadata": {
    "execution": {
     "iopub.execute_input": "2021-09-24T20:29:27.634534Z",
     "iopub.status.busy": "2021-09-24T20:29:27.634324Z",
     "iopub.status.idle": "2021-09-24T20:29:27.639876Z",
     "shell.execute_reply": "2021-09-24T20:29:27.639394Z",
     "shell.execute_reply.started": "2021-09-24T20:29:27.634517Z"
    }
   },
   "outputs": [],
   "source": [
    "model_params = {'n_epochs': 50, \n",
    "                'base_lr': .02,\n",
    "                'classes': 285,\n",
    "               'batchsize': 64}\n",
    "\n",
    "wbargs = {**model_params,\n",
    "    'Notes':\"tf_v100_2x\",\n",
    "    'Tags': ['single', 'gpu', 'tensorflow'],\n",
    "    'dataset':\"Birds\",\n",
    "    'architecture':\"ResNet50\"}"
   ]
  },
  {
   "cell_type": "code",
   "execution_count": null,
   "id": "3c6d9f5f",
   "metadata": {
    "execution": {
     "iopub.execute_input": "2021-09-24T20:29:27.640895Z",
     "iopub.status.busy": "2021-09-24T20:29:27.640529Z"
    }
   },
   "outputs": [
    {
     "name": "stderr",
     "output_type": "stream",
     "text": [
      "2021-09-24 20:29:29.314560: I tensorflow/stream_executor/platform/default/dso_loader.cc:49] Successfully opened dynamic library libcudart.so.10.1\n"
     ]
    },
    {
     "data": {
      "text/html": [
       "\n",
       "                Tracking run with wandb version 0.12.2<br/>\n",
       "                Syncing run <strong style=\"color:#cdcd00\">wobbly-star-7</strong> to <a href=\"https://wandb.ai\" target=\"_blank\">Weights & Biases</a> <a href=\"https://docs.wandb.com/integrations/jupyter.html\" target=\"_blank\">(Documentation)</a>.<br/>\n",
       "                Project page: <a href=\"https://wandb.ai/skirmer/newproj\" target=\"_blank\">https://wandb.ai/skirmer/newproj</a><br/>\n",
       "                Run page: <a href=\"https://wandb.ai/skirmer/newproj/runs/1gq3kerq\" target=\"_blank\">https://wandb.ai/skirmer/newproj/runs/1gq3kerq</a><br/>\n",
       "                Run data is saved locally in <code>/home/jovyan/git-repos/tensorflow_ds/wandb/run-20210924_202928-1gq3kerq</code><br/><br/>\n",
       "            "
      ],
      "text/plain": [
       "<IPython.core.display.HTML object>"
      ]
     },
     "metadata": {},
     "output_type": "display_data"
    },
    {
     "name": "stdout",
     "output_type": "stream",
     "text": [
      "Found 43622 files belonging to 300 classes.\n",
      "Found 1500 files belonging to 300 classes.\n",
      "Epoch 1/50\n"
     ]
    },
    {
     "name": "stderr",
     "output_type": "stream",
     "text": [
      "2021-09-24 20:29:38.669072: I tensorflow/compiler/mlir/mlir_graph_optimization_pass.cc:116] None of the MLIR optimization passes are enabled (registered 2)\n",
      "2021-09-24 20:29:38.723150: I tensorflow/core/platform/profile_utils/cpu_utils.cc:112] CPU Frequency: 2499995000 Hz\n",
      "2021-09-24 20:29:39.882837: I tensorflow/stream_executor/platform/default/dso_loader.cc:49] Successfully opened dynamic library libcublas.so.10\n",
      "2021-09-24 20:29:49.908934: I tensorflow/core/kernels/data/shuffle_dataset_op.cc:177] Filling up shuffle buffer (this may take a while): 116 of 1000\n",
      "2021-09-24 20:29:59.904395: I tensorflow/core/kernels/data/shuffle_dataset_op.cc:177] Filling up shuffle buffer (this may take a while): 206 of 1000\n",
      "2021-09-24 20:30:10.023425: I tensorflow/core/kernels/data/shuffle_dataset_op.cc:177] Filling up shuffle buffer (this may take a while): 274 of 1000\n",
      "2021-09-24 20:30:19.887107: I tensorflow/core/kernels/data/shuffle_dataset_op.cc:177] Filling up shuffle buffer (this may take a while): 335 of 1000\n"
     ]
    }
   ],
   "source": [
    "tester = train_model_fit(**model_params)"
   ]
  },
  {
   "cell_type": "code",
   "execution_count": null,
   "id": "978d9a45",
   "metadata": {},
   "outputs": [],
   "source": [
    "import os\n",
    "os.getcwd()"
   ]
  },
  {
   "cell_type": "code",
   "execution_count": null,
   "id": "7ff8aeb8",
   "metadata": {},
   "outputs": [],
   "source": []
  }
 ],
 "metadata": {
  "kernelspec": {
   "display_name": "saturn (Python 3)",
   "language": "python",
   "name": "python3"
  },
  "language_info": {
   "codemirror_mode": {
    "name": "ipython",
    "version": 3
   },
   "file_extension": ".py",
   "mimetype": "text/x-python",
   "name": "python",
   "nbconvert_exporter": "python",
   "pygments_lexer": "ipython3",
   "version": "3.9.7"
  }
 },
 "nbformat": 4,
 "nbformat_minor": 5
}
