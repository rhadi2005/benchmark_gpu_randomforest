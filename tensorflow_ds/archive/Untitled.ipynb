{
 "cells": [
  {
   "cell_type": "code",
   "execution_count": 1,
   "id": "c9cbd4a5",
   "metadata": {
    "execution": {
     "iopub.execute_input": "2021-08-19T17:25:44.585886Z",
     "iopub.status.busy": "2021-08-19T17:25:44.585638Z",
     "iopub.status.idle": "2021-08-19T17:25:47.155556Z",
     "shell.execute_reply": "2021-08-19T17:25:47.154741Z",
     "shell.execute_reply.started": "2021-08-19T17:25:44.585826Z"
    }
   },
   "outputs": [
    {
     "name": "stdout",
     "output_type": "stream",
     "text": [
      "2.4.1\n"
     ]
    }
   ],
   "source": [
    "import numpy as np, pandas as pd\n",
    "import requests, io, os, datetime, re, json\n",
    "import tensorflow as tf\n",
    "import keras\n",
    "import matplotlib.pyplot as plt\n",
    "from tensorflow.keras import datasets, layers, models, losses, Model\n",
    "from keras.applications import resnet50\n",
    "from keras.preprocessing import image\n",
    "import dask\n",
    "import wandb\n",
    "from wandb.keras import WandbCallback\n",
    "\n",
    "\n",
    "import time\n",
    "print(tf.__version__)\n",
    "\n"
   ]
  },
  {
   "cell_type": "code",
   "execution_count": null,
   "id": "b85dab14",
   "metadata": {},
   "outputs": [],
   "source": []
  },
  {
   "cell_type": "code",
   "execution_count": null,
   "id": "4efc5a3a",
   "metadata": {},
   "outputs": [],
   "source": []
  },
  {
   "cell_type": "code",
   "execution_count": 1,
   "id": "e5f2d2e1",
   "metadata": {
    "execution": {
     "iopub.execute_input": "2021-08-19T19:17:47.697475Z",
     "iopub.status.busy": "2021-08-19T19:17:47.697153Z",
     "iopub.status.idle": "2021-08-19T19:18:23.734114Z",
     "shell.execute_reply": "2021-08-19T19:18:23.733347Z",
     "shell.execute_reply.started": "2021-08-19T19:17:47.697394Z"
    }
   },
   "outputs": [],
   "source": [
    "import zipfile\n",
    "\n",
    "with zipfile.ZipFile('/home/jovyan/git-repos/tensorflow_ds/100-bird-species.zip', 'r') as zip_ref:\n",
    "    zip_ref.extractall('/home/jovyan/git-repos/tensorflow_ds/datasets/birds')"
   ]
  },
  {
   "cell_type": "code",
   "execution_count": 2,
   "id": "9c738ab6",
   "metadata": {
    "execution": {
     "iopub.execute_input": "2021-08-19T17:25:47.157387Z",
     "iopub.status.busy": "2021-08-19T17:25:47.157116Z",
     "iopub.status.idle": "2021-08-19T17:25:47.161775Z",
     "shell.execute_reply": "2021-08-19T17:25:47.161076Z",
     "shell.execute_reply.started": "2021-08-19T17:25:47.157355Z"
    }
   },
   "outputs": [],
   "source": [
    "def get_compiled_model(base_lr):\n",
    "    model = tf.keras.applications.ResNet50(\n",
    "                include_top=True,\n",
    "                weights=None,\n",
    "                classes=10)\n",
    "\n",
    "    optimizer = keras.optimizers.Adam(lr=base_lr)\n",
    "    model.compile(loss='sparse_categorical_crossentropy', \n",
    "                  optimizer=optimizer, \n",
    "                  metrics=['accuracy']) #integer labels\n",
    "    \n",
    "    return model\n"
   ]
  },
  {
   "cell_type": "code",
   "execution_count": 7,
   "id": "1058c4a0",
   "metadata": {
    "execution": {
     "iopub.execute_input": "2021-08-19T17:29:40.309352Z",
     "iopub.status.busy": "2021-08-19T17:29:40.309078Z",
     "iopub.status.idle": "2021-08-19T17:29:40.314645Z",
     "shell.execute_reply": "2021-08-19T17:29:40.313958Z",
     "shell.execute_reply.started": "2021-08-19T17:29:40.309318Z"
    }
   },
   "outputs": [],
   "source": [
    "def get_dataset(batch_size=32):\n",
    "\n",
    "    # Data\n",
    "    train_ds = tf.keras.preprocessing.image_dataset_from_directory(\n",
    "        '/home/jovyan/git-repos/snowflake-ml-guide/data/clothing-dataset-small/train',\n",
    "        image_size=(224,224),\n",
    "        batch_size=batch_size\n",
    "    ).repeat().prefetch(1)\n",
    "        \n",
    "    valid_ds = tf.keras.preprocessing.image_dataset_from_directory(\n",
    "        '/home/jovyan/git-repos/snowflake-ml-guide/data/clothing-dataset-small/validation',\n",
    "        image_size=(224,224),\n",
    "        batch_size=batch_size\n",
    "    ).prefetch(1)\n",
    "    \n",
    "    test_ds = tf.keras.preprocessing.image_dataset_from_directory(\n",
    "        '/home/jovyan/git-repos/snowflake-ml-guide/data/clothing-dataset-small/test',\n",
    "        image_size=(224,224),\n",
    "        batch_size=batch_size\n",
    "    ).prefetch(1)\n",
    "    \n",
    "    return (\n",
    "        train_ds, valid_ds, test_ds\n",
    "    )\n"
   ]
  },
  {
   "cell_type": "code",
   "execution_count": 8,
   "id": "84a140b7",
   "metadata": {
    "execution": {
     "iopub.execute_input": "2021-08-19T17:29:41.120381Z",
     "iopub.status.busy": "2021-08-19T17:29:41.120164Z",
     "iopub.status.idle": "2021-08-19T17:29:44.854834Z",
     "shell.execute_reply": "2021-08-19T17:29:44.854089Z",
     "shell.execute_reply.started": "2021-08-19T17:29:41.120356Z"
    }
   },
   "outputs": [
    {
     "name": "stdout",
     "output_type": "stream",
     "text": [
      "INFO:tensorflow:Using MirroredStrategy with devices ('/job:localhost/replica:0/task:0/device:GPU:0', '/job:localhost/replica:0/task:0/device:GPU:1', '/job:localhost/replica:0/task:0/device:GPU:2', '/job:localhost/replica:0/task:0/device:GPU:3')\n",
      "Number of devices: 4\n",
      "Found 3068 files belonging to 10 classes.\n",
      "Found 341 files belonging to 10 classes.\n",
      "Found 372 files belonging to 10 classes.\n"
     ]
    }
   ],
   "source": [
    "# Create a MirroredStrategy.\n",
    "strategy = tf.distribute.MirroredStrategy()\n",
    "print(\"Number of devices: {}\".format(strategy.num_replicas_in_sync))\n",
    "\n",
    "\n",
    "base_lr = .02\n",
    "BATCH_SIZE_PER_REPLICA = 64\n",
    "GLOBAL_BATCH_SIZE = BATCH_SIZE_PER_REPLICA * strategy.num_replicas_in_sync\n",
    "\n",
    "# Train the model on all available devices.\n",
    "train_dataset, val_dataset, test_dataset = get_dataset(batch_size=100)\n",
    "\n",
    "train_dist_dataset = strategy.experimental_distribute_dataset(train_dataset)\n",
    "val_dist_dataset = strategy.experimental_distribute_dataset(val_dataset)\n",
    "test_dist_dataset = strategy.experimental_distribute_dataset(test_dataset)\n",
    "\n",
    "\n",
    "wbargs = {\n",
    "    'Batch Size': GLOBAL_BATCH_SIZE,\n",
    "    'Notes':\"tf_v100_8x\",\n",
    "    'Tags': ['Multi', 'gpu', 'tensorflow'],\n",
    "    'dataset':\"MNIST\",\n",
    "    'architecture':\"Custom\"}\n",
    "\n",
    "\n",
    "# Open a strategy scope.\n",
    "with strategy.scope():\n",
    "    model = get_compiled_model(base_lr)\n",
    "\n"
   ]
  },
  {
   "cell_type": "code",
   "execution_count": 5,
   "id": "05e24cc2",
   "metadata": {
    "execution": {
     "iopub.execute_input": "2021-08-19T17:25:54.556035Z",
     "iopub.status.busy": "2021-08-19T17:25:54.555822Z",
     "iopub.status.idle": "2021-08-19T17:25:54.562245Z",
     "shell.execute_reply": "2021-08-19T17:25:54.561632Z",
     "shell.execute_reply.started": "2021-08-19T17:25:54.556009Z"
    }
   },
   "outputs": [
    {
     "data": {
      "text/plain": [
       "47.9375"
      ]
     },
     "execution_count": 5,
     "metadata": {},
     "output_type": "execute_result"
    }
   ],
   "source": [
    "3068/64"
   ]
  },
  {
   "cell_type": "code",
   "execution_count": 9,
   "id": "e0e43bf4",
   "metadata": {
    "execution": {
     "iopub.execute_input": "2021-08-19T17:29:49.138198Z",
     "iopub.status.busy": "2021-08-19T17:29:49.137922Z",
     "iopub.status.idle": "2021-08-19T17:33:37.490590Z",
     "shell.execute_reply": "2021-08-19T17:33:37.489542Z",
     "shell.execute_reply.started": "2021-08-19T17:29:49.138168Z"
    }
   },
   "outputs": [
    {
     "data": {
      "text/html": [
       "\n",
       "                Tracking run with wandb version 0.12.0<br/>\n",
       "                Syncing run <strong style=\"color:#cdcd00\">laced-lion-61</strong> to <a href=\"https://wandb.ai\" target=\"_blank\">Weights & Biases</a> <a href=\"https://docs.wandb.com/integrations/jupyter.html\" target=\"_blank\">(Documentation)</a>.<br/>\n",
       "                Project page: <a href=\"https://wandb.ai/skirmer/tensorflow_blog\" target=\"_blank\">https://wandb.ai/skirmer/tensorflow_blog</a><br/>\n",
       "                Run page: <a href=\"https://wandb.ai/skirmer/tensorflow_blog/runs/3g90o77h\" target=\"_blank\">https://wandb.ai/skirmer/tensorflow_blog/runs/3g90o77h</a><br/>\n",
       "                Run data is saved locally in <code>/home/jovyan/git-repos/tensorflow_ds/wandb/run-20210819_172949-3g90o77h</code><br/><br/>\n",
       "            "
      ],
      "text/plain": [
       "<IPython.core.display.HTML object>"
      ]
     },
     "metadata": {},
     "output_type": "display_data"
    },
    {
     "name": "stdout",
     "output_type": "stream",
     "text": [
      "Epoch 1/50\n",
      "INFO:tensorflow:batch_all_reduce: 214 all-reduces with algorithm = nccl, num_packs = 1\n",
      "INFO:tensorflow:batch_all_reduce: 214 all-reduces with algorithm = nccl, num_packs = 1\n",
      "30/30 [==============================] - 85s 441ms/step - loss: 9.2617 - accuracy: 0.1579 - val_loss: 5238710561713160192.0000 - val_accuracy: 0.0733\n",
      "Epoch 2/50\n",
      "30/30 [==============================] - 6s 212ms/step - loss: 3.2500 - accuracy: 0.2419 - val_loss: 6317135872.0000 - val_accuracy: 0.0733\n",
      "Epoch 3/50\n",
      "30/30 [==============================] - 6s 211ms/step - loss: 2.2024 - accuracy: 0.2512 - val_loss: 552813.8750 - val_accuracy: 0.0733\n",
      "Epoch 4/50\n",
      "30/30 [==============================] - 6s 212ms/step - loss: 2.1312 - accuracy: 0.2627 - val_loss: 1744.7021 - val_accuracy: 0.0821\n",
      "Epoch 5/50\n",
      "30/30 [==============================] - 6s 210ms/step - loss: 2.0331 - accuracy: 0.2999 - val_loss: 86.5837 - val_accuracy: 0.1320\n",
      "Epoch 6/50\n",
      "30/30 [==============================] - 6s 209ms/step - loss: 1.9492 - accuracy: 0.3302 - val_loss: 17.6884 - val_accuracy: 0.2141\n",
      "Epoch 7/50\n",
      "30/30 [==============================] - 6s 210ms/step - loss: 1.9269 - accuracy: 0.3330 - val_loss: 5.9412 - val_accuracy: 0.1994\n",
      "Epoch 8/50\n",
      "30/30 [==============================] - 6s 211ms/step - loss: 1.8715 - accuracy: 0.3471 - val_loss: 2.4737 - val_accuracy: 0.3021\n",
      "Epoch 9/50\n",
      "30/30 [==============================] - 6s 209ms/step - loss: 1.8174 - accuracy: 0.3624 - val_loss: 2.4744 - val_accuracy: 0.3196\n",
      "Epoch 10/50\n",
      "30/30 [==============================] - 7s 231ms/step - loss: 1.7571 - accuracy: 0.3832 - val_loss: 1.9539 - val_accuracy: 0.3695\n",
      "Epoch 11/50\n",
      "30/30 [==============================] - 6s 210ms/step - loss: 1.7510 - accuracy: 0.4027 - val_loss: 1.9355 - val_accuracy: 0.3636\n",
      "Epoch 12/50\n",
      "30/30 [==============================] - 6s 208ms/step - loss: 1.6785 - accuracy: 0.4443 - val_loss: 2.5131 - val_accuracy: 0.2434\n",
      "Epoch 13/50\n",
      "30/30 [==============================] - 7s 231ms/step - loss: 1.5928 - accuracy: 0.4497 - val_loss: 2.9526 - val_accuracy: 0.2258\n",
      "Epoch 14/50\n",
      "30/30 [==============================] - 7s 232ms/step - loss: 1.5652 - accuracy: 0.4713 - val_loss: 3.7704 - val_accuracy: 0.2170\n",
      "Epoch 15/50\n",
      "30/30 [==============================] - 7s 231ms/step - loss: 1.4845 - accuracy: 0.4997 - val_loss: 4.7565 - val_accuracy: 0.1672\n",
      "Epoch 16/50\n",
      "30/30 [==============================] - 7s 231ms/step - loss: 1.4342 - accuracy: 0.5094 - val_loss: 2.7500 - val_accuracy: 0.2786\n",
      "Epoch 17/50\n",
      "30/30 [==============================] - 7s 232ms/step - loss: 1.3981 - accuracy: 0.5207 - val_loss: 3.3822 - val_accuracy: 0.2082\n",
      "Epoch 18/50\n",
      "31/30 [==============================] - ETA: 0s - loss: 1.2886 - accuracy: 0.5536"
     ]
    },
    {
     "name": "stderr",
     "output_type": "stream",
     "text": [
      "Exception ignored in: <function ScopedTFFunction.__del__ at 0x7f8b95eb94c0>\n",
      "Traceback (most recent call last):\n",
      "  File \"/srv/conda/envs/saturn/lib/python3.9/site-packages/tensorflow/python/framework/c_api_util.py\", line 104, in __del__\n",
      "    def __del__(self):\n",
      "KeyboardInterrupt: \n"
     ]
    },
    {
     "name": "stdout",
     "output_type": "stream",
     "text": [
      "30/30 [==============================] - 7s 231ms/step - loss: 1.2879 - accuracy: 0.5537 - val_loss: 3.0738 - val_accuracy: 0.2375\n",
      "Epoch 19/50\n",
      "18/30 [================>.............] - ETA: 2s - loss: 1.3877 - accuracy: 0.5131"
     ]
    },
    {
     "ename": "KeyboardInterrupt",
     "evalue": "",
     "output_type": "error",
     "traceback": [
      "\u001b[0;31m---------------------------------------------------------------------------\u001b[0m",
      "\u001b[0;31mKeyboardInterrupt\u001b[0m                         Traceback (most recent call last)",
      "\u001b[0;32m<ipython-input-9-aab65cc52111>\u001b[0m in \u001b[0;36m<module>\u001b[0;34m\u001b[0m\n\u001b[1;32m      5\u001b[0m \u001b[0;34m\u001b[0m\u001b[0m\n\u001b[1;32m      6\u001b[0m \u001b[0mstart\u001b[0m \u001b[0;34m=\u001b[0m \u001b[0mtime\u001b[0m\u001b[0;34m.\u001b[0m\u001b[0mtime\u001b[0m\u001b[0;34m(\u001b[0m\u001b[0;34m)\u001b[0m\u001b[0;34m\u001b[0m\u001b[0;34m\u001b[0m\u001b[0m\n\u001b[0;32m----> 7\u001b[0;31m model.fit(train_dist_dataset, \n\u001b[0m\u001b[1;32m      8\u001b[0m           \u001b[0msteps_per_epoch\u001b[0m \u001b[0;34m=\u001b[0m  \u001b[0;36m3067\u001b[0m\u001b[0;34m/\u001b[0m\u001b[0;36m100\u001b[0m\u001b[0;34m,\u001b[0m\u001b[0;34m\u001b[0m\u001b[0;34m\u001b[0m\u001b[0m\n\u001b[1;32m      9\u001b[0m           \u001b[0mepochs\u001b[0m\u001b[0;34m=\u001b[0m\u001b[0;36m50\u001b[0m\u001b[0;34m,\u001b[0m\u001b[0;34m\u001b[0m\u001b[0;34m\u001b[0m\u001b[0m\n",
      "\u001b[0;32m/srv/conda/envs/saturn/lib/python3.9/site-packages/wandb/integration/keras/keras.py\u001b[0m in \u001b[0;36mnew_v2\u001b[0;34m(*args, **kwargs)\u001b[0m\n\u001b[1;32m    119\u001b[0m             \u001b[0;32mfor\u001b[0m \u001b[0mcbk\u001b[0m \u001b[0;32min\u001b[0m \u001b[0mcbks\u001b[0m\u001b[0;34m:\u001b[0m\u001b[0;34m\u001b[0m\u001b[0;34m\u001b[0m\u001b[0m\n\u001b[1;32m    120\u001b[0m                 \u001b[0mset_wandb_attrs\u001b[0m\u001b[0;34m(\u001b[0m\u001b[0mcbk\u001b[0m\u001b[0;34m,\u001b[0m \u001b[0mval_data\u001b[0m\u001b[0;34m)\u001b[0m\u001b[0;34m\u001b[0m\u001b[0;34m\u001b[0m\u001b[0m\n\u001b[0;32m--> 121\u001b[0;31m         \u001b[0;32mreturn\u001b[0m \u001b[0mold_v2\u001b[0m\u001b[0;34m(\u001b[0m\u001b[0;34m*\u001b[0m\u001b[0margs\u001b[0m\u001b[0;34m,\u001b[0m \u001b[0;34m**\u001b[0m\u001b[0mkwargs\u001b[0m\u001b[0;34m)\u001b[0m\u001b[0;34m\u001b[0m\u001b[0;34m\u001b[0m\u001b[0m\n\u001b[0m\u001b[1;32m    122\u001b[0m \u001b[0;34m\u001b[0m\u001b[0m\n\u001b[1;32m    123\u001b[0m     \u001b[0mtraining_arrays\u001b[0m\u001b[0;34m.\u001b[0m\u001b[0morig_fit_loop\u001b[0m \u001b[0;34m=\u001b[0m \u001b[0mold_arrays\u001b[0m\u001b[0;34m\u001b[0m\u001b[0;34m\u001b[0m\u001b[0m\n",
      "\u001b[0;32m/srv/conda/envs/saturn/lib/python3.9/site-packages/tensorflow/python/keras/engine/training.py\u001b[0m in \u001b[0;36mfit\u001b[0;34m(self, x, y, batch_size, epochs, verbose, callbacks, validation_split, validation_data, shuffle, class_weight, sample_weight, initial_epoch, steps_per_epoch, validation_steps, validation_batch_size, validation_freq, max_queue_size, workers, use_multiprocessing)\u001b[0m\n\u001b[1;32m   1098\u001b[0m                 _r=1):\n\u001b[1;32m   1099\u001b[0m               \u001b[0mcallbacks\u001b[0m\u001b[0;34m.\u001b[0m\u001b[0mon_train_batch_begin\u001b[0m\u001b[0;34m(\u001b[0m\u001b[0mstep\u001b[0m\u001b[0;34m)\u001b[0m\u001b[0;34m\u001b[0m\u001b[0;34m\u001b[0m\u001b[0m\n\u001b[0;32m-> 1100\u001b[0;31m               \u001b[0mtmp_logs\u001b[0m \u001b[0;34m=\u001b[0m \u001b[0mself\u001b[0m\u001b[0;34m.\u001b[0m\u001b[0mtrain_function\u001b[0m\u001b[0;34m(\u001b[0m\u001b[0miterator\u001b[0m\u001b[0;34m)\u001b[0m\u001b[0;34m\u001b[0m\u001b[0;34m\u001b[0m\u001b[0m\n\u001b[0m\u001b[1;32m   1101\u001b[0m               \u001b[0;32mif\u001b[0m \u001b[0mdata_handler\u001b[0m\u001b[0;34m.\u001b[0m\u001b[0mshould_sync\u001b[0m\u001b[0;34m:\u001b[0m\u001b[0;34m\u001b[0m\u001b[0;34m\u001b[0m\u001b[0m\n\u001b[1;32m   1102\u001b[0m                 \u001b[0mcontext\u001b[0m\u001b[0;34m.\u001b[0m\u001b[0masync_wait\u001b[0m\u001b[0;34m(\u001b[0m\u001b[0;34m)\u001b[0m\u001b[0;34m\u001b[0m\u001b[0;34m\u001b[0m\u001b[0m\n",
      "\u001b[0;32m/srv/conda/envs/saturn/lib/python3.9/site-packages/tensorflow/python/eager/def_function.py\u001b[0m in \u001b[0;36m__call__\u001b[0;34m(self, *args, **kwds)\u001b[0m\n\u001b[1;32m    826\u001b[0m     \u001b[0mtracing_count\u001b[0m \u001b[0;34m=\u001b[0m \u001b[0mself\u001b[0m\u001b[0;34m.\u001b[0m\u001b[0mexperimental_get_tracing_count\u001b[0m\u001b[0;34m(\u001b[0m\u001b[0;34m)\u001b[0m\u001b[0;34m\u001b[0m\u001b[0;34m\u001b[0m\u001b[0m\n\u001b[1;32m    827\u001b[0m     \u001b[0;32mwith\u001b[0m \u001b[0mtrace\u001b[0m\u001b[0;34m.\u001b[0m\u001b[0mTrace\u001b[0m\u001b[0;34m(\u001b[0m\u001b[0mself\u001b[0m\u001b[0;34m.\u001b[0m\u001b[0m_name\u001b[0m\u001b[0;34m)\u001b[0m \u001b[0;32mas\u001b[0m \u001b[0mtm\u001b[0m\u001b[0;34m:\u001b[0m\u001b[0;34m\u001b[0m\u001b[0;34m\u001b[0m\u001b[0m\n\u001b[0;32m--> 828\u001b[0;31m       \u001b[0mresult\u001b[0m \u001b[0;34m=\u001b[0m \u001b[0mself\u001b[0m\u001b[0;34m.\u001b[0m\u001b[0m_call\u001b[0m\u001b[0;34m(\u001b[0m\u001b[0;34m*\u001b[0m\u001b[0margs\u001b[0m\u001b[0;34m,\u001b[0m \u001b[0;34m**\u001b[0m\u001b[0mkwds\u001b[0m\u001b[0;34m)\u001b[0m\u001b[0;34m\u001b[0m\u001b[0;34m\u001b[0m\u001b[0m\n\u001b[0m\u001b[1;32m    829\u001b[0m       \u001b[0mcompiler\u001b[0m \u001b[0;34m=\u001b[0m \u001b[0;34m\"xla\"\u001b[0m \u001b[0;32mif\u001b[0m \u001b[0mself\u001b[0m\u001b[0;34m.\u001b[0m\u001b[0m_experimental_compile\u001b[0m \u001b[0;32melse\u001b[0m \u001b[0;34m\"nonXla\"\u001b[0m\u001b[0;34m\u001b[0m\u001b[0;34m\u001b[0m\u001b[0m\n\u001b[1;32m    830\u001b[0m       \u001b[0mnew_tracing_count\u001b[0m \u001b[0;34m=\u001b[0m \u001b[0mself\u001b[0m\u001b[0;34m.\u001b[0m\u001b[0mexperimental_get_tracing_count\u001b[0m\u001b[0;34m(\u001b[0m\u001b[0;34m)\u001b[0m\u001b[0;34m\u001b[0m\u001b[0;34m\u001b[0m\u001b[0m\n",
      "\u001b[0;32m/srv/conda/envs/saturn/lib/python3.9/site-packages/tensorflow/python/eager/def_function.py\u001b[0m in \u001b[0;36m_call\u001b[0;34m(self, *args, **kwds)\u001b[0m\n\u001b[1;32m    853\u001b[0m       \u001b[0;31m# In this case we have created variables on the first call, so we run the\u001b[0m\u001b[0;34m\u001b[0m\u001b[0;34m\u001b[0m\u001b[0;34m\u001b[0m\u001b[0m\n\u001b[1;32m    854\u001b[0m       \u001b[0;31m# defunned version which is guaranteed to never create variables.\u001b[0m\u001b[0;34m\u001b[0m\u001b[0;34m\u001b[0m\u001b[0;34m\u001b[0m\u001b[0m\n\u001b[0;32m--> 855\u001b[0;31m       \u001b[0;32mreturn\u001b[0m \u001b[0mself\u001b[0m\u001b[0;34m.\u001b[0m\u001b[0m_stateless_fn\u001b[0m\u001b[0;34m(\u001b[0m\u001b[0;34m*\u001b[0m\u001b[0margs\u001b[0m\u001b[0;34m,\u001b[0m \u001b[0;34m**\u001b[0m\u001b[0mkwds\u001b[0m\u001b[0;34m)\u001b[0m  \u001b[0;31m# pylint: disable=not-callable\u001b[0m\u001b[0;34m\u001b[0m\u001b[0;34m\u001b[0m\u001b[0m\n\u001b[0m\u001b[1;32m    856\u001b[0m     \u001b[0;32melif\u001b[0m \u001b[0mself\u001b[0m\u001b[0;34m.\u001b[0m\u001b[0m_stateful_fn\u001b[0m \u001b[0;32mis\u001b[0m \u001b[0;32mnot\u001b[0m \u001b[0;32mNone\u001b[0m\u001b[0;34m:\u001b[0m\u001b[0;34m\u001b[0m\u001b[0;34m\u001b[0m\u001b[0m\n\u001b[1;32m    857\u001b[0m       \u001b[0;31m# Release the lock early so that multiple threads can perform the call\u001b[0m\u001b[0;34m\u001b[0m\u001b[0;34m\u001b[0m\u001b[0;34m\u001b[0m\u001b[0m\n",
      "\u001b[0;32m/srv/conda/envs/saturn/lib/python3.9/site-packages/tensorflow/python/eager/function.py\u001b[0m in \u001b[0;36m__call__\u001b[0;34m(self, *args, **kwargs)\u001b[0m\n\u001b[1;32m   2940\u001b[0m       (graph_function,\n\u001b[1;32m   2941\u001b[0m        filtered_flat_args) = self._maybe_define_function(args, kwargs)\n\u001b[0;32m-> 2942\u001b[0;31m     return graph_function._call_flat(\n\u001b[0m\u001b[1;32m   2943\u001b[0m         filtered_flat_args, captured_inputs=graph_function.captured_inputs)  # pylint: disable=protected-access\n\u001b[1;32m   2944\u001b[0m \u001b[0;34m\u001b[0m\u001b[0m\n",
      "\u001b[0;32m/srv/conda/envs/saturn/lib/python3.9/site-packages/tensorflow/python/eager/function.py\u001b[0m in \u001b[0;36m_call_flat\u001b[0;34m(self, args, captured_inputs, cancellation_manager)\u001b[0m\n\u001b[1;32m   1916\u001b[0m         and executing_eagerly):\n\u001b[1;32m   1917\u001b[0m       \u001b[0;31m# No tape is watching; skip to running the function.\u001b[0m\u001b[0;34m\u001b[0m\u001b[0;34m\u001b[0m\u001b[0;34m\u001b[0m\u001b[0m\n\u001b[0;32m-> 1918\u001b[0;31m       return self._build_call_outputs(self._inference_function.call(\n\u001b[0m\u001b[1;32m   1919\u001b[0m           ctx, args, cancellation_manager=cancellation_manager))\n\u001b[1;32m   1920\u001b[0m     forward_backward = self._select_forward_and_backward_functions(\n",
      "\u001b[0;32m/srv/conda/envs/saturn/lib/python3.9/site-packages/tensorflow/python/eager/function.py\u001b[0m in \u001b[0;36mcall\u001b[0;34m(self, ctx, args, cancellation_manager)\u001b[0m\n\u001b[1;32m    553\u001b[0m       \u001b[0;32mwith\u001b[0m \u001b[0m_InterpolateFunctionError\u001b[0m\u001b[0;34m(\u001b[0m\u001b[0mself\u001b[0m\u001b[0;34m)\u001b[0m\u001b[0;34m:\u001b[0m\u001b[0;34m\u001b[0m\u001b[0;34m\u001b[0m\u001b[0m\n\u001b[1;32m    554\u001b[0m         \u001b[0;32mif\u001b[0m \u001b[0mcancellation_manager\u001b[0m \u001b[0;32mis\u001b[0m \u001b[0;32mNone\u001b[0m\u001b[0;34m:\u001b[0m\u001b[0;34m\u001b[0m\u001b[0;34m\u001b[0m\u001b[0m\n\u001b[0;32m--> 555\u001b[0;31m           outputs = execute.execute(\n\u001b[0m\u001b[1;32m    556\u001b[0m               \u001b[0mstr\u001b[0m\u001b[0;34m(\u001b[0m\u001b[0mself\u001b[0m\u001b[0;34m.\u001b[0m\u001b[0msignature\u001b[0m\u001b[0;34m.\u001b[0m\u001b[0mname\u001b[0m\u001b[0;34m)\u001b[0m\u001b[0;34m,\u001b[0m\u001b[0;34m\u001b[0m\u001b[0;34m\u001b[0m\u001b[0m\n\u001b[1;32m    557\u001b[0m               \u001b[0mnum_outputs\u001b[0m\u001b[0;34m=\u001b[0m\u001b[0mself\u001b[0m\u001b[0;34m.\u001b[0m\u001b[0m_num_outputs\u001b[0m\u001b[0;34m,\u001b[0m\u001b[0;34m\u001b[0m\u001b[0;34m\u001b[0m\u001b[0m\n",
      "\u001b[0;32m/srv/conda/envs/saturn/lib/python3.9/site-packages/tensorflow/python/eager/execute.py\u001b[0m in \u001b[0;36mquick_execute\u001b[0;34m(op_name, num_outputs, inputs, attrs, ctx, name)\u001b[0m\n\u001b[1;32m     57\u001b[0m   \u001b[0;32mtry\u001b[0m\u001b[0;34m:\u001b[0m\u001b[0;34m\u001b[0m\u001b[0;34m\u001b[0m\u001b[0m\n\u001b[1;32m     58\u001b[0m     \u001b[0mctx\u001b[0m\u001b[0;34m.\u001b[0m\u001b[0mensure_initialized\u001b[0m\u001b[0;34m(\u001b[0m\u001b[0;34m)\u001b[0m\u001b[0;34m\u001b[0m\u001b[0;34m\u001b[0m\u001b[0m\n\u001b[0;32m---> 59\u001b[0;31m     tensors = pywrap_tfe.TFE_Py_Execute(ctx._handle, device_name, op_name,\n\u001b[0m\u001b[1;32m     60\u001b[0m                                         inputs, attrs, num_outputs)\n\u001b[1;32m     61\u001b[0m   \u001b[0;32mexcept\u001b[0m \u001b[0mcore\u001b[0m\u001b[0;34m.\u001b[0m\u001b[0m_NotOkStatusException\u001b[0m \u001b[0;32mas\u001b[0m \u001b[0me\u001b[0m\u001b[0;34m:\u001b[0m\u001b[0;34m\u001b[0m\u001b[0;34m\u001b[0m\u001b[0m\n",
      "\u001b[0;31mKeyboardInterrupt\u001b[0m: "
     ]
    }
   ],
   "source": [
    "# --------- Start wandb --------- #\n",
    "wandb.init(entity='skirmer', project='tensorflow_blog')\n",
    "config=wbargs\n",
    "\n",
    "\n",
    "start = time.time()\n",
    "model.fit(train_dist_dataset, \n",
    "          steps_per_epoch =  3067/100,\n",
    "          epochs=50, \n",
    "          validation_data=val_dataset, \n",
    "          callbacks=[WandbCallback()])\n",
    "end = time.time()-start\n",
    "print(\"model training time\", end)\n",
    "wandb.log({\"training_time\":end})\n",
    "\n",
    "# Test the model on all available devices.\n",
    "model.evaluate(test_dataset)\n",
    "\n",
    "# Close your wandb run \n",
    "wandb.run.finish()"
   ]
  },
  {
   "cell_type": "code",
   "execution_count": null,
   "id": "5a1d98a9",
   "metadata": {},
   "outputs": [],
   "source": []
  }
 ],
 "metadata": {
  "kernelspec": {
   "display_name": "saturn (Python 3)",
   "language": "python",
   "name": "python3"
  },
  "language_info": {
   "codemirror_mode": {
    "name": "ipython",
    "version": 3
   },
   "file_extension": ".py",
   "mimetype": "text/x-python",
   "name": "python",
   "nbconvert_exporter": "python",
   "pygments_lexer": "ipython3",
   "version": "3.9.5"
  }
 },
 "nbformat": 4,
 "nbformat_minor": 5
}
