{
 "cells": [
  {
   "cell_type": "markdown",
   "id": "fefd0590",
   "metadata": {
    "execution": {
     "iopub.execute_input": "2021-08-16T21:29:50.228313Z",
     "iopub.status.busy": "2021-08-16T21:29:50.228073Z",
     "iopub.status.idle": "2021-08-16T21:29:50.231558Z",
     "shell.execute_reply": "2021-08-16T21:29:50.230865Z",
     "shell.execute_reply.started": "2021-08-16T21:29:50.228252Z"
    }
   },
   "source": [
    "# Single Node Single GPU Training"
   ]
  },
  {
   "cell_type": "code",
   "execution_count": 1,
   "id": "94bd9784",
   "metadata": {
    "execution": {
     "iopub.execute_input": "2021-09-24T20:25:48.559365Z",
     "iopub.status.busy": "2021-09-24T20:25:48.559144Z",
     "iopub.status.idle": "2021-09-24T20:25:50.407395Z",
     "shell.execute_reply": "2021-09-24T20:25:50.406892Z",
     "shell.execute_reply.started": "2021-09-24T20:25:48.559322Z"
    }
   },
   "outputs": [
    {
     "name": "stderr",
     "output_type": "stream",
     "text": [
      "2021-09-24 20:25:49.041056: I tensorflow/stream_executor/platform/default/dso_loader.cc:49] Successfully opened dynamic library libcudart.so.10.1\n"
     ]
    }
   ],
   "source": [
    "import numpy as np, pandas as pd\n",
    "import requests, io, os, datetime, re\n",
    "import tensorflow as tf\n",
    "import keras\n",
    "import matplotlib.pyplot as plt\n",
    "from tensorflow.keras import datasets, layers, models, losses, Model\n",
    "from keras.applications import resnet50\n",
    "from keras.preprocessing import image\n",
    "import dask"
   ]
  },
  {
   "cell_type": "code",
   "execution_count": 2,
   "id": "0255bad5",
   "metadata": {
    "execution": {
     "iopub.execute_input": "2021-09-24T20:25:50.408720Z",
     "iopub.status.busy": "2021-09-24T20:25:50.408535Z",
     "iopub.status.idle": "2021-09-24T20:25:52.402445Z",
     "shell.execute_reply": "2021-09-24T20:25:52.401658Z",
     "shell.execute_reply.started": "2021-09-24T20:25:50.408701Z"
    }
   },
   "outputs": [
    {
     "name": "stdout",
     "output_type": "stream",
     "text": [
      "Requirement already satisfied: wandb in /opt/conda/envs/saturn/lib/python3.9/site-packages (0.12.2)\n",
      "Requirement already satisfied: configparser>=3.8.1 in /opt/conda/envs/saturn/lib/python3.9/site-packages (from wandb) (5.0.2)\n",
      "Requirement already satisfied: yaspin>=1.0.0 in /opt/conda/envs/saturn/lib/python3.9/site-packages (from wandb) (2.1.0)\n",
      "Requirement already satisfied: PyYAML in /opt/conda/envs/saturn/lib/python3.9/site-packages (from wandb) (5.4.1)\n",
      "Requirement already satisfied: subprocess32>=3.5.3 in /opt/conda/envs/saturn/lib/python3.9/site-packages (from wandb) (3.5.4)\n",
      "Requirement already satisfied: pathtools in /opt/conda/envs/saturn/lib/python3.9/site-packages (from wandb) (0.1.2)\n",
      "Requirement already satisfied: protobuf>=3.12.0 in /opt/conda/envs/saturn/lib/python3.9/site-packages (from wandb) (3.16.0)\n",
      "Requirement already satisfied: sentry-sdk>=1.0.0 in /opt/conda/envs/saturn/lib/python3.9/site-packages (from wandb) (1.4.1)\n",
      "Requirement already satisfied: six>=1.13.0 in /opt/conda/envs/saturn/lib/python3.9/site-packages (from wandb) (1.16.0)\n",
      "Requirement already satisfied: python-dateutil>=2.6.1 in /opt/conda/envs/saturn/lib/python3.9/site-packages (from wandb) (2.8.2)\n",
      "Requirement already satisfied: GitPython>=1.0.0 in /opt/conda/envs/saturn/lib/python3.9/site-packages (from wandb) (3.1.24)\n",
      "Requirement already satisfied: requests<3,>=2.0.0 in /opt/conda/envs/saturn/lib/python3.9/site-packages (from wandb) (2.25.1)\n",
      "Requirement already satisfied: psutil>=5.0.0 in /opt/conda/envs/saturn/lib/python3.9/site-packages (from wandb) (5.8.0)\n",
      "Requirement already satisfied: docker-pycreds>=0.4.0 in /opt/conda/envs/saturn/lib/python3.9/site-packages (from wandb) (0.4.0)\n",
      "Requirement already satisfied: promise<3,>=2.0 in /opt/conda/envs/saturn/lib/python3.9/site-packages (from wandb) (2.3)\n",
      "Requirement already satisfied: Click!=8.0.0,>=7.0 in /opt/conda/envs/saturn/lib/python3.9/site-packages (from wandb) (7.1.2)\n",
      "Requirement already satisfied: shortuuid>=0.5.0 in /opt/conda/envs/saturn/lib/python3.9/site-packages (from wandb) (1.0.1)\n",
      "Requirement already satisfied: typing-extensions>=3.7.4.3 in /opt/conda/envs/saturn/lib/python3.9/site-packages (from GitPython>=1.0.0->wandb) (3.10.0.2)\n",
      "Requirement already satisfied: gitdb<5,>=4.0.1 in /opt/conda/envs/saturn/lib/python3.9/site-packages (from GitPython>=1.0.0->wandb) (4.0.7)\n",
      "Requirement already satisfied: smmap<5,>=3.0.1 in /opt/conda/envs/saturn/lib/python3.9/site-packages (from gitdb<5,>=4.0.1->GitPython>=1.0.0->wandb) (4.0.0)\n",
      "Requirement already satisfied: certifi>=2017.4.17 in /opt/conda/envs/saturn/lib/python3.9/site-packages (from requests<3,>=2.0.0->wandb) (2021.5.30)\n",
      "Requirement already satisfied: idna<3,>=2.5 in /opt/conda/envs/saturn/lib/python3.9/site-packages (from requests<3,>=2.0.0->wandb) (2.10)\n",
      "Requirement already satisfied: chardet<5,>=3.0.2 in /opt/conda/envs/saturn/lib/python3.9/site-packages (from requests<3,>=2.0.0->wandb) (3.0.4)\n",
      "Requirement already satisfied: urllib3<1.27,>=1.21.1 in /opt/conda/envs/saturn/lib/python3.9/site-packages (from requests<3,>=2.0.0->wandb) (1.26.6)\n",
      "Requirement already satisfied: termcolor<2.0.0,>=1.1.0 in /opt/conda/envs/saturn/lib/python3.9/site-packages (from yaspin>=1.0.0->wandb) (1.1.0)\n",
      "Note: you may need to restart the kernel to use updated packages.\n"
     ]
    }
   ],
   "source": [
    "%pip install wandb"
   ]
  },
  {
   "cell_type": "code",
   "execution_count": 3,
   "id": "555923a0",
   "metadata": {
    "execution": {
     "iopub.execute_input": "2021-09-24T20:25:52.403902Z",
     "iopub.status.busy": "2021-09-24T20:25:52.403697Z",
     "iopub.status.idle": "2021-09-24T20:25:53.183746Z",
     "shell.execute_reply": "2021-09-24T20:25:53.183063Z",
     "shell.execute_reply.started": "2021-09-24T20:25:52.403880Z"
    }
   },
   "outputs": [
    {
     "name": "stderr",
     "output_type": "stream",
     "text": [
      "\u001b[34m\u001b[1mwandb\u001b[0m: Currently logged in as: \u001b[33mskirmer\u001b[0m (use `wandb login --relogin` to force relogin)\n"
     ]
    },
    {
     "data": {
      "text/plain": [
       "True"
      ]
     },
     "execution_count": 3,
     "metadata": {},
     "output_type": "execute_result"
    }
   ],
   "source": [
    "import wandb\n",
    "from wandb.keras import WandbCallback\n",
    "\n",
    "wandb.login()"
   ]
  },
  {
   "cell_type": "code",
   "execution_count": 4,
   "id": "689b0547",
   "metadata": {
    "execution": {
     "iopub.execute_input": "2021-09-24T20:25:53.185400Z",
     "iopub.status.busy": "2021-09-24T20:25:53.185092Z",
     "iopub.status.idle": "2021-09-24T20:25:53.861070Z",
     "shell.execute_reply": "2021-09-24T20:25:53.860420Z",
     "shell.execute_reply.started": "2021-09-24T20:25:53.185366Z"
    }
   },
   "outputs": [
    {
     "name": "stderr",
     "output_type": "stream",
     "text": [
      "2021-09-24 20:25:53.188308: I tensorflow/compiler/jit/xla_cpu_device.cc:41] Not creating XLA devices, tf_xla_enable_xla_devices not set\n",
      "2021-09-24 20:25:53.189252: I tensorflow/stream_executor/platform/default/dso_loader.cc:49] Successfully opened dynamic library libcuda.so.1\n",
      "2021-09-24 20:25:53.233277: I tensorflow/stream_executor/cuda/cuda_gpu_executor.cc:941] successful NUMA node read from SysFS had negative value (-1), but there must be at least one NUMA node, so returning NUMA node zero\n",
      "2021-09-24 20:25:53.233872: I tensorflow/core/common_runtime/gpu/gpu_device.cc:1720] Found device 0 with properties: \n",
      "pciBusID: 0000:00:1e.0 name: Tesla T4 computeCapability: 7.5\n",
      "coreClock: 1.59GHz coreCount: 40 deviceMemorySize: 14.75GiB deviceMemoryBandwidth: 298.08GiB/s\n",
      "2021-09-24 20:25:53.233922: I tensorflow/stream_executor/platform/default/dso_loader.cc:49] Successfully opened dynamic library libcudart.so.10.1\n",
      "2021-09-24 20:25:53.235703: I tensorflow/stream_executor/platform/default/dso_loader.cc:49] Successfully opened dynamic library libcublas.so.10\n",
      "2021-09-24 20:25:53.235786: I tensorflow/stream_executor/platform/default/dso_loader.cc:49] Successfully opened dynamic library libcublasLt.so.10\n",
      "2021-09-24 20:25:53.237389: I tensorflow/stream_executor/platform/default/dso_loader.cc:49] Successfully opened dynamic library libcufft.so.10\n",
      "2021-09-24 20:25:53.237709: I tensorflow/stream_executor/platform/default/dso_loader.cc:49] Successfully opened dynamic library libcurand.so.10\n",
      "2021-09-24 20:25:53.239329: I tensorflow/stream_executor/platform/default/dso_loader.cc:49] Successfully opened dynamic library libcusolver.so.10\n",
      "2021-09-24 20:25:53.240217: I tensorflow/stream_executor/platform/default/dso_loader.cc:49] Successfully opened dynamic library libcusparse.so.10\n",
      "2021-09-24 20:25:53.243759: I tensorflow/stream_executor/platform/default/dso_loader.cc:49] Successfully opened dynamic library libcudnn.so.7\n",
      "2021-09-24 20:25:53.243906: I tensorflow/stream_executor/cuda/cuda_gpu_executor.cc:941] successful NUMA node read from SysFS had negative value (-1), but there must be at least one NUMA node, so returning NUMA node zero\n",
      "2021-09-24 20:25:53.244496: I tensorflow/stream_executor/cuda/cuda_gpu_executor.cc:941] successful NUMA node read from SysFS had negative value (-1), but there must be at least one NUMA node, so returning NUMA node zero\n",
      "2021-09-24 20:25:53.245002: I tensorflow/core/common_runtime/gpu/gpu_device.cc:1862] Adding visible gpu devices: 0\n",
      "2021-09-24 20:25:53.245937: I tensorflow/core/platform/cpu_feature_guard.cc:142] This TensorFlow binary is optimized with oneAPI Deep Neural Network Library (oneDNN) to use the following CPU instructions in performance-critical operations:  SSE4.1 SSE4.2 AVX AVX2 AVX512F FMA\n",
      "To enable them in other operations, rebuild TensorFlow with the appropriate compiler flags.\n",
      "2021-09-24 20:25:53.246264: I tensorflow/stream_executor/cuda/cuda_gpu_executor.cc:941] successful NUMA node read from SysFS had negative value (-1), but there must be at least one NUMA node, so returning NUMA node zero\n",
      "2021-09-24 20:25:53.246815: I tensorflow/core/common_runtime/gpu/gpu_device.cc:1720] Found device 0 with properties: \n",
      "pciBusID: 0000:00:1e.0 name: Tesla T4 computeCapability: 7.5\n",
      "coreClock: 1.59GHz coreCount: 40 deviceMemorySize: 14.75GiB deviceMemoryBandwidth: 298.08GiB/s\n",
      "2021-09-24 20:25:53.246845: I tensorflow/stream_executor/platform/default/dso_loader.cc:49] Successfully opened dynamic library libcudart.so.10.1\n",
      "2021-09-24 20:25:53.246865: I tensorflow/stream_executor/platform/default/dso_loader.cc:49] Successfully opened dynamic library libcublas.so.10\n",
      "2021-09-24 20:25:53.246879: I tensorflow/stream_executor/platform/default/dso_loader.cc:49] Successfully opened dynamic library libcublasLt.so.10\n",
      "2021-09-24 20:25:53.246892: I tensorflow/stream_executor/platform/default/dso_loader.cc:49] Successfully opened dynamic library libcufft.so.10\n",
      "2021-09-24 20:25:53.246905: I tensorflow/stream_executor/platform/default/dso_loader.cc:49] Successfully opened dynamic library libcurand.so.10\n",
      "2021-09-24 20:25:53.246918: I tensorflow/stream_executor/platform/default/dso_loader.cc:49] Successfully opened dynamic library libcusolver.so.10\n",
      "2021-09-24 20:25:53.246931: I tensorflow/stream_executor/platform/default/dso_loader.cc:49] Successfully opened dynamic library libcusparse.so.10\n",
      "2021-09-24 20:25:53.246945: I tensorflow/stream_executor/platform/default/dso_loader.cc:49] Successfully opened dynamic library libcudnn.so.7\n",
      "2021-09-24 20:25:53.247002: I tensorflow/stream_executor/cuda/cuda_gpu_executor.cc:941] successful NUMA node read from SysFS had negative value (-1), but there must be at least one NUMA node, so returning NUMA node zero\n",
      "2021-09-24 20:25:53.247604: I tensorflow/stream_executor/cuda/cuda_gpu_executor.cc:941] successful NUMA node read from SysFS had negative value (-1), but there must be at least one NUMA node, so returning NUMA node zero\n",
      "2021-09-24 20:25:53.248114: I tensorflow/core/common_runtime/gpu/gpu_device.cc:1862] Adding visible gpu devices: 0\n",
      "2021-09-24 20:25:53.248156: I tensorflow/stream_executor/platform/default/dso_loader.cc:49] Successfully opened dynamic library libcudart.so.10.1\n",
      "2021-09-24 20:25:53.852972: I tensorflow/core/common_runtime/gpu/gpu_device.cc:1261] Device interconnect StreamExecutor with strength 1 edge matrix:\n",
      "2021-09-24 20:25:53.853008: I tensorflow/core/common_runtime/gpu/gpu_device.cc:1267]      0 \n",
      "2021-09-24 20:25:53.853017: I tensorflow/core/common_runtime/gpu/gpu_device.cc:1280] 0:   N \n",
      "2021-09-24 20:25:53.853235: I tensorflow/stream_executor/cuda/cuda_gpu_executor.cc:941] successful NUMA node read from SysFS had negative value (-1), but there must be at least one NUMA node, so returning NUMA node zero\n",
      "2021-09-24 20:25:53.854039: I tensorflow/stream_executor/cuda/cuda_gpu_executor.cc:941] successful NUMA node read from SysFS had negative value (-1), but there must be at least one NUMA node, so returning NUMA node zero\n",
      "2021-09-24 20:25:53.854596: I tensorflow/stream_executor/cuda/cuda_gpu_executor.cc:941] successful NUMA node read from SysFS had negative value (-1), but there must be at least one NUMA node, so returning NUMA node zero\n",
      "2021-09-24 20:25:53.855139: I tensorflow/core/common_runtime/gpu/gpu_device.cc:1406] Created TensorFlow device (/job:localhost/replica:0/task:0/device:GPU:0 with 13970 MB memory) -> physical GPU (device: 0, name: Tesla T4, pci bus id: 0000:00:1e.0, compute capability: 7.5)\n",
      "2021-09-24 20:25:53.855379: I tensorflow/compiler/jit/xla_gpu_device.cc:99] Not creating XLA devices, tf_xla_enable_xla_devices not set\n"
     ]
    },
    {
     "name": "stdout",
     "output_type": "stream",
     "text": [
      "1 Physical GPUs, 1 Logical GPUs\n"
     ]
    }
   ],
   "source": [
    "gpus = tf.config.list_physical_devices('GPU')\n",
    "if gpus:\n",
    "    try:\n",
    "    # Currently, memory growth needs to be the same across GPUs\n",
    "        for gpu in gpus:\n",
    "            tf.config.experimental.set_memory_growth(gpu, True)\n",
    "        logical_gpus = tf.config.experimental.list_logical_devices('GPU')\n",
    "        print(len(gpus), \"Physical GPUs,\", len(logical_gpus), \"Logical GPUs\")\n",
    "    except RuntimeError as e:\n",
    "    # Memory growth must be set before GPUs have been initialized\n",
    "        print(e)"
   ]
  },
  {
   "cell_type": "code",
   "execution_count": 15,
   "id": "08226ae5",
   "metadata": {
    "execution": {
     "iopub.execute_input": "2021-09-24T20:27:40.199162Z",
     "iopub.status.busy": "2021-09-24T20:27:40.198857Z",
     "iopub.status.idle": "2021-09-24T20:27:40.207283Z",
     "shell.execute_reply": "2021-09-24T20:27:40.206642Z",
     "shell.execute_reply.started": "2021-09-24T20:27:40.199136Z"
    }
   },
   "outputs": [
    {
     "ename": "SyntaxError",
     "evalue": "invalid syntax (1840879821.py, line 19)",
     "output_type": "error",
     "traceback": [
      "\u001b[0;36m  File \u001b[0;32m\"/tmp/ipykernel_1968/1840879821.py\"\u001b[0;36m, line \u001b[0;32m19\u001b[0m\n\u001b[0;31m    /datasets/birds/valid',\u001b[0m\n\u001b[0m    ^\u001b[0m\n\u001b[0;31mSyntaxError\u001b[0m\u001b[0;31m:\u001b[0m invalid syntax\n"
     ]
    }
   ],
   "source": [
    "def train_model_fit(n_epochs, base_lr, batchsize, classes):\n",
    "    \n",
    "    model = tf.keras.applications.ResNet50(\n",
    "        include_top=True,\n",
    "        weights=None,\n",
    "        classes=classes)\n",
    "        \n",
    "    # --------- Start wandb --------- #\n",
    "    wandb.init(entity='skirmer', project='newproj', config=wbargs)\n",
    "    \n",
    "    # Data\n",
    "    train_ds = tf.keras.preprocessing.image_dataset_from_directory(\n",
    "        'datasets/birds/train',\n",
    "        image_size=(224,224),\n",
    "        batch_size=batchsize\n",
    "    ).prefetch(2).cache().shuffle(1000)\n",
    "        \n",
    "    valid_ds = tf.keras.preprocessing.image_dataset_from_directory(\n",
    "        'datasets/birds/valid',\n",
    "        image_size=(224,224),\n",
    "        batch_size=batchsize\n",
    "    ).prefetch(2)\n",
    "   \n",
    "    optimizer = keras.optimizers.Adam(lr=base_lr)\n",
    "    model.compile(loss='sparse_categorical_crossentropy', optimizer=optimizer, metrics=['accuracy'])\n",
    "    start = time.time()\n",
    "\n",
    "    model.fit(\n",
    "        train_ds, \n",
    "        epochs=n_epochs, \n",
    "        validation_data=valid_ds,\n",
    "        callbacks=[WandbCallback()]\n",
    "    )\n",
    "    end = time.time()-start\n",
    "    print(\"model training time\", end)\n",
    "    wandb.log({\"training_time\":end})\n",
    "\n",
    "    # Close your wandb run \n",
    "    wandb.run.finish()\n",
    "    \n",
    "    tf.keras.models.save_model(model, 'model/keras_single/')"
   ]
  },
  {
   "cell_type": "code",
   "execution_count": 16,
   "id": "189acf66",
   "metadata": {
    "execution": {
     "iopub.execute_input": "2021-09-24T20:27:40.463417Z",
     "iopub.status.busy": "2021-09-24T20:27:40.463068Z",
     "iopub.status.idle": "2021-09-24T20:27:40.467699Z",
     "shell.execute_reply": "2021-09-24T20:27:40.467081Z",
     "shell.execute_reply.started": "2021-09-24T20:27:40.463398Z"
    }
   },
   "outputs": [],
   "source": [
    "model_params = {'n_epochs': 50, \n",
    "                'base_lr': .02,\n",
    "                'classes': 285,\n",
    "               'batchsize': 64}\n",
    "\n",
    "wbargs = {**model_params,\n",
    "    'Notes':\"tf_v100_2x\",\n",
    "    'Tags': ['single', 'gpu', 'tensorflow'],\n",
    "    'dataset':\"Birds\",\n",
    "    'architecture':\"ResNet50\"}"
   ]
  },
  {
   "cell_type": "code",
   "execution_count": 17,
   "id": "211f9591",
   "metadata": {
    "execution": {
     "iopub.execute_input": "2021-09-24T20:27:40.543763Z",
     "iopub.status.busy": "2021-09-24T20:27:40.543562Z",
     "iopub.status.idle": "2021-09-24T20:27:50.241379Z",
     "shell.execute_reply": "2021-09-24T20:27:50.240429Z",
     "shell.execute_reply.started": "2021-09-24T20:27:40.543745Z"
    }
   },
   "outputs": [
    {
     "data": {
      "text/html": [
       "Finishing last run (ID:h0hp1oab) before initializing another..."
      ],
      "text/plain": [
       "<IPython.core.display.HTML object>"
      ]
     },
     "metadata": {},
     "output_type": "display_data"
    },
    {
     "data": {
      "text/html": [
       "<br/>Waiting for W&B process to finish, PID 2225<br/>Program ended successfully."
      ],
      "text/plain": [
       "<IPython.core.display.HTML object>"
      ]
     },
     "metadata": {},
     "output_type": "display_data"
    },
    {
     "data": {
      "application/vnd.jupyter.widget-view+json": {
       "model_id": "",
       "version_major": 2,
       "version_minor": 0
      },
      "text/plain": [
       "VBox(children=(Label(value=' 0.00MB of 0.00MB uploaded (0.00MB deduped)\\r'), FloatProgress(value=1.0, max=1.0)…"
      ]
     },
     "metadata": {},
     "output_type": "display_data"
    },
    {
     "data": {
      "text/html": [
       "Find user logs for this run at: <code>/home/jovyan/git-repos/tensorflow_ds/wandb/run-20210924_202659-h0hp1oab/logs/debug.log</code>"
      ],
      "text/plain": [
       "<IPython.core.display.HTML object>"
      ]
     },
     "metadata": {},
     "output_type": "display_data"
    },
    {
     "data": {
      "text/html": [
       "Find internal logs for this run at: <code>/home/jovyan/git-repos/tensorflow_ds/wandb/run-20210924_202659-h0hp1oab/logs/debug-internal.log</code>"
      ],
      "text/plain": [
       "<IPython.core.display.HTML object>"
      ]
     },
     "metadata": {},
     "output_type": "display_data"
    },
    {
     "data": {
      "text/html": [
       "Synced 5 W&B file(s), 0 media file(s), 0 artifact file(s) and 0 other file(s)"
      ],
      "text/plain": [
       "<IPython.core.display.HTML object>"
      ]
     },
     "metadata": {},
     "output_type": "display_data"
    },
    {
     "data": {
      "text/html": [
       "\n",
       "                    <br/>Synced <strong style=\"color:#cdcd00\">earthy-bird-4</strong>: <a href=\"https://wandb.ai/skirmer/newproj/runs/h0hp1oab\" target=\"_blank\">https://wandb.ai/skirmer/newproj/runs/h0hp1oab</a><br/>\n",
       "                "
      ],
      "text/plain": [
       "<IPython.core.display.HTML object>"
      ]
     },
     "metadata": {},
     "output_type": "display_data"
    },
    {
     "data": {
      "text/html": [
       "...Successfully finished last run (ID:h0hp1oab). Initializing new run:<br/><br/>"
      ],
      "text/plain": [
       "<IPython.core.display.HTML object>"
      ]
     },
     "metadata": {},
     "output_type": "display_data"
    },
    {
     "name": "stderr",
     "output_type": "stream",
     "text": [
      "2021-09-24 20:27:45.852312: I tensorflow/stream_executor/platform/default/dso_loader.cc:49] Successfully opened dynamic library libcudart.so.10.1\n"
     ]
    },
    {
     "data": {
      "text/html": [
       "\n",
       "                Tracking run with wandb version 0.12.2<br/>\n",
       "                Syncing run <strong style=\"color:#cdcd00\">comfy-butterfly-5</strong> to <a href=\"https://wandb.ai\" target=\"_blank\">Weights & Biases</a> <a href=\"https://docs.wandb.com/integrations/jupyter.html\" target=\"_blank\">(Documentation)</a>.<br/>\n",
       "                Project page: <a href=\"https://wandb.ai/skirmer/newproj\" target=\"_blank\">https://wandb.ai/skirmer/newproj</a><br/>\n",
       "                Run page: <a href=\"https://wandb.ai/skirmer/newproj/runs/wjkp8ska\" target=\"_blank\">https://wandb.ai/skirmer/newproj/runs/wjkp8ska</a><br/>\n",
       "                Run data is saved locally in <code>/home/jovyan/git-repos/tensorflow_ds/wandb/run-20210924_202741-wjkp8ska</code><br/><br/>\n",
       "            "
      ],
      "text/plain": [
       "<IPython.core.display.HTML object>"
      ]
     },
     "metadata": {},
     "output_type": "display_data"
    },
    {
     "ename": "FileNotFoundError",
     "evalue": "[Errno 2] No such file or directory: '/datasets/birds/train'",
     "output_type": "error",
     "traceback": [
      "\u001b[0;31m---------------------------------------------------------------------------\u001b[0m",
      "\u001b[0;31mFileNotFoundError\u001b[0m                         Traceback (most recent call last)",
      "\u001b[0;32m/tmp/ipykernel_1968/1048097456.py\u001b[0m in \u001b[0;36m<module>\u001b[0;34m\u001b[0m\n\u001b[0;32m----> 1\u001b[0;31m \u001b[0mtester\u001b[0m \u001b[0;34m=\u001b[0m \u001b[0mtrain_model_fit\u001b[0m\u001b[0;34m(\u001b[0m\u001b[0;34m**\u001b[0m\u001b[0mmodel_params\u001b[0m\u001b[0;34m)\u001b[0m\u001b[0;34m\u001b[0m\u001b[0;34m\u001b[0m\u001b[0m\n\u001b[0m",
      "\u001b[0;32m/tmp/ipykernel_1968/1342072358.py\u001b[0m in \u001b[0;36mtrain_model_fit\u001b[0;34m(n_epochs, base_lr, batchsize, classes)\u001b[0m\n\u001b[1;32m     10\u001b[0m \u001b[0;34m\u001b[0m\u001b[0m\n\u001b[1;32m     11\u001b[0m     \u001b[0;31m# Data\u001b[0m\u001b[0;34m\u001b[0m\u001b[0;34m\u001b[0m\u001b[0m\n\u001b[0;32m---> 12\u001b[0;31m     train_ds = tf.keras.preprocessing.image_dataset_from_directory(\n\u001b[0m\u001b[1;32m     13\u001b[0m         \u001b[0;34m'/datasets/birds/train'\u001b[0m\u001b[0;34m,\u001b[0m\u001b[0;34m\u001b[0m\u001b[0;34m\u001b[0m\u001b[0m\n\u001b[1;32m     14\u001b[0m         \u001b[0mimage_size\u001b[0m\u001b[0;34m=\u001b[0m\u001b[0;34m(\u001b[0m\u001b[0;36m224\u001b[0m\u001b[0;34m,\u001b[0m\u001b[0;36m224\u001b[0m\u001b[0;34m)\u001b[0m\u001b[0;34m,\u001b[0m\u001b[0;34m\u001b[0m\u001b[0;34m\u001b[0m\u001b[0m\n",
      "\u001b[0;32m/srv/conda/envs/saturn/lib/python3.9/site-packages/tensorflow/python/keras/preprocessing/image_dataset.py\u001b[0m in \u001b[0;36mimage_dataset_from_directory\u001b[0;34m(directory, labels, label_mode, class_names, color_mode, batch_size, image_size, shuffle, seed, validation_split, subset, interpolation, follow_links)\u001b[0m\n\u001b[1;32m    173\u001b[0m   \u001b[0;32mif\u001b[0m \u001b[0mseed\u001b[0m \u001b[0;32mis\u001b[0m \u001b[0;32mNone\u001b[0m\u001b[0;34m:\u001b[0m\u001b[0;34m\u001b[0m\u001b[0;34m\u001b[0m\u001b[0m\n\u001b[1;32m    174\u001b[0m     \u001b[0mseed\u001b[0m \u001b[0;34m=\u001b[0m \u001b[0mnp\u001b[0m\u001b[0;34m.\u001b[0m\u001b[0mrandom\u001b[0m\u001b[0;34m.\u001b[0m\u001b[0mrandint\u001b[0m\u001b[0;34m(\u001b[0m\u001b[0;36m1e6\u001b[0m\u001b[0;34m)\u001b[0m\u001b[0;34m\u001b[0m\u001b[0;34m\u001b[0m\u001b[0m\n\u001b[0;32m--> 175\u001b[0;31m   image_paths, labels, class_names = dataset_utils.index_directory(\n\u001b[0m\u001b[1;32m    176\u001b[0m       \u001b[0mdirectory\u001b[0m\u001b[0;34m,\u001b[0m\u001b[0;34m\u001b[0m\u001b[0;34m\u001b[0m\u001b[0m\n\u001b[1;32m    177\u001b[0m       \u001b[0mlabels\u001b[0m\u001b[0;34m,\u001b[0m\u001b[0;34m\u001b[0m\u001b[0;34m\u001b[0m\u001b[0m\n",
      "\u001b[0;32m/srv/conda/envs/saturn/lib/python3.9/site-packages/tensorflow/python/keras/preprocessing/dataset_utils.py\u001b[0m in \u001b[0;36mindex_directory\u001b[0;34m(directory, labels, formats, class_names, shuffle, seed, follow_links)\u001b[0m\n\u001b[1;32m     63\u001b[0m   \"\"\"\n\u001b[1;32m     64\u001b[0m   \u001b[0minferred_class_names\u001b[0m \u001b[0;34m=\u001b[0m \u001b[0;34m[\u001b[0m\u001b[0;34m]\u001b[0m\u001b[0;34m\u001b[0m\u001b[0;34m\u001b[0m\u001b[0m\n\u001b[0;32m---> 65\u001b[0;31m   \u001b[0;32mfor\u001b[0m \u001b[0msubdir\u001b[0m \u001b[0;32min\u001b[0m \u001b[0msorted\u001b[0m\u001b[0;34m(\u001b[0m\u001b[0mos\u001b[0m\u001b[0;34m.\u001b[0m\u001b[0mlistdir\u001b[0m\u001b[0;34m(\u001b[0m\u001b[0mdirectory\u001b[0m\u001b[0;34m)\u001b[0m\u001b[0;34m)\u001b[0m\u001b[0;34m:\u001b[0m\u001b[0;34m\u001b[0m\u001b[0;34m\u001b[0m\u001b[0m\n\u001b[0m\u001b[1;32m     66\u001b[0m     \u001b[0;32mif\u001b[0m \u001b[0mos\u001b[0m\u001b[0;34m.\u001b[0m\u001b[0mpath\u001b[0m\u001b[0;34m.\u001b[0m\u001b[0misdir\u001b[0m\u001b[0;34m(\u001b[0m\u001b[0mos\u001b[0m\u001b[0;34m.\u001b[0m\u001b[0mpath\u001b[0m\u001b[0;34m.\u001b[0m\u001b[0mjoin\u001b[0m\u001b[0;34m(\u001b[0m\u001b[0mdirectory\u001b[0m\u001b[0;34m,\u001b[0m \u001b[0msubdir\u001b[0m\u001b[0;34m)\u001b[0m\u001b[0;34m)\u001b[0m\u001b[0;34m:\u001b[0m\u001b[0;34m\u001b[0m\u001b[0;34m\u001b[0m\u001b[0m\n\u001b[1;32m     67\u001b[0m       \u001b[0minferred_class_names\u001b[0m\u001b[0;34m.\u001b[0m\u001b[0mappend\u001b[0m\u001b[0;34m(\u001b[0m\u001b[0msubdir\u001b[0m\u001b[0;34m)\u001b[0m\u001b[0;34m\u001b[0m\u001b[0;34m\u001b[0m\u001b[0m\n",
      "\u001b[0;31mFileNotFoundError\u001b[0m: [Errno 2] No such file or directory: '/datasets/birds/train'"
     ]
    }
   ],
   "source": [
    "tester = train_model_fit(**model_params)"
   ]
  },
  {
   "cell_type": "code",
   "execution_count": 14,
   "id": "57e29e3e",
   "metadata": {
    "execution": {
     "iopub.execute_input": "2021-09-24T20:27:29.325832Z",
     "iopub.status.busy": "2021-09-24T20:27:29.325516Z",
     "iopub.status.idle": "2021-09-24T20:27:29.331910Z",
     "shell.execute_reply": "2021-09-24T20:27:29.331224Z",
     "shell.execute_reply.started": "2021-09-24T20:27:29.325808Z"
    }
   },
   "outputs": [
    {
     "data": {
      "text/plain": [
       "'/home/jovyan/git-repos/tensorflow_ds'"
      ]
     },
     "execution_count": 14,
     "metadata": {},
     "output_type": "execute_result"
    }
   ],
   "source": [
    "import os\n",
    "os.getcwd()"
   ]
  },
  {
   "cell_type": "code",
   "execution_count": null,
   "id": "fa46ec7a",
   "metadata": {},
   "outputs": [],
   "source": []
  }
 ],
 "metadata": {
  "kernelspec": {
   "display_name": "saturn (Python 3)",
   "language": "python",
   "name": "python3"
  },
  "language_info": {
   "codemirror_mode": {
    "name": "ipython",
    "version": 3
   },
   "file_extension": ".py",
   "mimetype": "text/x-python",
   "name": "python",
   "nbconvert_exporter": "python",
   "pygments_lexer": "ipython3",
   "version": "3.9.7"
  }
 },
 "nbformat": 4,
 "nbformat_minor": 5
}
