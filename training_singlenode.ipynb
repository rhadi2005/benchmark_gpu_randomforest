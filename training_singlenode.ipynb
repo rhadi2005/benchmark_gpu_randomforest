{
 "cells": [
  {
   "cell_type": "markdown",
   "source": [
    "# Single Node Single GPU Training"
   ],
   "metadata": {
    "execution": {
     "iopub.execute_input": "2021-08-16T21:29:50.228313Z",
     "iopub.status.busy": "2021-08-16T21:29:50.228073Z",
     "iopub.status.idle": "2021-08-16T21:29:50.231558Z",
     "shell.execute_reply": "2021-08-16T21:29:50.230865Z",
     "shell.execute_reply.started": "2021-08-16T21:29:50.228252Z"
    }
   }
  },
  {
   "cell_type": "code",
   "execution_count": null,
   "source": [
    "import numpy as np, pandas as pd\n",
    "import requests, io, os, datetime, re\n",
    "import tensorflow as tf\n",
    "import keras\n",
    "import matplotlib.pyplot as plt\n",
    "from tensorflow.keras import datasets, layers, models, losses, Model\n",
    "from keras.applications import resnet50\n",
    "from keras.preprocessing import image\n",
    "import dask"
   ],
   "outputs": [],
   "metadata": {
    "execution": {
     "iopub.status.idle": "2021-08-20T15:27:23.268491Z",
     "shell.execute_reply": "2021-08-20T15:27:23.267267Z",
     "shell.execute_reply.started": "2021-08-20T15:27:20.756489Z"
    }
   }
  },
  {
   "cell_type": "code",
   "execution_count": null,
   "source": [
    "import wandb\n",
    "from wandb.keras import WandbCallback\n",
    "\n",
    "wandb.login()"
   ],
   "outputs": [],
   "metadata": {
    "execution": {
     "iopub.execute_input": "2021-08-20T15:27:23.270745Z",
     "iopub.status.busy": "2021-08-20T15:27:23.270409Z",
     "iopub.status.idle": "2021-08-20T15:27:24.117430Z",
     "shell.execute_reply": "2021-08-20T15:27:24.116412Z",
     "shell.execute_reply.started": "2021-08-20T15:27:23.270706Z"
    }
   }
  },
  {
   "cell_type": "code",
   "execution_count": null,
   "source": [
    "gpus = tf.config.list_physical_devices('GPU')\n",
    "if gpus:\n",
    "    try:\n",
    "    # Currently, memory growth needs to be the same across GPUs\n",
    "        for gpu in gpus:\n",
    "            tf.config.experimental.set_memory_growth(gpu, True)\n",
    "        logical_gpus = tf.config.experimental.list_logical_devices('GPU')\n",
    "        print(len(gpus), \"Physical GPUs,\", len(logical_gpus), \"Logical GPUs\")\n",
    "    except RuntimeError as e:\n",
    "    # Memory growth must be set before GPUs have been initialized\n",
    "        print(e)"
   ],
   "outputs": [],
   "metadata": {
    "execution": {
     "iopub.execute_input": "2021-08-20T15:27:24.119525Z",
     "iopub.status.busy": "2021-08-20T15:27:24.119303Z",
     "iopub.status.idle": "2021-08-20T15:27:24.993340Z",
     "shell.execute_reply": "2021-08-20T15:27:24.992511Z",
     "shell.execute_reply.started": "2021-08-20T15:27:24.119495Z"
    }
   }
  },
  {
   "cell_type": "code",
   "execution_count": null,
   "source": [
    "def train_model_fit(n_epochs, base_lr, batchsize, classes):\n",
    "    \n",
    "    model = tf.keras.applications.ResNet50(\n",
    "        include_top=True,\n",
    "        weights=None,\n",
    "        classes=classes)\n",
    "        \n",
    "    # --------- Start wandb --------- #\n",
    "    wandb.init(entity='skirmer', project='tensorflow_mg_birds', config=wbargs)\n",
    "    \n",
    "    # Data\n",
    "    train_ds = tf.keras.preprocessing.image_dataset_from_directory(\n",
    "        '/home/jovyan/git-repos/tensorflow_ds/datasets/birds/285 birds/train',\n",
    "        image_size=(224,224),\n",
    "        batch_size=batchsize\n",
    "    ).prefetch(2).cache().shuffle(1000)\n",
    "        \n",
    "    valid_ds = tf.keras.preprocessing.image_dataset_from_directory(\n",
    "        '/home/jovyan/git-repos/tensorflow_ds/datasets/birds/285 birds/valid',\n",
    "        image_size=(224,224),\n",
    "        batch_size=batchsize\n",
    "    ).prefetch(2)\n",
    "   \n",
    "    optimizer = keras.optimizers.Adam(lr=base_lr)\n",
    "    model.compile(loss='sparse_categorical_crossentropy', optimizer=optimizer, metrics=['accuracy']) #integer labels\n",
    "    start = time.time()\n",
    "\n",
    "    model.fit(\n",
    "        train_ds, \n",
    "        epochs=n_epochs, \n",
    "        validation_data=valid_ds,\n",
    "        callbacks=[WandbCallback()]\n",
    "    )\n",
    "    end = time.time()-start\n",
    "    print(\"model training time\", end)\n",
    "    wandb.log({\"training_time\":end})\n",
    "\n",
    "    # Close your wandb run \n",
    "    wandb.run.finish()\n",
    "    \n",
    "    tf.keras.models.save_model(model, 'model/keras_single/')"
   ],
   "outputs": [],
   "metadata": {
    "execution": {
     "iopub.execute_input": "2021-08-20T15:27:24.994824Z",
     "iopub.status.busy": "2021-08-20T15:27:24.994606Z",
     "iopub.status.idle": "2021-08-20T15:27:25.001694Z",
     "shell.execute_reply": "2021-08-20T15:27:25.000970Z",
     "shell.execute_reply.started": "2021-08-20T15:27:24.994796Z"
    }
   }
  },
  {
   "cell_type": "code",
   "execution_count": null,
   "source": [
    "model_params = {'n_epochs': 50, \n",
    "                'base_lr': .02,\n",
    "                'classes': 285,\n",
    "               'batchsize': 64}\n",
    "\n",
    "wbargs = {**model_params,\n",
    "    'Notes':\"tf_v100_2x\",\n",
    "    'Tags': ['single', 'gpu', 'tensorflow'],\n",
    "    'dataset':\"Clothing\",\n",
    "    'architecture':\"ResNet50\"}"
   ],
   "outputs": [],
   "metadata": {
    "execution": {
     "iopub.execute_input": "2021-08-20T15:27:25.002867Z",
     "iopub.status.busy": "2021-08-20T15:27:25.002667Z",
     "iopub.status.idle": "2021-08-20T15:27:25.007208Z",
     "shell.execute_reply": "2021-08-20T15:27:25.006476Z",
     "shell.execute_reply.started": "2021-08-20T15:27:25.002842Z"
    }
   }
  },
  {
   "cell_type": "code",
   "execution_count": null,
   "source": [
    "tester = train_model_fit(**model_params)"
   ],
   "outputs": [],
   "metadata": {
    "execution": {
     "iopub.execute_input": "2021-08-20T15:27:25.008320Z",
     "iopub.status.busy": "2021-08-20T15:27:25.008120Z",
     "iopub.status.idle": "2021-08-20T17:12:41.087045Z",
     "shell.execute_reply": "2021-08-20T17:12:41.086117Z",
     "shell.execute_reply.started": "2021-08-20T15:27:25.008295Z"
    }
   }
  }
 ],
 "metadata": {
  "kernelspec": {
   "display_name": "saturn (Python 3)",
   "language": "python",
   "name": "python3"
  },
  "language_info": {
   "codemirror_mode": {
    "name": "ipython",
    "version": 3
   },
   "file_extension": ".py",
   "mimetype": "text/x-python",
   "name": "python",
   "nbconvert_exporter": "python",
   "pygments_lexer": "ipython3",
   "version": "3.9.5"
  }
 },
 "nbformat": 4,
 "nbformat_minor": 5
}