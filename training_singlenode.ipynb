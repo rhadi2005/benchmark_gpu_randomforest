{
 "cells": [
  {
   "cell_type": "markdown",
   "id": "a6ccc757",
   "metadata": {
    "execution": {
     "iopub.execute_input": "2021-08-16T21:29:50.228313Z",
     "iopub.status.busy": "2021-08-16T21:29:50.228073Z",
     "iopub.status.idle": "2021-08-16T21:29:50.231558Z",
     "shell.execute_reply": "2021-08-16T21:29:50.230865Z",
     "shell.execute_reply.started": "2021-08-16T21:29:50.228252Z"
    }
   },
   "source": [
    "# Single Node Single GPU Training"
   ]
  },
  {
   "cell_type": "code",
   "execution_count": 1,
   "id": "738bc9a2",
   "metadata": {
    "execution": {
     "iopub.status.idle": "2021-08-17T19:41:59.518660Z",
     "shell.execute_reply": "2021-08-17T19:41:59.518018Z",
     "shell.execute_reply.started": "2021-08-17T19:41:56.921173Z"
    }
   },
   "outputs": [
    {
     "name": "stderr",
     "output_type": "stream",
     "text": [
      "/srv/conda/envs/saturn/lib/python3.9/site-packages/snowflake/connector/options.py:94: UserWarning: You have an incompatible version of 'pyarrow' installed (4.0.1), please install a version that adheres to: 'pyarrow<3.1.0,>=3.0.0; extra == \"pandas\"'\n",
      "  warn_incompatible_dep(\n"
     ]
    }
   ],
   "source": [
    "import numpy as np, pandas as pd\n",
    "import requests, io, os, datetime, re\n",
    "from tensorflow_snowflake_class import SnowflakeDataset\n",
    "\n",
    "import tensorflow as tf\n",
    "import keras\n",
    "import matplotlib.pyplot as plt\n",
    "from tensorflow.keras import datasets, layers, models, losses, Model\n",
    "from keras.applications import resnet50\n",
    "from keras.preprocessing import image\n",
    "import snowflake.connector\n",
    "from snowflake.connector.pandas_tools import write_pandas\n",
    "import dask\n"
   ]
  },
  {
   "cell_type": "code",
   "execution_count": 2,
   "id": "5b166574",
   "metadata": {
    "execution": {
     "iopub.execute_input": "2021-08-17T19:41:59.519863Z",
     "iopub.status.busy": "2021-08-17T19:41:59.519696Z",
     "iopub.status.idle": "2021-08-17T19:42:00.126781Z",
     "shell.execute_reply": "2021-08-17T19:42:00.126263Z",
     "shell.execute_reply.started": "2021-08-17T19:41:59.519843Z"
    }
   },
   "outputs": [
    {
     "name": "stderr",
     "output_type": "stream",
     "text": [
      "\u001b[34m\u001b[1mwandb\u001b[0m: Currently logged in as: \u001b[33mskirmer\u001b[0m (use `wandb login --relogin` to force relogin)\n"
     ]
    },
    {
     "data": {
      "text/plain": [
       "True"
      ]
     },
     "execution_count": 2,
     "metadata": {},
     "output_type": "execute_result"
    }
   ],
   "source": [
    "import wandb\n",
    "from wandb.keras import WandbCallback\n",
    "\n",
    "wandb.login()"
   ]
  },
  {
   "cell_type": "code",
   "execution_count": 3,
   "id": "51d20353",
   "metadata": {
    "execution": {
     "iopub.execute_input": "2021-08-17T19:42:00.128097Z",
     "iopub.status.busy": "2021-08-17T19:42:00.127935Z",
     "iopub.status.idle": "2021-08-17T19:42:00.131419Z",
     "shell.execute_reply": "2021-08-17T19:42:00.130941Z",
     "shell.execute_reply.started": "2021-08-17T19:42:00.128076Z"
    }
   },
   "outputs": [],
   "source": [
    "model_params = {'n_epochs': 3, \n",
    "                'base_lr': .02,\n",
    "               'batchsize': 32}\n",
    "\n",
    "wbargs = {**model_params,\n",
    "    'classes':10,\n",
    "    'Notes':\"tf_baseline\",\n",
    "    'Tags': ['single', 'gpu', 'tensorflow'],\n",
    "    'dataset':\"Clothing\",\n",
    "    'architecture':\"ResNet\"}"
   ]
  },
  {
   "cell_type": "code",
   "execution_count": 6,
   "id": "d99c11e1",
   "metadata": {
    "execution": {
     "iopub.execute_input": "2021-08-17T19:42:07.931960Z",
     "iopub.status.busy": "2021-08-17T19:42:07.931725Z",
     "iopub.status.idle": "2021-08-17T19:42:07.936683Z",
     "shell.execute_reply": "2021-08-17T19:42:07.936166Z",
     "shell.execute_reply.started": "2021-08-17T19:42:07.931936Z"
    }
   },
   "outputs": [],
   "source": [
    "def train_model_fit(n_epochs, base_lr, batchsize):\n",
    "    \n",
    "    model = tf.keras.applications.ResNet50(\n",
    "        include_top=True,\n",
    "        weights=None,\n",
    "        classes=10)\n",
    "        \n",
    "    # --------- Start wandb --------- #\n",
    "    wandb.init(entity='skirmer', project='tensorflow_rnd')\n",
    "    config=wbargs\n",
    "    \n",
    "    # Data\n",
    "    train_ds = tf.keras.preprocessing.image_dataset_from_directory(\n",
    "        '/home/jovyan/git-repos/tensorflow_ds/data/clothing-dataset-small/train',\n",
    "        seed=123,\n",
    "        image_size=(224,224),\n",
    "        batch_size=32).prefetch(2)\n",
    "\n",
    "    \n",
    "    optimizer = keras.optimizers.Adam(lr=base_lr)\n",
    "    model.compile(loss='sparse_categorical_crossentropy', optimizer=optimizer, metrics=['accuracy']) #integer labels\n",
    "\n",
    "    outputs = model.fit(\n",
    "        train_ds, \n",
    "        verbose = 1, \n",
    "        epochs=n_epochs, \n",
    "        callbacks=[WandbCallback()]\n",
    "    )\n",
    "    # Close your wandb run \n",
    "    wandb.run.finish()\n",
    "    \n",
    "    tf.keras.models.save_model(model, 'model/keras/')"
   ]
  },
  {
   "cell_type": "code",
   "execution_count": null,
   "id": "6126a0fd",
   "metadata": {
    "execution": {
     "iopub.execute_input": "2021-08-17T19:42:08.519088Z",
     "iopub.status.busy": "2021-08-17T19:42:08.518924Z"
    }
   },
   "outputs": [
    {
     "data": {
      "text/html": [
       "\n",
       "                Tracking run with wandb version 0.12.0<br/>\n",
       "                Syncing run <strong style=\"color:#cdcd00\">celestial-smoke-54</strong> to <a href=\"https://wandb.ai\" target=\"_blank\">Weights & Biases</a> <a href=\"https://docs.wandb.com/integrations/jupyter.html\" target=\"_blank\">(Documentation)</a>.<br/>\n",
       "                Project page: <a href=\"https://wandb.ai/skirmer/tensorflow_rnd\" target=\"_blank\">https://wandb.ai/skirmer/tensorflow_rnd</a><br/>\n",
       "                Run page: <a href=\"https://wandb.ai/skirmer/tensorflow_rnd/runs/3fjnkxhd\" target=\"_blank\">https://wandb.ai/skirmer/tensorflow_rnd/runs/3fjnkxhd</a><br/>\n",
       "                Run data is saved locally in <code>/home/jovyan/git-repos/snowflake-ml-guide/tensorflow/wandb/run-20210817_194210-3fjnkxhd</code><br/><br/>\n",
       "            "
      ],
      "text/plain": [
       "<IPython.core.display.HTML object>"
      ]
     },
     "metadata": {},
     "output_type": "display_data"
    },
    {
     "name": "stdout",
     "output_type": "stream",
     "text": [
      "Found 3068 files belonging to 10 classes.\n",
      "Epoch 1/3\n",
      " 6/96 [>.............................] - ETA: 26s - loss: 14.0108 - accuracy: 0.1477WARNING:tensorflow:Callback method `on_train_batch_end` is slow compared to the batch time (batch time: 0.1104s vs `on_train_batch_end` time: 0.1531s). Check your callbacks.\n",
      "96/96 [==============================] - 35s 294ms/step - loss: 6.6139 - accuracy: 0.2034\n",
      "Epoch 2/3\n",
      "96/96 [==============================] - 28s 286ms/step - loss: 2.1197 - accuracy: 0.2606\n",
      "Epoch 3/3\n",
      "96/96 [==============================] - 28s 287ms/step - loss: 2.1275 - accuracy: 0.2564\n"
     ]
    },
    {
     "data": {
      "text/html": [
       "<br/>Waiting for W&B process to finish, PID 571<br/>Program ended successfully."
      ],
      "text/plain": [
       "<IPython.core.display.HTML object>"
      ]
     },
     "metadata": {},
     "output_type": "display_data"
    },
    {
     "data": {
      "application/vnd.jupyter.widget-view+json": {
       "model_id": "",
       "version_major": 2,
       "version_minor": 0
      },
      "text/plain": [
       "VBox(children=(Label(value=' 0.03MB of 0.03MB uploaded (0.00MB deduped)\\r'), FloatProgress(value=1.0, max=1.0)…"
      ]
     },
     "metadata": {},
     "output_type": "display_data"
    },
    {
     "data": {
      "text/html": [
       "Find user logs for this run at: <code>/home/jovyan/git-repos/snowflake-ml-guide/tensorflow/wandb/run-20210817_194210-3fjnkxhd/logs/debug.log</code>"
      ],
      "text/plain": [
       "<IPython.core.display.HTML object>"
      ]
     },
     "metadata": {},
     "output_type": "display_data"
    },
    {
     "data": {
      "text/html": [
       "Find internal logs for this run at: <code>/home/jovyan/git-repos/snowflake-ml-guide/tensorflow/wandb/run-20210817_194210-3fjnkxhd/logs/debug-internal.log</code>"
      ],
      "text/plain": [
       "<IPython.core.display.HTML object>"
      ]
     },
     "metadata": {},
     "output_type": "display_data"
    },
    {
     "data": {
      "text/html": [
       "<h3>Run summary:</h3><br/><style>\n",
       "    table.wandb td:nth-child(1) { padding: 0 10px; text-align: right }\n",
       "    </style><table class=\"wandb\">\n",
       "<tr><td>epoch</td><td>2</td></tr><tr><td>loss</td><td>2.14592</td></tr><tr><td>accuracy</td><td>0.25913</td></tr><tr><td>_runtime</td><td>93</td></tr><tr><td>_timestamp</td><td>1629229423</td></tr><tr><td>_step</td><td>2</td></tr></table>"
      ],
      "text/plain": [
       "<IPython.core.display.HTML object>"
      ]
     },
     "metadata": {},
     "output_type": "display_data"
    },
    {
     "data": {
      "text/html": [
       "<h3>Run history:</h3><br/><style>\n",
       "    table.wandb td:nth-child(1) { padding: 0 10px; text-align: right }\n",
       "    </style><table class=\"wandb\">\n",
       "<tr><td>epoch</td><td>▁▅█</td></tr><tr><td>loss</td><td>█▁▁</td></tr><tr><td>accuracy</td><td>▁██</td></tr><tr><td>_runtime</td><td>▁▅█</td></tr><tr><td>_timestamp</td><td>▁▅█</td></tr><tr><td>_step</td><td>▁▅█</td></tr></table><br/>"
      ],
      "text/plain": [
       "<IPython.core.display.HTML object>"
      ]
     },
     "metadata": {},
     "output_type": "display_data"
    },
    {
     "data": {
      "text/html": [
       "Synced 5 W&B file(s), 1 media file(s), 0 artifact file(s) and 0 other file(s)"
      ],
      "text/plain": [
       "<IPython.core.display.HTML object>"
      ]
     },
     "metadata": {},
     "output_type": "display_data"
    },
    {
     "data": {
      "text/html": [
       "\n",
       "                    <br/>Synced <strong style=\"color:#cdcd00\">celestial-smoke-54</strong>: <a href=\"https://wandb.ai/skirmer/tensorflow_rnd/runs/3fjnkxhd\" target=\"_blank\">https://wandb.ai/skirmer/tensorflow_rnd/runs/3fjnkxhd</a><br/>\n",
       "                "
      ],
      "text/plain": [
       "<IPython.core.display.HTML object>"
      ]
     },
     "metadata": {},
     "output_type": "display_data"
    }
   ],
   "source": [
    "tester = train_model_fit(**model_params)"
   ]
  },
  {
   "cell_type": "code",
   "execution_count": null,
   "id": "599fa214",
   "metadata": {},
   "outputs": [],
   "source": []
  }
 ],
 "metadata": {
  "kernelspec": {
   "display_name": "saturn (Python 3)",
   "language": "python",
   "name": "python3"
  },
  "language_info": {
   "codemirror_mode": {
    "name": "ipython",
    "version": 3
   },
   "file_extension": ".py",
   "mimetype": "text/x-python",
   "name": "python",
   "nbconvert_exporter": "python",
   "pygments_lexer": "ipython3",
   "version": "3.9.5"
  }
 },
 "nbformat": 4,
 "nbformat_minor": 5
}
