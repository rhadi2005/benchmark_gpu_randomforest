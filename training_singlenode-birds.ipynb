{
 "cells": [
  {
   "cell_type": "markdown",
   "id": "98fd85eb",
   "metadata": {
    "execution": {
     "iopub.execute_input": "2021-08-16T21:29:50.228313Z",
     "iopub.status.busy": "2021-08-16T21:29:50.228073Z",
     "iopub.status.idle": "2021-08-16T21:29:50.231558Z",
     "shell.execute_reply": "2021-08-16T21:29:50.230865Z",
     "shell.execute_reply.started": "2021-08-16T21:29:50.228252Z"
    }
   },
   "source": [
    "# Single Node Single GPU Training"
   ]
  },
  {
   "cell_type": "code",
   "execution_count": 1,
   "id": "1d6e32e7",
   "metadata": {
    "execution": {
     "iopub.status.idle": "2021-08-20T15:27:23.268491Z",
     "shell.execute_reply": "2021-08-20T15:27:23.267267Z",
     "shell.execute_reply.started": "2021-08-20T15:27:20.756489Z"
    }
   },
   "outputs": [],
   "source": [
    "import numpy as np, pandas as pd\n",
    "import requests, io, os, datetime, re\n",
    "import tensorflow as tf\n",
    "import keras\n",
    "import matplotlib.pyplot as plt\n",
    "from tensorflow.keras import datasets, layers, models, losses, Model\n",
    "from keras.applications import resnet50\n",
    "from keras.preprocessing import image\n",
    "import dask"
   ]
  },
  {
   "cell_type": "code",
   "execution_count": 2,
   "id": "fe50bff4",
   "metadata": {
    "execution": {
     "iopub.execute_input": "2021-08-20T15:27:23.270745Z",
     "iopub.status.busy": "2021-08-20T15:27:23.270409Z",
     "iopub.status.idle": "2021-08-20T15:27:24.117430Z",
     "shell.execute_reply": "2021-08-20T15:27:24.116412Z",
     "shell.execute_reply.started": "2021-08-20T15:27:23.270706Z"
    }
   },
   "outputs": [
    {
     "name": "stderr",
     "output_type": "stream",
     "text": [
      "\u001b[34m\u001b[1mwandb\u001b[0m: Currently logged in as: \u001b[33mskirmer\u001b[0m (use `wandb login --relogin` to force relogin)\n"
     ]
    },
    {
     "data": {
      "text/plain": [
       "True"
      ]
     },
     "execution_count": 2,
     "metadata": {},
     "output_type": "execute_result"
    }
   ],
   "source": [
    "import wandb\n",
    "from wandb.keras import WandbCallback\n",
    "\n",
    "wandb.login()"
   ]
  },
  {
   "cell_type": "code",
   "execution_count": 3,
   "id": "55ceb6bd",
   "metadata": {
    "execution": {
     "iopub.execute_input": "2021-08-20T15:27:24.119525Z",
     "iopub.status.busy": "2021-08-20T15:27:24.119303Z",
     "iopub.status.idle": "2021-08-20T15:27:24.993340Z",
     "shell.execute_reply": "2021-08-20T15:27:24.992511Z",
     "shell.execute_reply.started": "2021-08-20T15:27:24.119495Z"
    }
   },
   "outputs": [
    {
     "name": "stdout",
     "output_type": "stream",
     "text": [
      "1 Physical GPUs, 1 Logical GPUs\n"
     ]
    }
   ],
   "source": [
    "gpus = tf.config.list_physical_devices('GPU')\n",
    "if gpus:\n",
    "    try:\n",
    "    # Currently, memory growth needs to be the same across GPUs\n",
    "        for gpu in gpus:\n",
    "            tf.config.experimental.set_memory_growth(gpu, True)\n",
    "        logical_gpus = tf.config.experimental.list_logical_devices('GPU')\n",
    "        print(len(gpus), \"Physical GPUs,\", len(logical_gpus), \"Logical GPUs\")\n",
    "    except RuntimeError as e:\n",
    "    # Memory growth must be set before GPUs have been initialized\n",
    "        print(e)"
   ]
  },
  {
   "cell_type": "code",
   "execution_count": 4,
   "id": "ebc2dcb4",
   "metadata": {
    "execution": {
     "iopub.execute_input": "2021-08-20T15:27:24.994824Z",
     "iopub.status.busy": "2021-08-20T15:27:24.994606Z",
     "iopub.status.idle": "2021-08-20T15:27:25.001694Z",
     "shell.execute_reply": "2021-08-20T15:27:25.000970Z",
     "shell.execute_reply.started": "2021-08-20T15:27:24.994796Z"
    }
   },
   "outputs": [],
   "source": [
    "def train_model_fit(n_epochs, base_lr, batchsize, classes):\n",
    "    \n",
    "    model = tf.keras.applications.ResNet50(\n",
    "        include_top=True,\n",
    "        weights=None,\n",
    "        classes=classes)\n",
    "        \n",
    "    # --------- Start wandb --------- #\n",
    "    wandb.init(entity='skirmer', project='tensorflow_mg_birds', config=wbargs)\n",
    "    \n",
    "    # Data\n",
    "    train_ds = tf.keras.preprocessing.image_dataset_from_directory(\n",
    "        '/home/jovyan/git-repos/tensorflow_ds/datasets/birds/285 birds/train',\n",
    "        image_size=(224,224),\n",
    "        batch_size=batchsize\n",
    "    ).prefetch(2).cache().shuffle(1000)\n",
    "        \n",
    "    valid_ds = tf.keras.preprocessing.image_dataset_from_directory(\n",
    "        '/home/jovyan/git-repos/tensorflow_ds/datasets/birds/285 birds/valid',\n",
    "        image_size=(224,224),\n",
    "        batch_size=batchsize\n",
    "    ).prefetch(2)\n",
    "   \n",
    "    optimizer = keras.optimizers.Adam(lr=base_lr)\n",
    "    model.compile(loss='sparse_categorical_crossentropy', optimizer=optimizer, metrics=['accuracy']) #integer labels\n",
    "    start = time.time()\n",
    "\n",
    "    model.fit(\n",
    "        train_ds, \n",
    "        epochs=n_epochs, \n",
    "        validation_data=valid_ds,\n",
    "        callbacks=[WandbCallback()]\n",
    "    )\n",
    "    end = time.time()-start\n",
    "    print(\"model training time\", end)\n",
    "    wandb.log({\"training_time\":end})\n",
    "\n",
    "    # Close your wandb run \n",
    "    wandb.run.finish()\n",
    "    \n",
    "    tf.keras.models.save_model(model, 'model/keras_single/')"
   ]
  },
  {
   "cell_type": "code",
   "execution_count": 5,
   "id": "7f3b4a14",
   "metadata": {
    "execution": {
     "iopub.execute_input": "2021-08-20T15:27:25.002867Z",
     "iopub.status.busy": "2021-08-20T15:27:25.002667Z",
     "iopub.status.idle": "2021-08-20T15:27:25.007208Z",
     "shell.execute_reply": "2021-08-20T15:27:25.006476Z",
     "shell.execute_reply.started": "2021-08-20T15:27:25.002842Z"
    }
   },
   "outputs": [],
   "source": [
    "model_params = {'n_epochs': 50, \n",
    "                'base_lr': .02,\n",
    "                'classes': 285,\n",
    "               'batchsize': 64}\n",
    "\n",
    "wbargs = {**model_params,\n",
    "    'Notes':\"tf_v100_2x\",\n",
    "    'Tags': ['single', 'gpu', 'tensorflow'],\n",
    "    'dataset':\"Clothing\",\n",
    "    'architecture':\"ResNet50\"}"
   ]
  },
  {
   "cell_type": "code",
   "execution_count": 6,
   "id": "22a1b58d",
   "metadata": {
    "execution": {
     "iopub.execute_input": "2021-08-20T15:27:25.008320Z",
     "iopub.status.busy": "2021-08-20T15:27:25.008120Z",
     "iopub.status.idle": "2021-08-20T17:12:41.087045Z",
     "shell.execute_reply": "2021-08-20T17:12:41.086117Z",
     "shell.execute_reply.started": "2021-08-20T15:27:25.008295Z"
    }
   },
   "outputs": [
    {
     "data": {
      "text/html": [
       "\n",
       "                Tracking run with wandb version 0.12.0<br/>\n",
       "                Syncing run <strong style=\"color:#cdcd00\">revived-sponge-17</strong> to <a href=\"https://wandb.ai\" target=\"_blank\">Weights & Biases</a> <a href=\"https://docs.wandb.com/integrations/jupyter.html\" target=\"_blank\">(Documentation)</a>.<br/>\n",
       "                Project page: <a href=\"https://wandb.ai/skirmer/tensorflow_mg_birds\" target=\"_blank\">https://wandb.ai/skirmer/tensorflow_mg_birds</a><br/>\n",
       "                Run page: <a href=\"https://wandb.ai/skirmer/tensorflow_mg_birds/runs/xuomxc1s\" target=\"_blank\">https://wandb.ai/skirmer/tensorflow_mg_birds/runs/xuomxc1s</a><br/>\n",
       "                Run data is saved locally in <code>/home/jovyan/git-repos/tensorflow_ds/wandb/run-20210820_152726-xuomxc1s</code><br/><br/>\n",
       "            "
      ],
      "text/plain": [
       "<IPython.core.display.HTML object>"
      ]
     },
     "metadata": {},
     "output_type": "display_data"
    },
    {
     "name": "stdout",
     "output_type": "stream",
     "text": [
      "Found 40930 files belonging to 285 classes.\n",
      "Found 1425 files belonging to 285 classes.\n",
      "Epoch 1/50\n",
      "  6/640 [..............................] - ETA: 2:05 - loss: 23.2025 - accuracy: 0.0083WARNING:tensorflow:Callback method `on_train_batch_end` is slow compared to the batch time (batch time: 0.0839s vs `on_train_batch_end` time: 0.0956s). Check your callbacks.\n",
      "640/640 [==============================] - 196s 196ms/step - loss: 6.6987 - accuracy: 0.0092 - val_loss: 5.6996 - val_accuracy: 0.0063\n",
      "Epoch 2/50\n",
      "640/640 [==============================] - 124s 193ms/step - loss: 5.0280 - accuracy: 0.0265 - val_loss: 4.7170 - val_accuracy: 0.0519\n",
      "Epoch 3/50\n",
      "640/640 [==============================] - 124s 193ms/step - loss: 4.2811 - accuracy: 0.1046 - val_loss: 4.1652 - val_accuracy: 0.1530\n",
      "Epoch 4/50\n",
      "640/640 [==============================] - 124s 194ms/step - loss: 3.4087 - accuracy: 0.2422 - val_loss: 3.4624 - val_accuracy: 0.2407\n",
      "Epoch 5/50\n",
      "640/640 [==============================] - 124s 193ms/step - loss: 2.7947 - accuracy: 0.3503 - val_loss: 4.5548 - val_accuracy: 0.2204\n",
      "Epoch 6/50\n",
      "640/640 [==============================] - 124s 194ms/step - loss: 2.2478 - accuracy: 0.4636 - val_loss: 2.1121 - val_accuracy: 0.4695\n",
      "Epoch 7/50\n",
      "640/640 [==============================] - 124s 194ms/step - loss: 1.8409 - accuracy: 0.5558 - val_loss: 2.0185 - val_accuracy: 0.5249\n",
      "Epoch 8/50\n",
      "640/640 [==============================] - 124s 194ms/step - loss: 1.5045 - accuracy: 0.6301 - val_loss: 2.0312 - val_accuracy: 0.5404\n",
      "Epoch 9/50\n",
      "640/640 [==============================] - 124s 194ms/step - loss: 1.3194 - accuracy: 0.6700 - val_loss: 1.5083 - val_accuracy: 0.6225\n",
      "Epoch 10/50\n",
      "640/640 [==============================] - 124s 194ms/step - loss: 1.0839 - accuracy: 0.7208 - val_loss: 1.5819 - val_accuracy: 0.6435\n",
      "Epoch 11/50\n",
      "640/640 [==============================] - 124s 193ms/step - loss: 0.9339 - accuracy: 0.7527 - val_loss: 1.2635 - val_accuracy: 0.7053\n",
      "Epoch 12/50\n",
      "640/640 [==============================] - 124s 194ms/step - loss: 0.7592 - accuracy: 0.7952 - val_loss: 1.1648 - val_accuracy: 0.7298\n",
      "Epoch 13/50\n",
      "640/640 [==============================] - 124s 194ms/step - loss: 0.6282 - accuracy: 0.8246 - val_loss: 1.3216 - val_accuracy: 0.6828\n",
      "Epoch 14/50\n",
      "640/640 [==============================] - 124s 194ms/step - loss: 0.5052 - accuracy: 0.8555 - val_loss: 1.1222 - val_accuracy: 0.7551\n",
      "Epoch 15/50\n",
      "640/640 [==============================] - 124s 194ms/step - loss: 0.4227 - accuracy: 0.8779 - val_loss: 1.3264 - val_accuracy: 0.7130\n",
      "Epoch 16/50\n",
      "640/640 [==============================] - 124s 194ms/step - loss: 0.3365 - accuracy: 0.9002 - val_loss: 1.3566 - val_accuracy: 0.7256\n",
      "Epoch 17/50\n",
      "640/640 [==============================] - 124s 193ms/step - loss: 0.2661 - accuracy: 0.9198 - val_loss: 1.8090 - val_accuracy: 0.6575\n",
      "Epoch 18/50\n",
      "640/640 [==============================] - 124s 193ms/step - loss: 0.2551 - accuracy: 0.9248 - val_loss: 1.2129 - val_accuracy: 0.7530\n",
      "Epoch 19/50\n",
      "640/640 [==============================] - 124s 193ms/step - loss: 0.2039 - accuracy: 0.9372 - val_loss: 1.6832 - val_accuracy: 0.6933\n",
      "Epoch 20/50\n",
      "640/640 [==============================] - 124s 193ms/step - loss: 0.1802 - accuracy: 0.9447 - val_loss: 1.8912 - val_accuracy: 0.6751\n",
      "Epoch 21/50\n",
      "640/640 [==============================] - 124s 194ms/step - loss: 0.1613 - accuracy: 0.9489 - val_loss: 1.7215 - val_accuracy: 0.7200\n",
      "Epoch 22/50\n",
      "640/640 [==============================] - 124s 194ms/step - loss: 0.1410 - accuracy: 0.9552 - val_loss: 2.0908 - val_accuracy: 0.6505\n",
      "Epoch 23/50\n",
      "640/640 [==============================] - 124s 193ms/step - loss: 0.1315 - accuracy: 0.9602 - val_loss: 1.5306 - val_accuracy: 0.7425\n",
      "Epoch 24/50\n",
      "640/640 [==============================] - 123s 193ms/step - loss: 0.1386 - accuracy: 0.9568 - val_loss: 1.6057 - val_accuracy: 0.7263\n",
      "Epoch 25/50\n",
      "640/640 [==============================] - 123s 193ms/step - loss: 0.1130 - accuracy: 0.9644 - val_loss: 1.5563 - val_accuracy: 0.7418\n",
      "Epoch 26/50\n",
      "640/640 [==============================] - 124s 194ms/step - loss: 0.1237 - accuracy: 0.9604 - val_loss: 1.5549 - val_accuracy: 0.7389\n",
      "Epoch 27/50\n",
      "640/640 [==============================] - 124s 193ms/step - loss: 0.1036 - accuracy: 0.9680 - val_loss: 1.7571 - val_accuracy: 0.7298\n",
      "Epoch 28/50\n",
      "640/640 [==============================] - 123s 193ms/step - loss: 0.1060 - accuracy: 0.9669 - val_loss: 1.2621 - val_accuracy: 0.7839\n",
      "Epoch 29/50\n",
      "640/640 [==============================] - 123s 192ms/step - loss: 0.1001 - accuracy: 0.9685 - val_loss: 2.1649 - val_accuracy: 0.6814\n",
      "Epoch 30/50\n",
      "640/640 [==============================] - 124s 193ms/step - loss: 0.0983 - accuracy: 0.9681 - val_loss: 1.3333 - val_accuracy: 0.7782\n",
      "Epoch 31/50\n",
      "640/640 [==============================] - 124s 193ms/step - loss: 0.0985 - accuracy: 0.9689 - val_loss: 1.4127 - val_accuracy: 0.7747\n",
      "Epoch 32/50\n",
      "640/640 [==============================] - 123s 192ms/step - loss: 0.0802 - accuracy: 0.9755 - val_loss: 1.8426 - val_accuracy: 0.7221\n",
      "Epoch 33/50\n",
      "640/640 [==============================] - 123s 193ms/step - loss: 0.1094 - accuracy: 0.9663 - val_loss: 1.3344 - val_accuracy: 0.7811\n",
      "Epoch 34/50\n",
      "640/640 [==============================] - 123s 193ms/step - loss: 0.0769 - accuracy: 0.9755 - val_loss: 1.4526 - val_accuracy: 0.7726\n",
      "Epoch 35/50\n",
      "640/640 [==============================] - 124s 193ms/step - loss: 0.0776 - accuracy: 0.9762 - val_loss: 1.8956 - val_accuracy: 0.7277\n",
      "Epoch 36/50\n",
      "640/640 [==============================] - 123s 193ms/step - loss: 0.0948 - accuracy: 0.9721 - val_loss: 2.1042 - val_accuracy: 0.7228\n",
      "Epoch 37/50\n",
      "640/640 [==============================] - 123s 192ms/step - loss: 0.0806 - accuracy: 0.9762 - val_loss: 1.6647 - val_accuracy: 0.7565\n",
      "Epoch 38/50\n",
      "640/640 [==============================] - 124s 193ms/step - loss: 0.0602 - accuracy: 0.9808 - val_loss: 1.7395 - val_accuracy: 0.7621\n",
      "Epoch 39/50\n",
      "640/640 [==============================] - 124s 193ms/step - loss: 0.0686 - accuracy: 0.9772 - val_loss: 1.4462 - val_accuracy: 0.7846\n",
      "Epoch 40/50\n",
      "640/640 [==============================] - 123s 193ms/step - loss: 0.0766 - accuracy: 0.9767 - val_loss: 1.5826 - val_accuracy: 0.7796\n",
      "Epoch 41/50\n",
      "640/640 [==============================] - 123s 193ms/step - loss: 0.0640 - accuracy: 0.9791 - val_loss: 1.9272 - val_accuracy: 0.7593\n",
      "Epoch 42/50\n",
      "640/640 [==============================] - 123s 193ms/step - loss: 0.0614 - accuracy: 0.9806 - val_loss: 1.5327 - val_accuracy: 0.7796\n",
      "Epoch 43/50\n",
      "640/640 [==============================] - 123s 192ms/step - loss: 0.0835 - accuracy: 0.9754 - val_loss: 1.6021 - val_accuracy: 0.7902\n",
      "Epoch 44/50\n",
      "640/640 [==============================] - 123s 193ms/step - loss: 0.0598 - accuracy: 0.9816 - val_loss: 1.8928 - val_accuracy: 0.7509\n",
      "Epoch 45/50\n",
      "640/640 [==============================] - 124s 193ms/step - loss: 0.0688 - accuracy: 0.9785 - val_loss: 2.4648 - val_accuracy: 0.6863\n",
      "Epoch 46/50\n",
      "640/640 [==============================] - 123s 193ms/step - loss: 0.0611 - accuracy: 0.9808 - val_loss: 3.1644 - val_accuracy: 0.6456\n",
      "Epoch 47/50\n",
      "640/640 [==============================] - 123s 192ms/step - loss: 0.0609 - accuracy: 0.9791 - val_loss: 1.3168 - val_accuracy: 0.8056\n",
      "Epoch 48/50\n",
      "640/640 [==============================] - 123s 192ms/step - loss: 0.0654 - accuracy: 0.9799 - val_loss: 1.7638 - val_accuracy: 0.7474\n",
      "Epoch 49/50\n",
      "640/640 [==============================] - 123s 193ms/step - loss: 0.0650 - accuracy: 0.9806 - val_loss: 1.2738 - val_accuracy: 0.8211\n",
      "Epoch 50/50\n",
      "640/640 [==============================] - 123s 193ms/step - loss: 0.0459 - accuracy: 0.9861 - val_loss: 1.5009 - val_accuracy: 0.8014\n"
     ]
    },
    {
     "data": {
      "text/html": [
       "<br/>Waiting for W&B process to finish, PID 1533<br/>Program ended successfully."
      ],
      "text/plain": [
       "<IPython.core.display.HTML object>"
      ]
     },
     "metadata": {},
     "output_type": "display_data"
    },
    {
     "data": {
      "application/vnd.jupyter.widget-view+json": {
       "model_id": "",
       "version_major": 2,
       "version_minor": 0
      },
      "text/plain": [
       "VBox(children=(Label(value=' 277.19MB of 277.19MB uploaded (0.00MB deduped)\\r'), FloatProgress(value=1.0, max=…"
      ]
     },
     "metadata": {},
     "output_type": "display_data"
    },
    {
     "data": {
      "text/html": [
       "Find user logs for this run at: <code>/home/jovyan/git-repos/tensorflow_ds/wandb/run-20210820_152726-xuomxc1s/logs/debug.log</code>"
      ],
      "text/plain": [
       "<IPython.core.display.HTML object>"
      ]
     },
     "metadata": {},
     "output_type": "display_data"
    },
    {
     "data": {
      "text/html": [
       "Find internal logs for this run at: <code>/home/jovyan/git-repos/tensorflow_ds/wandb/run-20210820_152726-xuomxc1s/logs/debug-internal.log</code>"
      ],
      "text/plain": [
       "<IPython.core.display.HTML object>"
      ]
     },
     "metadata": {},
     "output_type": "display_data"
    },
    {
     "data": {
      "text/html": [
       "<h3>Run summary:</h3><br/><style>\n",
       "    table.wandb td:nth-child(1) { padding: 0 10px; text-align: right }\n",
       "    </style><table class=\"wandb\">\n",
       "<tr><td>epoch</td><td>49</td></tr><tr><td>loss</td><td>0.06213</td></tr><tr><td>accuracy</td><td>0.98148</td></tr><tr><td>val_loss</td><td>1.50092</td></tr><tr><td>val_accuracy</td><td>0.8014</td></tr><tr><td>_runtime</td><td>6279</td></tr><tr><td>_timestamp</td><td>1629479525</td></tr><tr><td>_step</td><td>49</td></tr><tr><td>best_val_loss</td><td>1.12216</td></tr><tr><td>best_epoch</td><td>13</td></tr></table>"
      ],
      "text/plain": [
       "<IPython.core.display.HTML object>"
      ]
     },
     "metadata": {},
     "output_type": "display_data"
    },
    {
     "data": {
      "text/html": [
       "<h3>Run history:</h3><br/><style>\n",
       "    table.wandb td:nth-child(1) { padding: 0 10px; text-align: right }\n",
       "    </style><table class=\"wandb\">\n",
       "<tr><td>epoch</td><td>▁▁▁▁▂▂▂▂▂▃▃▃▃▃▃▄▄▄▄▄▅▅▅▅▅▅▆▆▆▆▆▆▇▇▇▇▇███</td></tr><tr><td>loss</td><td>█▇▆▅▄▃▃▃▂▂▂▂▁▁▁▁▁▁▁▁▁▁▁▁▁▁▁▁▁▁▁▁▁▁▁▁▁▁▁▁</td></tr><tr><td>accuracy</td><td>▁▁▂▃▄▅▅▆▆▇▇▇▇▇██████████████████████████</td></tr><tr><td>val_loss</td><td>█▆▆▅▃▂▂▂▁▁▁▁▁▂▁▂▂▂▂▂▂▂▁▃▁▂▁▂▃▂▂▁▂▂▂▂▄▁▂▂</td></tr><tr><td>val_accuracy</td><td>▁▁▂▃▅▆▆▆▇▇▇█▇▇█▇▇▇▇▇▇▇█▇█▇██▇███████▇█▇█</td></tr><tr><td>_runtime</td><td>▁▁▁▁▂▂▂▂▂▃▃▃▃▃▃▄▄▄▄▄▅▅▅▅▅▅▆▆▆▆▆▆▇▇▇▇▇███</td></tr><tr><td>_timestamp</td><td>▁▁▁▁▂▂▂▂▂▃▃▃▃▃▃▄▄▄▄▄▅▅▅▅▅▅▆▆▆▆▆▆▇▇▇▇▇███</td></tr><tr><td>_step</td><td>▁▁▁▁▂▂▂▂▂▃▃▃▃▃▃▄▄▄▄▄▅▅▅▅▅▅▆▆▆▆▆▆▇▇▇▇▇███</td></tr></table><br/>"
      ],
      "text/plain": [
       "<IPython.core.display.HTML object>"
      ]
     },
     "metadata": {},
     "output_type": "display_data"
    },
    {
     "data": {
      "text/html": [
       "Synced 5 W&B file(s), 1 media file(s), 0 artifact file(s) and 1 other file(s)"
      ],
      "text/plain": [
       "<IPython.core.display.HTML object>"
      ]
     },
     "metadata": {},
     "output_type": "display_data"
    },
    {
     "data": {
      "text/html": [
       "\n",
       "                    <br/>Synced <strong style=\"color:#cdcd00\">revived-sponge-17</strong>: <a href=\"https://wandb.ai/skirmer/tensorflow_mg_birds/runs/xuomxc1s\" target=\"_blank\">https://wandb.ai/skirmer/tensorflow_mg_birds/runs/xuomxc1s</a><br/>\n",
       "                "
      ],
      "text/plain": [
       "<IPython.core.display.HTML object>"
      ]
     },
     "metadata": {},
     "output_type": "display_data"
    },
    {
     "name": "stdout",
     "output_type": "stream",
     "text": [
      "INFO:tensorflow:Assets written to: model/keras_single/assets\n"
     ]
    }
   ],
   "source": [
    "tester = train_model_fit(**model_params)"
   ]
  }
 ],
 "metadata": {
  "kernelspec": {
   "display_name": "saturn (Python 3)",
   "language": "python",
   "name": "python3"
  },
  "language_info": {
   "codemirror_mode": {
    "name": "ipython",
    "version": 3
   },
   "file_extension": ".py",
   "mimetype": "text/x-python",
   "name": "python",
   "nbconvert_exporter": "python",
   "pygments_lexer": "ipython3",
   "version": "3.9.5"
  }
 },
 "nbformat": 4,
 "nbformat_minor": 5
}
