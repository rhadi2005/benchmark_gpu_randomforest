{
 "cells": [
  {
   "cell_type": "markdown",
   "id": "4c94e066",
   "metadata": {
    "execution": {
     "iopub.execute_input": "2021-08-16T21:29:50.228313Z",
     "iopub.status.busy": "2021-08-16T21:29:50.228073Z",
     "iopub.status.idle": "2021-08-16T21:29:50.231558Z",
     "shell.execute_reply": "2021-08-16T21:29:50.230865Z",
     "shell.execute_reply.started": "2021-08-16T21:29:50.228252Z"
    }
   },
   "source": [
    "# Single Node Single GPU Training"
   ]
  },
  {
   "cell_type": "code",
   "execution_count": 1,
   "id": "07ec00ac",
   "metadata": {
    "execution": {
     "iopub.status.idle": "2021-08-20T14:54:04.624139Z",
     "shell.execute_reply": "2021-08-20T14:54:04.623333Z",
     "shell.execute_reply.started": "2021-08-20T14:54:01.938749Z"
    }
   },
   "outputs": [],
   "source": [
    "import numpy as np, pandas as pd\n",
    "import requests, io, os, datetime, re\n",
    "import tensorflow as tf\n",
    "import keras\n",
    "import matplotlib.pyplot as plt\n",
    "from tensorflow.keras import datasets, layers, models, losses, Model\n",
    "from keras.applications import resnet50\n",
    "from keras.preprocessing import image\n",
    "import dask"
   ]
  },
  {
   "cell_type": "code",
   "execution_count": 2,
   "id": "457ad1bb",
   "metadata": {
    "execution": {
     "iopub.execute_input": "2021-08-20T14:54:04.625698Z",
     "iopub.status.busy": "2021-08-20T14:54:04.625485Z",
     "iopub.status.idle": "2021-08-20T14:54:05.747317Z",
     "shell.execute_reply": "2021-08-20T14:54:05.746487Z",
     "shell.execute_reply.started": "2021-08-20T14:54:04.625671Z"
    }
   },
   "outputs": [
    {
     "name": "stderr",
     "output_type": "stream",
     "text": [
      "\u001b[34m\u001b[1mwandb\u001b[0m: Currently logged in as: \u001b[33mskirmer\u001b[0m (use `wandb login --relogin` to force relogin)\n"
     ]
    },
    {
     "data": {
      "text/plain": [
       "True"
      ]
     },
     "execution_count": 2,
     "metadata": {},
     "output_type": "execute_result"
    }
   ],
   "source": [
    "import wandb\n",
    "from wandb.keras import WandbCallback\n",
    "\n",
    "wandb.login()"
   ]
  },
  {
   "cell_type": "code",
   "execution_count": 3,
   "id": "1fa08567",
   "metadata": {
    "execution": {
     "iopub.execute_input": "2021-08-20T14:54:05.749582Z",
     "iopub.status.busy": "2021-08-20T14:54:05.749349Z",
     "iopub.status.idle": "2021-08-20T14:54:07.118017Z",
     "shell.execute_reply": "2021-08-20T14:54:07.117127Z",
     "shell.execute_reply.started": "2021-08-20T14:54:05.749549Z"
    }
   },
   "outputs": [
    {
     "name": "stdout",
     "output_type": "stream",
     "text": [
      "1 Physical GPUs, 1 Logical GPUs\n"
     ]
    }
   ],
   "source": [
    "gpus = tf.config.list_physical_devices('GPU')\n",
    "if gpus:\n",
    "    try:\n",
    "    # Currently, memory growth needs to be the same across GPUs\n",
    "        for gpu in gpus:\n",
    "            tf.config.experimental.set_memory_growth(gpu, True)\n",
    "        logical_gpus = tf.config.experimental.list_logical_devices('GPU')\n",
    "        print(len(gpus), \"Physical GPUs,\", len(logical_gpus), \"Logical GPUs\")\n",
    "    except RuntimeError as e:\n",
    "    # Memory growth must be set before GPUs have been initialized\n",
    "        print(e)"
   ]
  },
  {
   "cell_type": "code",
   "execution_count": 4,
   "id": "bbd8ec0c",
   "metadata": {
    "execution": {
     "iopub.execute_input": "2021-08-20T14:54:07.119602Z",
     "iopub.status.busy": "2021-08-20T14:54:07.119385Z",
     "iopub.status.idle": "2021-08-20T14:54:07.126648Z",
     "shell.execute_reply": "2021-08-20T14:54:07.125899Z",
     "shell.execute_reply.started": "2021-08-20T14:54:07.119574Z"
    }
   },
   "outputs": [],
   "source": [
    "def train_model_fit(n_epochs, base_lr, batchsize, classes):\n",
    "    \n",
    "    model = tf.keras.applications.ResNet50(\n",
    "        include_top=True,\n",
    "        weights=None,\n",
    "        classes=classes)\n",
    "        \n",
    "    # --------- Start wandb --------- #\n",
    "    wandb.init(entity='skirmer', project='tensorflow_mg_birds')\n",
    "    config=wbargs\n",
    "    \n",
    "    # Data\n",
    "    train_ds = tf.keras.preprocessing.image_dataset_from_directory(\n",
    "        '/home/jovyan/git-repos/tensorflow_ds/datasets/birds/285 birds/train',\n",
    "        image_size=(224,224),\n",
    "        batch_size=batchsize\n",
    "    ).prefetch(2).cache().shuffle(1000)\n",
    "        \n",
    "    valid_ds = tf.keras.preprocessing.image_dataset_from_directory(\n",
    "        '/home/jovyan/git-repos/tensorflow_ds/datasets/birds/285 birds/valid',\n",
    "        image_size=(224,224),\n",
    "        batch_size=batchsize\n",
    "    ).prefetch(2)\n",
    "   \n",
    "    optimizer = keras.optimizers.Adam(lr=base_lr)\n",
    "    model.compile(loss='sparse_categorical_crossentropy', optimizer=optimizer, metrics=['accuracy']) #integer labels\n",
    "\n",
    "    outputs = model.fit(\n",
    "        train_ds, \n",
    "        verbose = 1, \n",
    "        epochs=n_epochs, \n",
    "        validation_data=valid_ds,\n",
    "        callbacks=[WandbCallback()]\n",
    "    )\n",
    "    # Close your wandb run \n",
    "    wandb.run.finish()\n",
    "    \n",
    "    tf.keras.models.save_model(model, 'model/keras_single/')"
   ]
  },
  {
   "cell_type": "code",
   "execution_count": 5,
   "id": "083f6223",
   "metadata": {
    "execution": {
     "iopub.execute_input": "2021-08-20T14:54:07.127959Z",
     "iopub.status.busy": "2021-08-20T14:54:07.127746Z",
     "iopub.status.idle": "2021-08-20T14:54:07.133225Z",
     "shell.execute_reply": "2021-08-20T14:54:07.132495Z",
     "shell.execute_reply.started": "2021-08-20T14:54:07.127932Z"
    }
   },
   "outputs": [],
   "source": [
    "model_params = {'n_epochs': 10, \n",
    "                'base_lr': .02,\n",
    "                'classes':285,\n",
    "               'batchsize': 64}\n",
    "\n",
    "wbargs = {**model_params,\n",
    "    'Notes':\"tf_v100_2x\",\n",
    "    'Tags': ['single', 'gpu', 'tensorflow'],\n",
    "    'dataset':\"Clothing\",\n",
    "    'architecture':\"ResNet50\"}"
   ]
  },
  {
   "cell_type": "code",
   "execution_count": null,
   "id": "1ef87d5e",
   "metadata": {
    "execution": {
     "iopub.execute_input": "2021-08-20T14:54:07.134356Z",
     "iopub.status.busy": "2021-08-20T14:54:07.134109Z"
    }
   },
   "outputs": [
    {
     "data": {
      "text/html": [
       "\n",
       "                Tracking run with wandb version 0.12.0<br/>\n",
       "                Syncing run <strong style=\"color:#cdcd00\">amber-smoke-14</strong> to <a href=\"https://wandb.ai\" target=\"_blank\">Weights & Biases</a> <a href=\"https://docs.wandb.com/integrations/jupyter.html\" target=\"_blank\">(Documentation)</a>.<br/>\n",
       "                Project page: <a href=\"https://wandb.ai/skirmer/tensorflow_mg_birds\" target=\"_blank\">https://wandb.ai/skirmer/tensorflow_mg_birds</a><br/>\n",
       "                Run page: <a href=\"https://wandb.ai/skirmer/tensorflow_mg_birds/runs/32rwmp9w\" target=\"_blank\">https://wandb.ai/skirmer/tensorflow_mg_birds/runs/32rwmp9w</a><br/>\n",
       "                Run data is saved locally in <code>/home/jovyan/git-repos/tensorflow_ds/wandb/run-20210820_145408-32rwmp9w</code><br/><br/>\n",
       "            "
      ],
      "text/plain": [
       "<IPython.core.display.HTML object>"
      ]
     },
     "metadata": {},
     "output_type": "display_data"
    },
    {
     "name": "stdout",
     "output_type": "stream",
     "text": [
      "Found 40930 files belonging to 285 classes.\n",
      "Found 1425 files belonging to 285 classes.\n",
      "Epoch 1/10\n",
      "  6/640 [..............................] - ETA: 2:06 - loss: 25.5493 - accuracy: 0.0000e+00WARNING:tensorflow:Callback method `on_train_batch_end` is slow compared to the batch time (batch time: 0.0838s vs `on_train_batch_end` time: 0.0960s). Check your callbacks.\n",
      "616/640 [===========================>..] - ETA: 4s - loss: 7.0051 - accuracy: 0.0078"
     ]
    }
   ],
   "source": [
    "tester = train_model_fit(**model_params)"
   ]
  },
  {
   "cell_type": "code",
   "execution_count": null,
   "id": "4377f56b",
   "metadata": {},
   "outputs": [],
   "source": [
    "\n",
    "# USE categorical_crossentropy\n",
    "# tester_flow = image.ImageDataGenerator()\n",
    "\n",
    "#     tester_flow = image.ImageDataGenerator()\n",
    "#     train_ds = tester_flow.flow_from_directory(\n",
    "#         directory = '/home/jovyan/git-repos/snowflake-ml-guide/data/clothing-dataset-small/train',\n",
    "#         target_size=(224,224),\n",
    "#         batch_size=batchsize\n",
    "#     )\n",
    "\n",
    "#     valid_ds = tester_flow.flow_from_directory(\n",
    "#         directory = '/home/jovyan/git-repos/snowflake-ml-guide/data/clothing-dataset-small/validation',\n",
    "#         target_size=(224,224),\n",
    "#         batch_size=batchsize\n",
    "#     )\n",
    "\n",
    "################\n",
    "\n",
    "# USE sparse_categorical_crossentropy\n",
    "# # Data\n",
    "# train_ds = tf.keras.preprocessing.image_dataset_from_directory(\n",
    "#     '/home/jovyan/git-repos/snowflake-ml-guide/data/clothing-dataset-small/train',\n",
    "#     seed=123,\n",
    "#     image_size=(224,224),\n",
    "#     batch_size=32).prefetch(2)"
   ]
  },
  {
   "cell_type": "code",
   "execution_count": null,
   "id": "ca536da5",
   "metadata": {},
   "outputs": [],
   "source": []
  }
 ],
 "metadata": {
  "kernelspec": {
   "display_name": "saturn (Python 3)",
   "language": "python",
   "name": "python3"
  },
  "language_info": {
   "codemirror_mode": {
    "name": "ipython",
    "version": 3
   },
   "file_extension": ".py",
   "mimetype": "text/x-python",
   "name": "python",
   "nbconvert_exporter": "python",
   "pygments_lexer": "ipython3",
   "version": "3.9.5"
  }
 },
 "nbformat": 4,
 "nbformat_minor": 5
}
