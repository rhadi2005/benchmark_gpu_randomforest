{
 "cells": [
  {
   "cell_type": "markdown",
   "id": "8cd61f43",
   "metadata": {
    "execution": {
     "iopub.execute_input": "2021-08-16T21:29:50.228313Z",
     "iopub.status.busy": "2021-08-16T21:29:50.228073Z",
     "iopub.status.idle": "2021-08-16T21:29:50.231558Z",
     "shell.execute_reply": "2021-08-16T21:29:50.230865Z",
     "shell.execute_reply.started": "2021-08-16T21:29:50.228252Z"
    }
   },
   "source": [
    "# Single Node Single GPU Training"
   ]
  },
  {
   "cell_type": "code",
   "execution_count": 1,
   "id": "a9076801",
   "metadata": {
    "execution": {
     "iopub.execute_input": "2021-08-19T13:56:46.820712Z",
     "iopub.status.busy": "2021-08-19T13:56:46.820413Z",
     "iopub.status.idle": "2021-08-19T13:56:48.990094Z",
     "shell.execute_reply": "2021-08-19T13:56:48.989354Z",
     "shell.execute_reply.started": "2021-08-19T13:56:46.820639Z"
    }
   },
   "outputs": [],
   "source": [
    "import numpy as np, pandas as pd\n",
    "import requests, io, os, datetime, re\n",
    "import tensorflow as tf\n",
    "import keras\n",
    "import matplotlib.pyplot as plt\n",
    "from tensorflow.keras import datasets, layers, models, losses, Model\n",
    "from keras.applications import resnet50\n",
    "from keras.preprocessing import image\n",
    "import dask"
   ]
  },
  {
   "cell_type": "code",
   "execution_count": 2,
   "id": "44f39938",
   "metadata": {
    "execution": {
     "iopub.execute_input": "2021-08-19T13:56:51.501326Z",
     "iopub.status.busy": "2021-08-19T13:56:51.501069Z",
     "iopub.status.idle": "2021-08-19T13:56:52.245804Z",
     "shell.execute_reply": "2021-08-19T13:56:52.245046Z",
     "shell.execute_reply.started": "2021-08-19T13:56:51.501299Z"
    }
   },
   "outputs": [
    {
     "name": "stderr",
     "output_type": "stream",
     "text": [
      "\u001b[34m\u001b[1mwandb\u001b[0m: Currently logged in as: \u001b[33mskirmer\u001b[0m (use `wandb login --relogin` to force relogin)\n"
     ]
    },
    {
     "data": {
      "text/plain": [
       "True"
      ]
     },
     "execution_count": 2,
     "metadata": {},
     "output_type": "execute_result"
    }
   ],
   "source": [
    "import wandb\n",
    "from wandb.keras import WandbCallback\n",
    "\n",
    "wandb.login()"
   ]
  },
  {
   "cell_type": "code",
   "execution_count": 3,
   "id": "e0c89f76",
   "metadata": {
    "execution": {
     "iopub.execute_input": "2021-08-19T13:41:18.734091Z",
     "iopub.status.busy": "2021-08-19T13:41:18.733870Z",
     "iopub.status.idle": "2021-08-19T13:41:18.738040Z",
     "shell.execute_reply": "2021-08-19T13:41:18.737360Z",
     "shell.execute_reply.started": "2021-08-19T13:41:18.734062Z"
    }
   },
   "outputs": [],
   "source": [
    "model_params = {'n_epochs': 50, \n",
    "                'base_lr': .02,\n",
    "               'batchsize': 64}\n",
    "\n",
    "wbargs = {**model_params,\n",
    "    'classes':10,\n",
    "    'Notes':\"tf_v100_8x\",\n",
    "    'Tags': ['single', 'gpu', 'tensorflow'],\n",
    "    'dataset':\"Clothing\",\n",
    "    'architecture':\"ResNet50\"}"
   ]
  },
  {
   "cell_type": "code",
   "execution_count": 4,
   "id": "17b904e8",
   "metadata": {
    "execution": {
     "iopub.execute_input": "2021-08-19T13:41:18.739179Z",
     "iopub.status.busy": "2021-08-19T13:41:18.738909Z",
     "iopub.status.idle": "2021-08-19T13:41:18.743572Z",
     "shell.execute_reply": "2021-08-19T13:41:18.742926Z",
     "shell.execute_reply.started": "2021-08-19T13:41:18.739151Z"
    }
   },
   "outputs": [],
   "source": [
    "\n",
    "# USE categorical_crossentropy\n",
    "# tester_flow = image.ImageDataGenerator()\n",
    "\n",
    "#     tester_flow = image.ImageDataGenerator()\n",
    "#     train_ds = tester_flow.flow_from_directory(\n",
    "#         directory = '/home/jovyan/git-repos/snowflake-ml-guide/data/clothing-dataset-small/train',\n",
    "#         target_size=(224,224),\n",
    "#         batch_size=batchsize\n",
    "#     )\n",
    "\n",
    "#     valid_ds = tester_flow.flow_from_directory(\n",
    "#         directory = '/home/jovyan/git-repos/snowflake-ml-guide/data/clothing-dataset-small/validation',\n",
    "#         target_size=(224,224),\n",
    "#         batch_size=batchsize\n",
    "#     )\n",
    "\n",
    "################\n",
    "\n",
    "# USE sparse_categorical_crossentropy\n",
    "# # Data\n",
    "# train_ds = tf.keras.preprocessing.image_dataset_from_directory(\n",
    "#     '/home/jovyan/git-repos/snowflake-ml-guide/data/clothing-dataset-small/train',\n",
    "#     seed=123,\n",
    "#     image_size=(224,224),\n",
    "#     batch_size=32).prefetch(2)"
   ]
  },
  {
   "cell_type": "code",
   "execution_count": 5,
   "id": "316a10fd",
   "metadata": {
    "execution": {
     "iopub.execute_input": "2021-08-19T13:41:18.744667Z",
     "iopub.status.busy": "2021-08-19T13:41:18.744460Z",
     "iopub.status.idle": "2021-08-19T13:41:18.751081Z",
     "shell.execute_reply": "2021-08-19T13:41:18.750430Z",
     "shell.execute_reply.started": "2021-08-19T13:41:18.744642Z"
    }
   },
   "outputs": [],
   "source": [
    "def train_model_fit(n_epochs, base_lr, batchsize):\n",
    "    \n",
    "    model = tf.keras.applications.ResNet50(\n",
    "        include_top=True,\n",
    "        weights=None,\n",
    "        classes=10)\n",
    "        \n",
    "    # --------- Start wandb --------- #\n",
    "    wandb.init(entity='skirmer', project='tensorflow_blog')\n",
    "    config=wbargs\n",
    "    \n",
    "    # Data\n",
    "    train_ds = tf.keras.preprocessing.image_dataset_from_directory(\n",
    "        '/home/jovyan/git-repos/tensorflow_ds/datasets/birds/285 birds/train',\n",
    "        image_size=(224,224),\n",
    "        batch_size=batchsize\n",
    "    ).prefetch(2).cache().shuffle(1000)\n",
    "        \n",
    "    valid_ds = tf.keras.preprocessing.image_dataset_from_directory(\n",
    "        '/home/jovyan/git-repos/tensorflow_ds/datasets/birds/285 birds/valid',\n",
    "        image_size=(224,224),\n",
    "        batch_size=batchsize\n",
    "    ).prefetch(2)\n",
    "   \n",
    "    optimizer = keras.optimizers.Adam(lr=base_lr)\n",
    "    model.compile(loss='sparse_categorical_crossentropy', optimizer=optimizer, metrics=['accuracy']) #integer labels\n",
    "\n",
    "    outputs = model.fit(\n",
    "        train_ds, \n",
    "        verbose = 1, \n",
    "        epochs=n_epochs, \n",
    "        validation_data=valid_ds,\n",
    "        callbacks=[WandbCallback()]\n",
    "    )\n",
    "    # Close your wandb run \n",
    "    wandb.run.finish()\n",
    "    \n",
    "    tf.keras.models.save_model(model, 'model/keras_single/')"
   ]
  },
  {
   "cell_type": "code",
   "execution_count": 6,
   "id": "6a4293df",
   "metadata": {
    "execution": {
     "iopub.execute_input": "2021-08-19T13:41:18.752179Z",
     "iopub.status.busy": "2021-08-19T13:41:18.751966Z",
     "iopub.status.idle": "2021-08-19T13:51:48.327636Z",
     "shell.execute_reply": "2021-08-19T13:51:48.326861Z",
     "shell.execute_reply.started": "2021-08-19T13:41:18.752154Z"
    }
   },
   "outputs": [
    {
     "data": {
      "text/html": [
       "\n",
       "                Tracking run with wandb version 0.12.0<br/>\n",
       "                Syncing run <strong style=\"color:#cdcd00\">pretty-dawn-21</strong> to <a href=\"https://wandb.ai\" target=\"_blank\">Weights & Biases</a> <a href=\"https://docs.wandb.com/integrations/jupyter.html\" target=\"_blank\">(Documentation)</a>.<br/>\n",
       "                Project page: <a href=\"https://wandb.ai/skirmer/tensorflow_blog\" target=\"_blank\">https://wandb.ai/skirmer/tensorflow_blog</a><br/>\n",
       "                Run page: <a href=\"https://wandb.ai/skirmer/tensorflow_blog/runs/w3s34ht8\" target=\"_blank\">https://wandb.ai/skirmer/tensorflow_blog/runs/w3s34ht8</a><br/>\n",
       "                Run data is saved locally in <code>/home/jovyan/git-repos/tensorflow_ds/wandb/run-20210819_134123-w3s34ht8</code><br/><br/>\n",
       "            "
      ],
      "text/plain": [
       "<IPython.core.display.HTML object>"
      ]
     },
     "metadata": {},
     "output_type": "display_data"
    },
    {
     "name": "stdout",
     "output_type": "stream",
     "text": [
      "Found 3068 files belonging to 10 classes.\n",
      "Found 341 files belonging to 10 classes.\n",
      "Epoch 1/50\n",
      " 6/48 [==>...........................] - ETA: 8s - loss: 11.0363 - accuracy: 0.1128WARNING:tensorflow:Callback method `on_train_batch_end` is slow compared to the batch time (batch time: 0.0825s vs `on_train_batch_end` time: 0.0949s). Check your callbacks.\n",
      "48/48 [==============================] - 20s 250ms/step - loss: 9.5674 - accuracy: 0.1635 - val_loss: 111369150464.0000 - val_accuracy: 0.2375\n",
      "Epoch 2/50\n",
      "48/48 [==============================] - 11s 209ms/step - loss: 2.1138 - accuracy: 0.2629 - val_loss: 190574.4219 - val_accuracy: 0.0528\n",
      "Epoch 3/50\n",
      "48/48 [==============================] - 11s 209ms/step - loss: 2.0449 - accuracy: 0.2937 - val_loss: 746.4316 - val_accuracy: 0.2170\n",
      "Epoch 4/50\n",
      "48/48 [==============================] - 11s 208ms/step - loss: 1.9332 - accuracy: 0.3433 - val_loss: 39.7087 - val_accuracy: 0.2493\n",
      "Epoch 5/50\n",
      "48/48 [==============================] - 11s 209ms/step - loss: 1.8895 - accuracy: 0.3378 - val_loss: 3.9158 - val_accuracy: 0.2933\n",
      "Epoch 6/50\n",
      "48/48 [==============================] - 11s 209ms/step - loss: 1.8476 - accuracy: 0.3578 - val_loss: 2.8575 - val_accuracy: 0.3021\n",
      "Epoch 7/50\n",
      "48/48 [==============================] - 11s 208ms/step - loss: 1.8109 - accuracy: 0.3609 - val_loss: 2.6590 - val_accuracy: 0.2786\n",
      "Epoch 8/50\n",
      "48/48 [==============================] - 11s 208ms/step - loss: 1.7233 - accuracy: 0.3975 - val_loss: 2.0291 - val_accuracy: 0.3490\n",
      "Epoch 9/50\n",
      "48/48 [==============================] - 11s 209ms/step - loss: 1.6788 - accuracy: 0.4117 - val_loss: 2.5323 - val_accuracy: 0.3109\n",
      "Epoch 10/50\n",
      "48/48 [==============================] - 11s 209ms/step - loss: 1.5862 - accuracy: 0.4533 - val_loss: 1.9000 - val_accuracy: 0.3578\n",
      "Epoch 11/50\n",
      "48/48 [==============================] - 11s 208ms/step - loss: 1.5255 - accuracy: 0.4843 - val_loss: 2.5295 - val_accuracy: 0.3284\n",
      "Epoch 12/50\n",
      "48/48 [==============================] - 11s 208ms/step - loss: 1.4654 - accuracy: 0.5038 - val_loss: 2.5823 - val_accuracy: 0.3724\n",
      "Epoch 13/50\n",
      "48/48 [==============================] - 11s 209ms/step - loss: 1.3748 - accuracy: 0.5296 - val_loss: 1.8428 - val_accuracy: 0.4516\n",
      "Epoch 14/50\n",
      "48/48 [==============================] - 11s 209ms/step - loss: 1.3221 - accuracy: 0.5519 - val_loss: 1.7741 - val_accuracy: 0.4692\n",
      "Epoch 15/50\n",
      "48/48 [==============================] - 11s 208ms/step - loss: 1.1787 - accuracy: 0.5988 - val_loss: 1.8482 - val_accuracy: 0.4897\n",
      "Epoch 16/50\n",
      "48/48 [==============================] - 11s 208ms/step - loss: 1.2074 - accuracy: 0.5935 - val_loss: 1.6583 - val_accuracy: 0.5015\n",
      "Epoch 17/50\n",
      "48/48 [==============================] - 11s 208ms/step - loss: 1.0762 - accuracy: 0.6284 - val_loss: 1.8675 - val_accuracy: 0.4897\n",
      "Epoch 18/50\n",
      "48/48 [==============================] - 11s 208ms/step - loss: 1.0178 - accuracy: 0.6572 - val_loss: 1.3606 - val_accuracy: 0.5484\n",
      "Epoch 19/50\n",
      "48/48 [==============================] - 11s 208ms/step - loss: 0.9641 - accuracy: 0.6704 - val_loss: 1.5675 - val_accuracy: 0.5748\n",
      "Epoch 20/50\n",
      "48/48 [==============================] - 11s 208ms/step - loss: 0.8820 - accuracy: 0.6903 - val_loss: 1.5521 - val_accuracy: 0.5513\n",
      "Epoch 21/50\n",
      "48/48 [==============================] - 11s 208ms/step - loss: 0.8009 - accuracy: 0.7182 - val_loss: 1.6639 - val_accuracy: 0.5689\n",
      "Epoch 22/50\n",
      "48/48 [==============================] - 11s 209ms/step - loss: 0.7645 - accuracy: 0.7401 - val_loss: 1.6536 - val_accuracy: 0.5777\n",
      "Epoch 23/50\n",
      "48/48 [==============================] - 11s 208ms/step - loss: 0.7152 - accuracy: 0.7493 - val_loss: 2.0601 - val_accuracy: 0.5630\n",
      "Epoch 24/50\n",
      "48/48 [==============================] - 11s 209ms/step - loss: 0.6309 - accuracy: 0.7768 - val_loss: 1.6807 - val_accuracy: 0.5894\n",
      "Epoch 25/50\n",
      "48/48 [==============================] - 11s 208ms/step - loss: 0.6005 - accuracy: 0.7937 - val_loss: 1.3676 - val_accuracy: 0.6481\n",
      "Epoch 26/50\n",
      "48/48 [==============================] - 11s 209ms/step - loss: 0.5077 - accuracy: 0.8155 - val_loss: 1.6380 - val_accuracy: 0.5924\n",
      "Epoch 27/50\n",
      "48/48 [==============================] - 11s 209ms/step - loss: 0.4595 - accuracy: 0.8366 - val_loss: 1.5455 - val_accuracy: 0.5777\n",
      "Epoch 28/50\n",
      "48/48 [==============================] - 11s 208ms/step - loss: 0.4747 - accuracy: 0.8341 - val_loss: 1.7237 - val_accuracy: 0.6217\n",
      "Epoch 29/50\n",
      "48/48 [==============================] - 11s 208ms/step - loss: 0.3617 - accuracy: 0.8795 - val_loss: 1.8162 - val_accuracy: 0.6041\n",
      "Epoch 30/50\n",
      "48/48 [==============================] - 11s 209ms/step - loss: 0.3519 - accuracy: 0.8775 - val_loss: 1.7743 - val_accuracy: 0.6217\n",
      "Epoch 31/50\n",
      "48/48 [==============================] - 11s 209ms/step - loss: 0.3301 - accuracy: 0.8832 - val_loss: 1.6055 - val_accuracy: 0.6452\n",
      "Epoch 32/50\n",
      "48/48 [==============================] - 11s 209ms/step - loss: 0.2688 - accuracy: 0.9091 - val_loss: 1.6299 - val_accuracy: 0.6481\n",
      "Epoch 33/50\n",
      "48/48 [==============================] - 11s 208ms/step - loss: 0.2434 - accuracy: 0.9132 - val_loss: 2.3382 - val_accuracy: 0.5777\n",
      "Epoch 34/50\n",
      "48/48 [==============================] - 11s 209ms/step - loss: 0.2062 - accuracy: 0.9303 - val_loss: 1.4867 - val_accuracy: 0.6364\n",
      "Epoch 35/50\n",
      "48/48 [==============================] - 11s 209ms/step - loss: 0.2203 - accuracy: 0.9209 - val_loss: 1.8952 - val_accuracy: 0.6540\n",
      "Epoch 36/50\n",
      "48/48 [==============================] - 11s 209ms/step - loss: 0.2483 - accuracy: 0.9144 - val_loss: 1.5207 - val_accuracy: 0.6598\n",
      "Epoch 37/50\n",
      "48/48 [==============================] - 11s 209ms/step - loss: 0.1318 - accuracy: 0.9574 - val_loss: 1.6463 - val_accuracy: 0.6510\n",
      "Epoch 38/50\n",
      "48/48 [==============================] - 11s 209ms/step - loss: 0.1046 - accuracy: 0.9626 - val_loss: 2.0749 - val_accuracy: 0.6422\n",
      "Epoch 39/50\n",
      "48/48 [==============================] - 11s 210ms/step - loss: 0.1549 - accuracy: 0.9455 - val_loss: 1.8545 - val_accuracy: 0.6569\n",
      "Epoch 40/50\n",
      "48/48 [==============================] - 11s 209ms/step - loss: 0.1893 - accuracy: 0.9334 - val_loss: 2.1846 - val_accuracy: 0.6188\n",
      "Epoch 41/50\n",
      "48/48 [==============================] - 11s 208ms/step - loss: 0.1430 - accuracy: 0.9551 - val_loss: 2.1476 - val_accuracy: 0.6276\n",
      "Epoch 42/50\n",
      "48/48 [==============================] - 11s 208ms/step - loss: 0.1505 - accuracy: 0.9554 - val_loss: 1.4038 - val_accuracy: 0.6833\n",
      "Epoch 43/50\n",
      "48/48 [==============================] - 11s 209ms/step - loss: 0.1032 - accuracy: 0.9663 - val_loss: 2.2140 - val_accuracy: 0.6217\n",
      "Epoch 44/50\n",
      "48/48 [==============================] - 11s 210ms/step - loss: 0.0965 - accuracy: 0.9644 - val_loss: 1.6953 - val_accuracy: 0.6657\n",
      "Epoch 45/50\n",
      "48/48 [==============================] - 11s 208ms/step - loss: 0.0830 - accuracy: 0.9756 - val_loss: 1.5055 - val_accuracy: 0.6774\n",
      "Epoch 46/50\n",
      "48/48 [==============================] - 11s 208ms/step - loss: 0.0811 - accuracy: 0.9733 - val_loss: 2.1558 - val_accuracy: 0.6540\n",
      "Epoch 47/50\n",
      "48/48 [==============================] - 11s 208ms/step - loss: 0.0691 - accuracy: 0.9787 - val_loss: 1.6165 - val_accuracy: 0.7038\n",
      "Epoch 48/50\n",
      "48/48 [==============================] - 11s 208ms/step - loss: 0.0762 - accuracy: 0.9740 - val_loss: 2.9256 - val_accuracy: 0.6422\n",
      "Epoch 49/50\n",
      "48/48 [==============================] - 11s 209ms/step - loss: 0.1141 - accuracy: 0.9567 - val_loss: 2.1680 - val_accuracy: 0.6452\n",
      "Epoch 50/50\n",
      "48/48 [==============================] - 11s 209ms/step - loss: 0.0891 - accuracy: 0.9719 - val_loss: 2.8615 - val_accuracy: 0.5484\n"
     ]
    },
    {
     "data": {
      "text/html": [
       "<br/>Waiting for W&B process to finish, PID 803<br/>Program ended successfully."
      ],
      "text/plain": [
       "<IPython.core.display.HTML object>"
      ]
     },
     "metadata": {},
     "output_type": "display_data"
    },
    {
     "data": {
      "application/vnd.jupyter.widget-view+json": {
       "model_id": "",
       "version_major": 2,
       "version_minor": 0
      },
      "text/plain": [
       "VBox(children=(Label(value=' 60.35MB of 60.35MB uploaded (0.00MB deduped)\\r'), FloatProgress(value=1.0, max=1.…"
      ]
     },
     "metadata": {},
     "output_type": "display_data"
    },
    {
     "data": {
      "text/html": [
       "Find user logs for this run at: <code>/home/jovyan/git-repos/tensorflow_ds/wandb/run-20210819_134123-w3s34ht8/logs/debug.log</code>"
      ],
      "text/plain": [
       "<IPython.core.display.HTML object>"
      ]
     },
     "metadata": {},
     "output_type": "display_data"
    },
    {
     "data": {
      "text/html": [
       "Find internal logs for this run at: <code>/home/jovyan/git-repos/tensorflow_ds/wandb/run-20210819_134123-w3s34ht8/logs/debug-internal.log</code>"
      ],
      "text/plain": [
       "<IPython.core.display.HTML object>"
      ]
     },
     "metadata": {},
     "output_type": "display_data"
    },
    {
     "data": {
      "text/html": [
       "<h3>Run summary:</h3><br/><style>\n",
       "    table.wandb td:nth-child(1) { padding: 0 10px; text-align: right }\n",
       "    </style><table class=\"wandb\">\n",
       "<tr><td>epoch</td><td>49</td></tr><tr><td>loss</td><td>0.07518</td></tr><tr><td>accuracy</td><td>0.97718</td></tr><tr><td>val_loss</td><td>2.86153</td></tr><tr><td>val_accuracy</td><td>0.54839</td></tr><tr><td>_runtime</td><td>591</td></tr><tr><td>_timestamp</td><td>1629381074</td></tr><tr><td>_step</td><td>49</td></tr><tr><td>best_val_loss</td><td>1.36058</td></tr><tr><td>best_epoch</td><td>17</td></tr></table>"
      ],
      "text/plain": [
       "<IPython.core.display.HTML object>"
      ]
     },
     "metadata": {},
     "output_type": "display_data"
    },
    {
     "data": {
      "text/html": [
       "<h3>Run history:</h3><br/><style>\n",
       "    table.wandb td:nth-child(1) { padding: 0 10px; text-align: right }\n",
       "    </style><table class=\"wandb\">\n",
       "<tr><td>epoch</td><td>▁▁▁▁▂▂▂▂▂▃▃▃▃▃▃▄▄▄▄▄▅▅▅▅▅▅▆▆▆▆▆▆▇▇▇▇▇███</td></tr><tr><td>loss</td><td>█▃▃▃▃▃▃▃▃▃▃▂▂▂▂▂▂▂▂▂▂▁▁▁▁▁▁▁▁▁▁▁▁▁▁▁▁▁▁▁</td></tr><tr><td>accuracy</td><td>▁▂▂▂▂▃▃▃▄▄▄▄▅▅▅▅▆▆▆▆▆▇▇▇▇▇▇█████████████</td></tr><tr><td>val_loss</td><td>█▁▁▁▁▁▁▁▁▁▁▁▁▁▁▁▁▁▁▁▁▁▁▁▁▁▁▁▁▁▁▁▁▁▁▁▁▁▁▁</td></tr><tr><td>val_accuracy</td><td>▃▁▃▃▄▃▄▄▄▄▅▅▆▆▆▇▇▇▆▇▇▇▇▇▇▇▇▇█▇▇▇▇█▇█▇█▇▆</td></tr><tr><td>_runtime</td><td>▁▁▁▁▂▂▂▂▃▃▃▃▃▃▄▄▄▄▄▄▅▅▅▅▅▆▆▆▆▆▆▆▇▇▇▇▇███</td></tr><tr><td>_timestamp</td><td>▁▁▁▁▂▂▂▂▃▃▃▃▃▃▄▄▄▄▄▄▅▅▅▅▅▆▆▆▆▆▆▆▇▇▇▇▇███</td></tr><tr><td>_step</td><td>▁▁▁▁▂▂▂▂▂▃▃▃▃▃▃▄▄▄▄▄▅▅▅▅▅▅▆▆▆▆▆▆▇▇▇▇▇███</td></tr></table><br/>"
      ],
      "text/plain": [
       "<IPython.core.display.HTML object>"
      ]
     },
     "metadata": {},
     "output_type": "display_data"
    },
    {
     "data": {
      "text/html": [
       "Synced 5 W&B file(s), 1 media file(s), 0 artifact file(s) and 1 other file(s)"
      ],
      "text/plain": [
       "<IPython.core.display.HTML object>"
      ]
     },
     "metadata": {},
     "output_type": "display_data"
    },
    {
     "data": {
      "text/html": [
       "\n",
       "                    <br/>Synced <strong style=\"color:#cdcd00\">pretty-dawn-21</strong>: <a href=\"https://wandb.ai/skirmer/tensorflow_blog/runs/w3s34ht8\" target=\"_blank\">https://wandb.ai/skirmer/tensorflow_blog/runs/w3s34ht8</a><br/>\n",
       "                "
      ],
      "text/plain": [
       "<IPython.core.display.HTML object>"
      ]
     },
     "metadata": {},
     "output_type": "display_data"
    },
    {
     "name": "stdout",
     "output_type": "stream",
     "text": [
      "INFO:tensorflow:Assets written to: model/keras_single/assets\n"
     ]
    }
   ],
   "source": [
    "tester = train_model_fit(**model_params)"
   ]
  },
  {
   "cell_type": "code",
   "execution_count": null,
   "id": "46eaf74b",
   "metadata": {},
   "outputs": [],
   "source": []
  }
 ],
 "metadata": {
  "kernelspec": {
   "display_name": "saturn (Python 3)",
   "language": "python",
   "name": "python3"
  },
  "language_info": {
   "codemirror_mode": {
    "name": "ipython",
    "version": 3
   },
   "file_extension": ".py",
   "mimetype": "text/x-python",
   "name": "python",
   "nbconvert_exporter": "python",
   "pygments_lexer": "ipython3",
   "version": "3.9.5"
  }
 },
 "nbformat": 4,
 "nbformat_minor": 5
}
